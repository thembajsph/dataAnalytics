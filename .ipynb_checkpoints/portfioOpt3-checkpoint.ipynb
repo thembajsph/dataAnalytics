{
 "cells": [
  {
   "cell_type": "code",
   "execution_count": null,
   "metadata": {},
   "outputs": [],
   "source": [
    "#Description : this program attemps to optimize a users portfolio using the Efficient Frontier\n",
    "\n"
   ]
  },
  {
   "cell_type": "code",
   "execution_count": 1,
   "metadata": {},
   "outputs": [],
   "source": [
    "#Import the python libraries\n",
    "from pandas_datareader import data as web\n",
    "import pandas as pd\n",
    "import numpy as np\n",
    "from datetime import datetime\n",
    "import matplotlib.pyplot as plt\n",
    "plt.style.use('fivethirtyeight')"
   ]
  },
  {
   "cell_type": "code",
   "execution_count": 2,
   "metadata": {},
   "outputs": [],
   "source": [
    "#Get the stock symbols/ tickers in the portfolio\n",
    "#FAANG \n",
    "\n",
    "assets = ['FB', 'AMZN', 'AAPL', 'NFLX', 'GOOG']"
   ]
  },
  {
   "cell_type": "code",
   "execution_count": 3,
   "metadata": {},
   "outputs": [],
   "source": [
    "#Assign weights to the stocks.\n",
    "weights = np.array([0.2, 0.2, 0.2, 0.2, 0.2]) #20 percent each"
   ]
  },
  {
   "cell_type": "code",
   "execution_count": 4,
   "metadata": {},
   "outputs": [],
   "source": [
    "#Get the stock/portfolio starting date\n",
    "stockStartDate = '2012-01-01'"
   ]
  },
  {
   "cell_type": "code",
   "execution_count": 5,
   "metadata": {},
   "outputs": [
    {
     "data": {
      "text/plain": [
       "'2021-04-13'"
      ]
     },
     "execution_count": 5,
     "metadata": {},
     "output_type": "execute_result"
    }
   ],
   "source": [
    "#Get the stock stocks ending date (date)\n",
    "today = datetime.today().strftime('%Y-%m-%d')\n",
    "today"
   ]
  },
  {
   "cell_type": "code",
   "execution_count": 6,
   "metadata": {},
   "outputs": [],
   "source": [
    "#create a dataframe to store the adjusted close price of the stocks\n",
    "df = pd.DataFrame()\n",
    "\n",
    "#Store the adjusted close price of the stock into df \n",
    "for stock in assets:\n",
    "    df[stock] = web.DataReader(stock, data_source='yahoo', start = stockStartDate, end = today)['Adj Close']"
   ]
  },
  {
   "cell_type": "code",
   "execution_count": 7,
   "metadata": {},
   "outputs": [
    {
     "data": {
      "text/html": [
       "<div>\n",
       "<style scoped>\n",
       "    .dataframe tbody tr th:only-of-type {\n",
       "        vertical-align: middle;\n",
       "    }\n",
       "\n",
       "    .dataframe tbody tr th {\n",
       "        vertical-align: top;\n",
       "    }\n",
       "\n",
       "    .dataframe thead th {\n",
       "        text-align: right;\n",
       "    }\n",
       "</style>\n",
       "<table border=\"1\" class=\"dataframe\">\n",
       "  <thead>\n",
       "    <tr style=\"text-align: right;\">\n",
       "      <th></th>\n",
       "      <th>FB</th>\n",
       "      <th>AMZN</th>\n",
       "      <th>AAPL</th>\n",
       "      <th>NFLX</th>\n",
       "      <th>GOOG</th>\n",
       "    </tr>\n",
       "    <tr>\n",
       "      <th>Date</th>\n",
       "      <th></th>\n",
       "      <th></th>\n",
       "      <th></th>\n",
       "      <th></th>\n",
       "      <th></th>\n",
       "    </tr>\n",
       "  </thead>\n",
       "  <tbody>\n",
       "    <tr>\n",
       "      <th>2012-05-18</th>\n",
       "      <td>38.230000</td>\n",
       "      <td>213.850006</td>\n",
       "      <td>16.316067</td>\n",
       "      <td>9.994286</td>\n",
       "      <td>299.078979</td>\n",
       "    </tr>\n",
       "    <tr>\n",
       "      <th>2012-05-21</th>\n",
       "      <td>34.029999</td>\n",
       "      <td>218.110001</td>\n",
       "      <td>17.266645</td>\n",
       "      <td>10.248571</td>\n",
       "      <td>305.908386</td>\n",
       "    </tr>\n",
       "    <tr>\n",
       "      <th>2012-05-22</th>\n",
       "      <td>31.000000</td>\n",
       "      <td>215.330002</td>\n",
       "      <td>17.134058</td>\n",
       "      <td>9.672857</td>\n",
       "      <td>299.278229</td>\n",
       "    </tr>\n",
       "    <tr>\n",
       "      <th>2012-05-23</th>\n",
       "      <td>32.000000</td>\n",
       "      <td>217.279999</td>\n",
       "      <td>17.552126</td>\n",
       "      <td>10.272857</td>\n",
       "      <td>303.592072</td>\n",
       "    </tr>\n",
       "    <tr>\n",
       "      <th>2012-05-24</th>\n",
       "      <td>33.029999</td>\n",
       "      <td>215.240005</td>\n",
       "      <td>17.390926</td>\n",
       "      <td>10.038571</td>\n",
       "      <td>300.702881</td>\n",
       "    </tr>\n",
       "    <tr>\n",
       "      <th>...</th>\n",
       "      <td>...</td>\n",
       "      <td>...</td>\n",
       "      <td>...</td>\n",
       "      <td>...</td>\n",
       "      <td>...</td>\n",
       "    </tr>\n",
       "    <tr>\n",
       "      <th>2021-04-06</th>\n",
       "      <td>306.260010</td>\n",
       "      <td>3223.820068</td>\n",
       "      <td>126.209999</td>\n",
       "      <td>544.530029</td>\n",
       "      <td>2224.750000</td>\n",
       "    </tr>\n",
       "    <tr>\n",
       "      <th>2021-04-07</th>\n",
       "      <td>313.089996</td>\n",
       "      <td>3279.389893</td>\n",
       "      <td>127.900002</td>\n",
       "      <td>546.989990</td>\n",
       "      <td>2249.679932</td>\n",
       "    </tr>\n",
       "    <tr>\n",
       "      <th>2021-04-08</th>\n",
       "      <td>313.019989</td>\n",
       "      <td>3299.300049</td>\n",
       "      <td>130.360001</td>\n",
       "      <td>554.580017</td>\n",
       "      <td>2265.439941</td>\n",
       "    </tr>\n",
       "    <tr>\n",
       "      <th>2021-04-09</th>\n",
       "      <td>312.459991</td>\n",
       "      <td>3372.199951</td>\n",
       "      <td>133.000000</td>\n",
       "      <td>555.309998</td>\n",
       "      <td>2285.879883</td>\n",
       "    </tr>\n",
       "    <tr>\n",
       "      <th>2021-04-12</th>\n",
       "      <td>311.540009</td>\n",
       "      <td>3379.389893</td>\n",
       "      <td>131.240005</td>\n",
       "      <td>552.780029</td>\n",
       "      <td>2254.790039</td>\n",
       "    </tr>\n",
       "  </tbody>\n",
       "</table>\n",
       "<p>2238 rows × 5 columns</p>\n",
       "</div>"
      ],
      "text/plain": [
       "                    FB         AMZN        AAPL        NFLX         GOOG\n",
       "Date                                                                    \n",
       "2012-05-18   38.230000   213.850006   16.316067    9.994286   299.078979\n",
       "2012-05-21   34.029999   218.110001   17.266645   10.248571   305.908386\n",
       "2012-05-22   31.000000   215.330002   17.134058    9.672857   299.278229\n",
       "2012-05-23   32.000000   217.279999   17.552126   10.272857   303.592072\n",
       "2012-05-24   33.029999   215.240005   17.390926   10.038571   300.702881\n",
       "...                ...          ...         ...         ...          ...\n",
       "2021-04-06  306.260010  3223.820068  126.209999  544.530029  2224.750000\n",
       "2021-04-07  313.089996  3279.389893  127.900002  546.989990  2249.679932\n",
       "2021-04-08  313.019989  3299.300049  130.360001  554.580017  2265.439941\n",
       "2021-04-09  312.459991  3372.199951  133.000000  555.309998  2285.879883\n",
       "2021-04-12  311.540009  3379.389893  131.240005  552.780029  2254.790039\n",
       "\n",
       "[2238 rows x 5 columns]"
      ]
     },
     "execution_count": 7,
     "metadata": {},
     "output_type": "execute_result"
    }
   ],
   "source": [
    "#Show the df\n",
    "df"
   ]
  },
  {
   "cell_type": "code",
   "execution_count": 8,
   "metadata": {},
   "outputs": [
    {
     "data": {
      "image/png": "[encoded data removed]",
      "text/plain": [
       "<Figure size 432x288 with 1 Axes>"
      ]
     },
     "metadata": {},
     "output_type": "display_data"
    }
   ],
   "source": [
    "# visually show the stock / portfolio\n",
    "title = 'Portfolio Adj. Close Price History'\n",
    "\n",
    "#Get the stocks\n",
    "my_stocks = df\n",
    "\n",
    "#Create and plot the graph\n",
    "for c in my_stocks.columns.values:\n",
    "    plt.plot(my_stocks[c], label = c)\n",
    "    \n",
    "plt.title(title)\n",
    "plt.xlabel('Date', fontsize = 18)\n",
    "plt.ylabel('Adj. Price USD ($)', fontsize = 18)\n",
    "plt.legend(my_stocks.columns.values, loc= 'upper left')\n",
    "plt.show()"
   ]
  },
  {
   "cell_type": "code",
   "execution_count": 9,
   "metadata": {},
   "outputs": [
    {
     "data": {
      "text/html": [
       "<div>\n",
       "<style scoped>\n",
       "    .dataframe tbody tr th:only-of-type {\n",
       "        vertical-align: middle;\n",
       "    }\n",
       "\n",
       "    .dataframe tbody tr th {\n",
       "        vertical-align: top;\n",
       "    }\n",
       "\n",
       "    .dataframe thead th {\n",
       "        text-align: right;\n",
       "    }\n",
       "</style>\n",
       "<table border=\"1\" class=\"dataframe\">\n",
       "  <thead>\n",
       "    <tr style=\"text-align: right;\">\n",
       "      <th></th>\n",
       "      <th>FB</th>\n",
       "      <th>AMZN</th>\n",
       "      <th>AAPL</th>\n",
       "      <th>NFLX</th>\n",
       "      <th>GOOG</th>\n",
       "    </tr>\n",
       "    <tr>\n",
       "      <th>Date</th>\n",
       "      <th></th>\n",
       "      <th></th>\n",
       "      <th></th>\n",
       "      <th></th>\n",
       "      <th></th>\n",
       "    </tr>\n",
       "  </thead>\n",
       "  <tbody>\n",
       "    <tr>\n",
       "      <th>2012-05-18</th>\n",
       "      <td>NaN</td>\n",
       "      <td>NaN</td>\n",
       "      <td>NaN</td>\n",
       "      <td>NaN</td>\n",
       "      <td>NaN</td>\n",
       "    </tr>\n",
       "    <tr>\n",
       "      <th>2012-05-21</th>\n",
       "      <td>-0.109861</td>\n",
       "      <td>0.019920</td>\n",
       "      <td>0.058260</td>\n",
       "      <td>0.025443</td>\n",
       "      <td>0.022835</td>\n",
       "    </tr>\n",
       "    <tr>\n",
       "      <th>2012-05-22</th>\n",
       "      <td>-0.089039</td>\n",
       "      <td>-0.012746</td>\n",
       "      <td>-0.007679</td>\n",
       "      <td>-0.056175</td>\n",
       "      <td>-0.021674</td>\n",
       "    </tr>\n",
       "    <tr>\n",
       "      <th>2012-05-23</th>\n",
       "      <td>0.032258</td>\n",
       "      <td>0.009056</td>\n",
       "      <td>0.024400</td>\n",
       "      <td>0.062029</td>\n",
       "      <td>0.014414</td>\n",
       "    </tr>\n",
       "    <tr>\n",
       "      <th>2012-05-24</th>\n",
       "      <td>0.032187</td>\n",
       "      <td>-0.009389</td>\n",
       "      <td>-0.009184</td>\n",
       "      <td>-0.022806</td>\n",
       "      <td>-0.009517</td>\n",
       "    </tr>\n",
       "    <tr>\n",
       "      <th>...</th>\n",
       "      <td>...</td>\n",
       "      <td>...</td>\n",
       "      <td>...</td>\n",
       "      <td>...</td>\n",
       "      <td>...</td>\n",
       "    </tr>\n",
       "    <tr>\n",
       "      <th>2021-04-06</th>\n",
       "      <td>-0.008579</td>\n",
       "      <td>-0.000902</td>\n",
       "      <td>0.002462</td>\n",
       "      <td>0.007139</td>\n",
       "      <td>-0.000359</td>\n",
       "    </tr>\n",
       "    <tr>\n",
       "      <th>2021-04-07</th>\n",
       "      <td>0.022301</td>\n",
       "      <td>0.017237</td>\n",
       "      <td>0.013390</td>\n",
       "      <td>0.004518</td>\n",
       "      <td>0.011206</td>\n",
       "    </tr>\n",
       "    <tr>\n",
       "      <th>2021-04-08</th>\n",
       "      <td>-0.000224</td>\n",
       "      <td>0.006071</td>\n",
       "      <td>0.019234</td>\n",
       "      <td>0.013876</td>\n",
       "      <td>0.007005</td>\n",
       "    </tr>\n",
       "    <tr>\n",
       "      <th>2021-04-09</th>\n",
       "      <td>-0.001789</td>\n",
       "      <td>0.022096</td>\n",
       "      <td>0.020252</td>\n",
       "      <td>0.001316</td>\n",
       "      <td>0.009023</td>\n",
       "    </tr>\n",
       "    <tr>\n",
       "      <th>2021-04-12</th>\n",
       "      <td>-0.002944</td>\n",
       "      <td>0.002132</td>\n",
       "      <td>-0.013233</td>\n",
       "      <td>-0.004556</td>\n",
       "      <td>-0.013601</td>\n",
       "    </tr>\n",
       "  </tbody>\n",
       "</table>\n",
       "<p>2238 rows × 5 columns</p>\n",
       "</div>"
      ],
      "text/plain": [
       "                  FB      AMZN      AAPL      NFLX      GOOG\n",
       "Date                                                        \n",
       "2012-05-18       NaN       NaN       NaN       NaN       NaN\n",
       "2012-05-21 -0.109861  0.019920  0.058260  0.025443  0.022835\n",
       "2012-05-22 -0.089039 -0.012746 -0.007679 -0.056175 -0.021674\n",
       "2012-05-23  0.032258  0.009056  0.024400  0.062029  0.014414\n",
       "2012-05-24  0.032187 -0.009389 -0.009184 -0.022806 -0.009517\n",
       "...              ...       ...       ...       ...       ...\n",
       "2021-04-06 -0.008579 -0.000902  0.002462  0.007139 -0.000359\n",
       "2021-04-07  0.022301  0.017237  0.013390  0.004518  0.011206\n",
       "2021-04-08 -0.000224  0.006071  0.019234  0.013876  0.007005\n",
       "2021-04-09 -0.001789  0.022096  0.020252  0.001316  0.009023\n",
       "2021-04-12 -0.002944  0.002132 -0.013233 -0.004556 -0.013601\n",
       "\n",
       "[2238 rows x 5 columns]"
      ]
     },
     "execution_count": 9,
     "metadata": {},
     "output_type": "execute_result"
    }
   ],
   "source": [
    "#Show the daily simply return\n",
    "returns = df.pct_change()\n",
    "returns"
   ]
  },
  {
   "cell_type": "code",
   "execution_count": 11,
   "metadata": {},
   "outputs": [
    {
     "data": {
      "text/html": [
       "<div>\n",
       "<style scoped>\n",
       "    .dataframe tbody tr th:only-of-type {\n",
       "        vertical-align: middle;\n",
       "    }\n",
       "\n",
       "    .dataframe tbody tr th {\n",
       "        vertical-align: top;\n",
       "    }\n",
       "\n",
       "    .dataframe thead th {\n",
       "        text-align: right;\n",
       "    }\n",
       "</style>\n",
       "<table border=\"1\" class=\"dataframe\">\n",
       "  <thead>\n",
       "    <tr style=\"text-align: right;\">\n",
       "      <th></th>\n",
       "      <th>FB</th>\n",
       "      <th>AMZN</th>\n",
       "      <th>AAPL</th>\n",
       "      <th>NFLX</th>\n",
       "      <th>GOOG</th>\n",
       "    </tr>\n",
       "  </thead>\n",
       "  <tbody>\n",
       "    <tr>\n",
       "      <th>FB</th>\n",
       "      <td>0.139042</td>\n",
       "      <td>0.051624</td>\n",
       "      <td>0.043034</td>\n",
       "      <td>0.052095</td>\n",
       "      <td>0.047641</td>\n",
       "    </tr>\n",
       "    <tr>\n",
       "      <th>AMZN</th>\n",
       "      <td>0.051624</td>\n",
       "      <td>0.091656</td>\n",
       "      <td>0.039753</td>\n",
       "      <td>0.063763</td>\n",
       "      <td>0.046456</td>\n",
       "    </tr>\n",
       "    <tr>\n",
       "      <th>AAPL</th>\n",
       "      <td>0.043034</td>\n",
       "      <td>0.039753</td>\n",
       "      <td>0.082564</td>\n",
       "      <td>0.036488</td>\n",
       "      <td>0.038153</td>\n",
       "    </tr>\n",
       "    <tr>\n",
       "      <th>NFLX</th>\n",
       "      <td>0.052095</td>\n",
       "      <td>0.063763</td>\n",
       "      <td>0.036488</td>\n",
       "      <td>0.228012</td>\n",
       "      <td>0.048648</td>\n",
       "    </tr>\n",
       "    <tr>\n",
       "      <th>GOOG</th>\n",
       "      <td>0.047641</td>\n",
       "      <td>0.046456</td>\n",
       "      <td>0.038153</td>\n",
       "      <td>0.048648</td>\n",
       "      <td>0.065608</td>\n",
       "    </tr>\n",
       "  </tbody>\n",
       "</table>\n",
       "</div>"
      ],
      "text/plain": [
       "            FB      AMZN      AAPL      NFLX      GOOG\n",
       "FB    0.139042  0.051624  0.043034  0.052095  0.047641\n",
       "AMZN  0.051624  0.091656  0.039753  0.063763  0.046456\n",
       "AAPL  0.043034  0.039753  0.082564  0.036488  0.038153\n",
       "NFLX  0.052095  0.063763  0.036488  0.228012  0.048648\n",
       "GOOG  0.047641  0.046456  0.038153  0.048648  0.065608"
      ]
     },
     "execution_count": 11,
     "metadata": {},
     "output_type": "execute_result"
    }
   ],
   "source": [
    "#Create and show the annualized covariance matrix\n",
    "cov_matrix_annual = returns.cov() * 252\n",
    "cov_matrix_annual"
   ]
  },
  {
   "cell_type": "code",
   "execution_count": 12,
   "metadata": {},
   "outputs": [
    {
     "data": {
      "text/plain": [
       "0.06168768027348698"
      ]
     },
     "execution_count": 12,
     "metadata": {},
     "output_type": "execute_result"
    }
   ],
   "source": [
    "#Create the portfol variance\n",
    "port_variance = np.dot( weights.T, np.dot(cov_matrix_annual, weights))\n",
    "port_variance"
   ]
  },
  {
   "cell_type": "code",
   "execution_count": 13,
   "metadata": {},
   "outputs": [
    {
     "data": {
      "text/plain": [
       "0.24837004705376003"
      ]
     },
     "execution_count": 13,
     "metadata": {},
     "output_type": "execute_result"
    }
   ],
   "source": [
    "#Calculate the portfolio volatility aka standard deviation\n",
    "port_volatility = np.sqrt(port_variance)\n",
    "port_volatility"
   ]
  },
  {
   "cell_type": "code",
   "execution_count": 14,
   "metadata": {},
   "outputs": [
    {
     "data": {
      "text/plain": [
       "0.35239871128518835"
      ]
     },
     "execution_count": 14,
     "metadata": {},
     "output_type": "execute_result"
    }
   ],
   "source": [
    "#Calculate the annual portfolio return\n",
    "portfolioSimpleAnnualReturn = np.sum(returns.mean() * weights) * 252\n",
    "portfolioSimpleAnnualReturn"
   ]
  },
  {
   "cell_type": "code",
   "execution_count": 15,
   "metadata": {},
   "outputs": [
    {
     "name": "stdout",
     "output_type": "stream",
     "text": [
      "Expected annual return: 35.0%\n",
      "Annual volatility / risk: 25.0%\n",
      "Annual variance: 6.0%\n"
     ]
    }
   ],
   "source": [
    "#Show the expected annual return, volatility (risk), and variance\n",
    "\n",
    "percent_var = str( round(port_variance, 2) * 100) + '%'\n",
    "percent_vols = str(round(port_volatility, 2) * 100 ) + '%'\n",
    "percent_ret = str(round(portfolioSimpleAnnualReturn, 2) * 100) + '%'\n",
    "\n",
    "print('Expected annual return: '+ percent_ret)\n",
    "print('Annual volatility / risk: '+ percent_vols)\n",
    "print('Annual variance: '+  percent_var)"
   ]
  },
  {
   "cell_type": "code",
   "execution_count": 24,
   "metadata": {},
   "outputs": [
    {
     "name": "stdout",
     "output_type": "stream",
     "text": [
      "Requirement already satisfied: PyPortfolioOpt in /home/thembajsph/Downloads/anaconda/lib/python3.8/site-packages (1.4.1)\n",
      "Requirement already satisfied: numpy<2.0,>=1.12 in /home/thembajsph/Downloads/anaconda/lib/python3.8/site-packages (from PyPortfolioOpt) (1.19.2)\n",
      "Requirement already satisfied: pandas>=0.19 in /home/thembajsph/Downloads/anaconda/lib/python3.8/site-packages (from PyPortfolioOpt) (1.1.3)\n",
      "Requirement already satisfied: cvxpy<2.0.0,>=1.1.10 in /home/thembajsph/Downloads/anaconda/lib/python3.8/site-packages (from PyPortfolioOpt) (1.1.11)\n",
      "Requirement already satisfied: scipy<2.0,>=1.3 in /home/thembajsph/Downloads/anaconda/lib/python3.8/site-packages (from PyPortfolioOpt) (1.5.2)\n",
      "Requirement already satisfied: pytz>=2017.2 in /home/thembajsph/Downloads/anaconda/lib/python3.8/site-packages (from pandas>=0.19->PyPortfolioOpt) (2020.1)\n",
      "Requirement already satisfied: python-dateutil>=2.7.3 in /home/thembajsph/Downloads/anaconda/lib/python3.8/site-packages (from pandas>=0.19->PyPortfolioOpt) (2.8.1)\n",
      "Requirement already satisfied: scs>=1.1.6 in /home/thembajsph/Downloads/anaconda/lib/python3.8/site-packages (from cvxpy<2.0.0,>=1.1.10->PyPortfolioOpt) (2.1.2)\n",
      "Requirement already satisfied: osqp>=0.4.1 in /home/thembajsph/Downloads/anaconda/lib/python3.8/site-packages (from cvxpy<2.0.0,>=1.1.10->PyPortfolioOpt) (0.6.2.post0)\n",
      "Requirement already satisfied: ecos>=2 in /home/thembajsph/Downloads/anaconda/lib/python3.8/site-packages (from cvxpy<2.0.0,>=1.1.10->PyPortfolioOpt) (2.0.7.post1)\n",
      "Requirement already satisfied: six>=1.5 in /home/thembajsph/Downloads/anaconda/lib/python3.8/site-packages (from python-dateutil>=2.7.3->pandas>=0.19->PyPortfolioOpt) (1.15.0)\n",
      "Requirement already satisfied: qdldl in /home/thembajsph/Downloads/anaconda/lib/python3.8/site-packages (from osqp>=0.4.1->cvxpy<2.0.0,>=1.1.10->PyPortfolioOpt) (0.1.5.post0)\n",
      "Note: you may need to restart the kernel to use updated packages.\n"
     ]
    }
   ],
   "source": [
    "pip install PyPortfolioOpt"
   ]
  },
  {
   "cell_type": "code",
   "execution_count": 16,
   "metadata": {},
   "outputs": [],
   "source": [
    "from pypfopt.efficient_frontier import EfficientFrontier\n",
    "from pypfopt import risk_models\n",
    "from pypfopt import expected_returns"
   ]
  },
  {
   "cell_type": "code",
   "execution_count": 17,
   "metadata": {},
   "outputs": [
    {
     "name": "stdout",
     "output_type": "stream",
     "text": [
      "OrderedDict([('FB', 0.0), ('AMZN', 0.38978), ('AAPL', 0.22696), ('NFLX', 0.31851), ('GOOG', 0.06475)])\n",
      "Expected annual return: 40.1%\n",
      "Annual volatility: 27.4%\n",
      "Sharpe Ratio: 1.39\n"
     ]
    },
    {
     "data": {
      "text/plain": [
       "(0.4008287685417137, 0.27422362012132834, 1.3887526113659305)"
      ]
     },
     "execution_count": 17,
     "metadata": {},
     "output_type": "execute_result"
    }
   ],
   "source": [
    "#Portfolio Optimization !\n",
    "\n",
    "#Calculate the expected returns and the annualised sample covariance matrixof asset returns\n",
    "mu = expected_returns.mean_historical_return(df)\n",
    "s = risk_models.sample_cov(df)\n",
    "\n",
    "\n",
    "#Optimize for max sharpe ratio \n",
    "ef = EfficientFrontier(mu, s)\n",
    "weights = ef.max_sharpe()\n",
    "cleaned_weights = ef.clean_weights()\n",
    "print(cleaned_weights)\n",
    "ef.portfolio_performance(verbose = True)\n"
   ]
  },
  {
   "cell_type": "code",
   "execution_count": null,
   "metadata": {},
   "outputs": [],
   "source": [
    "#Highlight total  copy and paste and must add to 1 \n",
    "\n"
   ]
  },
  {
   "cell_type": "code",
   "execution_count": 18,
   "metadata": {},
   "outputs": [
    {
     "name": "stdout",
     "output_type": "stream",
     "text": [
      "Discrete allocation: {'AMZN': 2, 'AAPL': 24, 'NFLX': 9}\n",
      "Funds remaining: $116.44\n"
     ]
    }
   ],
   "source": [
    "#Get the discrete alloacation of each share per stock\n",
    "from pypfopt.discrete_allocation import DiscreteAllocation, get_latest_prices\n",
    "\n",
    "latest_prices = get_latest_prices(df)\n",
    "weights = cleaned_weights\n",
    "da = DiscreteAllocation(weights, latest_prices, total_portfolio_value = 15000)\n",
    "\n",
    "\n",
    "allocation , leftover = da.lp_portfolio()\n",
    "print('Discrete allocation:', allocation)\n",
    "print('Funds remaining: ${:.2f}'.format(leftover))"
   ]
  }
 ],
 "metadata": {
  "kernelspec": {
   "display_name": "Python 3",
   "language": "python",
   "name": "python3"
  },
  "language_info": {
   "codemirror_mode": {
    "name": "ipython",
    "version": 3
   },
   "file_extension": ".py",
   "mimetype": "text/x-python",
   "name": "python",
   "nbconvert_exporter": "python",
   "pygments_lexer": "ipython3",
   "version": "3.8.5"
  }
 },
 "nbformat": 4,
 "nbformat_minor": 4
}
