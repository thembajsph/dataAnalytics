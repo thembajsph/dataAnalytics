{
 "cells": [
  {
   "cell_type": "code",
   "execution_count": null,
   "metadata": {},
   "outputs": [],
   "source": [
    "#Description : this program attemps to optimize a users portfolio using the Efficient Frontier\n",
    "\n"
   ]
  },
  {
   "cell_type": "code",
   "execution_count": 1,
   "metadata": {},
   "outputs": [],
   "source": [
    "#Import the python libraries\n",
    "from pandas_datareader import data as web\n",
    "import pandas as pd\n",
    "import numpy as np\n",
    "from datetime import datetime\n",
    "import matplotlib.pyplot as plt\n",
    "plt.style.use('fivethirtyeight')"
   ]
  },
  {
   "cell_type": "code",
   "execution_count": 2,
   "metadata": {},
   "outputs": [],
   "source": [
    "#Get the stock symbols/ tickers in the portfolio\n",
    "#FAANG \n",
    "\n",
    "assets = ['FB', 'AMZN', 'AAPL', 'NFLX', 'GOOG']"
   ]
  },
  {
   "cell_type": "code",
   "execution_count": null,
   "metadata": {},
   "outputs": [],
   "source": [
    "#Assign weights to the stocks.\n",
    "weights = np.array([0.2, 0.2, 0.2, 0.2, 0.2]) #20 percent each"
   ]
  },
  {
   "cell_type": "code",
   "execution_count": null,
   "metadata": {},
   "outputs": [],
   "source": [
    "#Get the stock/portfolio starting date\n",
    "stockStartDate = '2012-01-01'"
   ]
  },
  {
   "cell_type": "code",
   "execution_count": null,
   "metadata": {},
   "outputs": [],
   "source": [
    "#Get the stock stocks ending date (date)\n",
    "today = datetime.today().strftime('%Y-%m-%d')\n",
    "today"
   ]
  },
  {
   "cell_type": "code",
   "execution_count": null,
   "metadata": {},
   "outputs": [],
   "source": [
    "#create a dataframe to store the adjusted close price of the stocks\n",
    "df = pd.DataFrame()\n",
    "\n",
    "#Store the adjusted close price of the stock into df \n",
    "for stock in assets:\n",
    "    df[stock] = web.DataReader(stock, data_source='yahoo', start = stockStartDate, end = today)['Adj Close']"
   ]
  },
  {
   "cell_type": "code",
   "execution_count": null,
   "metadata": {},
   "outputs": [],
   "source": [
    "#Show the df\n",
    "df"
   ]
  },
  {
   "cell_type": "code",
   "execution_count": null,
   "metadata": {},
   "outputs": [],
   "source": [
    "# visually show the stock / portfolio\n",
    "title = 'Portfolio Adj. Close Price History'\n",
    "\n",
    "#Get the stocks\n",
    "my_stocks df\n",
    "\n",
    "#Create and plot the graph\n",
    "for c in my_stocks.columns.values:\n",
    "    plt.plot(my_stocks[c], label = c)\n",
    "    \n",
    "plt.title(title)\n",
    "plt.xlabel('Date', fontsize = 18)\n",
    "plt.ylabel('Adj. Price USD ($)'  fontsize = 18)\n",
    "plt.legend(my_stocks.columns.values, loc= 'upper left')\n",
    "plt.show()"
   ]
  },
  {
   "cell_type": "code",
   "execution_count": null,
   "metadata": {},
   "outputs": [],
   "source": [
    "#Show the daily simply return\n",
    "returns = df.pct_change()\n",
    "returns"
   ]
  },
  {
   "cell_type": "code",
   "execution_count": null,
   "metadata": {},
   "outputs": [],
   "source": [
    "#Create and show the annualized covariance matrix\n",
    "cov_matrix_annual = returns.cov() * 252\n",
    "cov_matrix_annual"
   ]
  },
  {
   "cell_type": "code",
   "execution_count": null,
   "metadata": {},
   "outputs": [],
   "source": [
    "#Create the portfol variance\n",
    "port_variance = np.dot( weights.T, np.dot(cov_matrix_annual, weights))\n",
    "port_variance"
   ]
  },
  {
   "cell_type": "code",
   "execution_count": null,
   "metadata": {},
   "outputs": [],
   "source": [
    "#Calculate the portfolio volatility aka standard deviation\n",
    "port_volatility = np.sqrt(port_variance)\n",
    "port_volatility"
   ]
  },
  {
   "cell_type": "code",
   "execution_count": null,
   "metadata": {},
   "outputs": [],
   "source": [
    "#Calculate the annual portfolio return\n",
    "portfolioSimpleAnnualReturn = np.sum(returns.mean() * weghts) * 252\n",
    "portfolioSimpleAnnualReturn"
   ]
  },
  {
   "cell_type": "code",
   "execution_count": null,
   "metadata": {},
   "outputs": [],
   "source": [
    "#Show the expected annual return, volatility (risk), and variance\n",
    "\n",
    "percent_var = str( round(port_variance, 2) * 100) + '%'\n",
    "percent_vols = str(round(port_volatility, 2) * 100 ) + '%'\n",
    "percent_ret str(round(portfolioSimpleAnnualReturn, 2) * 100) + '%'\n",
    "\n",
    "print('Expected annual return: '+ percent_ret)\n",
    "print('Annual volatility / risk: '+ percent_vols)\n",
    "print('Annual variance: '+  percent_var)"
   ]
  },
  {
   "cell_type": "code",
   "execution_count": null,
   "metadata": {},
   "outputs": [],
   "source": [
    "pip install PyPortfolioOpt"
   ]
  },
  {
   "cell_type": "code",
   "execution_count": null,
   "metadata": {},
   "outputs": [],
   "source": [
    "from pypfopt.efficient_frontier import EfficientFrontier\n",
    "from pypfopt import risk_models\n",
    "from pypfopt import expected_returns"
   ]
  },
  {
   "cell_type": "code",
   "execution_count": null,
   "metadata": {},
   "outputs": [],
   "source": [
    "#Portfolio Optimization !\n",
    "\n",
    "#Calculate the expected returns and the annualised sample covariance matrixof asset returns\n",
    "mu = expected_returns.mean_historical_returns(df)\n",
    "s = risk_models.sample_cov(df)\n",
    "\n",
    "\n",
    "#Optimize for max sharpe ratio \n",
    "ef = EfficientFrontier(mu, s)\n",
    "weights = ef.max_sharpe()\n",
    "cleaned_weights = ef.clean_weights()\n",
    "print(cleaned_weights)\n",
    "ef.portfolio_performance(verbose = True)\n"
   ]
  },
  {
   "cell_type": "code",
   "execution_count": null,
   "metadata": {},
   "outputs": [],
   "source": [
    "#Highlight total  copy and paste and must add to 1 \n",
    "\n"
   ]
  },
  {
   "cell_type": "code",
   "execution_count": null,
   "metadata": {},
   "outputs": [],
   "source": [
    "#Get the discrete alloacation of each share per stock\n",
    "from pypfopt .discrete_allocation import DiscreteAllocation, get_latest_prices\n",
    "\n",
    "latest_prices = get_latest_prices(df)\n",
    "weights = cleaned_weights\n",
    "da = DiscreteAllocation(weights, latest_prices, total_porfolio_value = 15000)\n",
    "\n",
    "allocation , leftover = da.lp_portfolio()\n",
    "print('Discrete allocation:', allocation)\n",
    "print('Funds remaining: ${:.2f}'.format(leftover))"
   ]
  },
  {
   "cell_type": "code",
   "execution_count": null,
   "metadata": {},
   "outputs": [],
   "source": []
  }
 ],
 "metadata": {
  "kernelspec": {
   "display_name": "Python 3",
   "language": "python",
   "name": "python3"
  },
  "language_info": {
   "codemirror_mode": {
    "name": "ipython",
    "version": 3
   },
   "file_extension": ".py",
   "mimetype": "text/x-python",
   "name": "python",
   "nbconvert_exporter": "python",
   "pygments_lexer": "ipython3",
   "version": "3.8.5"
  }
 },
 "nbformat": 4,
 "nbformat_minor": 4
}
