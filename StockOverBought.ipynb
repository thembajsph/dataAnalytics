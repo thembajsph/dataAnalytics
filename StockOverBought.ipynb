{
 "cells": [
  {
   "cell_type": "code",
   "execution_count": 41,
   "metadata": {},
   "outputs": [],
   "source": [
    "# Import libraries\n",
    "import math\n",
    "import pandas_datareader as web\n",
    "import  numpy as np\n",
    "import pandas as pd \n",
    "from sklearn.preprocessing import MinMaxScaler\n",
    "from keras.models import Sequential \n",
    "from keras.layers import Dense, LSTM\n",
    "\n",
    "import matplotlib.pyplot as plt\n",
    "from datetime import datetime\n",
    "plt.style.use('fivethirtyeight')\n",
    "import numpy as np\n",
    "from keras.layers import Dense, Dropout\n",
    "from sklearn.preprocessing import StandardScaler\n",
    "import seaborn as sns\n"
   ]
  },
  {
   "cell_type": "code",
   "execution_count": 42,
   "metadata": {},
   "outputs": [],
   "source": [
    "# Description: This program predicts the price of Bitcoin for the next 30 days\n"
   ]
  },
  {
   "cell_type": "code",
   "execution_count": 43,
   "metadata": {},
   "outputs": [],
   "source": [
    "\n",
    "import pandas_datareader.data as web\n",
    "import datetime    \n",
    "start = datetime.datetime(2012, 1, 3)\n",
    "end = datetime.datetime(2021, 4, 15)\n",
    "df = web.DataReader(\"ETH-USD\", 'yahoo', start, end)\n",
    "\n",
    "dates =[]\n",
    "for x in range(len(df)):\n",
    "    newdate = str(df.index[x])\n",
    "    newdate = newdate[0:10]\n",
    "    dates.append(newdate)\n",
    "\n",
    "df['date'] = dates\n"
   ]
  },
  {
   "cell_type": "code",
   "execution_count": 44,
   "metadata": {},
   "outputs": [],
   "source": [
    "df.reset_index(inplace=True,drop=False)"
   ]
  },
  {
   "cell_type": "code",
   "execution_count": 45,
   "metadata": {},
   "outputs": [
    {
     "data": {
      "text/plain": [
       "0      2015-08-06\n",
       "1      2015-08-07\n",
       "2      2015-08-08\n",
       "3      2015-08-09\n",
       "4      2015-08-10\n",
       "          ...    \n",
       "2071   2021-04-11\n",
       "2072   2021-04-12\n",
       "2073   2021-04-13\n",
       "2074   2021-04-14\n",
       "2075   2021-04-15\n",
       "Name: Date, Length: 2076, dtype: datetime64[ns]"
      ]
     },
     "execution_count": 45,
     "metadata": {},
     "output_type": "execute_result"
    }
   ],
   "source": [
    "df['Date']"
   ]
  },
  {
   "cell_type": "code",
   "execution_count": 51,
   "metadata": {},
   "outputs": [
    {
     "data": {
      "text/html": [
       "<div>\n",
       "<style scoped>\n",
       "    .dataframe tbody tr th:only-of-type {\n",
       "        vertical-align: middle;\n",
       "    }\n",
       "\n",
       "    .dataframe tbody tr th {\n",
       "        vertical-align: top;\n",
       "    }\n",
       "\n",
       "    .dataframe thead th {\n",
       "        text-align: right;\n",
       "    }\n",
       "</style>\n",
       "<table border=\"1\" class=\"dataframe\">\n",
       "  <thead>\n",
       "    <tr style=\"text-align: right;\">\n",
       "      <th></th>\n",
       "      <th>Date</th>\n",
       "      <th>High</th>\n",
       "      <th>Low</th>\n",
       "      <th>Open</th>\n",
       "      <th>Close</th>\n",
       "      <th>Volume</th>\n",
       "      <th>Adj Close</th>\n",
       "      <th>date</th>\n",
       "    </tr>\n",
       "  </thead>\n",
       "  <tbody>\n",
       "    <tr>\n",
       "      <th>0</th>\n",
       "      <td>2015-08-06</td>\n",
       "      <td>3.536610</td>\n",
       "      <td>2.521120</td>\n",
       "      <td>2.831620</td>\n",
       "      <td>2.772120</td>\n",
       "      <td>1.643290e+05</td>\n",
       "      <td>2.772120</td>\n",
       "      <td>2015-08-06</td>\n",
       "    </tr>\n",
       "    <tr>\n",
       "      <th>1</th>\n",
       "      <td>2015-08-07</td>\n",
       "      <td>2.798810</td>\n",
       "      <td>0.714725</td>\n",
       "      <td>2.793760</td>\n",
       "      <td>0.753325</td>\n",
       "      <td>6.741880e+05</td>\n",
       "      <td>0.753325</td>\n",
       "      <td>2015-08-07</td>\n",
       "    </tr>\n",
       "    <tr>\n",
       "      <th>2</th>\n",
       "      <td>2015-08-08</td>\n",
       "      <td>0.879810</td>\n",
       "      <td>0.629191</td>\n",
       "      <td>0.706136</td>\n",
       "      <td>0.701897</td>\n",
       "      <td>5.321700e+05</td>\n",
       "      <td>0.701897</td>\n",
       "      <td>2015-08-08</td>\n",
       "    </tr>\n",
       "    <tr>\n",
       "      <th>3</th>\n",
       "      <td>2015-08-09</td>\n",
       "      <td>0.729854</td>\n",
       "      <td>0.636546</td>\n",
       "      <td>0.713989</td>\n",
       "      <td>0.708448</td>\n",
       "      <td>4.052830e+05</td>\n",
       "      <td>0.708448</td>\n",
       "      <td>2015-08-09</td>\n",
       "    </tr>\n",
       "    <tr>\n",
       "      <th>4</th>\n",
       "      <td>2015-08-10</td>\n",
       "      <td>1.131410</td>\n",
       "      <td>0.663235</td>\n",
       "      <td>0.708087</td>\n",
       "      <td>1.067860</td>\n",
       "      <td>1.463100e+06</td>\n",
       "      <td>1.067860</td>\n",
       "      <td>2015-08-10</td>\n",
       "    </tr>\n",
       "    <tr>\n",
       "      <th>...</th>\n",
       "      <td>...</td>\n",
       "      <td>...</td>\n",
       "      <td>...</td>\n",
       "      <td>...</td>\n",
       "      <td>...</td>\n",
       "      <td>...</td>\n",
       "      <td>...</td>\n",
       "      <td>...</td>\n",
       "    </tr>\n",
       "    <tr>\n",
       "      <th>2071</th>\n",
       "      <td>2021-04-11</td>\n",
       "      <td>2199.718750</td>\n",
       "      <td>2110.368896</td>\n",
       "      <td>2157.361816</td>\n",
       "      <td>2139.353271</td>\n",
       "      <td>2.172794e+10</td>\n",
       "      <td>2139.353271</td>\n",
       "      <td>2021-04-11</td>\n",
       "    </tr>\n",
       "    <tr>\n",
       "      <th>2072</th>\n",
       "      <td>2021-04-12</td>\n",
       "      <td>2318.423340</td>\n",
       "      <td>2138.559570</td>\n",
       "      <td>2139.364258</td>\n",
       "      <td>2299.187744</td>\n",
       "      <td>2.945664e+10</td>\n",
       "      <td>2299.187744</td>\n",
       "      <td>2021-04-12</td>\n",
       "    </tr>\n",
       "    <tr>\n",
       "      <th>2073</th>\n",
       "      <td>2021-04-13</td>\n",
       "      <td>2449.687500</td>\n",
       "      <td>2284.563721</td>\n",
       "      <td>2299.347900</td>\n",
       "      <td>2435.104980</td>\n",
       "      <td>3.559282e+10</td>\n",
       "      <td>2435.104980</td>\n",
       "      <td>2021-04-13</td>\n",
       "    </tr>\n",
       "    <tr>\n",
       "      <th>2074</th>\n",
       "      <td>2021-04-14</td>\n",
       "      <td>2544.267334</td>\n",
       "      <td>2409.924072</td>\n",
       "      <td>2436.034668</td>\n",
       "      <td>2519.116211</td>\n",
       "      <td>3.232561e+10</td>\n",
       "      <td>2519.116211</td>\n",
       "      <td>2021-04-14</td>\n",
       "    </tr>\n",
       "    <tr>\n",
       "      <th>2075</th>\n",
       "      <td>2021-04-15</td>\n",
       "      <td>2547.555664</td>\n",
       "      <td>2318.675049</td>\n",
       "      <td>2516.601807</td>\n",
       "      <td>2431.946533</td>\n",
       "      <td>3.619693e+10</td>\n",
       "      <td>2431.946533</td>\n",
       "      <td>2021-04-15</td>\n",
       "    </tr>\n",
       "  </tbody>\n",
       "</table>\n",
       "<p>2076 rows × 8 columns</p>\n",
       "</div>"
      ],
      "text/plain": [
       "           Date         High          Low         Open        Close  \\\n",
       "0    2015-08-06     3.536610     2.521120     2.831620     2.772120   \n",
       "1    2015-08-07     2.798810     0.714725     2.793760     0.753325   \n",
       "2    2015-08-08     0.879810     0.629191     0.706136     0.701897   \n",
       "3    2015-08-09     0.729854     0.636546     0.713989     0.708448   \n",
       "4    2015-08-10     1.131410     0.663235     0.708087     1.067860   \n",
       "...         ...          ...          ...          ...          ...   \n",
       "2071 2021-04-11  2199.718750  2110.368896  2157.361816  2139.353271   \n",
       "2072 2021-04-12  2318.423340  2138.559570  2139.364258  2299.187744   \n",
       "2073 2021-04-13  2449.687500  2284.563721  2299.347900  2435.104980   \n",
       "2074 2021-04-14  2544.267334  2409.924072  2436.034668  2519.116211   \n",
       "2075 2021-04-15  2547.555664  2318.675049  2516.601807  2431.946533   \n",
       "\n",
       "            Volume    Adj Close        date  \n",
       "0     1.643290e+05     2.772120  2015-08-06  \n",
       "1     6.741880e+05     0.753325  2015-08-07  \n",
       "2     5.321700e+05     0.701897  2015-08-08  \n",
       "3     4.052830e+05     0.708448  2015-08-09  \n",
       "4     1.463100e+06     1.067860  2015-08-10  \n",
       "...            ...          ...         ...  \n",
       "2071  2.172794e+10  2139.353271  2021-04-11  \n",
       "2072  2.945664e+10  2299.187744  2021-04-12  \n",
       "2073  3.559282e+10  2435.104980  2021-04-13  \n",
       "2074  3.232561e+10  2519.116211  2021-04-14  \n",
       "2075  3.619693e+10  2431.946533  2021-04-15  \n",
       "\n",
       "[2076 rows x 8 columns]"
      ]
     },
     "execution_count": 51,
     "metadata": {},
     "output_type": "execute_result"
    }
   ],
   "source": [
    "df\n",
    "\n"
   ]
  },
  {
   "cell_type": "code",
   "execution_count": 52,
   "metadata": {},
   "outputs": [
    {
     "data": {
      "text/html": [
       "<div>\n",
       "<style scoped>\n",
       "    .dataframe tbody tr th:only-of-type {\n",
       "        vertical-align: middle;\n",
       "    }\n",
       "\n",
       "    .dataframe tbody tr th {\n",
       "        vertical-align: top;\n",
       "    }\n",
       "\n",
       "    .dataframe thead th {\n",
       "        text-align: right;\n",
       "    }\n",
       "</style>\n",
       "<table border=\"1\" class=\"dataframe\">\n",
       "  <thead>\n",
       "    <tr style=\"text-align: right;\">\n",
       "      <th></th>\n",
       "      <th>Date</th>\n",
       "      <th>High</th>\n",
       "      <th>Low</th>\n",
       "      <th>Open</th>\n",
       "      <th>Close</th>\n",
       "      <th>Volume</th>\n",
       "      <th>Adj Close</th>\n",
       "      <th>date</th>\n",
       "    </tr>\n",
       "  </thead>\n",
       "  <tbody>\n",
       "    <tr>\n",
       "      <th>0</th>\n",
       "      <td>2015-08-06</td>\n",
       "      <td>3.536610</td>\n",
       "      <td>2.521120</td>\n",
       "      <td>2.831620</td>\n",
       "      <td>2.772120</td>\n",
       "      <td>164329.0</td>\n",
       "      <td>2.772120</td>\n",
       "      <td>2015-08-06</td>\n",
       "    </tr>\n",
       "    <tr>\n",
       "      <th>1</th>\n",
       "      <td>2015-08-07</td>\n",
       "      <td>2.798810</td>\n",
       "      <td>0.714725</td>\n",
       "      <td>2.793760</td>\n",
       "      <td>0.753325</td>\n",
       "      <td>674188.0</td>\n",
       "      <td>0.753325</td>\n",
       "      <td>2015-08-07</td>\n",
       "    </tr>\n",
       "    <tr>\n",
       "      <th>2</th>\n",
       "      <td>2015-08-08</td>\n",
       "      <td>0.879810</td>\n",
       "      <td>0.629191</td>\n",
       "      <td>0.706136</td>\n",
       "      <td>0.701897</td>\n",
       "      <td>532170.0</td>\n",
       "      <td>0.701897</td>\n",
       "      <td>2015-08-08</td>\n",
       "    </tr>\n",
       "    <tr>\n",
       "      <th>3</th>\n",
       "      <td>2015-08-09</td>\n",
       "      <td>0.729854</td>\n",
       "      <td>0.636546</td>\n",
       "      <td>0.713989</td>\n",
       "      <td>0.708448</td>\n",
       "      <td>405283.0</td>\n",
       "      <td>0.708448</td>\n",
       "      <td>2015-08-09</td>\n",
       "    </tr>\n",
       "    <tr>\n",
       "      <th>4</th>\n",
       "      <td>2015-08-10</td>\n",
       "      <td>1.131410</td>\n",
       "      <td>0.663235</td>\n",
       "      <td>0.708087</td>\n",
       "      <td>1.067860</td>\n",
       "      <td>1463100.0</td>\n",
       "      <td>1.067860</td>\n",
       "      <td>2015-08-10</td>\n",
       "    </tr>\n",
       "    <tr>\n",
       "      <th>5</th>\n",
       "      <td>2015-08-11</td>\n",
       "      <td>1.289940</td>\n",
       "      <td>0.883608</td>\n",
       "      <td>1.058750</td>\n",
       "      <td>1.217440</td>\n",
       "      <td>2150620.0</td>\n",
       "      <td>1.217440</td>\n",
       "      <td>2015-08-11</td>\n",
       "    </tr>\n",
       "    <tr>\n",
       "      <th>6</th>\n",
       "      <td>2015-08-12</td>\n",
       "      <td>1.965070</td>\n",
       "      <td>1.171990</td>\n",
       "      <td>1.222240</td>\n",
       "      <td>1.827670</td>\n",
       "      <td>4068680.0</td>\n",
       "      <td>1.827670</td>\n",
       "      <td>2015-08-12</td>\n",
       "    </tr>\n",
       "  </tbody>\n",
       "</table>\n",
       "</div>"
      ],
      "text/plain": [
       "        Date      High       Low      Open     Close     Volume  Adj Close  \\\n",
       "0 2015-08-06  3.536610  2.521120  2.831620  2.772120   164329.0   2.772120   \n",
       "1 2015-08-07  2.798810  0.714725  2.793760  0.753325   674188.0   0.753325   \n",
       "2 2015-08-08  0.879810  0.629191  0.706136  0.701897   532170.0   0.701897   \n",
       "3 2015-08-09  0.729854  0.636546  0.713989  0.708448   405283.0   0.708448   \n",
       "4 2015-08-10  1.131410  0.663235  0.708087  1.067860  1463100.0   1.067860   \n",
       "5 2015-08-11  1.289940  0.883608  1.058750  1.217440  2150620.0   1.217440   \n",
       "6 2015-08-12  1.965070  1.171990  1.222240  1.827670  4068680.0   1.827670   \n",
       "\n",
       "         date  \n",
       "0  2015-08-06  \n",
       "1  2015-08-07  \n",
       "2  2015-08-08  \n",
       "3  2015-08-09  \n",
       "4  2015-08-10  \n",
       "5  2015-08-11  \n",
       "6  2015-08-12  "
      ]
     },
     "execution_count": 52,
     "metadata": {},
     "output_type": "execute_result"
    }
   ],
   "source": [
    "df.head(7)\n",
    "\n"
   ]
  },
  {
   "cell_type": "code",
   "execution_count": 53,
   "metadata": {},
   "outputs": [],
   "source": [
    "#Separate dates for future plotting\n",
    "train_dates = pd.to_datetime(df['Date'])\n",
    "\n",
    "\n"
   ]
  },
  {
   "cell_type": "code",
   "execution_count": 54,
   "metadata": {},
   "outputs": [],
   "source": [
    "#Variables for training\n",
    "# cols = list(df)[0:1]\n"
   ]
  },
  {
   "cell_type": "code",
   "execution_count": 55,
   "metadata": {},
   "outputs": [],
   "source": [
    "#Variables for training\n",
    "cols = list(df)[1:6]"
   ]
  },
  {
   "cell_type": "code",
   "execution_count": 56,
   "metadata": {},
   "outputs": [
    {
     "data": {
      "text/plain": [
       "['High', 'Low', 'Open', 'Close', 'Volume']"
      ]
     },
     "execution_count": 56,
     "metadata": {},
     "output_type": "execute_result"
    }
   ],
   "source": [
    "cols"
   ]
  },
  {
   "cell_type": "code",
   "execution_count": 57,
   "metadata": {},
   "outputs": [],
   "source": [
    "df_for_training = df[cols].astype(float)"
   ]
  },
  {
   "cell_type": "code",
   "execution_count": 58,
   "metadata": {},
   "outputs": [
    {
     "data": {
      "text/plain": [
       "<AxesSubplot:>"
      ]
     },
     "execution_count": 58,
     "metadata": {},
     "output_type": "execute_result"
    },
    {
     "data": {
      "image/png": "[encoded data removed]",
      "text/plain": [
       "<Figure size 432x288 with 1 Axes>"
      ]
     },
     "metadata": {},
     "output_type": "display_data"
    }
   ],
   "source": [
    "df_for_plot=df_for_training.tail(5000)\n",
    "df_for_plot.plot.line()"
   ]
  },
  {
   "cell_type": "code",
   "execution_count": 59,
   "metadata": {},
   "outputs": [],
   "source": [
    "#LSTM uses sigmoid and tanh that are sensitive to magnitude so values need to be normalized\n",
    "# normalize the dataset\n",
    "scaler = StandardScaler()\n",
    "scaler = scaler.fit(df_for_training)\n",
    "\n",
    "df_for_training_scaled = scaler.transform(df_for_training)\n",
    "\n"
   ]
  },
  {
   "cell_type": "code",
   "execution_count": 60,
   "metadata": {},
   "outputs": [],
   "source": [
    "#As required for LSTM networks, we require to reshape an input data into n_samples x timesteps x n_features. \n",
    "#In this example, the n_features is 2. We will make timesteps = 3. \n",
    "#With this, the resultant n_samples is 5 (as the input data has 9 rows).\n",
    "\n",
    "trainX = []\n",
    "trainY = []"
   ]
  },
  {
   "cell_type": "code",
   "execution_count": 61,
   "metadata": {},
   "outputs": [
    {
     "name": "stdout",
     "output_type": "stream",
     "text": [
      "trainX shape == (1926, 150, 5).\n",
      "trainY shape == (1926, 1).\n"
     ]
    }
   ],
   "source": [
    "n_future = 1 # Number of days we want to predict into the future\n",
    "n_past = 150 # Number of past days we want to use to predict the future\n",
    "\n",
    "\n",
    "for i in range(n_past, len(df_for_training_scaled) - n_future +1):\n",
    "    trainX.append(df_for_training_scaled[i - n_past:i, 0:df_for_training.shape[1]])\n",
    "    trainY.append(df_for_training_scaled[i + n_future - 1:i + n_future, 0])\n",
    "\n",
    "trainX, trainY = np.array(trainX), np.array(trainY)\n",
    "\n",
    "print('trainX shape == {}.'.format(trainX.shape))\n",
    "print('trainY shape == {}.'.format(trainY.shape))\n"
   ]
  },
  {
   "cell_type": "code",
   "execution_count": 62,
   "metadata": {},
   "outputs": [
    {
     "name": "stdout",
     "output_type": "stream",
     "text": [
      "Model: \"sequential_1\"\n",
      "_________________________________________________________________\n",
      "Layer (type)                 Output Shape              Param #   \n",
      "=================================================================\n",
      "lstm_2 (LSTM)                (None, 150, 64)           17920     \n",
      "_________________________________________________________________\n",
      "lstm_3 (LSTM)                (None, 32)                12416     \n",
      "_________________________________________________________________\n",
      "dropout_1 (Dropout)          (None, 32)                0         \n",
      "_________________________________________________________________\n",
      "dense_1 (Dense)              (None, 1)                 33        \n",
      "=================================================================\n",
      "Total params: 30,369\n",
      "Trainable params: 30,369\n",
      "Non-trainable params: 0\n",
      "_________________________________________________________________\n"
     ]
    }
   ],
   "source": [
    "# define Autoencoder model\n",
    "\n",
    "model = Sequential()\n",
    "model.add(LSTM(64, activation='relu', input_shape=(trainX.shape[1], trainX.shape[2]), return_sequences=True))\n",
    "model.add(LSTM(32, activation='relu', return_sequences=False))\n",
    "model.add(Dropout(0.2))\n",
    "model.add(Dense(trainY.shape[1]))\n",
    "\n",
    "model.compile(optimizer='adam', loss='mse')\n",
    "model.summary()\n",
    "\n",
    "\n"
   ]
  },
  {
   "cell_type": "code",
   "execution_count": 63,
   "metadata": {
    "scrolled": true
   },
   "outputs": [
    {
     "name": "stdout",
     "output_type": "stream",
     "text": [
      "Epoch 1/10\n",
      "109/109 [==============================] - 15s 106ms/step - loss: 0.1272 - val_loss: 1.2533\n",
      "Epoch 2/10\n",
      "109/109 [==============================] - 11s 102ms/step - loss: 0.0280 - val_loss: 0.2829\n",
      "Epoch 3/10\n",
      "109/109 [==============================] - 11s 102ms/step - loss: 0.0245 - val_loss: 0.2438\n",
      "Epoch 4/10\n",
      "109/109 [==============================] - 11s 103ms/step - loss: 0.0209 - val_loss: 0.2571\n",
      "Epoch 5/10\n",
      "109/109 [==============================] - 11s 102ms/step - loss: 0.0154 - val_loss: 0.1571\n",
      "Epoch 6/10\n",
      "109/109 [==============================] - 11s 102ms/step - loss: 0.0155 - val_loss: 0.0826\n",
      "Epoch 7/10\n",
      "109/109 [==============================] - 11s 103ms/step - loss: 0.0153 - val_loss: 0.1435\n",
      "Epoch 8/10\n",
      "109/109 [==============================] - 11s 104ms/step - loss: 0.0178 - val_loss: 0.1001\n",
      "Epoch 9/10\n",
      "109/109 [==============================] - 11s 104ms/step - loss: 0.0132 - val_loss: 0.1195\n",
      "Epoch 10/10\n",
      "109/109 [==============================] - 11s 104ms/step - loss: 0.0141 - val_loss: 0.0292\n"
     ]
    }
   ],
   "source": [
    "# fit model\n",
    "history = model.fit(trainX, trainY, epochs=10, batch_size=16, validation_split=0.1, verbose=1)\n",
    "\n"
   ]
  },
  {
   "cell_type": "code",
   "execution_count": 64,
   "metadata": {},
   "outputs": [
    {
     "data": {
      "text/plain": [
       "<matplotlib.legend.Legend at 0x7f0649ce0700>"
      ]
     },
     "execution_count": 64,
     "metadata": {},
     "output_type": "execute_result"
    },
    {
     "data": {
      "image/png": "[encoded data removed]",
      "text/plain": [
       "<Figure size 432x288 with 1 Axes>"
      ]
     },
     "metadata": {},
     "output_type": "display_data"
    }
   ],
   "source": [
    "plt.plot(history.history['loss'], label='Training loss')\n",
    "plt.plot(history.history['val_loss'], label='Validation loss')\n",
    "plt.legend()"
   ]
  },
  {
   "cell_type": "code",
   "execution_count": 65,
   "metadata": {},
   "outputs": [],
   "source": [
    "#Forecasting...\n",
    "#Start with the last day in training date and predict future...\n",
    "n_future= 150 #Redefining n_future to extend prediction dates beyond original n_future dates...\n",
    "forecast_period_dates = pd.date_range(list(train_dates)[-1], periods=n_future, freq='1d').tolist()\n",
    "\n",
    "forecast = model.predict(trainX[-n_future:]) #forecast "
   ]
  },
  {
   "cell_type": "code",
   "execution_count": 66,
   "metadata": {},
   "outputs": [],
   "source": [
    "#Perform inverse transformation to rescale back to original range\n",
    "#Since we used 5 variables for transform, the inverse expects same dimensions\n",
    "#Therefore, let us copy our values 5 times and discard them after inverse transform\n",
    "forecast_copies = np.repeat(forecast, df_for_training.shape[1], axis=-1)\n",
    "y_pred_future = scaler.inverse_transform(forecast_copies)[:,0]\n"
   ]
  },
  {
   "cell_type": "code",
   "execution_count": 67,
   "metadata": {},
   "outputs": [],
   "source": [
    "# Convert timestamp to date\n",
    "forecast_dates = []\n",
    "for time_i in forecast_period_dates:\n",
    "    forecast_dates.append(time_i.date())\n",
    "    \n",
    "df_forecast = pd.DataFrame({'Date':np.array(forecast_dates), 'Close':y_pred_future})\n",
    "df_forecast['Date']=pd.to_datetime(df_forecast['Date'])\n"
   ]
  },
  {
   "cell_type": "code",
   "execution_count": 68,
   "metadata": {},
   "outputs": [
    {
     "name": "stderr",
     "output_type": "stream",
     "text": [
      "<ipython-input-68-36b5c3f76479>:2: SettingWithCopyWarning: \n",
      "A value is trying to be set on a copy of a slice from a DataFrame.\n",
      "Try using .loc[row_indexer,col_indexer] = value instead\n",
      "\n",
      "See the caveats in the documentation: https://pandas.pydata.org/pandas-docs/stable/user_guide/indexing.html#returning-a-view-versus-a-copy\n",
      "  original['Date']=pd.to_datetime(original['Date'])\n",
      "/home/thembajsph/Downloads/anaconda/lib/python3.8/site-packages/seaborn/_decorators.py:36: FutureWarning: Pass the following variables as keyword args: x, y. From version 0.12, the only valid positional argument will be `data`, and passing other arguments without an explicit keyword will result in an error or misinterpretation.\n",
      "  warnings.warn(\n",
      "/home/thembajsph/Downloads/anaconda/lib/python3.8/site-packages/seaborn/_decorators.py:36: FutureWarning: Pass the following variables as keyword args: x, y. From version 0.12, the only valid positional argument will be `data`, and passing other arguments without an explicit keyword will result in an error or misinterpretation.\n",
      "  warnings.warn(\n"
     ]
    },
    {
     "data": {
      "text/plain": [
       "<AxesSubplot:xlabel='Date', ylabel='Close'>"
      ]
     },
     "execution_count": 68,
     "metadata": {},
     "output_type": "execute_result"
    },
    {
     "data": {
      "image/png": "[encoded data removed]",
      "text/plain": [
       "<Figure size 432x288 with 1 Axes>"
      ]
     },
     "metadata": {},
     "output_type": "display_data"
    }
   ],
   "source": [
    "original = df[['Date', 'Close']]\n",
    "original['Date']=pd.to_datetime(original['Date'])\n",
    "original = original.loc[original['Date'] >= '2021-1-1']\n",
    "plt.xticks(rotation=45)\n",
    "\n",
    "sns.lineplot(original['Date'], original['Close'])\n",
    "sns.lineplot(df_forecast['Date'], df_forecast['Close'])"
   ]
  },
  {
   "cell_type": "code",
   "execution_count": 83,
   "metadata": {},
   "outputs": [
    {
     "data": {
      "text/html": [
       "<div>\n",
       "<style scoped>\n",
       "    .dataframe tbody tr th:only-of-type {\n",
       "        vertical-align: middle;\n",
       "    }\n",
       "\n",
       "    .dataframe tbody tr th {\n",
       "        vertical-align: top;\n",
       "    }\n",
       "\n",
       "    .dataframe thead th {\n",
       "        text-align: right;\n",
       "    }\n",
       "</style>\n",
       "<table border=\"1\" class=\"dataframe\">\n",
       "  <thead>\n",
       "    <tr style=\"text-align: right;\">\n",
       "      <th></th>\n",
       "      <th>Date</th>\n",
       "      <th>Close</th>\n",
       "    </tr>\n",
       "  </thead>\n",
       "  <tbody>\n",
       "    <tr>\n",
       "      <th>0</th>\n",
       "      <td>2021-04-15</td>\n",
       "      <td>484.882996</td>\n",
       "    </tr>\n",
       "    <tr>\n",
       "      <th>1</th>\n",
       "      <td>2021-04-16</td>\n",
       "      <td>489.322205</td>\n",
       "    </tr>\n",
       "    <tr>\n",
       "      <th>2</th>\n",
       "      <td>2021-04-17</td>\n",
       "      <td>492.854919</td>\n",
       "    </tr>\n",
       "    <tr>\n",
       "      <th>3</th>\n",
       "      <td>2021-04-18</td>\n",
       "      <td>498.520660</td>\n",
       "    </tr>\n",
       "    <tr>\n",
       "      <th>4</th>\n",
       "      <td>2021-04-19</td>\n",
       "      <td>509.697296</td>\n",
       "    </tr>\n",
       "    <tr>\n",
       "      <th>...</th>\n",
       "      <td>...</td>\n",
       "      <td>...</td>\n",
       "    </tr>\n",
       "    <tr>\n",
       "      <th>76</th>\n",
       "      <td>2021-06-30</td>\n",
       "      <td>1397.265625</td>\n",
       "    </tr>\n",
       "    <tr>\n",
       "      <th>77</th>\n",
       "      <td>2021-07-01</td>\n",
       "      <td>1470.403687</td>\n",
       "    </tr>\n",
       "    <tr>\n",
       "      <th>78</th>\n",
       "      <td>2021-07-02</td>\n",
       "      <td>1599.434692</td>\n",
       "    </tr>\n",
       "    <tr>\n",
       "      <th>79</th>\n",
       "      <td>2021-07-03</td>\n",
       "      <td>1688.540894</td>\n",
       "    </tr>\n",
       "    <tr>\n",
       "      <th>80</th>\n",
       "      <td>2021-07-04</td>\n",
       "      <td>1775.424194</td>\n",
       "    </tr>\n",
       "  </tbody>\n",
       "</table>\n",
       "<p>81 rows × 2 columns</p>\n",
       "</div>"
      ],
      "text/plain": [
       "         Date        Close\n",
       "0  2021-04-15   484.882996\n",
       "1  2021-04-16   489.322205\n",
       "2  2021-04-17   492.854919\n",
       "3  2021-04-18   498.520660\n",
       "4  2021-04-19   509.697296\n",
       "..        ...          ...\n",
       "76 2021-06-30  1397.265625\n",
       "77 2021-07-01  1470.403687\n",
       "78 2021-07-02  1599.434692\n",
       "79 2021-07-03  1688.540894\n",
       "80 2021-07-04  1775.424194\n",
       "\n",
       "[81 rows x 2 columns]"
      ]
     },
     "execution_count": 83,
     "metadata": {},
     "output_type": "execute_result"
    }
   ],
   "source": [
    "df_forecast.head(81)\n"
   ]
  },
  {
   "cell_type": "code",
   "execution_count": 70,
   "metadata": {},
   "outputs": [],
   "source": [
    "#Description: This program uses the Moving Average Convergence/Divergence (MACD) crossover\n",
    "#             to determine when to buy and sell stock.\n"
   ]
  },
  {
   "cell_type": "code",
   "execution_count": 71,
   "metadata": {},
   "outputs": [
    {
     "data": {
      "image/png": "[encoded data removed]",
      "text/plain": [
       "<Figure size 878.4x324 with 1 Axes>"
      ]
     },
     "metadata": {},
     "output_type": "display_data"
    }
   ],
   "source": [
    "#Visually show the stock price \n",
    "plt.figure(figsize=(12.2, 4.5))\n",
    "plt.plot(df_forecast['Close'], label='Close')\n",
    "plt.xticks(rotation=45)\n",
    "plt.title('Close Price History')\n",
    "plt.xlabel('Date')\n",
    "plt.ylabel('Price USD ($)')\n",
    "plt.show()"
   ]
  },
  {
   "cell_type": "code",
   "execution_count": 72,
   "metadata": {},
   "outputs": [
    {
     "data": {
      "text/plain": [
       "0             NaN\n",
       "1        4.439209\n",
       "2        3.532715\n",
       "3        5.665741\n",
       "4       11.176636\n",
       "          ...    \n",
       "145     79.730225\n",
       "146     11.742676\n",
       "147    130.588623\n",
       "148    213.090820\n",
       "149    116.682861\n",
       "Name: Close, Length: 150, dtype: float32"
      ]
     },
     "execution_count": 72,
     "metadata": {},
     "output_type": "execute_result"
    }
   ],
   "source": [
    "#Prepare the data to calculate the RSI\n",
    "\n",
    "#First get the difference in price from the previous day\n",
    "delta = df_forecast['Close'].diff(1)\n",
    "\n",
    "delta"
   ]
  },
  {
   "cell_type": "code",
   "execution_count": 73,
   "metadata": {},
   "outputs": [
    {
     "data": {
      "text/plain": [
       "1        4.439209\n",
       "2        3.532715\n",
       "3        5.665741\n",
       "4       11.176636\n",
       "5       14.318451\n",
       "          ...    \n",
       "145     79.730225\n",
       "146     11.742676\n",
       "147    130.588623\n",
       "148    213.090820\n",
       "149    116.682861\n",
       "Name: Close, Length: 149, dtype: float32"
      ]
     },
     "execution_count": 73,
     "metadata": {},
     "output_type": "execute_result"
    }
   ],
   "source": [
    "#Get rii NaN\n",
    "delta = delta.dropna()\n",
    "delta"
   ]
  },
  {
   "cell_type": "code",
   "execution_count": 74,
   "metadata": {},
   "outputs": [],
   "source": [
    "#Get the positive gains(up) and the negative gains (down)\n",
    "up = delta.copy()\n",
    "down = delta.copy()\n",
    "\n",
    "up[up <0 ]= 0\n",
    "down[down > 0] = 0"
   ]
  },
  {
   "cell_type": "code",
   "execution_count": 75,
   "metadata": {},
   "outputs": [],
   "source": [
    "#Get the time period\n",
    "period = 14\n",
    "#Calculate the avarage gain and the average loss\n",
    "AVG_Gain = up.rolling(window=period).mean()\n",
    "AVG_Loss = abs(down.rolling(window=period).mean())\n",
    "\n"
   ]
  },
  {
   "cell_type": "code",
   "execution_count": 76,
   "metadata": {},
   "outputs": [],
   "source": [
    "#Calculate the RSI\n",
    "\n",
    "#Calculate the Relative Strength (RS)\n",
    "RS = AVG_Gain / AVG_Loss\n",
    "\n",
    "#Calculate the Relative Strength Index (RSI)\n",
    "RSI = 100.0 - (100.0 / (1.0 + RS))"
   ]
  },
  {
   "cell_type": "code",
   "execution_count": 77,
   "metadata": {},
   "outputs": [
    {
     "data": {
      "image/png": "[encoded data removed]",
      "text/plain": [
       "<Figure size 878.4x324 with 1 Axes>"
      ]
     },
     "metadata": {},
     "output_type": "display_data"
    }
   ],
   "source": [
    "#Show the RSI Visually\n",
    "plt.figure(figsize=(12.2, 4.5))\n",
    "RSI.plot()\n",
    "plt.show()"
   ]
  },
  {
   "cell_type": "code",
   "execution_count": 78,
   "metadata": {},
   "outputs": [
    {
     "data": {
      "text/html": [
       "<div>\n",
       "<style scoped>\n",
       "    .dataframe tbody tr th:only-of-type {\n",
       "        vertical-align: middle;\n",
       "    }\n",
       "\n",
       "    .dataframe tbody tr th {\n",
       "        vertical-align: top;\n",
       "    }\n",
       "\n",
       "    .dataframe thead th {\n",
       "        text-align: right;\n",
       "    }\n",
       "</style>\n",
       "<table border=\"1\" class=\"dataframe\">\n",
       "  <thead>\n",
       "    <tr style=\"text-align: right;\">\n",
       "      <th></th>\n",
       "      <th>Close</th>\n",
       "      <th>RSI</th>\n",
       "    </tr>\n",
       "  </thead>\n",
       "  <tbody>\n",
       "    <tr>\n",
       "      <th>0</th>\n",
       "      <td>484.882996</td>\n",
       "      <td>NaN</td>\n",
       "    </tr>\n",
       "    <tr>\n",
       "      <th>1</th>\n",
       "      <td>489.322205</td>\n",
       "      <td>NaN</td>\n",
       "    </tr>\n",
       "    <tr>\n",
       "      <th>2</th>\n",
       "      <td>492.854919</td>\n",
       "      <td>NaN</td>\n",
       "    </tr>\n",
       "    <tr>\n",
       "      <th>3</th>\n",
       "      <td>498.520660</td>\n",
       "      <td>NaN</td>\n",
       "    </tr>\n",
       "    <tr>\n",
       "      <th>4</th>\n",
       "      <td>509.697296</td>\n",
       "      <td>NaN</td>\n",
       "    </tr>\n",
       "    <tr>\n",
       "      <th>5</th>\n",
       "      <td>524.015747</td>\n",
       "      <td>NaN</td>\n",
       "    </tr>\n",
       "    <tr>\n",
       "      <th>6</th>\n",
       "      <td>542.917236</td>\n",
       "      <td>NaN</td>\n",
       "    </tr>\n",
       "    <tr>\n",
       "      <th>7</th>\n",
       "      <td>565.804871</td>\n",
       "      <td>NaN</td>\n",
       "    </tr>\n",
       "    <tr>\n",
       "      <th>8</th>\n",
       "      <td>582.729980</td>\n",
       "      <td>NaN</td>\n",
       "    </tr>\n",
       "    <tr>\n",
       "      <th>9</th>\n",
       "      <td>584.161011</td>\n",
       "      <td>NaN</td>\n",
       "    </tr>\n",
       "    <tr>\n",
       "      <th>10</th>\n",
       "      <td>576.191895</td>\n",
       "      <td>NaN</td>\n",
       "    </tr>\n",
       "    <tr>\n",
       "      <th>11</th>\n",
       "      <td>569.247864</td>\n",
       "      <td>NaN</td>\n",
       "    </tr>\n",
       "    <tr>\n",
       "      <th>12</th>\n",
       "      <td>570.814453</td>\n",
       "      <td>NaN</td>\n",
       "    </tr>\n",
       "    <tr>\n",
       "      <th>13</th>\n",
       "      <td>581.645813</td>\n",
       "      <td>NaN</td>\n",
       "    </tr>\n",
       "    <tr>\n",
       "      <th>14</th>\n",
       "      <td>593.135742</td>\n",
       "      <td>89.199558</td>\n",
       "    </tr>\n",
       "    <tr>\n",
       "      <th>15</th>\n",
       "      <td>603.427917</td>\n",
       "      <td>89.638756</td>\n",
       "    </tr>\n",
       "    <tr>\n",
       "      <th>16</th>\n",
       "      <td>615.491516</td>\n",
       "      <td>90.218507</td>\n",
       "    </tr>\n",
       "    <tr>\n",
       "      <th>17</th>\n",
       "      <td>622.602295</td>\n",
       "      <td>90.310345</td>\n",
       "    </tr>\n",
       "    <tr>\n",
       "      <th>18</th>\n",
       "      <td>624.604675</td>\n",
       "      <td>89.696146</td>\n",
       "    </tr>\n",
       "    <tr>\n",
       "      <th>19</th>\n",
       "      <td>628.503113</td>\n",
       "      <td>88.896776</td>\n",
       "    </tr>\n",
       "    <tr>\n",
       "      <th>20</th>\n",
       "      <td>631.399597</td>\n",
       "      <td>87.394712</td>\n",
       "    </tr>\n",
       "    <tr>\n",
       "      <th>21</th>\n",
       "      <td>629.161499</td>\n",
       "      <td>82.437641</td>\n",
       "    </tr>\n",
       "    <tr>\n",
       "      <th>22</th>\n",
       "      <td>623.771240</td>\n",
       "      <td>73.826769</td>\n",
       "    </tr>\n",
       "    <tr>\n",
       "      <th>23</th>\n",
       "      <td>617.957031</td>\n",
       "      <td>68.670298</td>\n",
       "    </tr>\n",
       "    <tr>\n",
       "      <th>24</th>\n",
       "      <td>609.237244</td>\n",
       "      <td>68.105430</td>\n",
       "    </tr>\n",
       "    <tr>\n",
       "      <th>25</th>\n",
       "      <td>603.008972</td>\n",
       "      <td>68.643820</td>\n",
       "    </tr>\n",
       "    <tr>\n",
       "      <th>26</th>\n",
       "      <td>604.865295</td>\n",
       "      <td>68.743839</td>\n",
       "    </tr>\n",
       "    <tr>\n",
       "      <th>27</th>\n",
       "      <td>609.743103</td>\n",
       "      <td>66.551469</td>\n",
       "    </tr>\n",
       "    <tr>\n",
       "      <th>28</th>\n",
       "      <td>616.398926</td>\n",
       "      <td>64.531419</td>\n",
       "    </tr>\n",
       "    <tr>\n",
       "      <th>29</th>\n",
       "      <td>628.384216</td>\n",
       "      <td>65.266116</td>\n",
       "    </tr>\n",
       "    <tr>\n",
       "      <th>30</th>\n",
       "      <td>645.339539</td>\n",
       "      <td>67.227446</td>\n",
       "    </tr>\n",
       "    <tr>\n",
       "      <th>31</th>\n",
       "      <td>663.563599</td>\n",
       "      <td>70.953670</td>\n",
       "    </tr>\n",
       "    <tr>\n",
       "      <th>32</th>\n",
       "      <td>681.732910</td>\n",
       "      <td>75.076154</td>\n",
       "    </tr>\n",
       "    <tr>\n",
       "      <th>33</th>\n",
       "      <td>693.293274</td>\n",
       "      <td>76.646956</td>\n",
       "    </tr>\n",
       "    <tr>\n",
       "      <th>34</th>\n",
       "      <td>695.263855</td>\n",
       "      <td>76.467731</td>\n",
       "    </tr>\n",
       "    <tr>\n",
       "      <th>35</th>\n",
       "      <td>692.811768</td>\n",
       "      <td>76.332340</td>\n",
       "    </tr>\n",
       "    <tr>\n",
       "      <th>36</th>\n",
       "      <td>684.530823</td>\n",
       "      <td>74.549290</td>\n",
       "    </tr>\n",
       "    <tr>\n",
       "      <th>37</th>\n",
       "      <td>674.208740</td>\n",
       "      <td>71.929113</td>\n",
       "    </tr>\n",
       "    <tr>\n",
       "      <th>38</th>\n",
       "      <td>671.881531</td>\n",
       "      <td>75.702228</td>\n",
       "    </tr>\n",
       "    <tr>\n",
       "      <th>39</th>\n",
       "      <td>675.230225</td>\n",
       "      <td>80.348660</td>\n",
       "    </tr>\n",
       "    <tr>\n",
       "      <th>40</th>\n",
       "      <td>685.212708</td>\n",
       "      <td>81.604952</td>\n",
       "    </tr>\n",
       "  </tbody>\n",
       "</table>\n",
       "</div>"
      ],
      "text/plain": [
       "         Close        RSI\n",
       "0   484.882996        NaN\n",
       "1   489.322205        NaN\n",
       "2   492.854919        NaN\n",
       "3   498.520660        NaN\n",
       "4   509.697296        NaN\n",
       "5   524.015747        NaN\n",
       "6   542.917236        NaN\n",
       "7   565.804871        NaN\n",
       "8   582.729980        NaN\n",
       "9   584.161011        NaN\n",
       "10  576.191895        NaN\n",
       "11  569.247864        NaN\n",
       "12  570.814453        NaN\n",
       "13  581.645813        NaN\n",
       "14  593.135742  89.199558\n",
       "15  603.427917  89.638756\n",
       "16  615.491516  90.218507\n",
       "17  622.602295  90.310345\n",
       "18  624.604675  89.696146\n",
       "19  628.503113  88.896776\n",
       "20  631.399597  87.394712\n",
       "21  629.161499  82.437641\n",
       "22  623.771240  73.826769\n",
       "23  617.957031  68.670298\n",
       "24  609.237244  68.105430\n",
       "25  603.008972  68.643820\n",
       "26  604.865295  68.743839\n",
       "27  609.743103  66.551469\n",
       "28  616.398926  64.531419\n",
       "29  628.384216  65.266116\n",
       "30  645.339539  67.227446\n",
       "31  663.563599  70.953670\n",
       "32  681.732910  75.076154\n",
       "33  693.293274  76.646956\n",
       "34  695.263855  76.467731\n",
       "35  692.811768  76.332340\n",
       "36  684.530823  74.549290\n",
       "37  674.208740  71.929113\n",
       "38  671.881531  75.702228\n",
       "39  675.230225  80.348660\n",
       "40  685.212708  81.604952"
      ]
     },
     "execution_count": 78,
     "metadata": {},
     "output_type": "execute_result"
    }
   ],
   "source": [
    "#Put it all together\n",
    "\n",
    "#Create a new data frame\n",
    "new_df = pd.DataFrame()\n",
    "new_df['Close'] = df_forecast['Close']\n",
    "new_df['RSI'] = RSI\n",
    "new_df.head(41)"
   ]
  },
  {
   "cell_type": "code",
   "execution_count": 79,
   "metadata": {},
   "outputs": [
    {
     "data": {
      "image/png": "[encoded data removed]",
      "text/plain": [
       "<Figure size 878.4x324 with 1 Axes>"
      ]
     },
     "metadata": {},
     "output_type": "display_data"
    },
    {
     "data": {
      "image/png": "[encoded data removed]",
      "text/plain": [
       "<Figure size 878.4x324 with 1 Axes>"
      ]
     },
     "metadata": {},
     "output_type": "display_data"
    }
   ],
   "source": [
    "#Visually show the adj Close Price and RSI\n",
    "\n",
    "#Plot the adjusted close price\n",
    "plt.figure(figsize=(12.2, 4.5))\n",
    "plt.plot(new_df.index, new_df['Close'], label='Close')\n",
    "plt.xticks(rotation=45)\n",
    "plt.title('Close Price History')\n",
    "plt.legend(new_df.columns.values, loc = 'upper left')\n",
    "plt.xlabel('Date')\n",
    "plt.ylabel('Price USD ($)')\n",
    "plt.show()\n",
    "#Plot the corrresponding RSI values and significant levels\n",
    "plt.figure(figsize=(12.2, 4.5))\n",
    "plt.title('RSI Plot')\n",
    "plt.plot(new_df.index, new_df['RSI'])\n",
    "plt.axhline(0, linestyle= '--', alpha = 0.5, color= 'gray')\n",
    "plt.axhline(10, linestyle= '--', alpha = 0.5, color= 'orange')\n",
    "plt.axhline(20, linestyle= '--', alpha = 0.5, color= 'green')\n",
    "plt.axhline(30, linestyle= '--', alpha = 0.5, color= 'red')\n",
    "plt.axhline(70, linestyle= '--', alpha = 0.5, color= 'red')\n",
    "plt.axhline(80, linestyle= '--', alpha = 0.5, color= 'green')\n",
    "plt.axhline(90, linestyle= '--', alpha = 0.5, color= 'orange')\n",
    "plt.axhline(100, linestyle= '--', alpha = 0.5, color= 'gray')\n",
    "plt.show()"
   ]
  },
  {
   "cell_type": "code",
   "execution_count": null,
   "metadata": {},
   "outputs": [],
   "source": []
  },
  {
   "cell_type": "code",
   "execution_count": null,
   "metadata": {},
   "outputs": [],
   "source": []
  }
 ],
 "metadata": {
  "kernelspec": {
   "display_name": "Python 3",
   "language": "python",
   "name": "python3"
  },
  "language_info": {
   "codemirror_mode": {
    "name": "ipython",
    "version": 3
   },
   "file_extension": ".py",
   "mimetype": "text/x-python",
   "name": "python",
   "nbconvert_exporter": "python",
   "pygments_lexer": "ipython3",
   "version": "3.8.5"
  }
 },
 "nbformat": 4,
 "nbformat_minor": 4
}
