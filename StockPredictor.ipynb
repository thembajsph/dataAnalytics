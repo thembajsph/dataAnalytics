{
 "cells": [
  {
   "cell_type": "code",
   "execution_count": null,
   "metadata": {},
   "outputs": [],
   "source": [
    "# Import libraries\n",
    "import math\n",
    "import pandas_datareader as web\n",
    "import  numpy as np\n",
    "import pandas as pd \n",
    "from sklearn.preprocessing import MinMaxScaler\n",
    "from keras.models import Sequential \n",
    "from keras.layers import Dense, LSTM\n",
    "import matplotlib.pyplot as plt\n",
    "plt.style.use('fivethirthyeight')"
   ]
  },
  {
   "cell_type": "code",
   "execution_count": null,
   "metadata": {},
   "outputs": [],
   "source": [
    "# description: this program uses an artificial neural network called lon short Term Memory (LSTM)\n",
    "#           to prsedict the closing stock price of corporation(Apple Inc.) using the past 60 day stock price."
   ]
  },
  {
   "cell_type": "code",
   "execution_count": 11,
   "metadata": {},
   "outputs": [
    {
     "name": "stdout",
     "output_type": "stream",
     "text": [
      "Collecting tensorflow\n",
      "  Downloading tensorflow-2.4.1-cp38-cp38-manylinux2010_x86_64.whl (394.4 MB)\n",
      "\u001b[K     |████████████████████████████████| 394.4 MB 1.8 kB/s eta 0:00:01    |███████▋                        | 94.2 MB 1.9 MB/s eta 0:02:41     |████████                        | 97.9 MB 3.5 MB/s eta 0:01:24     |█████████▌                      | 116.6 MB 727 kB/s eta 0:06:22     |█████████▊                      | 119.5 MB 411 kB/s eta 0:11:08     |█████████████████▍              | 214.1 MB 1.1 MB/s eta 0:02:38\n",
      "\u001b[?25hRequirement already satisfied: six~=1.15.0 in /home/thembajsph/Downloads/anaconda/lib/python3.8/site-packages (from tensorflow) (1.15.0)\n",
      "\u001b[33mWARNING: Retrying (Retry(total=4, connect=None, read=None, redirect=None, status=None)) after connection broken by 'ProtocolError('Connection aborted.', ConnectionResetError(104, 'Connection reset by peer'))': /simple/astunparse/\u001b[0m\n",
      "Collecting astunparse~=1.6.3\n",
      "  Downloading astunparse-1.6.3-py2.py3-none-any.whl (12 kB)\n",
      "Collecting gast==0.3.3\n",
      "  Downloading gast-0.3.3-py2.py3-none-any.whl (9.7 kB)\n",
      "Requirement already satisfied: wrapt~=1.12.1 in /home/thembajsph/.local/lib/python3.8/site-packages (from tensorflow) (1.12.1)\n",
      "Collecting tensorflow-estimator<2.5.0,>=2.4.0\n",
      "  Downloading tensorflow_estimator-2.4.0-py2.py3-none-any.whl (462 kB)\n",
      "\u001b[K     |████████████████████████████████| 462 kB 338 kB/s eta 0:00:01\n",
      "\u001b[?25hRequirement already satisfied: h5py~=2.10.0 in /home/thembajsph/Downloads/anaconda/lib/python3.8/site-packages (from tensorflow) (2.10.0)\n",
      "Collecting termcolor~=1.1.0\n",
      "  Downloading termcolor-1.1.0.tar.gz (3.9 kB)\n",
      "Requirement already satisfied: wheel~=0.35 in /home/thembajsph/Downloads/anaconda/lib/python3.8/site-packages (from tensorflow) (0.35.1)\n",
      "Requirement already satisfied: numpy~=1.19.2 in /home/thembajsph/Downloads/anaconda/lib/python3.8/site-packages (from tensorflow) (1.19.2)\n",
      "Collecting keras-preprocessing~=1.1.2\n",
      "  Downloading Keras_Preprocessing-1.1.2-py2.py3-none-any.whl (42 kB)\n",
      "\u001b[K     |████████████████████████████████| 42 kB 143 kB/s eta 0:00:01\n",
      "\u001b[?25hCollecting google-pasta~=0.2\n",
      "  Downloading google_pasta-0.2.0-py3-none-any.whl (57 kB)\n",
      "\u001b[K     |████████████████████████████████| 57 kB 455 kB/s eta 0:00:01\n",
      "\u001b[?25hCollecting protobuf>=3.9.2\n",
      "  Downloading protobuf-3.15.7-cp38-cp38-manylinux1_x86_64.whl (1.0 MB)\n",
      "\u001b[K     |████████████████████████████████| 1.0 MB 518 kB/s eta 0:00:01\n",
      "\u001b[?25hRequirement already satisfied: typing-extensions~=3.7.4 in /home/thembajsph/Downloads/anaconda/lib/python3.8/site-packages (from tensorflow) (3.7.4.3)\n",
      "Collecting grpcio~=1.32.0\n",
      "  Downloading grpcio-1.32.0-cp38-cp38-manylinux2014_x86_64.whl (3.8 MB)\n",
      "\u001b[K     |████████████████████████████████| 3.8 MB 743 kB/s eta 0:00:01\n",
      "\u001b[?25hCollecting opt-einsum~=3.3.0\n",
      "  Downloading opt_einsum-3.3.0-py3-none-any.whl (65 kB)\n",
      "\u001b[K     |████████████████████████████████| 65 kB 317 kB/s eta 0:00:01\n",
      "\u001b[?25hCollecting flatbuffers~=1.12.0\n",
      "  Downloading flatbuffers-1.12-py2.py3-none-any.whl (15 kB)\n",
      "Collecting absl-py~=0.10\n",
      "  Downloading absl_py-0.12.0-py3-none-any.whl (129 kB)\n",
      "\u001b[K     |████████████████████████████████| 129 kB 1.4 MB/s eta 0:00:01\n",
      "\u001b[?25hCollecting tensorboard~=2.4\n",
      "  Downloading tensorboard-2.4.1-py3-none-any.whl (10.6 MB)\n",
      "\u001b[K     |████████████████████████████████| 10.6 MB 213 kB/s eta 0:00:01    |█████████████████████████████▌  | 9.8 MB 1.6 MB/s eta 0:00:01\n",
      "\u001b[?25hCollecting markdown>=2.6.8\n",
      "  Downloading Markdown-3.3.4-py3-none-any.whl (97 kB)\n",
      "\u001b[K     |████████████████████████████████| 97 kB 821 kB/s eta 0:00:01\n",
      "\u001b[?25hCollecting google-auth-oauthlib<0.5,>=0.4.1\n",
      "  Downloading google_auth_oauthlib-0.4.4-py2.py3-none-any.whl (18 kB)\n",
      "Requirement already satisfied: requests<3,>=2.21.0 in /home/thembajsph/Downloads/anaconda/lib/python3.8/site-packages (from tensorboard~=2.4->tensorflow) (2.24.0)\n",
      "Requirement already satisfied: werkzeug>=0.11.15 in /home/thembajsph/Downloads/anaconda/lib/python3.8/site-packages (from tensorboard~=2.4->tensorflow) (1.0.1)\n",
      "Requirement already satisfied: setuptools>=41.0.0 in /home/thembajsph/Downloads/anaconda/lib/python3.8/site-packages (from tensorboard~=2.4->tensorflow) (50.3.1.post20201107)\n",
      "Collecting google-auth<2,>=1.6.3\n",
      "  Downloading google_auth-1.28.0-py2.py3-none-any.whl (136 kB)\n",
      "\u001b[K     |████████████████████████████████| 136 kB 1.3 MB/s eta 0:00:01\n",
      "\u001b[?25hCollecting tensorboard-plugin-wit>=1.6.0\n",
      "  Downloading tensorboard_plugin_wit-1.8.0-py3-none-any.whl (781 kB)\n",
      "\u001b[K     |████████████████████████████████| 781 kB 1.4 MB/s eta 0:00:01\n",
      "\u001b[?25hCollecting requests-oauthlib>=0.7.0\n",
      "  Using cached requests_oauthlib-1.3.0-py2.py3-none-any.whl (23 kB)\n",
      "Requirement already satisfied: certifi>=2017.4.17 in /home/thembajsph/Downloads/anaconda/lib/python3.8/site-packages (from requests<3,>=2.21.0->tensorboard~=2.4->tensorflow) (2020.6.20)\n",
      "Requirement already satisfied: chardet<4,>=3.0.2 in /home/thembajsph/Downloads/anaconda/lib/python3.8/site-packages (from requests<3,>=2.21.0->tensorboard~=2.4->tensorflow) (3.0.4)\n",
      "Requirement already satisfied: idna<3,>=2.5 in /home/thembajsph/Downloads/anaconda/lib/python3.8/site-packages (from requests<3,>=2.21.0->tensorboard~=2.4->tensorflow) (2.10)\n",
      "Requirement already satisfied: urllib3!=1.25.0,!=1.25.1,<1.26,>=1.21.1 in /home/thembajsph/Downloads/anaconda/lib/python3.8/site-packages (from requests<3,>=2.21.0->tensorboard~=2.4->tensorflow) (1.25.11)\n",
      "Collecting cachetools<5.0,>=2.0.0\n",
      "  Downloading cachetools-4.2.1-py3-none-any.whl (12 kB)\n",
      "Collecting pyasn1-modules>=0.2.1\n",
      "  Downloading pyasn1_modules-0.2.8-py2.py3-none-any.whl (155 kB)\n",
      "\u001b[K     |████████████████████████████████| 155 kB 1.1 MB/s eta 0:00:01\n",
      "\u001b[?25hCollecting rsa<5,>=3.1.4; python_version >= \"3.6\"\n",
      "  Downloading rsa-4.7.2-py3-none-any.whl (34 kB)\n",
      "Collecting oauthlib>=3.0.0\n",
      "  Using cached oauthlib-3.1.0-py2.py3-none-any.whl (147 kB)\n",
      "Collecting pyasn1<0.5.0,>=0.4.6\n",
      "  Using cached pyasn1-0.4.8-py2.py3-none-any.whl (77 kB)\n",
      "Building wheels for collected packages: termcolor\n",
      "  Building wheel for termcolor (setup.py) ... \u001b[?25ldone\n",
      "\u001b[?25h  Created wheel for termcolor: filename=termcolor-1.1.0-py3-none-any.whl size=4830 sha256=b9f7dc2bfc693d4a5726296c954157457455b72b1e523e128265b6ac21561a6f\n",
      "  Stored in directory: /home/thembajsph/.cache/pip/wheels/a0/16/9c/5473df82468f958445479c59e784896fa24f4a5fc024b0f501\n",
      "Successfully built termcolor\n",
      "Installing collected packages: astunparse, gast, tensorflow-estimator, termcolor, keras-preprocessing, google-pasta, protobuf, grpcio, opt-einsum, flatbuffers, absl-py, markdown, oauthlib, requests-oauthlib, cachetools, pyasn1, pyasn1-modules, rsa, google-auth, google-auth-oauthlib, tensorboard-plugin-wit, tensorboard, tensorflow\n",
      "Successfully installed absl-py-0.12.0 astunparse-1.6.3 cachetools-4.2.1 flatbuffers-1.12 gast-0.3.3 google-auth-1.28.0 google-auth-oauthlib-0.4.4 google-pasta-0.2.0 grpcio-1.32.0 keras-preprocessing-1.1.2 markdown-3.3.4 oauthlib-3.1.0 opt-einsum-3.3.0 protobuf-3.15.7 pyasn1-0.4.8 pyasn1-modules-0.2.8 requests-oauthlib-1.3.0 rsa-4.7.2 tensorboard-2.4.1 tensorboard-plugin-wit-1.8.0 tensorflow-2.4.1 tensorflow-estimator-2.4.0 termcolor-1.1.0\n",
      "Note: you may need to restart the kernel to use updated packages.\n"
     ]
    }
   ],
   "source": [
    "pip install tensorflow"
   ]
  },
  {
   "cell_type": "code",
   "execution_count": 7,
   "metadata": {},
   "outputs": [
    {
     "data": {
      "text/html": [
       "<div>\n",
       "<style scoped>\n",
       "    .dataframe tbody tr th:only-of-type {\n",
       "        vertical-align: middle;\n",
       "    }\n",
       "\n",
       "    .dataframe tbody tr th {\n",
       "        vertical-align: top;\n",
       "    }\n",
       "\n",
       "    .dataframe thead th {\n",
       "        text-align: right;\n",
       "    }\n",
       "</style>\n",
       "<table border=\"1\" class=\"dataframe\">\n",
       "  <thead>\n",
       "    <tr style=\"text-align: right;\">\n",
       "      <th></th>\n",
       "      <th>High</th>\n",
       "      <th>Low</th>\n",
       "      <th>Open</th>\n",
       "      <th>Close</th>\n",
       "      <th>Volume</th>\n",
       "      <th>Adj Close</th>\n",
       "    </tr>\n",
       "    <tr>\n",
       "      <th>Date</th>\n",
       "      <th></th>\n",
       "      <th></th>\n",
       "      <th></th>\n",
       "      <th></th>\n",
       "      <th></th>\n",
       "      <th></th>\n",
       "    </tr>\n",
       "  </thead>\n",
       "  <tbody>\n",
       "    <tr>\n",
       "      <th>2012-01-03</th>\n",
       "      <td>14.732143</td>\n",
       "      <td>14.607143</td>\n",
       "      <td>14.621429</td>\n",
       "      <td>14.686786</td>\n",
       "      <td>302220800.0</td>\n",
       "      <td>12.650659</td>\n",
       "    </tr>\n",
       "    <tr>\n",
       "      <th>2012-01-04</th>\n",
       "      <td>14.810000</td>\n",
       "      <td>14.617143</td>\n",
       "      <td>14.642857</td>\n",
       "      <td>14.765714</td>\n",
       "      <td>260022000.0</td>\n",
       "      <td>12.718646</td>\n",
       "    </tr>\n",
       "    <tr>\n",
       "      <th>2012-01-05</th>\n",
       "      <td>14.948214</td>\n",
       "      <td>14.738214</td>\n",
       "      <td>14.819643</td>\n",
       "      <td>14.929643</td>\n",
       "      <td>271269600.0</td>\n",
       "      <td>12.859850</td>\n",
       "    </tr>\n",
       "    <tr>\n",
       "      <th>2012-01-06</th>\n",
       "      <td>15.098214</td>\n",
       "      <td>14.972143</td>\n",
       "      <td>14.991786</td>\n",
       "      <td>15.085714</td>\n",
       "      <td>318292800.0</td>\n",
       "      <td>12.994284</td>\n",
       "    </tr>\n",
       "    <tr>\n",
       "      <th>2012-01-09</th>\n",
       "      <td>15.276786</td>\n",
       "      <td>15.048214</td>\n",
       "      <td>15.196429</td>\n",
       "      <td>15.061786</td>\n",
       "      <td>394024400.0</td>\n",
       "      <td>12.973674</td>\n",
       "    </tr>\n",
       "    <tr>\n",
       "      <th>...</th>\n",
       "      <td>...</td>\n",
       "      <td>...</td>\n",
       "      <td>...</td>\n",
       "      <td>...</td>\n",
       "      <td>...</td>\n",
       "      <td>...</td>\n",
       "    </tr>\n",
       "    <tr>\n",
       "      <th>2021-03-26</th>\n",
       "      <td>121.480003</td>\n",
       "      <td>118.919998</td>\n",
       "      <td>120.349998</td>\n",
       "      <td>121.209999</td>\n",
       "      <td>93958900.0</td>\n",
       "      <td>121.209999</td>\n",
       "    </tr>\n",
       "    <tr>\n",
       "      <th>2021-03-29</th>\n",
       "      <td>122.580002</td>\n",
       "      <td>120.730003</td>\n",
       "      <td>121.650002</td>\n",
       "      <td>121.389999</td>\n",
       "      <td>80819200.0</td>\n",
       "      <td>121.389999</td>\n",
       "    </tr>\n",
       "    <tr>\n",
       "      <th>2021-03-30</th>\n",
       "      <td>120.400002</td>\n",
       "      <td>118.860001</td>\n",
       "      <td>120.110001</td>\n",
       "      <td>119.900002</td>\n",
       "      <td>85671900.0</td>\n",
       "      <td>119.900002</td>\n",
       "    </tr>\n",
       "    <tr>\n",
       "      <th>2021-03-31</th>\n",
       "      <td>123.519997</td>\n",
       "      <td>121.150002</td>\n",
       "      <td>121.650002</td>\n",
       "      <td>122.150002</td>\n",
       "      <td>118323800.0</td>\n",
       "      <td>122.150002</td>\n",
       "    </tr>\n",
       "    <tr>\n",
       "      <th>2021-04-01</th>\n",
       "      <td>124.180000</td>\n",
       "      <td>122.489998</td>\n",
       "      <td>123.660004</td>\n",
       "      <td>123.000000</td>\n",
       "      <td>74957400.0</td>\n",
       "      <td>123.000000</td>\n",
       "    </tr>\n",
       "  </tbody>\n",
       "</table>\n",
       "<p>2327 rows × 6 columns</p>\n",
       "</div>"
      ],
      "text/plain": [
       "                  High         Low        Open       Close       Volume  \\\n",
       "Date                                                                      \n",
       "2012-01-03   14.732143   14.607143   14.621429   14.686786  302220800.0   \n",
       "2012-01-04   14.810000   14.617143   14.642857   14.765714  260022000.0   \n",
       "2012-01-05   14.948214   14.738214   14.819643   14.929643  271269600.0   \n",
       "2012-01-06   15.098214   14.972143   14.991786   15.085714  318292800.0   \n",
       "2012-01-09   15.276786   15.048214   15.196429   15.061786  394024400.0   \n",
       "...                ...         ...         ...         ...          ...   \n",
       "2021-03-26  121.480003  118.919998  120.349998  121.209999   93958900.0   \n",
       "2021-03-29  122.580002  120.730003  121.650002  121.389999   80819200.0   \n",
       "2021-03-30  120.400002  118.860001  120.110001  119.900002   85671900.0   \n",
       "2021-03-31  123.519997  121.150002  121.650002  122.150002  118323800.0   \n",
       "2021-04-01  124.180000  122.489998  123.660004  123.000000   74957400.0   \n",
       "\n",
       "             Adj Close  \n",
       "Date                    \n",
       "2012-01-03   12.650659  \n",
       "2012-01-04   12.718646  \n",
       "2012-01-05   12.859850  \n",
       "2012-01-06   12.994284  \n",
       "2012-01-09   12.973674  \n",
       "...                ...  \n",
       "2021-03-26  121.209999  \n",
       "2021-03-29  121.389999  \n",
       "2021-03-30  119.900002  \n",
       "2021-03-31  122.150002  \n",
       "2021-04-01  123.000000  \n",
       "\n",
       "[2327 rows x 6 columns]"
      ]
     },
     "execution_count": 7,
     "metadata": {},
     "output_type": "execute_result"
    }
   ],
   "source": [
    "#Get the stock quote\n",
    "df  = web.DataReader('AAPL', data_source='yahoo', start='2012-01-01', end='2021-04-02')\n",
    "#Show the data\n",
    "df"
   ]
  },
  {
   "cell_type": "code",
   "execution_count": 8,
   "metadata": {},
   "outputs": [
    {
     "data": {
      "text/plain": [
       "(2327, 6)"
      ]
     },
     "execution_count": 8,
     "metadata": {},
     "output_type": "execute_result"
    }
   ],
   "source": [
    "#Get the number of row and columns in data set\n",
    "df.shape"
   ]
  },
  {
   "cell_type": "code",
   "execution_count": 14,
   "metadata": {},
   "outputs": [
    {
     "data": {
      "image/png": "[encoded data removed]",
      "text/plain": [
       "<Figure size 1152x576 with 1 Axes>"
      ]
     },
     "metadata": {
      "needs_background": "light"
     },
     "output_type": "display_data"
    }
   ],
   "source": [
    "#visualize the closing price history\n",
    "plt.figure(figsize=(16, 8))\n",
    "plt.title('Close Price History')\n",
    "plt.plot(df['Close'])\n",
    "plt.xlabel('Date', fontsize=18)\n",
    "plt.ylabel('Close Price USD ($)', fontsize=18)\n",
    "plt.show()"
   ]
  },
  {
   "cell_type": "code",
   "execution_count": 15,
   "metadata": {},
   "outputs": [
    {
     "data": {
      "text/plain": [
       "1862"
      ]
     },
     "execution_count": 15,
     "metadata": {},
     "output_type": "execute_result"
    }
   ],
   "source": [
    "#Creating a new dataframe with only the 'Close column'\n",
    "data = df.filter(['Close'])\n",
    "#Convert the dataframe to a numpy array\n",
    "dataset = data.values\n",
    "#Get the number of rows to train the model on\n",
    "training_data_len = math.ceil( len(dataset) * .8 )\n",
    "\n",
    "training_data_len\n"
   ]
  },
  {
   "cell_type": "code",
   "execution_count": 17,
   "metadata": {},
   "outputs": [
    {
     "data": {
      "text/plain": [
       "array([[0.00572147],\n",
       "       [0.00633231],\n",
       "       [0.00760099],\n",
       "       ...,\n",
       "       [0.81998644],\n",
       "       [0.83739962],\n",
       "       [0.84397792]])"
      ]
     },
     "execution_count": 17,
     "metadata": {},
     "output_type": "execute_result"
    }
   ],
   "source": [
    "#Scale the data before entered in neural network\n",
    "scaler = MinMaxScaler(feature_range=(0,1))\n",
    "scaled_data = scaler.fit_transform(dataset)\n",
    "    \n",
    "scaled_data"
   ]
  },
  {
   "cell_type": "code",
   "execution_count": 20,
   "metadata": {},
   "outputs": [
    {
     "name": "stdout",
     "output_type": "stream",
     "text": [
      "[array([0.00572147, 0.00633231, 0.00760099, 0.00880885, 0.00862367,\n",
      "       0.00904103, 0.00885031, 0.00852969, 0.00809297, 0.00944457,\n",
      "       0.0106635 , 0.01028759, 0.00822841, 0.01019361, 0.00825882,\n",
      "       0.01551431, 0.01495322, 0.01568568, 0.01726944, 0.01822855,\n",
      "       0.01814839, 0.01785265, 0.01911303, 0.02029878, 0.02164209,\n",
      "       0.02381183, 0.02836966, 0.02843875, 0.03097611, 0.0328722 ,\n",
      "       0.02961346, 0.03086831, 0.03084343, 0.034362  , 0.03386171,\n",
      "       0.03478765, 0.03645157, 0.03737752, 0.04004478, 0.04198786,\n",
      "       0.04254895, 0.0427452 , 0.03942288, 0.03862131, 0.03874017,\n",
      "       0.04186349, 0.04274244, 0.04463025, 0.04908028, 0.05501734,\n",
      "       0.05390621, 0.05390897, 0.05820147, 0.05954478, 0.05858842,\n",
      "       0.05771501, 0.05680565, 0.05982669, 0.0618997 , 0.06276759])]\n",
      "[0.06062272301844436]\n",
      "\n",
      "[array([0.00572147, 0.00633231, 0.00760099, 0.00880885, 0.00862367,\n",
      "       0.00904103, 0.00885031, 0.00852969, 0.00809297, 0.00944457,\n",
      "       0.0106635 , 0.01028759, 0.00822841, 0.01019361, 0.00825882,\n",
      "       0.01551431, 0.01495322, 0.01568568, 0.01726944, 0.01822855,\n",
      "       0.01814839, 0.01785265, 0.01911303, 0.02029878, 0.02164209,\n",
      "       0.02381183, 0.02836966, 0.02843875, 0.03097611, 0.0328722 ,\n",
      "       0.02961346, 0.03086831, 0.03084343, 0.034362  , 0.03386171,\n",
      "       0.03478765, 0.03645157, 0.03737752, 0.04004478, 0.04198786,\n",
      "       0.04254895, 0.0427452 , 0.03942288, 0.03862131, 0.03874017,\n",
      "       0.04186349, 0.04274244, 0.04463025, 0.04908028, 0.05501734,\n",
      "       0.05390621, 0.05390897, 0.05820147, 0.05954478, 0.05858842,\n",
      "       0.05771501, 0.05680565, 0.05982669, 0.0618997 , 0.06276759]), array([0.00633231, 0.00760099, 0.00880885, 0.00862367, 0.00904103,\n",
      "       0.00885031, 0.00852969, 0.00809297, 0.00944457, 0.0106635 ,\n",
      "       0.01028759, 0.00822841, 0.01019361, 0.00825882, 0.01551431,\n",
      "       0.01495322, 0.01568568, 0.01726944, 0.01822855, 0.01814839,\n",
      "       0.01785265, 0.01911303, 0.02029878, 0.02164209, 0.02381183,\n",
      "       0.02836966, 0.02843875, 0.03097611, 0.0328722 , 0.02961346,\n",
      "       0.03086831, 0.03084343, 0.034362  , 0.03386171, 0.03478765,\n",
      "       0.03645157, 0.03737752, 0.04004478, 0.04198786, 0.04254895,\n",
      "       0.0427452 , 0.03942288, 0.03862131, 0.03874017, 0.04186349,\n",
      "       0.04274244, 0.04463025, 0.04908028, 0.05501734, 0.05390621,\n",
      "       0.05390897, 0.05820147, 0.05954478, 0.05858842, 0.05771501,\n",
      "       0.05680565, 0.05982669, 0.0618997 , 0.06276759, 0.06062272])]\n",
      "[0.06062272301844436, 0.05777304791904707]\n",
      "\n"
     ]
    }
   ],
   "source": [
    "#Create the training data set\n",
    "#Create the scaled the training data set\n",
    "train_data = scaled_data[0:training_data_len , :]\n",
    "#Split the data into x_train and y_train data sets\n",
    "x_train = []\n",
    "y_train = []\n",
    "\n",
    "for i in range(60, len(train_data)):\n",
    "    x_train.append(train_data[i-60:i, 0])\n",
    "    y_train.append(train_data[i, 0])\n",
    "    if i <= 61:\n",
    "        print(x_train)\n",
    "        print(y_train)\n",
    "        print()"
   ]
  },
  {
   "cell_type": "code",
   "execution_count": 21,
   "metadata": {},
   "outputs": [],
   "source": [
    "#Convert the x_train and y_train to numpy arrays to train the LSTM model\n",
    "x_train , y_train = np.array(x_train), np.array(y_train)\n"
   ]
  },
  {
   "cell_type": "code",
   "execution_count": 22,
   "metadata": {},
   "outputs": [
    {
     "data": {
      "text/plain": [
       "(1802, 60, 1)"
      ]
     },
     "execution_count": 22,
     "metadata": {},
     "output_type": "execute_result"
    }
   ],
   "source": [
    "#Reshape the x data set to 3D (expected)\n",
    "x_train  = np.reshape(x_train, (x_train.shape[0], x_train.shape[1], 1))\n",
    "x_train.shape\n"
   ]
  },
  {
   "cell_type": "code",
   "execution_count": 24,
   "metadata": {},
   "outputs": [],
   "source": [
    "#Build the LSTM model \n",
    "model = Sequential()\n",
    "model.add(LSTM(50, return_sequences=True, input_shape= (x_train.shape[1], 1)))\n",
    "model.add(LSTM(50, return_sequences= False))\n",
    "model.add(Dense(25))\n",
    "model.add(Dense(1))"
   ]
  },
  {
   "cell_type": "code",
   "execution_count": 26,
   "metadata": {},
   "outputs": [],
   "source": [
    "#Compile the model\n",
    "model.compile(optimizer='adam', loss='mean_squared_error')"
   ]
  },
  {
   "cell_type": "code",
   "execution_count": 27,
   "metadata": {},
   "outputs": [
    {
     "name": "stdout",
     "output_type": "stream",
     "text": [
      "1802/1802 [==============================] - 45s 23ms/step - loss: 7.0840e-04\n"
     ]
    },
    {
     "data": {
      "text/plain": [
       "<tensorflow.python.keras.callbacks.History at 0x7f10d03c7070>"
      ]
     },
     "execution_count": 27,
     "metadata": {},
     "output_type": "execute_result"
    }
   ],
   "source": [
    "#Train the model\n",
    "model.fit(x_train, y_train, batch_size=1, epochs=1)"
   ]
  },
  {
   "cell_type": "code",
   "execution_count": 28,
   "metadata": {},
   "outputs": [],
   "source": [
    "#Create the testing data set\n",
    "#Create a new array containing scaled values from index 1802 to 2003\n",
    "test_data = scaled_data[training_data_len - 60: , :]\n",
    "#Create the data sets x_tests and y_tests\n",
    "x_test = []\n",
    "y_test = dataset[training_data_len:, :]\n",
    "for i in range(60, len(test_data)):\n",
    "    x_test.append(test_data[i-60:i, 0])\n",
    "    "
   ]
  },
  {
   "cell_type": "code",
   "execution_count": 29,
   "metadata": {},
   "outputs": [],
   "source": [
    "#Convert the data into a numpy array\n",
    "x_test = np.array(x_test)"
   ]
  },
  {
   "cell_type": "code",
   "execution_count": 30,
   "metadata": {},
   "outputs": [],
   "source": [
    "#Reshape the data \n",
    "x_test = np.reshape(x_test, (x_test.shape[0], x_test.shape[1], 1))\n"
   ]
  },
  {
   "cell_type": "code",
   "execution_count": 31,
   "metadata": {},
   "outputs": [],
   "source": [
    "#Get the models predicted price values\n",
    "predictions = model.predict(x_test)\n",
    "predictions = scaler.inverse_transform(predictions)"
   ]
  },
  {
   "cell_type": "code",
   "execution_count": 32,
   "metadata": {},
   "outputs": [
    {
     "data": {
      "text/plain": [
       "1.3310619477302796"
      ]
     },
     "execution_count": 32,
     "metadata": {},
     "output_type": "execute_result"
    }
   ],
   "source": [
    "#Get the root mean squared error(RMSE)\n",
    "rmse = np.sqrt( np.mean( predictions - y_test)**2)\n",
    "rmse"
   ]
  },
  {
   "cell_type": "code",
   "execution_count": 36,
   "metadata": {},
   "outputs": [
    {
     "name": "stderr",
     "output_type": "stream",
     "text": [
      "<ipython-input-36-b5d1a35ab357>:4: SettingWithCopyWarning: \n",
      "A value is trying to be set on a copy of a slice from a DataFrame.\n",
      "Try using .loc[row_indexer,col_indexer] = value instead\n",
      "\n",
      "See the caveats in the documentation: https://pandas.pydata.org/pandas-docs/stable/user_guide/indexing.html#returning-a-view-versus-a-copy\n",
      "  valid['Predictions'] = predictions\n"
     ]
    },
    {
     "data": {
      "image/png": "[encoded data removed]",
      "text/plain": [
       "<Figure size 1152x576 with 1 Axes>"
      ]
     },
     "metadata": {
      "needs_background": "light"
     },
     "output_type": "display_data"
    }
   ],
   "source": [
    "#Plot the data\n",
    "train = data[:training_data_len]\n",
    "valid = data[training_data_len:]\n",
    "valid['Predictions'] = predictions\n",
    "#Visualise the model/data\n",
    "plt.figure(figsize=(16,8))\n",
    "plt.title('Model')\n",
    "plt.xlabel('Date', fontsize=18)\n",
    "plt.ylabel('Close Price USD ($)', fontsize=18)\n",
    "plt.plot(train['Close'])\n",
    "plt.plot(valid[['Close', 'Predictions']])\n",
    "plt.legend(['Train', 'Val', 'Predictions'], loc='lower right')\n",
    "plt.show()"
   ]
  },
  {
   "cell_type": "code",
   "execution_count": 37,
   "metadata": {},
   "outputs": [
    {
     "data": {
      "text/html": [
       "<div>\n",
       "<style scoped>\n",
       "    .dataframe tbody tr th:only-of-type {\n",
       "        vertical-align: middle;\n",
       "    }\n",
       "\n",
       "    .dataframe tbody tr th {\n",
       "        vertical-align: top;\n",
       "    }\n",
       "\n",
       "    .dataframe thead th {\n",
       "        text-align: right;\n",
       "    }\n",
       "</style>\n",
       "<table border=\"1\" class=\"dataframe\">\n",
       "  <thead>\n",
       "    <tr style=\"text-align: right;\">\n",
       "      <th></th>\n",
       "      <th>Close</th>\n",
       "      <th>Predictions</th>\n",
       "    </tr>\n",
       "    <tr>\n",
       "      <th>Date</th>\n",
       "      <th></th>\n",
       "      <th></th>\n",
       "    </tr>\n",
       "  </thead>\n",
       "  <tbody>\n",
       "    <tr>\n",
       "      <th>2019-05-30</th>\n",
       "      <td>44.575001</td>\n",
       "      <td>47.501778</td>\n",
       "    </tr>\n",
       "    <tr>\n",
       "      <th>2019-05-31</th>\n",
       "      <td>43.767502</td>\n",
       "      <td>47.201759</td>\n",
       "    </tr>\n",
       "    <tr>\n",
       "      <th>2019-06-03</th>\n",
       "      <td>43.325001</td>\n",
       "      <td>46.891235</td>\n",
       "    </tr>\n",
       "    <tr>\n",
       "      <th>2019-06-04</th>\n",
       "      <td>44.910000</td>\n",
       "      <td>46.561172</td>\n",
       "    </tr>\n",
       "    <tr>\n",
       "      <th>2019-06-05</th>\n",
       "      <td>45.634998</td>\n",
       "      <td>46.419861</td>\n",
       "    </tr>\n",
       "    <tr>\n",
       "      <th>...</th>\n",
       "      <td>...</td>\n",
       "      <td>...</td>\n",
       "    </tr>\n",
       "    <tr>\n",
       "      <th>2021-03-26</th>\n",
       "      <td>121.209999</td>\n",
       "      <td>122.745110</td>\n",
       "    </tr>\n",
       "    <tr>\n",
       "      <th>2021-03-29</th>\n",
       "      <td>121.389999</td>\n",
       "      <td>122.542740</td>\n",
       "    </tr>\n",
       "    <tr>\n",
       "      <th>2021-03-30</th>\n",
       "      <td>119.900002</td>\n",
       "      <td>122.412506</td>\n",
       "    </tr>\n",
       "    <tr>\n",
       "      <th>2021-03-31</th>\n",
       "      <td>122.150002</td>\n",
       "      <td>122.166771</td>\n",
       "    </tr>\n",
       "    <tr>\n",
       "      <th>2021-04-01</th>\n",
       "      <td>123.000000</td>\n",
       "      <td>122.153679</td>\n",
       "    </tr>\n",
       "  </tbody>\n",
       "</table>\n",
       "<p>465 rows × 2 columns</p>\n",
       "</div>"
      ],
      "text/plain": [
       "                 Close  Predictions\n",
       "Date                               \n",
       "2019-05-30   44.575001    47.501778\n",
       "2019-05-31   43.767502    47.201759\n",
       "2019-06-03   43.325001    46.891235\n",
       "2019-06-04   44.910000    46.561172\n",
       "2019-06-05   45.634998    46.419861\n",
       "...                ...          ...\n",
       "2021-03-26  121.209999   122.745110\n",
       "2021-03-29  121.389999   122.542740\n",
       "2021-03-30  119.900002   122.412506\n",
       "2021-03-31  122.150002   122.166771\n",
       "2021-04-01  123.000000   122.153679\n",
       "\n",
       "[465 rows x 2 columns]"
      ]
     },
     "execution_count": 37,
     "metadata": {},
     "output_type": "execute_result"
    }
   ],
   "source": [
    "#Show the valid and the predicted prices\n",
    "valid"
   ]
  },
  {
   "cell_type": "code",
   "execution_count": 41,
   "metadata": {},
   "outputs": [
    {
     "name": "stdout",
     "output_type": "stream",
     "text": [
      "[[122.33431]]\n"
     ]
    }
   ],
   "source": [
    "#Get the quote\n",
    "apple_quote = web.DataReader('AAPL', data_source='yahoo', start='2012-01-01', end='2021-04-01')\n",
    "#Create a dataframe \n",
    "new_df = apple_quote.filter(['Close'])\n",
    "#Get the last 60 days closing price values and convert the dataframe to an array\n",
    "last_60_days = new_df[-60:].values\n",
    "#Scale the data to be values between 0 and 1\n",
    "last_60_days_scaled = scaler.transform(last_60_days)\n",
    "#Create an empty list \n",
    "x_test = []\n",
    "#Append the past 60 days\n",
    "x_test.append(last_60_days_scaled)\n",
    "#Convert the x_test data set to a numpy array\n",
    "x_test = np.array(x_test)\n",
    "#Reshape the data\n",
    "x_test = np.reshape(x_test, (x_test.shape[0], x_test.shape [1], 1))\n",
    "#Get the predicted scaled price\n",
    "pred_price = model.predict(x_test)\n",
    "#undo the scaling\n",
    "pred_price = scaler.inverse_transform(pred_price)\n",
    "print(pred_price)\n"
   ]
  },
  {
   "cell_type": "code",
   "execution_count": 43,
   "metadata": {},
   "outputs": [
    {
     "name": "stdout",
     "output_type": "stream",
     "text": [
      "Date\n",
      "2012-04-09     22.722500\n",
      "2012-04-10     22.444286\n",
      "2012-04-11     22.364286\n",
      "2012-04-12     22.241785\n",
      "2012-04-13     21.615356\n",
      "                 ...    \n",
      "2021-03-26    121.209999\n",
      "2021-03-29    121.389999\n",
      "2021-03-30    119.900002\n",
      "2021-03-31    122.150002\n",
      "2021-04-01    123.000000\n",
      "Name: Close, Length: 2261, dtype: float64\n"
     ]
    }
   ],
   "source": [
    "#Get the quote\n",
    "apple_quote2 = web.DataReader('AAPL', data_source='yahoo', start='2012-04-06', end='2021-04-06')\n",
    "print(apple_quote2['Close'])"
   ]
  }
 ],
 "metadata": {
  "kernelspec": {
   "display_name": "Python 3",
   "language": "python",
   "name": "python3"
  },
  "language_info": {
   "codemirror_mode": {
    "name": "ipython",
    "version": 3
   },
   "file_extension": ".py",
   "mimetype": "text/x-python",
   "name": "python",
   "nbconvert_exporter": "python",
   "pygments_lexer": "ipython3",
   "version": "3.8.5"
  }
 },
 "nbformat": 4,
 "nbformat_minor": 4
}
