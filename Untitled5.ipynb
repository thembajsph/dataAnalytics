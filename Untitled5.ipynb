{
 "cells": [
  {
   "cell_type": "code",
   "execution_count": 2,
   "metadata": {},
   "outputs": [
    {
     "name": "stdout",
     "output_type": "stream",
     "text": [
      "Requirement already satisfied: pyttsx3 in /home/thembajsph/Downloads/anaconda/lib/python3.8/site-packages (2.90)\n",
      "\u001b[31mERROR: Could not find a version that satisfies the requirement pdfplumbler (from versions: none)\u001b[0m\n",
      "\u001b[31mERROR: No matching distribution found for pdfplumbler\u001b[0m\n",
      "Note: you may need to restart the kernel to use updated packages.\n"
     ]
    }
   ],
   "source": [
    "pip install pyttsx3 pdfplumbler PyPDF2"
   ]
  },
  {
   "cell_type": "code",
   "execution_count": 3,
   "metadata": {},
   "outputs": [
    {
     "name": "stdout",
     "output_type": "stream",
     "text": [
      "Collecting PyPDF2\n",
      "  Downloading PyPDF2-1.26.0.tar.gz (77 kB)\n",
      "\u001b[K     |████████████████████████████████| 77 kB 31 kB/s eta 0:00:011\n",
      "\u001b[?25hBuilding wheels for collected packages: PyPDF2\n",
      "  Building wheel for PyPDF2 (setup.py) ... \u001b[?25ldone\n",
      "\u001b[?25h  Created wheel for PyPDF2: filename=PyPDF2-1.26.0-py3-none-any.whl size=61085 sha256=f039a768624d0388bab4e5810fcbf88775b6435eb8faca2d631c5b0bc1a2636b\n",
      "  Stored in directory: /home/thembajsph/.cache/pip/wheels/b1/1a/8f/a4c34be976825a2f7948d0fa40907598d69834f8ab5889de11\n",
      "Successfully built PyPDF2\n",
      "Installing collected packages: PyPDF2\n",
      "Successfully installed PyPDF2-1.26.0\n",
      "Note: you may need to restart the kernel to use updated packages.\n"
     ]
    }
   ],
   "source": [
    "pip install PyPDF2"
   ]
  },
  {
   "cell_type": "code",
   "execution_count": 4,
   "metadata": {},
   "outputs": [
    {
     "name": "stdout",
     "output_type": "stream",
     "text": [
      "\u001b[31mERROR: Could not find a version that satisfies the requirement pdfplumbler (from versions: none)\u001b[0m\n",
      "\u001b[31mERROR: No matching distribution found for pdfplumbler\u001b[0m\n",
      "Note: you may need to restart the kernel to use updated packages.\n"
     ]
    }
   ],
   "source": [
    "pip install pdfplumbler\n"
   ]
  },
  {
   "cell_type": "code",
   "execution_count": null,
   "metadata": {},
   "outputs": [
    {
     "name": "stdout",
     "output_type": "stream",
     "text": [
      "Collecting pdfplumber\n",
      "  Using cached pdfplumber-0.5.27.tar.gz (44 kB)\n",
      "Collecting pdfminer.six==20200517\n",
      "  Downloading pdfminer.six-20200517-py3-none-any.whl (5.6 MB)\n",
      "\u001b[K     |████████████████████████████████| 5.6 MB 77 kB/s eta 0:00:012\n",
      "\u001b[?25hRequirement already satisfied: Pillow>=7.0.0 in /home/thembajsph/Downloads/anaconda/lib/python3.8/site-packages (from pdfplumber) (8.0.1)\n",
      "Collecting Wand\n",
      "  Downloading Wand-0.6.6-py2.py3-none-any.whl (138 kB)\n",
      "\u001b[K     |████████████████████████████████| 138 kB 89 kB/s eta 0:00:01\n",
      "\u001b[?25hCollecting pycryptodome\n",
      "  Downloading pycryptodome-3.10.1-cp35-abi3-manylinux2010_x86_64.whl (1.9 MB)\n",
      "\u001b[K     |████████████████████████████████| 1.9 MB 63 kB/s eta 0:00:01\n",
      "\u001b[?25hRequirement already satisfied: sortedcontainers in /home/thembajsph/Downloads/anaconda/lib/python3.8/site-packages (from pdfminer.six==20200517->pdfplumber) (2.2.2)\n",
      "Requirement already satisfied: chardet; python_version > \"3.0\" in /home/thembajsph/Downloads/anaconda/lib/python3.8/site-packages (from pdfminer.six==20200517->pdfplumber) (3.0.4)\n",
      "Building wheels for collected packages: pdfplumber\n",
      "  Building wheel for pdfplumber (setup.py) ... \u001b[?25ldone\n",
      "\u001b[?25h  Created wheel for pdfplumber: filename=pdfplumber-0.5.27-py3-none-any.whl size=32067 sha256=d1ab11c787ed591d16b080adf91ddd5bed651310134df3c65a3cf7e388a09f54\n",
      "  Stored in directory: /home/thembajsph/.cache/pip/wheels/21/23/6a/6d6552adcb2dece89cca023ebea2bdae649e2faf58fde6c075\n",
      "Successfully built pdfplumber\n",
      "Installing collected packages: pycryptodome, pdfminer.six, Wand, pdfplumber\n"
     ]
    }
   ],
   "source": [
    "pip install pdfplumber"
   ]
  }
 ],
 "metadata": {
  "kernelspec": {
   "display_name": "Python 3",
   "language": "python",
   "name": "python3"
  },
  "language_info": {
   "codemirror_mode": {
    "name": "ipython",
    "version": 3
   },
   "file_extension": ".py",
   "mimetype": "text/x-python",
   "name": "python",
   "nbconvert_exporter": "python",
   "pygments_lexer": "ipython3",
   "version": "3.8.5"
  }
 },
 "nbformat": 4,
 "nbformat_minor": 4
}
