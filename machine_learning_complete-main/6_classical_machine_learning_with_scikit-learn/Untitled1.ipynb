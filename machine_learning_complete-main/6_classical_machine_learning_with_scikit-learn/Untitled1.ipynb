{
 "cells": [
  {
   "cell_type": "code",
   "execution_count": null,
   "metadata": {},
   "outputs": [],
   "source": [
    "#Support Vector Machines (SVM) - Intro and SVM for Regression"
   ]
  },
  {
   "cell_type": "code",
   "execution_count": 1,
   "metadata": {},
   "outputs": [],
   "source": [
    "import numpy as np\n",
    "import pandas as pd\n",
    "import seaborn as sns\n",
    "import urllib.request\n",
    "import sklearn\n",
    "import matplotlib.pyplot as plt\n",
    "%matplotlib inline"
   ]
  },
  {
   "cell_type": "code",
   "execution_count": 2,
   "metadata": {},
   "outputs": [],
   "source": [
    "data_path = 'https://raw.githubusercontent.com/nyandwi/public_datasets/master/housing.csv'\n",
    "\n",
    "# This require internet \n",
    "\n",
    "def download_read_data(path):\n",
    "    \n",
    "    \"\"\"\n",
    "     Function to retrive data from the data paths\n",
    "     And to read the data as a pandas dataframe\n",
    "  \n",
    "    To return the dataframe\n",
    "    \"\"\" \n",
    "    \n",
    "      ## Only retrieve the directory of the data\n",
    "\n",
    "    data_path =  urllib.request.urlretrieve(path)[0]\n",
    "    data = pd.read_csv(path)\n",
    "    \n",
    "    return data"
   ]
  },
  {
   "cell_type": "code",
   "execution_count": 3,
   "metadata": {},
   "outputs": [
    {
     "data": {
      "text/html": [
       "<div>\n",
       "<style scoped>\n",
       "    .dataframe tbody tr th:only-of-type {\n",
       "        vertical-align: middle;\n",
       "    }\n",
       "\n",
       "    .dataframe tbody tr th {\n",
       "        vertical-align: top;\n",
       "    }\n",
       "\n",
       "    .dataframe thead th {\n",
       "        text-align: right;\n",
       "    }\n",
       "</style>\n",
       "<table border=\"1\" class=\"dataframe\">\n",
       "  <thead>\n",
       "    <tr style=\"text-align: right;\">\n",
       "      <th></th>\n",
       "      <th>longitude</th>\n",
       "      <th>latitude</th>\n",
       "      <th>housing_median_age</th>\n",
       "      <th>total_rooms</th>\n",
       "      <th>total_bedrooms</th>\n",
       "      <th>population</th>\n",
       "      <th>households</th>\n",
       "      <th>median_income</th>\n",
       "      <th>median_house_value</th>\n",
       "      <th>ocean_proximity</th>\n",
       "    </tr>\n",
       "  </thead>\n",
       "  <tbody>\n",
       "    <tr>\n",
       "      <th>0</th>\n",
       "      <td>-122.23</td>\n",
       "      <td>37.88</td>\n",
       "      <td>41.0</td>\n",
       "      <td>880.0</td>\n",
       "      <td>129.0</td>\n",
       "      <td>322.0</td>\n",
       "      <td>126.0</td>\n",
       "      <td>8.3252</td>\n",
       "      <td>452600.0</td>\n",
       "      <td>NEAR BAY</td>\n",
       "    </tr>\n",
       "    <tr>\n",
       "      <th>1</th>\n",
       "      <td>-122.22</td>\n",
       "      <td>37.86</td>\n",
       "      <td>21.0</td>\n",
       "      <td>7099.0</td>\n",
       "      <td>1106.0</td>\n",
       "      <td>2401.0</td>\n",
       "      <td>1138.0</td>\n",
       "      <td>8.3014</td>\n",
       "      <td>358500.0</td>\n",
       "      <td>NEAR BAY</td>\n",
       "    </tr>\n",
       "    <tr>\n",
       "      <th>2</th>\n",
       "      <td>-122.24</td>\n",
       "      <td>37.85</td>\n",
       "      <td>52.0</td>\n",
       "      <td>1467.0</td>\n",
       "      <td>190.0</td>\n",
       "      <td>496.0</td>\n",
       "      <td>177.0</td>\n",
       "      <td>7.2574</td>\n",
       "      <td>352100.0</td>\n",
       "      <td>NEAR BAY</td>\n",
       "    </tr>\n",
       "    <tr>\n",
       "      <th>3</th>\n",
       "      <td>-122.25</td>\n",
       "      <td>37.85</td>\n",
       "      <td>52.0</td>\n",
       "      <td>1274.0</td>\n",
       "      <td>235.0</td>\n",
       "      <td>558.0</td>\n",
       "      <td>219.0</td>\n",
       "      <td>5.6431</td>\n",
       "      <td>341300.0</td>\n",
       "      <td>NEAR BAY</td>\n",
       "    </tr>\n",
       "    <tr>\n",
       "      <th>4</th>\n",
       "      <td>-122.25</td>\n",
       "      <td>37.85</td>\n",
       "      <td>52.0</td>\n",
       "      <td>1627.0</td>\n",
       "      <td>280.0</td>\n",
       "      <td>565.0</td>\n",
       "      <td>259.0</td>\n",
       "      <td>3.8462</td>\n",
       "      <td>342200.0</td>\n",
       "      <td>NEAR BAY</td>\n",
       "    </tr>\n",
       "  </tbody>\n",
       "</table>\n",
       "</div>"
      ],
      "text/plain": [
       "   longitude  latitude  housing_median_age  total_rooms  total_bedrooms  \\\n",
       "0    -122.23     37.88                41.0        880.0           129.0   \n",
       "1    -122.22     37.86                21.0       7099.0          1106.0   \n",
       "2    -122.24     37.85                52.0       1467.0           190.0   \n",
       "3    -122.25     37.85                52.0       1274.0           235.0   \n",
       "4    -122.25     37.85                52.0       1627.0           280.0   \n",
       "\n",
       "   population  households  median_income  median_house_value ocean_proximity  \n",
       "0       322.0       126.0         8.3252            452600.0        NEAR BAY  \n",
       "1      2401.0      1138.0         8.3014            358500.0        NEAR BAY  \n",
       "2       496.0       177.0         7.2574            352100.0        NEAR BAY  \n",
       "3       558.0       219.0         5.6431            341300.0        NEAR BAY  \n",
       "4       565.0       259.0         3.8462            342200.0        NEAR BAY  "
      ]
     },
     "execution_count": 3,
     "metadata": {},
     "output_type": "execute_result"
    }
   ],
   "source": [
    "cal_data = download_read_data(data_path)\n",
    "cal_data.head()"
   ]
  },
  {
   "cell_type": "code",
   "execution_count": 4,
   "metadata": {},
   "outputs": [
    {
     "data": {
      "text/plain": [
       "20640"
      ]
     },
     "execution_count": 4,
     "metadata": {},
     "output_type": "execute_result"
    }
   ],
   "source": [
    "len(cal_data)"
   ]
  },
  {
   "cell_type": "code",
   "execution_count": 5,
   "metadata": {},
   "outputs": [
    {
     "name": "stdout",
     "output_type": "stream",
     "text": [
      "The size of training data is: 18576 \n",
      "The size of testing data is: 2064\n"
     ]
    }
   ],
   "source": [
    "from sklearn.model_selection import train_test_split\n",
    "\n",
    "train_data, test_data = train_test_split(cal_data, test_size=0.1,random_state=20)\n",
    "\n",
    "print('The size of training data is: {} \\nThe size of testing data is: {}'.format(len(train_data), len(test_data)))"
   ]
  },
  {
   "cell_type": "code",
   "execution_count": 6,
   "metadata": {},
   "outputs": [
    {
     "data": {
      "text/html": [
       "<div>\n",
       "<style scoped>\n",
       "    .dataframe tbody tr th:only-of-type {\n",
       "        vertical-align: middle;\n",
       "    }\n",
       "\n",
       "    .dataframe tbody tr th {\n",
       "        vertical-align: top;\n",
       "    }\n",
       "\n",
       "    .dataframe thead th {\n",
       "        text-align: right;\n",
       "    }\n",
       "</style>\n",
       "<table border=\"1\" class=\"dataframe\">\n",
       "  <thead>\n",
       "    <tr style=\"text-align: right;\">\n",
       "      <th></th>\n",
       "      <th>count</th>\n",
       "      <th>mean</th>\n",
       "      <th>std</th>\n",
       "      <th>min</th>\n",
       "      <th>25%</th>\n",
       "      <th>50%</th>\n",
       "      <th>75%</th>\n",
       "      <th>max</th>\n",
       "    </tr>\n",
       "  </thead>\n",
       "  <tbody>\n",
       "    <tr>\n",
       "      <th>longitude</th>\n",
       "      <td>18576.0</td>\n",
       "      <td>-119.567530</td>\n",
       "      <td>2.000581</td>\n",
       "      <td>-124.3500</td>\n",
       "      <td>-121.7900</td>\n",
       "      <td>-118.4900</td>\n",
       "      <td>-118.010000</td>\n",
       "      <td>-114.4900</td>\n",
       "    </tr>\n",
       "    <tr>\n",
       "      <th>latitude</th>\n",
       "      <td>18576.0</td>\n",
       "      <td>35.630217</td>\n",
       "      <td>2.133260</td>\n",
       "      <td>32.5400</td>\n",
       "      <td>33.9300</td>\n",
       "      <td>34.2600</td>\n",
       "      <td>37.710000</td>\n",
       "      <td>41.9500</td>\n",
       "    </tr>\n",
       "    <tr>\n",
       "      <th>housing_median_age</th>\n",
       "      <td>18576.0</td>\n",
       "      <td>28.661068</td>\n",
       "      <td>12.604039</td>\n",
       "      <td>1.0000</td>\n",
       "      <td>18.0000</td>\n",
       "      <td>29.0000</td>\n",
       "      <td>37.000000</td>\n",
       "      <td>52.0000</td>\n",
       "    </tr>\n",
       "    <tr>\n",
       "      <th>total_rooms</th>\n",
       "      <td>18576.0</td>\n",
       "      <td>2631.567453</td>\n",
       "      <td>2169.467450</td>\n",
       "      <td>2.0000</td>\n",
       "      <td>1445.0000</td>\n",
       "      <td>2127.0000</td>\n",
       "      <td>3149.000000</td>\n",
       "      <td>39320.0000</td>\n",
       "    </tr>\n",
       "    <tr>\n",
       "      <th>total_bedrooms</th>\n",
       "      <td>18390.0</td>\n",
       "      <td>537.344698</td>\n",
       "      <td>417.672864</td>\n",
       "      <td>1.0000</td>\n",
       "      <td>295.0000</td>\n",
       "      <td>435.0000</td>\n",
       "      <td>648.000000</td>\n",
       "      <td>6445.0000</td>\n",
       "    </tr>\n",
       "    <tr>\n",
       "      <th>population</th>\n",
       "      <td>18576.0</td>\n",
       "      <td>1422.408376</td>\n",
       "      <td>1105.486111</td>\n",
       "      <td>3.0000</td>\n",
       "      <td>785.7500</td>\n",
       "      <td>1166.0000</td>\n",
       "      <td>1725.000000</td>\n",
       "      <td>28566.0000</td>\n",
       "    </tr>\n",
       "    <tr>\n",
       "      <th>households</th>\n",
       "      <td>18576.0</td>\n",
       "      <td>499.277078</td>\n",
       "      <td>379.473497</td>\n",
       "      <td>1.0000</td>\n",
       "      <td>279.0000</td>\n",
       "      <td>410.0000</td>\n",
       "      <td>606.000000</td>\n",
       "      <td>6082.0000</td>\n",
       "    </tr>\n",
       "    <tr>\n",
       "      <th>median_income</th>\n",
       "      <td>18576.0</td>\n",
       "      <td>3.870053</td>\n",
       "      <td>1.900225</td>\n",
       "      <td>0.4999</td>\n",
       "      <td>2.5643</td>\n",
       "      <td>3.5341</td>\n",
       "      <td>4.742725</td>\n",
       "      <td>15.0001</td>\n",
       "    </tr>\n",
       "    <tr>\n",
       "      <th>median_house_value</th>\n",
       "      <td>18576.0</td>\n",
       "      <td>206881.011305</td>\n",
       "      <td>115237.605962</td>\n",
       "      <td>14999.0000</td>\n",
       "      <td>120000.0000</td>\n",
       "      <td>179800.0000</td>\n",
       "      <td>264700.000000</td>\n",
       "      <td>500001.0000</td>\n",
       "    </tr>\n",
       "  </tbody>\n",
       "</table>\n",
       "</div>"
      ],
      "text/plain": [
       "                      count           mean            std         min  \\\n",
       "longitude           18576.0    -119.567530       2.000581   -124.3500   \n",
       "latitude            18576.0      35.630217       2.133260     32.5400   \n",
       "housing_median_age  18576.0      28.661068      12.604039      1.0000   \n",
       "total_rooms         18576.0    2631.567453    2169.467450      2.0000   \n",
       "total_bedrooms      18390.0     537.344698     417.672864      1.0000   \n",
       "population          18576.0    1422.408376    1105.486111      3.0000   \n",
       "households          18576.0     499.277078     379.473497      1.0000   \n",
       "median_income       18576.0       3.870053       1.900225      0.4999   \n",
       "median_house_value  18576.0  206881.011305  115237.605962  14999.0000   \n",
       "\n",
       "                            25%          50%            75%          max  \n",
       "longitude             -121.7900    -118.4900    -118.010000    -114.4900  \n",
       "latitude                33.9300      34.2600      37.710000      41.9500  \n",
       "housing_median_age      18.0000      29.0000      37.000000      52.0000  \n",
       "total_rooms           1445.0000    2127.0000    3149.000000   39320.0000  \n",
       "total_bedrooms         295.0000     435.0000     648.000000    6445.0000  \n",
       "population             785.7500    1166.0000    1725.000000   28566.0000  \n",
       "households             279.0000     410.0000     606.000000    6082.0000  \n",
       "median_income            2.5643       3.5341       4.742725      15.0001  \n",
       "median_house_value  120000.0000  179800.0000  264700.000000  500001.0000  "
      ]
     },
     "execution_count": 6,
     "metadata": {},
     "output_type": "execute_result"
    }
   ],
   "source": [
    "## Checking statistics\n",
    "\n",
    "train_data.describe().transpose()"
   ]
  },
  {
   "cell_type": "code",
   "execution_count": 7,
   "metadata": {},
   "outputs": [
    {
     "data": {
      "text/plain": [
       "longitude               0\n",
       "latitude                0\n",
       "housing_median_age      0\n",
       "total_rooms             0\n",
       "total_bedrooms        186\n",
       "population              0\n",
       "households              0\n",
       "median_income           0\n",
       "median_house_value      0\n",
       "ocean_proximity         0\n",
       "dtype: int64"
      ]
     },
     "execution_count": 7,
     "metadata": {},
     "output_type": "execute_result"
    }
   ],
   "source": [
    "## Checking missing values\n",
    "\n",
    "train_data.isnull().sum()"
   ]
  },
  {
   "cell_type": "code",
   "execution_count": null,
   "metadata": {},
   "outputs": [],
   "source": [
    "#4 - Data Preprocessing"
   ]
  },
  {
   "cell_type": "code",
   "execution_count": 8,
   "metadata": {},
   "outputs": [],
   "source": [
    "# Getting training input data and labels\n",
    "\n",
    "training_input_data = train_data.drop('median_house_value', axis=1)\n",
    "training_labels = train_data['median_house_value']\n",
    "\n",
    "# Numerical features \n",
    "\n",
    "num_feats = training_input_data.drop('ocean_proximity', axis=1)\n",
    "\n",
    "# Categorical features \n",
    "cat_feats = training_input_data[['ocean_proximity']]"
   ]
  },
  {
   "cell_type": "code",
   "execution_count": 9,
   "metadata": {},
   "outputs": [],
   "source": [
    "# Handle missing values \n",
    "\n",
    "from sklearn.pipeline import Pipeline \n",
    "from sklearn.impute import SimpleImputer\n",
    "from sklearn.preprocessing import StandardScaler\n",
    "\n",
    "num_pipe = Pipeline([\n",
    "      ('imputer', SimpleImputer(strategy='mean')),\n",
    "      ('scaler', StandardScaler())\n",
    "\n",
    "    ])\n",
    "\n",
    "num_preprocessed = num_pipe.fit_transform(num_feats)"
   ]
  },
  {
   "cell_type": "code",
   "execution_count": 10,
   "metadata": {},
   "outputs": [],
   "source": [
    "# Pipeline to combine the numerical pipeline and also encode categorical features \n",
    "from sklearn.compose import ColumnTransformer\n",
    "from sklearn.preprocessing import OneHotEncoder\n",
    "\n",
    "# The transformer requires lists of features\n",
    "\n",
    "num_list = list(num_feats)\n",
    "cat_list = list(cat_feats)\n",
    "\n",
    "final_pipe = ColumnTransformer([\n",
    "    ('num', num_pipe, num_list),\n",
    "    ('cat', OneHotEncoder(), cat_list)\n",
    "])\n",
    "\n",
    "training_data_preprocessed = final_pipe.fit_transform(training_input_data)"
   ]
  },
  {
   "cell_type": "code",
   "execution_count": 11,
   "metadata": {},
   "outputs": [
    {
     "data": {
      "text/plain": [
       "array([[ 0.67858615, -0.85796668,  0.97899282, ...,  0.        ,\n",
       "         0.        ,  1.        ],\n",
       "       [-0.93598814,  0.41242353,  0.18557502, ...,  0.        ,\n",
       "         0.        ,  0.        ],\n",
       "       [-1.45585107,  0.9187045 ,  0.02689146, ...,  0.        ,\n",
       "         0.        ,  1.        ],\n",
       "       ...,\n",
       "       [ 1.27342931, -1.32674535,  0.18557502, ...,  0.        ,\n",
       "         0.        ,  0.        ],\n",
       "       [ 0.64859406, -0.71733307,  0.97899282, ...,  0.        ,\n",
       "         0.        ,  0.        ],\n",
       "       [-1.44085502,  1.01246024,  1.37570172, ...,  0.        ,\n",
       "         1.        ,  0.        ]])"
      ]
     },
     "execution_count": 11,
     "metadata": {},
     "output_type": "execute_result"
    }
   ],
   "source": [
    "training_data_preprocessed"
   ]
  },
  {
   "cell_type": "code",
   "execution_count": null,
   "metadata": {},
   "outputs": [],
   "source": [
    "#5 - Training Support Vector Regressor"
   ]
  },
  {
   "cell_type": "code",
   "execution_count": 12,
   "metadata": {},
   "outputs": [],
   "source": [
    "from sklearn.svm import LinearSVR, SVR"
   ]
  },
  {
   "cell_type": "code",
   "execution_count": 13,
   "metadata": {},
   "outputs": [
    {
     "data": {
      "text/plain": [
       "LinearSVR()"
      ]
     },
     "execution_count": 13,
     "metadata": {},
     "output_type": "execute_result"
    }
   ],
   "source": [
    "lin_svr = LinearSVR()\n",
    "lin_svr.fit(training_data_preprocessed, training_labels)"
   ]
  },
  {
   "cell_type": "code",
   "execution_count": 14,
   "metadata": {},
   "outputs": [
    {
     "data": {
      "text/plain": [
       "SVR(kernel='poly')"
      ]
     },
     "execution_count": 14,
     "metadata": {},
     "output_type": "execute_result"
    }
   ],
   "source": [
    "poly_svr = SVR(kernel='poly')\n",
    "poly_svr.fit(training_data_preprocessed, training_labels)"
   ]
  },
  {
   "cell_type": "code",
   "execution_count": null,
   "metadata": {},
   "outputs": [],
   "source": [
    "#6 - Evaluating Support Vector Regressor"
   ]
  },
  {
   "cell_type": "code",
   "execution_count": 15,
   "metadata": {},
   "outputs": [
    {
     "data": {
      "text/plain": [
       "215682.86713461558"
      ]
     },
     "execution_count": 15,
     "metadata": {},
     "output_type": "execute_result"
    }
   ],
   "source": [
    "from sklearn.metrics import mean_squared_error\n",
    "\n",
    "predictions = lin_svr.predict(training_data_preprocessed)\n",
    "mse = mean_squared_error(training_labels, predictions)\n",
    "rmse = np.sqrt(mse)\n",
    "rmse"
   ]
  },
  {
   "cell_type": "code",
   "execution_count": 16,
   "metadata": {},
   "outputs": [
    {
     "data": {
      "text/plain": [
       "117513.38828582528"
      ]
     },
     "execution_count": 16,
     "metadata": {},
     "output_type": "execute_result"
    }
   ],
   "source": [
    "predictions = poly_svr.predict(training_data_preprocessed)\n",
    "mse = mean_squared_error(training_labels, predictions)\n",
    "rmse = np.sqrt(mse)\n",
    "rmse"
   ]
  },
  {
   "cell_type": "code",
   "execution_count": 17,
   "metadata": {},
   "outputs": [
    {
     "name": "stdout",
     "output_type": "stream",
     "text": [
      "Fitting 3 folds for each of 10 candidates, totalling 30 fits\n",
      "[CV] END .............C=1, degree=2, epsilon=0, gamma=0.0001; total time=  15.7s\n",
      "[CV] END .............C=1, degree=2, epsilon=0, gamma=0.0001; total time=  15.5s\n",
      "[CV] END .............C=1, degree=2, epsilon=0, gamma=0.0001; total time=  16.8s\n",
      "[CV] END ................C=1, degree=2, epsilon=0, gamma=0.1; total time=  16.4s\n",
      "[CV] END ................C=1, degree=2, epsilon=0, gamma=0.1; total time=  16.5s\n",
      "[CV] END ................C=1, degree=2, epsilon=0, gamma=0.1; total time=  16.2s\n",
      "[CV] END ................C=1, degree=5, epsilon=0, gamma=0.1; total time=  16.9s\n",
      "[CV] END ................C=1, degree=5, epsilon=0, gamma=0.1; total time=  16.5s\n",
      "[CV] END ................C=1, degree=5, epsilon=0, gamma=0.1; total time=  16.3s\n",
      "[CV] END ........C=1000, degree=5, epsilon=0.5, gamma=0.0001; total time=  15.7s\n",
      "[CV] END ........C=1000, degree=5, epsilon=0.5, gamma=0.0001; total time=  16.6s\n",
      "[CV] END ........C=1000, degree=5, epsilon=0.5, gamma=0.0001; total time=  15.9s\n",
      "[CV] END .............C=1000, degree=5, epsilon=0, gamma=0.1; total time=  15.2s\n",
      "[CV] END .............C=1000, degree=5, epsilon=0, gamma=0.1; total time=  15.9s\n",
      "[CV] END .............C=1000, degree=5, epsilon=0, gamma=0.1; total time=  15.1s\n",
      "[CV] END ...........C=1000, degree=2, epsilon=0.5, gamma=0.1; total time=  14.5s\n",
      "[CV] END ...........C=1000, degree=2, epsilon=0.5, gamma=0.1; total time=  14.6s\n",
      "[CV] END ...........C=1000, degree=2, epsilon=0.5, gamma=0.1; total time=  16.5s\n",
      "[CV] END ..........C=1000, degree=2, epsilon=0, gamma=0.0001; total time=  22.6s\n",
      "[CV] END ..........C=1000, degree=2, epsilon=0, gamma=0.0001; total time=  19.5s\n",
      "[CV] END ..........C=1000, degree=2, epsilon=0, gamma=0.0001; total time=  19.2s\n",
      "[CV] END .............C=1000, degree=2, epsilon=0, gamma=0.1; total time=  17.7s\n",
      "[CV] END .............C=1000, degree=2, epsilon=0, gamma=0.1; total time=  15.8s\n",
      "[CV] END .............C=1000, degree=2, epsilon=0, gamma=0.1; total time=  20.4s\n",
      "[CV] END ...........C=1, degree=2, epsilon=0.5, gamma=0.0001; total time=  20.5s\n",
      "[CV] END ...........C=1, degree=2, epsilon=0.5, gamma=0.0001; total time=  19.4s\n",
      "[CV] END ...........C=1, degree=2, epsilon=0.5, gamma=0.0001; total time=  20.5s\n",
      "[CV] END ...........C=1000, degree=5, epsilon=0.5, gamma=0.1; total time=  20.2s\n",
      "[CV] END ...........C=1000, degree=5, epsilon=0.5, gamma=0.1; total time=  18.8s\n",
      "[CV] END ...........C=1000, degree=5, epsilon=0.5, gamma=0.1; total time=  15.8s\n"
     ]
    },
    {
     "data": {
      "text/plain": [
       "RandomizedSearchCV(cv=3, estimator=SVR(),\n",
       "                   param_distributions={'C': [1, 1000], 'degree': [2, 5],\n",
       "                                        'epsilon': [0, 0.5],\n",
       "                                        'gamma': [0.0001, 0.1]},\n",
       "                   random_state=42, verbose=2)"
      ]
     },
     "execution_count": 17,
     "metadata": {},
     "output_type": "execute_result"
    }
   ],
   "source": [
    "from sklearn.model_selection import RandomizedSearchCV\n",
    "\n",
    "\n",
    "params = {'gamma':[0.0001, 0.1],'C':[1,1000], 'epsilon':[0,0.5], 'degree':[2,5]}\n",
    "\n",
    "rnd_search = RandomizedSearchCV(SVR(), params, n_iter=10, verbose=2, cv=3, random_state=42)\n",
    "\n",
    "rnd_search.fit(training_data_preprocessed, training_labels)"
   ]
  },
  {
   "cell_type": "code",
   "execution_count": 18,
   "metadata": {},
   "outputs": [
    {
     "data": {
      "text/plain": [
       "{'gamma': 0.1, 'epsilon': 0, 'degree': 5, 'C': 1000}"
      ]
     },
     "execution_count": 18,
     "metadata": {},
     "output_type": "execute_result"
    }
   ],
   "source": [
    "rnd_search.best_params_"
   ]
  },
  {
   "cell_type": "code",
   "execution_count": 19,
   "metadata": {},
   "outputs": [],
   "source": [
    "svr_rnd = rnd_search.best_estimator_.fit(training_data_preprocessed, training_labels)"
   ]
  },
  {
   "cell_type": "code",
   "execution_count": 20,
   "metadata": {},
   "outputs": [
    {
     "data": {
      "text/plain": [
       "68684.15262765526"
      ]
     },
     "execution_count": 20,
     "metadata": {},
     "output_type": "execute_result"
    }
   ],
   "source": [
    "predictions = svr_rnd.predict(training_data_preprocessed)\n",
    "mse = mean_squared_error(training_labels, predictions)\n",
    "rmse = np.sqrt(mse)\n",
    "rmse"
   ]
  },
  {
   "cell_type": "code",
   "execution_count": 21,
   "metadata": {},
   "outputs": [],
   "source": [
    "test_input_data = test_data.drop('median_house_value', axis=1)\n",
    "test_labels = test_data['median_house_value']\n",
    "\n",
    "\n",
    "test_preprocessed = final_pipe.transform(test_input_data)"
   ]
  },
  {
   "cell_type": "code",
   "execution_count": 22,
   "metadata": {},
   "outputs": [
    {
     "data": {
      "text/plain": [
       "68478.07737338323"
      ]
     },
     "execution_count": 22,
     "metadata": {},
     "output_type": "execute_result"
    }
   ],
   "source": [
    "test_pred = svr_rnd.predict(test_preprocessed)\n",
    "test_mse = mean_squared_error(test_labels,test_pred)\n",
    "\n",
    "test_rmse = np.sqrt(test_mse)\n",
    "test_rmse"
   ]
  },
  {
   "cell_type": "code",
   "execution_count": null,
   "metadata": {},
   "outputs": [],
   "source": []
  }
 ],
 "metadata": {
  "kernelspec": {
   "display_name": "Python 3",
   "language": "python",
   "name": "python3"
  },
  "language_info": {
   "codemirror_mode": {
    "name": "ipython",
    "version": 3
   },
   "file_extension": ".py",
   "mimetype": "text/x-python",
   "name": "python",
   "nbconvert_exporter": "python",
   "pygments_lexer": "ipython3",
   "version": "3.8.5"
  }
 },
 "nbformat": 4,
 "nbformat_minor": 4
}
