{
 "cells": [
  {
   "cell_type": "code",
   "execution_count": null,
   "metadata": {},
   "outputs": [],
   "source": [
    "#Using Convolutional Neural Networks for Texts Classification"
   ]
  },
  {
   "cell_type": "code",
   "execution_count": null,
   "metadata": {},
   "outputs": [],
   "source": [
    "#CNN's for Texts In Practice: News Classification"
   ]
  },
  {
   "cell_type": "code",
   "execution_count": null,
   "metadata": {},
   "outputs": [],
   "source": [
    "#Getting the Data"
   ]
  },
  {
   "cell_type": "code",
   "execution_count": 1,
   "metadata": {},
   "outputs": [],
   "source": [
    "import tensorflow as tf\n",
    "from tensorflow import keras\n",
    "import tensorflow_datasets as tfds\n",
    "import numpy as np\n",
    "import pandas as pd"
   ]
  },
  {
   "cell_type": "code",
   "execution_count": 2,
   "metadata": {},
   "outputs": [],
   "source": [
    "(train_data, val_data), info = tfds.load('ag_news_subset:1.0.0', #version 1.0.0\n",
    "                                         split=['train[:90%]', 'train[90%:]+test'],\n",
    "                                         with_info=True, \n",
    "                                         as_supervised=True\n",
    ")"
   ]
  },
  {
   "cell_type": "code",
   "execution_count": 3,
   "metadata": {},
   "outputs": [
    {
     "name": "stdout",
     "output_type": "stream",
     "text": [
      "tfds.core.DatasetInfo(\n",
      "    name='ag_news_subset',\n",
      "    full_name='ag_news_subset/1.0.0',\n",
      "    description=\"\"\"\n",
      "    AG is a collection of more than 1 million news articles.\n",
      "    News articles have been gathered from more than 2000  news sources by ComeToMyHead in more than 1 year of activity.\n",
      "    ComeToMyHead is an academic news search engine which has been running since July, 2004.\n",
      "    The dataset is provided by the academic comunity for research purposes in data mining (clustering, classification, etc),\n",
      "    information retrieval (ranking, search, etc), xml, data compression, data streaming,\n",
      "    and any other non-commercial activity.\n",
      "    For more information, please refer to the link http://www.di.unipi.it/~gulli/AG_corpus_of_news_articles.html .\n",
      "    \n",
      "    The AG's news topic classification dataset is constructed by Xiang Zhang (xiang.zhang@nyu.edu) from the dataset above.\n",
      "    It is used as a text classification benchmark in the following paper:\n",
      "    Xiang Zhang, Junbo Zhao, Yann LeCun. Character-level Convolutional Networks for Text Classification. Advances in Neural Information Processing Systems 28 (NIPS 2015).\n",
      "    \n",
      "    The AG's news topic classification dataset is constructed by choosing 4 largest classes from the original corpus.\n",
      "    Each class contains 30,000 training samples and 1,900 testing samples.\n",
      "    The total number of training samples is 120,000 and testing 7,600.\n",
      "    \"\"\",\n",
      "    homepage='https://arxiv.org/abs/1509.01626',\n",
      "    data_path='/home/thembajsph/tensorflow_datasets/ag_news_subset/1.0.0',\n",
      "    download_size=11.24 MiB,\n",
      "    dataset_size=35.79 MiB,\n",
      "    features=FeaturesDict({\n",
      "        'description': Text(shape=(), dtype=tf.string),\n",
      "        'label': ClassLabel(shape=(), dtype=tf.int64, num_classes=4),\n",
      "        'title': Text(shape=(), dtype=tf.string),\n",
      "    }),\n",
      "    supervised_keys=('description', 'label'),\n",
      "    disable_shuffling=False,\n",
      "    splits={\n",
      "        'test': <SplitInfo num_examples=7600, num_shards=1>,\n",
      "        'train': <SplitInfo num_examples=120000, num_shards=1>,\n",
      "    },\n",
      "    citation=\"\"\"@misc{zhang2015characterlevel,\n",
      "        title={Character-level Convolutional Networks for Text Classification},\n",
      "        author={Xiang Zhang and Junbo Zhao and Yann LeCun},\n",
      "        year={2015},\n",
      "        eprint={1509.01626},\n",
      "        archivePrefix={arXiv},\n",
      "        primaryClass={cs.LG}\n",
      "    }\"\"\",\n",
      ")\n"
     ]
    }
   ],
   "source": [
    "print(info)"
   ]
  },
  {
   "cell_type": "code",
   "execution_count": 4,
   "metadata": {},
   "outputs": [
    {
     "name": "stdout",
     "output_type": "stream",
     "text": [
      "The news are grouped into 4 classes that are :['World', 'Sports', 'Business', 'Sci/Tech']\n"
     ]
    }
   ],
   "source": [
    "# Displaying the classes\n",
    "\n",
    "class_names = info.features['label'].names\n",
    "num_classes = info.features['label'].num_classes\n",
    "\n",
    "print(f'The news are grouped into {num_classes} classes that are :{class_names}')"
   ]
  },
  {
   "cell_type": "code",
   "execution_count": 5,
   "metadata": {},
   "outputs": [
    {
     "name": "stdout",
     "output_type": "stream",
     "text": [
      "The number of training samples: 120000 \n",
      "The number of validation samples: 7600\n"
     ]
    }
   ],
   "source": [
    "num_train = info.splits['train'].num_examples\n",
    "num_val = info.splits['test'].num_examples\n",
    "\n",
    "print(f'The number of training samples: {num_train} \\nThe number of validation samples: {num_val}')"
   ]
  },
  {
   "cell_type": "code",
   "execution_count": 6,
   "metadata": {},
   "outputs": [
    {
     "data": {
      "text/html": [
       "<div>\n",
       "<style scoped>\n",
       "    .dataframe tbody tr th:only-of-type {\n",
       "        vertical-align: middle;\n",
       "    }\n",
       "\n",
       "    .dataframe tbody tr th {\n",
       "        vertical-align: top;\n",
       "    }\n",
       "\n",
       "    .dataframe thead th {\n",
       "        text-align: right;\n",
       "    }\n",
       "</style>\n",
       "<table border=\"1\" class=\"dataframe\">\n",
       "  <thead>\n",
       "    <tr style=\"text-align: right;\">\n",
       "      <th></th>\n",
       "      <th>description</th>\n",
       "      <th>label</th>\n",
       "    </tr>\n",
       "  </thead>\n",
       "  <tbody>\n",
       "    <tr>\n",
       "      <th>0</th>\n",
       "      <td>b'AMD #39;s new dual-core Opteron chip is desi...</td>\n",
       "      <td>3</td>\n",
       "    </tr>\n",
       "    <tr>\n",
       "      <th>1</th>\n",
       "      <td>b'Reuters - Major League Baseball\\\\Monday anno...</td>\n",
       "      <td>1</td>\n",
       "    </tr>\n",
       "    <tr>\n",
       "      <th>2</th>\n",
       "      <td>b'President Bush #39;s  quot;revenue-neutral q...</td>\n",
       "      <td>2</td>\n",
       "    </tr>\n",
       "    <tr>\n",
       "      <th>3</th>\n",
       "      <td>b'Britain will run out of leading scientists u...</td>\n",
       "      <td>3</td>\n",
       "    </tr>\n",
       "    <tr>\n",
       "      <th>4</th>\n",
       "      <td>b'London, England (Sports Network) - England m...</td>\n",
       "      <td>1</td>\n",
       "    </tr>\n",
       "    <tr>\n",
       "      <th>5</th>\n",
       "      <td>b'TOKYO - Sony Corp. is banking on the \\\\$3 bi...</td>\n",
       "      <td>0</td>\n",
       "    </tr>\n",
       "    <tr>\n",
       "      <th>6</th>\n",
       "      <td>b'Giant pandas may well prefer bamboo to lapto...</td>\n",
       "      <td>3</td>\n",
       "    </tr>\n",
       "    <tr>\n",
       "      <th>7</th>\n",
       "      <td>b'VILNIUS, Lithuania - Lithuania #39;s main pa...</td>\n",
       "      <td>0</td>\n",
       "    </tr>\n",
       "    <tr>\n",
       "      <th>8</th>\n",
       "      <td>b'Witnesses in the trial of a US soldier charg...</td>\n",
       "      <td>0</td>\n",
       "    </tr>\n",
       "    <tr>\n",
       "      <th>9</th>\n",
       "      <td>b'Dan Olsen of Ponte Vedra Beach, Fla., shot a...</td>\n",
       "      <td>1</td>\n",
       "    </tr>\n",
       "  </tbody>\n",
       "</table>\n",
       "</div>"
      ],
      "text/plain": [
       "                                         description  label\n",
       "0  b'AMD #39;s new dual-core Opteron chip is desi...      3\n",
       "1  b'Reuters - Major League Baseball\\\\Monday anno...      1\n",
       "2  b'President Bush #39;s  quot;revenue-neutral q...      2\n",
       "3  b'Britain will run out of leading scientists u...      3\n",
       "4  b'London, England (Sports Network) - England m...      1\n",
       "5  b'TOKYO - Sony Corp. is banking on the \\\\$3 bi...      0\n",
       "6  b'Giant pandas may well prefer bamboo to lapto...      3\n",
       "7  b'VILNIUS, Lithuania - Lithuania #39;s main pa...      0\n",
       "8  b'Witnesses in the trial of a US soldier charg...      0\n",
       "9  b'Dan Olsen of Ponte Vedra Beach, Fla., shot a...      1"
      ]
     },
     "execution_count": 6,
     "metadata": {},
     "output_type": "execute_result"
    }
   ],
   "source": [
    "news_df = tfds.as_dataframe(train_data.take(10), info)\n",
    "\n",
    "news_df.head(10)"
   ]
  },
  {
   "cell_type": "code",
   "execution_count": 7,
   "metadata": {},
   "outputs": [
    {
     "name": "stdout",
     "output_type": "stream",
     "text": [
      "Sample news 0\n",
      "   Label: 3 World\n",
      "   Description: b'AMD #39;s new dual-core Opteron chip is designed mainly for corporate computing applications, including databases, Web services, and financial transactions.'\n",
      "----------\n",
      "\n",
      "Sample news 1\n",
      "   Label: 1 Sports\n",
      "   Description: b'Reuters - Major League Baseball\\\\Monday announced a decision on the appeal filed by Chicago Cubs\\\\pitcher Kerry Wood regarding a suspension stemming from an\\\\incident earlier this season.'\n",
      "----------\n",
      "\n",
      "Sample news 2\n",
      "   Label: 2 Business\n",
      "   Description: b'President Bush #39;s  quot;revenue-neutral quot; tax reform needs losers to balance its winners, and people claiming the federal deduction for state and local taxes may be in administration planners #39; sights, news reports say.'\n",
      "----------\n",
      "\n",
      "Sample news 3\n",
      "   Label: 3 Sci/Tech\n",
      "   Description: b'Britain will run out of leading scientists unless science education is improved, says Professor Colin Pillinger.'\n",
      "----------\n",
      "\n"
     ]
    }
   ],
   "source": [
    "for i in range (0,4):\n",
    "\n",
    "  print(f\"Sample news {i}\\n \\\n",
    "  Label: {news_df['label'][i]} {(class_names[i])}\\n \\\n",
    "  Description: {news_df['description'][i]}\\n----------\\n\")"
   ]
  },
  {
   "cell_type": "code",
   "execution_count": 8,
   "metadata": {},
   "outputs": [],
   "source": [
    "#Preparing the Data"
   ]
  },
  {
   "cell_type": "code",
   "execution_count": 9,
   "metadata": {},
   "outputs": [],
   "source": [
    "buffer_size = 1000\n",
    "batch_size = 32\n",
    "\n",
    "train_data = train_data.shuffle(buffer_size)\n",
    "train_data = train_data.batch(batch_size).prefetch(1)\n",
    "val_data = val_data.batch(batch_size).prefetch(1)"
   ]
  },
  {
   "cell_type": "code",
   "execution_count": 10,
   "metadata": {},
   "outputs": [
    {
     "name": "stdout",
     "output_type": "stream",
     "text": [
      "Sample news\n",
      "----\n",
      " [b'Some question whether it will be enough to quell the violence and worry about the impact of prolonged tours. Amid a spike in violence in Iraqi cities coinciding with the Fallujah offensive, the US military '\n",
      " b'AP - German police have broken up an Internet piracy operation they say had peddled millions of dollars worth of bootleg films, computer games, music and software through a Web site.'\n",
      " b\"Canadian Press - ST. JOHN'S, Nfld. (CP) - Ottawa and Newfoundland have agreed to disagree over offshore oil royalties.\"\n",
      " b'Business tax cuts and proliferating shelters pushed the effective tax rate of 275 large U.S. corporations down by 20 percent since 2001, study shows.'] \n",
      "----\n",
      "Corresponding labels: [0 3 0 2]\n"
     ]
    }
   ],
   "source": [
    "for news, label in train_data.take(1):\n",
    "\n",
    "  print(f'Sample news\\n----\\n {news.numpy()[:4]} \\n----\\nCorresponding labels: {label.numpy()[:4]}')"
   ]
  },
  {
   "cell_type": "code",
   "execution_count": 11,
   "metadata": {},
   "outputs": [],
   "source": [
    "max_features = 10000\n",
    "\n",
    "text_vectorizer = tf.keras.layers.TextVectorization(max_tokens=max_features)"
   ]
  },
  {
   "cell_type": "code",
   "execution_count": 12,
   "metadata": {},
   "outputs": [],
   "source": [
    "text_vectorizer.adapt(train_data.map(lambda description, label : description))"
   ]
  },
  {
   "cell_type": "code",
   "execution_count": 13,
   "metadata": {},
   "outputs": [
    {
     "data": {
      "text/plain": [
       "['', '[UNK]', 'the', 'a', 'to', 'of', 'in', 'and', 'on', 'for']"
      ]
     },
     "execution_count": 13,
     "metadata": {},
     "output_type": "execute_result"
    }
   ],
   "source": [
    "vocab = text_vectorizer.get_vocabulary()\n",
    "vocab[:10]"
   ]
  },
  {
   "cell_type": "code",
   "execution_count": 14,
   "metadata": {},
   "outputs": [],
   "source": [
    "sample_news = ['This weekend there is a sport match between Man U and Fc Barcelona',\n",
    "               'Tesla has unveiled its humanoid robot that appeared dancing during the show!']\n",
    "\n",
    "              "
   ]
  },
  {
   "cell_type": "code",
   "execution_count": 15,
   "metadata": {},
   "outputs": [],
   "source": [
    "#Creating and Training the Model"
   ]
  },
  {
   "cell_type": "code",
   "execution_count": 16,
   "metadata": {},
   "outputs": [
    {
     "data": {
      "text/plain": [
       "10000"
      ]
     },
     "execution_count": 16,
     "metadata": {},
     "output_type": "execute_result"
    }
   ],
   "source": [
    "input_dim = len(text_vectorizer.get_vocabulary())\n",
    "input_dim "
   ]
  },
  {
   "cell_type": "code",
   "execution_count": 17,
   "metadata": {},
   "outputs": [],
   "source": [
    "model = tf.keras.Sequential([\n",
    "    text_vectorizer,\n",
    "    tf.keras.layers.Embedding(input_dim=input_dim, output_dim=64, mask_zero=True),\n",
    "    tf.keras.layers.Conv1D(64, 5, activation='relu'),\n",
    "    tf.keras.layers.MaxPooling1D(),\n",
    "    tf.keras.layers.Conv1D(64, 5, activation='relu'),\n",
    "    tf.keras.layers.GlobalMaxPool1D(),\n",
    "    tf.keras.layers.Dense(32, activation='relu'),\n",
    "    tf.keras.layers.Dropout(0.3),\n",
    "    tf.keras.layers.Dense(4, activation='softmax')\n",
    "])"
   ]
  },
  {
   "cell_type": "code",
   "execution_count": 18,
   "metadata": {},
   "outputs": [
    {
     "name": "stdout",
     "output_type": "stream",
     "text": [
      "Model: \"sequential\"\n",
      "_________________________________________________________________\n",
      " Layer (type)                Output Shape              Param #   \n",
      "=================================================================\n",
      " text_vectorization (TextVec  (None, None)             0         \n",
      " torization)                                                     \n",
      "                                                                 \n",
      " embedding (Embedding)       (None, None, 64)          640000    \n",
      "                                                                 \n",
      " conv1d (Conv1D)             (None, None, 64)          20544     \n",
      "                                                                 \n",
      " max_pooling1d (MaxPooling1D  (None, None, 64)         0         \n",
      " )                                                               \n",
      "                                                                 \n",
      " conv1d_1 (Conv1D)           (None, None, 64)          20544     \n",
      "                                                                 \n",
      " global_max_pooling1d (Globa  (None, 64)               0         \n",
      " lMaxPooling1D)                                                  \n",
      "                                                                 \n",
      " dense (Dense)               (None, 32)                2080      \n",
      "                                                                 \n",
      " dropout (Dropout)           (None, 32)                0         \n",
      "                                                                 \n",
      " dense_1 (Dense)             (None, 4)                 132       \n",
      "                                                                 \n",
      "=================================================================\n",
      "Total params: 683,300\n",
      "Trainable params: 683,300\n",
      "Non-trainable params: 0\n",
      "_________________________________________________________________\n"
     ]
    }
   ],
   "source": [
    "model.summary()"
   ]
  },
  {
   "cell_type": "code",
   "execution_count": 19,
   "metadata": {},
   "outputs": [
    {
     "data": {
      "image/png": "[encoded data removed]",
      "text/plain": [
       "<IPython.core.display.Image object>"
      ]
     },
     "execution_count": 19,
     "metadata": {},
     "output_type": "execute_result"
    }
   ],
   "source": [
    "from tensorflow.keras.utils import plot_model\n",
    "\n",
    "plot_model(model)"
   ]
  },
  {
   "cell_type": "code",
   "execution_count": 20,
   "metadata": {},
   "outputs": [],
   "source": [
    "# Compile the model\n",
    "\n",
    "model.compile(optimizer='adam', loss='sparse_categorical_crossentropy', metrics=['accuracy'])"
   ]
  },
  {
   "cell_type": "code",
   "execution_count": 21,
   "metadata": {},
   "outputs": [],
   "source": [
    "batch_size = 32\n",
    "\n",
    "train_steps = int(len(train_data)/batch_size)\n",
    "val_steps = int(len(val_data)/batch_size)"
   ]
  },
  {
   "cell_type": "code",
   "execution_count": 22,
   "metadata": {},
   "outputs": [
    {
     "name": "stdout",
     "output_type": "stream",
     "text": [
      "Epoch 1/25\n",
      "105/105 [==============================] - 6s 34ms/step - loss: 1.3742 - accuracy: 0.2935 - val_loss: 1.2976 - val_accuracy: 0.4243\n",
      "Epoch 2/25\n",
      "105/105 [==============================] - 2s 23ms/step - loss: 1.0035 - accuracy: 0.5417 - val_loss: 0.7758 - val_accuracy: 0.7204\n",
      "Epoch 3/25\n",
      "105/105 [==============================] - 2s 21ms/step - loss: 0.7042 - accuracy: 0.7402 - val_loss: 0.4968 - val_accuracy: 0.8306\n",
      "Epoch 4/25\n",
      "105/105 [==============================] - 3s 28ms/step - loss: 0.5052 - accuracy: 0.8339 - val_loss: 0.4126 - val_accuracy: 0.8618\n",
      "Epoch 5/25\n",
      "105/105 [==============================] - 3s 32ms/step - loss: 0.4636 - accuracy: 0.8479 - val_loss: 0.3863 - val_accuracy: 0.8734\n",
      "Epoch 6/25\n",
      "105/105 [==============================] - 3s 28ms/step - loss: 0.4358 - accuracy: 0.8580 - val_loss: 0.4007 - val_accuracy: 0.8635\n",
      "Epoch 7/25\n",
      "105/105 [==============================] - 3s 29ms/step - loss: 0.4145 - accuracy: 0.8664 - val_loss: 0.3522 - val_accuracy: 0.8914\n",
      "Epoch 8/25\n",
      "105/105 [==============================] - 2s 20ms/step - loss: 0.3908 - accuracy: 0.8851 - val_loss: 0.3424 - val_accuracy: 0.8898\n",
      "Epoch 9/25\n",
      "105/105 [==============================] - 2s 23ms/step - loss: 0.4004 - accuracy: 0.8717 - val_loss: 0.3437 - val_accuracy: 0.8882\n",
      "Epoch 10/25\n",
      "105/105 [==============================] - 3s 26ms/step - loss: 0.4146 - accuracy: 0.8705 - val_loss: 0.3324 - val_accuracy: 0.8931\n",
      "Epoch 11/25\n",
      "105/105 [==============================] - 3s 25ms/step - loss: 0.3561 - accuracy: 0.8943 - val_loss: 0.3498 - val_accuracy: 0.8849\n",
      "Epoch 12/25\n",
      "105/105 [==============================] - 2s 21ms/step - loss: 0.3669 - accuracy: 0.8813 - val_loss: 0.3120 - val_accuracy: 0.8947\n",
      "Epoch 13/25\n",
      "105/105 [==============================] - 3s 24ms/step - loss: 0.3617 - accuracy: 0.8780 - val_loss: 0.3067 - val_accuracy: 0.8931\n",
      "Epoch 14/25\n",
      "105/105 [==============================] - 2s 21ms/step - loss: 0.3885 - accuracy: 0.8768 - val_loss: 0.2992 - val_accuracy: 0.8914\n",
      "Epoch 15/25\n",
      "105/105 [==============================] - 2s 20ms/step - loss: 0.3840 - accuracy: 0.8801 - val_loss: 0.2894 - val_accuracy: 0.8980\n",
      "Epoch 16/25\n",
      "105/105 [==============================] - 2s 21ms/step - loss: 0.3657 - accuracy: 0.8798 - val_loss: 0.2884 - val_accuracy: 0.9046\n",
      "Epoch 17/25\n",
      "105/105 [==============================] - 3s 28ms/step - loss: 0.3675 - accuracy: 0.8905 - val_loss: 0.2863 - val_accuracy: 0.9046\n",
      "Epoch 18/25\n",
      "105/105 [==============================] - 3s 27ms/step - loss: 0.3450 - accuracy: 0.8869 - val_loss: 0.2799 - val_accuracy: 0.9013\n",
      "Epoch 19/25\n",
      "105/105 [==============================] - 2s 24ms/step - loss: 0.3755 - accuracy: 0.8795 - val_loss: 0.2910 - val_accuracy: 0.8964\n",
      "Epoch 20/25\n",
      "105/105 [==============================] - 2s 23ms/step - loss: 0.3308 - accuracy: 0.8929 - val_loss: 0.2987 - val_accuracy: 0.9062\n",
      "Epoch 21/25\n",
      "105/105 [==============================] - 3s 26ms/step - loss: 0.3439 - accuracy: 0.8955 - val_loss: 0.2756 - val_accuracy: 0.9128\n",
      "Epoch 22/25\n",
      "105/105 [==============================] - 2s 23ms/step - loss: 0.3438 - accuracy: 0.8878 - val_loss: 0.2667 - val_accuracy: 0.9161\n",
      "Epoch 23/25\n",
      "105/105 [==============================] - 3s 30ms/step - loss: 0.3259 - accuracy: 0.8926 - val_loss: 0.2722 - val_accuracy: 0.9112\n",
      "Epoch 24/25\n",
      "105/105 [==============================] - 3s 28ms/step - loss: 0.3422 - accuracy: 0.8893 - val_loss: 0.2608 - val_accuracy: 0.9161\n",
      "Epoch 25/25\n",
      "105/105 [==============================] - 3s 25ms/step - loss: 0.3282 - accuracy: 0.9012 - val_loss: 0.2652 - val_accuracy: 0.9128\n"
     ]
    }
   ],
   "source": [
    "# Train the model\n",
    "\n",
    "history = model.fit(train_data, \n",
    "                    epochs=25,\n",
    "                    validation_data=val_data,\n",
    "                    steps_per_epoch=train_steps,\n",
    "                    validation_steps=val_steps\n",
    ")"
   ]
  },
  {
   "cell_type": "code",
   "execution_count": 23,
   "metadata": {},
   "outputs": [],
   "source": [
    " #Visualizing the Results"
   ]
  },
  {
   "cell_type": "code",
   "execution_count": 24,
   "metadata": {},
   "outputs": [],
   "source": [
    "import matplotlib.pyplot as plt\n",
    "\n",
    "# function to plot accuracy and loss\n",
    "\n",
    "def plot_acc_loss(history):\n",
    "\n",
    "  model_history = history.history\n",
    "  acc = model_history['accuracy']\n",
    "  val_acc = model_history['val_accuracy']\n",
    "  loss = model_history['loss']\n",
    "  val_loss = model_history['val_loss']\n",
    "  epochs = history.epoch\n",
    "\n",
    "  plt.figure(figsize=(10,5))\n",
    "  plt.plot(epochs, acc, 'r', label='Training Accuracy')\n",
    "  plt.plot(epochs, val_acc, 'g', label='Validation Accuracy')\n",
    "  plt.title('Training and validation accuracy')\n",
    "  plt.xlabel('Epochs')\n",
    "  plt.ylabel('Accuracy')\n",
    "  plt.legend(loc=0)\n",
    "\n",
    "  # Create a new figure with plt.figure()\n",
    "  plt.figure()\n",
    "\n",
    "  plt.figure(figsize=(10,5))\n",
    "  plt.plot(epochs, loss, 'b', label='Training Loss')\n",
    "  plt.plot(epochs, val_loss, 'y', label='Validation Loss')\n",
    "  plt.title('Training and Validation Loss')\n",
    "  plt.xlabel('Epochs')\n",
    "  plt.ylabel('Loss')\n",
    "  plt.legend(loc=0)"
   ]
  },
  {
   "cell_type": "code",
   "execution_count": 25,
   "metadata": {},
   "outputs": [
    {
     "data": {
      "image/png": "[encoded data removed]",
      "text/plain": [
       "<Figure size 720x360 with 1 Axes>"
      ]
     },
     "metadata": {
      "needs_background": "light"
     },
     "output_type": "display_data"
    },
    {
     "data": {
      "text/plain": [
       "<Figure size 432x288 with 0 Axes>"
      ]
     },
     "metadata": {},
     "output_type": "display_data"
    },
    {
     "data": {
      "image/png": "[encoded data removed]",
      "text/plain": [
       "<Figure size 720x360 with 1 Axes>"
      ]
     },
     "metadata": {
      "needs_background": "light"
     },
     "output_type": "display_data"
    }
   ],
   "source": [
    "plot_acc_loss(history)"
   ]
  },
  {
   "cell_type": "code",
   "execution_count": null,
   "metadata": {},
   "outputs": [],
   "source": [
    "#Combining CNNs and RNNs for Text Classification"
   ]
  },
  {
   "cell_type": "code",
   "execution_count": null,
   "metadata": {},
   "outputs": [],
   "source": [
    "#Convnets and RNNs Model"
   ]
  },
  {
   "cell_type": "code",
   "execution_count": 26,
   "metadata": {},
   "outputs": [],
   "source": [
    "conv_rnn_model = tf.keras.Sequential([\n",
    "    text_vectorizer,\n",
    "    tf.keras.layers.Embedding(input_dim=input_dim, output_dim=64, mask_zero=True),\n",
    "    tf.keras.layers.Conv1D(64, 5, activation='relu'),\n",
    "    tf.keras.layers.MaxPooling1D(),\n",
    "    tf.keras.layers.Conv1D(64, 5, activation='relu'),\n",
    "    tf.keras.layers.Bidirectional(tf.keras.layers.LSTM(64)),\n",
    "    tf.keras.layers.Dense(32, activation='relu'),\n",
    "    tf.keras.layers.Dropout(0.3),\n",
    "    tf.keras.layers.Dense(4, activation='softmax')\n",
    "])"
   ]
  },
  {
   "cell_type": "code",
   "execution_count": 27,
   "metadata": {},
   "outputs": [
    {
     "name": "stdout",
     "output_type": "stream",
     "text": [
      "Model: \"sequential_1\"\n",
      "_________________________________________________________________\n",
      " Layer (type)                Output Shape              Param #   \n",
      "=================================================================\n",
      " text_vectorization (TextVec  (None, None)             0         \n",
      " torization)                                                     \n",
      "                                                                 \n",
      " embedding_1 (Embedding)     (None, None, 64)          640000    \n",
      "                                                                 \n",
      " conv1d_2 (Conv1D)           (None, None, 64)          20544     \n",
      "                                                                 \n",
      " max_pooling1d_1 (MaxPooling  (None, None, 64)         0         \n",
      " 1D)                                                             \n",
      "                                                                 \n",
      " conv1d_3 (Conv1D)           (None, None, 64)          20544     \n",
      "                                                                 \n",
      " bidirectional (Bidirectiona  (None, 128)              66048     \n",
      " l)                                                              \n",
      "                                                                 \n",
      " dense_2 (Dense)             (None, 32)                4128      \n",
      "                                                                 \n",
      " dropout_1 (Dropout)         (None, 32)                0         \n",
      "                                                                 \n",
      " dense_3 (Dense)             (None, 4)                 132       \n",
      "                                                                 \n",
      "=================================================================\n",
      "Total params: 751,396\n",
      "Trainable params: 751,396\n",
      "Non-trainable params: 0\n",
      "_________________________________________________________________\n"
     ]
    }
   ],
   "source": [
    "conv_rnn_model.summary()"
   ]
  },
  {
   "cell_type": "code",
   "execution_count": 28,
   "metadata": {},
   "outputs": [],
   "source": [
    "# Compile the model\n",
    "\n",
    "conv_rnn_model.compile(optimizer='adam', loss='sparse_categorical_crossentropy', metrics=['accuracy'])"
   ]
  },
  {
   "cell_type": "code",
   "execution_count": 29,
   "metadata": {},
   "outputs": [
    {
     "name": "stdout",
     "output_type": "stream",
     "text": [
      "Epoch 1/25\n",
      "105/105 [==============================] - 10s 52ms/step - loss: 1.3027 - accuracy: 0.3310 - val_loss: 0.9875 - val_accuracy: 0.5461\n",
      "Epoch 2/25\n",
      "105/105 [==============================] - 4s 42ms/step - loss: 0.9565 - accuracy: 0.5571 - val_loss: 0.6771 - val_accuracy: 0.6760\n",
      "Epoch 3/25\n",
      "105/105 [==============================] - 5s 44ms/step - loss: 0.6392 - accuracy: 0.7470 - val_loss: 0.5090 - val_accuracy: 0.8322\n",
      "Epoch 4/25\n",
      "105/105 [==============================] - 5s 43ms/step - loss: 0.5023 - accuracy: 0.8301 - val_loss: 0.4344 - val_accuracy: 0.8470\n",
      "Epoch 5/25\n",
      "105/105 [==============================] - 4s 41ms/step - loss: 0.4511 - accuracy: 0.8440 - val_loss: 0.4097 - val_accuracy: 0.8618\n",
      "Epoch 6/25\n",
      "105/105 [==============================] - 5s 46ms/step - loss: 0.4240 - accuracy: 0.8613 - val_loss: 0.3560 - val_accuracy: 0.8684\n",
      "Epoch 7/25\n",
      "105/105 [==============================] - 4s 41ms/step - loss: 0.4173 - accuracy: 0.8637 - val_loss: 0.3769 - val_accuracy: 0.8701\n",
      "Epoch 8/25\n",
      "105/105 [==============================] - 5s 50ms/step - loss: 0.3746 - accuracy: 0.8744 - val_loss: 0.3272 - val_accuracy: 0.8964\n",
      "Epoch 9/25\n",
      "105/105 [==============================] - 5s 49ms/step - loss: 0.3997 - accuracy: 0.8661 - val_loss: 0.3218 - val_accuracy: 0.9046\n",
      "Epoch 10/25\n",
      "105/105 [==============================] - 5s 48ms/step - loss: 0.3804 - accuracy: 0.8818 - val_loss: 0.3088 - val_accuracy: 0.9013\n",
      "Epoch 11/25\n",
      "105/105 [==============================] - 5s 46ms/step - loss: 0.3477 - accuracy: 0.8932 - val_loss: 0.2985 - val_accuracy: 0.9030\n",
      "Epoch 12/25\n",
      "105/105 [==============================] - 5s 48ms/step - loss: 0.3627 - accuracy: 0.8830 - val_loss: 0.3056 - val_accuracy: 0.9013\n",
      "Epoch 13/25\n",
      "105/105 [==============================] - 5s 45ms/step - loss: 0.3603 - accuracy: 0.8845 - val_loss: 0.2837 - val_accuracy: 0.8997\n",
      "Epoch 14/25\n",
      "105/105 [==============================] - 5s 44ms/step - loss: 0.3762 - accuracy: 0.8792 - val_loss: 0.3043 - val_accuracy: 0.8980\n",
      "Epoch 15/25\n",
      "105/105 [==============================] - 5s 49ms/step - loss: 0.3509 - accuracy: 0.8893 - val_loss: 0.2719 - val_accuracy: 0.9013\n",
      "Epoch 16/25\n",
      "105/105 [==============================] - 5s 49ms/step - loss: 0.3578 - accuracy: 0.8810 - val_loss: 0.2562 - val_accuracy: 0.9161\n",
      "Epoch 17/25\n",
      "105/105 [==============================] - 5s 48ms/step - loss: 0.3553 - accuracy: 0.8878 - val_loss: 0.2717 - val_accuracy: 0.9145\n",
      "Epoch 18/25\n",
      "105/105 [==============================] - 6s 53ms/step - loss: 0.3330 - accuracy: 0.8940 - val_loss: 0.2888 - val_accuracy: 0.9161\n",
      "Epoch 19/25\n",
      "105/105 [==============================] - 6s 59ms/step - loss: 0.3529 - accuracy: 0.8815 - val_loss: 0.2714 - val_accuracy: 0.8980\n",
      "Epoch 20/25\n",
      "105/105 [==============================] - 4s 40ms/step - loss: 0.3372 - accuracy: 0.8908 - val_loss: 0.2591 - val_accuracy: 0.9046\n",
      "Epoch 21/25\n",
      "105/105 [==============================] - 5s 46ms/step - loss: 0.3212 - accuracy: 0.8961 - val_loss: 0.2702 - val_accuracy: 0.9062\n",
      "Epoch 22/25\n",
      "105/105 [==============================] - 5s 46ms/step - loss: 0.3234 - accuracy: 0.8952 - val_loss: 0.2586 - val_accuracy: 0.9112\n",
      "Epoch 23/25\n",
      "105/105 [==============================] - 4s 43ms/step - loss: 0.3077 - accuracy: 0.9015 - val_loss: 0.2699 - val_accuracy: 0.9030\n",
      "Epoch 24/25\n",
      "105/105 [==============================] - 5s 47ms/step - loss: 0.3216 - accuracy: 0.8940 - val_loss: 0.2608 - val_accuracy: 0.9112\n",
      "Epoch 25/25\n",
      "105/105 [==============================] - 4s 42ms/step - loss: 0.3272 - accuracy: 0.8943 - val_loss: 0.2560 - val_accuracy: 0.9062\n"
     ]
    }
   ],
   "source": [
    "batch_size = 32\n",
    "\n",
    "train_steps = int(len(train_data)/batch_size)\n",
    "val_steps = int(len(val_data)/batch_size)\n",
    "\n",
    "\n",
    "# Train the model\n",
    "\n",
    "history = conv_rnn_model.fit(train_data, \n",
    "                    epochs=25,\n",
    "                    validation_data=val_data,\n",
    "                    steps_per_epoch=train_steps,\n",
    "                    validation_steps=val_steps\n",
    ")"
   ]
  },
  {
   "cell_type": "code",
   "execution_count": 30,
   "metadata": {},
   "outputs": [],
   "source": [
    "#Visualizing the Results"
   ]
  },
  {
   "cell_type": "code",
   "execution_count": 31,
   "metadata": {},
   "outputs": [
    {
     "data": {
      "image/png": "[encoded data removed]",
      "text/plain": [
       "<Figure size 720x360 with 1 Axes>"
      ]
     },
     "metadata": {
      "needs_background": "light"
     },
     "output_type": "display_data"
    },
    {
     "data": {
      "text/plain": [
       "<Figure size 432x288 with 0 Axes>"
      ]
     },
     "metadata": {},
     "output_type": "display_data"
    },
    {
     "data": {
      "image/png": "[encoded data removed]",
      "text/plain": [
       "<Figure size 720x360 with 1 Axes>"
      ]
     },
     "metadata": {
      "needs_background": "light"
     },
     "output_type": "display_data"
    }
   ],
   "source": [
    "plot_acc_loss(history)"
   ]
  },
  {
   "cell_type": "code",
   "execution_count": 32,
   "metadata": {},
   "outputs": [],
   "source": [
    "#Performing Inference on New Texts"
   ]
  },
  {
   "cell_type": "code",
   "execution_count": 33,
   "metadata": {},
   "outputs": [],
   "source": [
    "def predict(model, sample_news, class_names):\n",
    "\n",
    "  # Convert sample news into array\n",
    "\n",
    "  sample_news = np.array(sample_news)\n",
    "\n",
    "  # Predict the news type\n",
    "\n",
    "  preds = model.predict(sample_news)\n",
    "\n",
    "  pred_class = np.argmax(preds[0])\n",
    "\n",
    "  print(f'predicted class: {pred_class} \\nPredicted Class name: {class_names[pred_class]}')\n"
   ]
  },
  {
   "cell_type": "code",
   "execution_count": 34,
   "metadata": {},
   "outputs": [
    {
     "name": "stdout",
     "output_type": "stream",
     "text": [
      "predicted class: 3 \n",
      "Predicted Class name: Sci/Tech\n"
     ]
    }
   ],
   "source": [
    "sample_news = ['Tesla, a self driving car company is also planning to make a humanoid robot. This humanoid robot appeared dancing in the latest Tesla AI day']\n",
    "\n",
    "predict(conv_rnn_model, sample_news, class_names)"
   ]
  },
  {
   "cell_type": "code",
   "execution_count": 35,
   "metadata": {},
   "outputs": [
    {
     "name": "stdout",
     "output_type": "stream",
     "text": [
      "predicted class: 1 \n",
      "Predicted Class name: Sports\n"
     ]
    }
   ],
   "source": [
    "sample_news = [\"In the last weeks, there has been many transfer suprises in footbal. Ronaldo went back to Old Trafford, \"\n",
    "                \"while Messi went to Paris Saint Germain to join his former colleague Neymar.\"\n",
    "                \"We can't wait to see these two clubs will perform in upcoming leagues\"]\n",
    "            \n",
    "\n",
    "predict(conv_rnn_model, sample_news, class_names)"
   ]
  },
  {
   "cell_type": "code",
   "execution_count": 36,
   "metadata": {},
   "outputs": [
    {
     "name": "stdout",
     "output_type": "stream",
     "text": [
      "predicted class: 2 \n",
      "Predicted Class name: Business\n"
     ]
    }
   ],
   "source": [
    "sample_news = [\"In the latest business news: The tech giant NVIDIA has acquired ARM, a microproccessor company\"]\n",
    "            \n",
    "\n",
    "predict(conv_rnn_model, sample_news, class_names)"
   ]
  },
  {
   "cell_type": "code",
   "execution_count": null,
   "metadata": {},
   "outputs": [],
   "source": []
  }
 ],
 "metadata": {
  "kernelspec": {
   "display_name": "Python 3",
   "language": "python",
   "name": "python3"
  },
  "language_info": {
   "codemirror_mode": {
    "name": "ipython",
    "version": 3
   },
   "file_extension": ".py",
   "mimetype": "text/x-python",
   "name": "python",
   "nbconvert_exporter": "python",
   "pygments_lexer": "ipython3",
   "version": "3.8.5"
  }
 },
 "nbformat": 4,
 "nbformat_minor": 4
}
