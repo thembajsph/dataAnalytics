{
 "cells": [
  {
   "cell_type": "markdown",
   "id": "6c5f4c34",
   "metadata": {},
   "source": [
    "# Regular Expressions"
   ]
  },
  {
   "cell_type": "markdown",
   "id": "d0170bbe",
   "metadata": {},
   "source": [
    "Regular expressions (also called regex, RE, or regex patterns) is a sequence of characters that are used to determine whether the string matches a given pattern. Regex provides advanced string processing functionalities than normal [string methods](https://docs.python.org/2.5/lib/string-methods.html).\n",
    "\n",
    "Regular expressions are a small programming language implemented in other languages such as Python. Python comes with [`re` module](https://docs.python.org/3/library/re.html) for working with regular expressions. They are used in search engines, word processing  applications, text editors, etc..."
   ]
  },
  {
   "cell_type": "markdown",
   "id": "de11e226",
   "metadata": {},
   "source": [
    "### Regex In Python"
   ]
  },
  {
   "cell_type": "markdown",
   "id": "da023703",
   "metadata": {},
   "source": [
    "Regular expressions are used for searching or extracting patterns from strings. To motivate them, let's take an example of searching strings."
   ]
  },
  {
   "cell_type": "code",
   "execution_count": 4,
   "id": "c2f61c07",
   "metadata": {},
   "outputs": [],
   "source": [
    "import re"
   ]
  },
  {
   "cell_type": "code",
   "execution_count": 13,
   "id": "26bcd4c0",
   "metadata": {},
   "outputs": [],
   "source": [
    "# Assume this is a text document. Search all lines that starts with `The`\n",
    "\n",
    "texts = \"\"\"\n",
    "Python is a programming language that emphasize simplicity and readability.\n",
    "The Zen of Python contains around 19 rules of Python.\n",
    "The first rule says that beautiful is better than ugly.\n",
    "The third rule says that simple is better than complex. \n",
    "The 17th rule says that if the implementation is hard to explain, it's a bad idea.\n",
    "The 18th rule says that if the implementation is easy to explain, it may be a good idea.\n",
    "\"\"\""
   ]
  },
  {
   "cell_type": "code",
   "execution_count": 15,
   "id": "99f7a8a9",
   "metadata": {},
   "outputs": [],
   "source": [
    "re.search('The:', texts)"
   ]
  },
  {
   "cell_type": "code",
   "execution_count": null,
   "id": "d7866380",
   "metadata": {},
   "outputs": [],
   "source": []
  }
 ],
 "metadata": {
  "kernelspec": {
   "display_name": "Python 3 (ipykernel)",
   "language": "python",
   "name": "python3"
  },
  "language_info": {
   "codemirror_mode": {
    "name": "ipython",
    "version": 3
   },
   "file_extension": ".py",
   "mimetype": "text/x-python",
   "name": "python",
   "nbconvert_exporter": "python",
   "pygments_lexer": "ipython3",
   "version": "3.9.7"
  }
 },
 "nbformat": 4,
 "nbformat_minor": 5
}
