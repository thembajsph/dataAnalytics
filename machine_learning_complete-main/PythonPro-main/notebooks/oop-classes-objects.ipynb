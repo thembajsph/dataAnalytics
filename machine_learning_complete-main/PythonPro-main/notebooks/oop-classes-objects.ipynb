{
 "cells": [
  {
   "cell_type": "markdown",
   "id": "759e8db1",
   "metadata": {},
   "source": [
    "# Object Oriented Programming (OOP) - Classes and Objects"
   ]
  },
  {
   "cell_type": "markdown",
   "id": "94457c02",
   "metadata": {},
   "source": [
    "Object Oriented Programming(OOP) is a programming paradigm or feature that allows developers to structure programs into classes and objects. OOP gives the developers the ability to design programs around data.\n",
    "\n",
    "Classes are new data type that you can create yourself. Objects can be created from the Class. A typical class has two components: `fields` (or variables) that store data and `methods`(or functions) that operate on those data. Python [glossary](https://docs.python.org/3/glossary.html) defines class as a template for creating user defined objects and object\n",
    "as any data with state(attribute or value) and defined behavior(methods).\n",
    "\n",
    "With the simplicity of Python and the thousands of features it provides that can be used on the fly, the majority of Python developers doesn't need to use OOP. However, it is important to understand OOP so that you can understand when and when not to use it. OOP provides modularity and reusability. Take an example: Python list is a built-in object. Imagine how many time you(and other millions of coders) use list with different data!! That's extreme reusability!!\n",
    "\n",
    "When should you use class or function? This is a hard questions, but generally if you found yourself using a number of functions over and over on same data, then you should consider using class for reusability. If on the otherhand you are creating a class with methods that you will use once, it's probably better to use normal functions. Here is a great talk about that: [Stop Using Classes ](https://www.youtube.com/watch?v=o9pEzgHorH0) by Jack Diederich. You can also learn more about the critism of OOP [here](https://en.wikipedia.org/wiki/Object-oriented_programming#Criticism).\n",
    "\n",
    "Also, if you plan to build an API(Application Protocol Interface) one day, it's very likely that you will need to structure data and methods in a systematic way. So, OOP is an important thing to know. "
   ]
  },
  {
   "cell_type": "markdown",
   "id": "ade5e5ba",
   "metadata": {},
   "source": [
    "In Python, everything is an `object` and has a `type`. OOP gives us the power to create our custom object of a given data type that can be manipulated. Below is an example of how everything in Python is an object of a certain type."
   ]
  },
  {
   "cell_type": "code",
   "execution_count": 1,
   "id": "a6e3559f",
   "metadata": {},
   "outputs": [
    {
     "data": {
      "text/plain": [
       "list"
      ]
     },
     "execution_count": 1,
     "metadata": {},
     "output_type": "execute_result"
    }
   ],
   "source": [
    "# In Python, everything is an object of a given type\n",
    "\n",
    "my_list = [1, 2, 3, 4]\n",
    "\n",
    "type(my_list)"
   ]
  },
  {
   "cell_type": "markdown",
   "id": "1f464326",
   "metadata": {},
   "source": [
    "The type of Python `list` is a `type` too. This is the same thing for other objects such as `str` and  `dict`. The `type` of `type` object is a `type` too :)"
   ]
  },
  {
   "cell_type": "code",
   "execution_count": 2,
   "id": "bcc3e303",
   "metadata": {},
   "outputs": [
    {
     "data": {
      "text/plain": [
       "type"
      ]
     },
     "execution_count": 2,
     "metadata": {},
     "output_type": "execute_result"
    }
   ],
   "source": [
    "type(list)"
   ]
  },
  {
   "cell_type": "code",
   "execution_count": 3,
   "id": "5ed07629",
   "metadata": {},
   "outputs": [
    {
     "data": {
      "text/plain": [
       "type"
      ]
     },
     "execution_count": 3,
     "metadata": {},
     "output_type": "execute_result"
    }
   ],
   "source": [
    "type(str)"
   ]
  },
  {
   "cell_type": "code",
   "execution_count": 4,
   "id": "b0794603",
   "metadata": {},
   "outputs": [
    {
     "data": {
      "text/plain": [
       "type"
      ]
     },
     "execution_count": 4,
     "metadata": {},
     "output_type": "execute_result"
    }
   ],
   "source": [
    "type(type)"
   ]
  },
  {
   "cell_type": "markdown",
   "id": "9c57f9fc",
   "metadata": {},
   "source": [
    "There is a popular notion that OOP allows developers to represent real world objects into software objects. To some extent, this is true. Real world objects contain state and behavior. Take an example of a car object: The state of a car might be price, model, car maker, speed while the behavior might be changing the gear, applying the brake, etc...). \n",
    "\n",
    "Software objects provide an abstraction of the real world objects. Software objects store their states in data attributes(or variables), and they expose their behaviors through method attributes(or functions). Methods act on the state of the objects. Java documentation has a great explaination of class and objects in  the contexts of the real world objects. For more, check it [here](https://docs.oracle.com/javase/tutorial/java/concepts/object.html).\n",
    "\n",
    "\n",
    "Let's see how to create a class in Python."
   ]
  },
  {
   "cell_type": "markdown",
   "id": "fcf31cc9",
   "metadata": {},
   "source": [
    "### Creating a Class in Python"
   ]
  },
  {
   "cell_type": "markdown",
   "id": "fe17e196",
   "metadata": {},
   "source": [
    "Classes are user defined objects. That signal that there are built-in classes that we use day to day contained in some [standard libraries](https://docs.python.org/3/tutorial/stdlib.html). Take an example for a `list`. A list is a class. When we create a list object, we can manipulate it in different ways."
   ]
  },
  {
   "cell_type": "code",
   "execution_count": 5,
   "id": "0049b8ed",
   "metadata": {},
   "outputs": [
    {
     "name": "stdout",
     "output_type": "stream",
     "text": [
      "[1, 2, 3, 4]\n"
     ]
    }
   ],
   "source": [
    "# Creating a list object, \n",
    "# The data [1,2,3] is an instance of the list\n",
    "\n",
    "my_list = [1, 2, 3]\n",
    "\n",
    "# We can manipulate the list object\n",
    "\n",
    "my_list.append(4)\n",
    "\n",
    "print(my_list)"
   ]
  },
  {
   "cell_type": "markdown",
   "id": "8825e2de",
   "metadata": {},
   "source": [
    "Below is a simple user defined class:\n",
    "\n",
    "```python\n",
    "class MyClass:\n",
    "    \"\"\"A simple example class\"\"\"\n",
    "    i = 12345\n",
    "\n",
    "    def f(self):\n",
    "        return 'hello world'\n",
    "```\n",
    "\n",
    "When creating a new class:\n",
    "* We specity its class name. It is common to use Capital letters for defining the class like `ClassName`. This style is called `CamelCase`. \n",
    "\n",
    "```python\n",
    "\n",
    "class ClassName:\n",
    "    ## Class attributes\n",
    "    \n",
    "```\n",
    "\n",
    "* We define the class attributes(data and methods). Data attributes are data (or variables) that makes up the class and the methods are like functions that operate on data. Methods only work with class. \n",
    "\n",
    "* We use a special method `__init__` to initialize the data attributes. `__init__` method starts and ends with double underscore(`__`). When passing data to the init method, the first paremeter must be `self`. There are other special methods beyond `__init__`.\n",
    "\n",
    "```python\n",
    "\n",
    "class ClassName:\n",
    "    \n",
    "    def __init__(self, x, y):\n",
    "```\n",
    "    \n",
    "\n",
    "* We use `self` as the first parameter for any method that we define in the class. With the exception of `self` parameter, methods are similar to normal functions. `self` parameter allows the method to use the class data attributes.\n",
    "\n",
    "* To access the data attribute and method of an object, we use `. operator`.\n",
    "\n",
    "\n",
    "```python\n",
    "\n",
    "class ClassName:\n",
    "    \n",
    "    def __init__(self, var1, var2):\n",
    "        self.var1 = var1\n",
    "        self.var2 = var2\n",
    "        \n",
    "    def method_1(self, var3):\n",
    "        \"\"\"\n",
    "        DOCSTRING\n",
    "        self points to the data attributes, \n",
    "        function can take new data attribute like var3\n",
    "        \"\"\"\n",
    "        \n",
    "        #statements\n",
    "        \n",
    "```\n",
    "Now that we understand what makes a class, let's create a real class."
   ]
  },
  {
   "cell_type": "code",
   "execution_count": 6,
   "id": "c23c5413",
   "metadata": {},
   "outputs": [],
   "source": [
    "class Car:\n",
    "    \n",
    "    def __init__(self, speed, gear, model, maker):\n",
    "        \n",
    "        self.speed = speed\n",
    "        self.gear = gear\n",
    "        self.model = model\n",
    "        self.maker = maker\n",
    "        \n",
    "    def speed_up(self, add_speed):\n",
    "        \n",
    "        speed = self.speed + add_speed\n",
    "        \n",
    "        return speed\n",
    "        \n",
    "    def apply_brake(self, decre_speed):\n",
    "        speed = self.speed - decre_speed\n",
    "        \n",
    "        return speed\n",
    "        \n",
    "    def change_gear(self, new_gear):\n",
    "        gear = new_gear\n",
    "        \n",
    "        return gear\n",
    "    \n",
    "    def car_info(self):\n",
    "        \n",
    "        print(f\"Car Info:\\n \\\n",
    "            Speed: {self.speed}\\n \\\n",
    "            Model: {self.model}\\n \\\n",
    "            Maker: {self.maker}\")"
   ]
  },
  {
   "cell_type": "markdown",
   "id": "3c80c6ad",
   "metadata": {},
   "source": [
    "That's an example of class. In the next section, let's see how to use the class we created."
   ]
  },
  {
   "cell_type": "markdown",
   "id": "e8b540aa",
   "metadata": {},
   "source": [
    "### Using a Class"
   ]
  },
  {
   "cell_type": "markdown",
   "id": "fbf6935e",
   "metadata": {},
   "source": [
    "To create the instance of the object, we simply call class we created with the values of the data fields. Note that we don't pass `self` when calling the class."
   ]
  },
  {
   "cell_type": "code",
   "execution_count": 7,
   "id": "dccdac1a",
   "metadata": {},
   "outputs": [],
   "source": [
    "my_car = Car(45, 2, 'Model S', 'Tesla')"
   ]
  },
  {
   "cell_type": "code",
   "execution_count": 8,
   "id": "8bd9d4aa",
   "metadata": {},
   "outputs": [
    {
     "data": {
      "text/plain": [
       "2"
      ]
     },
     "execution_count": 8,
     "metadata": {},
     "output_type": "execute_result"
    }
   ],
   "source": [
    "# Accessing the data attributes\n",
    "\n",
    "my_car.gear"
   ]
  },
  {
   "cell_type": "code",
   "execution_count": 9,
   "id": "4f05c849",
   "metadata": {},
   "outputs": [
    {
     "data": {
      "text/plain": [
       "45"
      ]
     },
     "execution_count": 9,
     "metadata": {},
     "output_type": "execute_result"
    }
   ],
   "source": [
    "my_car.speed"
   ]
  },
  {
   "cell_type": "code",
   "execution_count": 10,
   "id": "cfd4dd64",
   "metadata": {},
   "outputs": [
    {
     "data": {
      "text/plain": [
       "'Tesla'"
      ]
     },
     "execution_count": 10,
     "metadata": {},
     "output_type": "execute_result"
    }
   ],
   "source": [
    "my_car.maker"
   ]
  },
  {
   "cell_type": "markdown",
   "id": "63a1c4fc",
   "metadata": {},
   "source": [
    "To use the methods we defined in class, we do as we always do with built-in objects (ex: `my_list.append(2)`). We use `. operator` and we pass the variables that make up a particular method. Note that we don't use `self` when calling the methods defined in the class."
   ]
  },
  {
   "cell_type": "code",
   "execution_count": 11,
   "id": "16a13fd0",
   "metadata": {},
   "outputs": [
    {
     "data": {
      "text/plain": [
       "35"
      ]
     },
     "execution_count": 11,
     "metadata": {},
     "output_type": "execute_result"
    }
   ],
   "source": [
    "my_car.apply_brake(10)\n",
    "\n",
    "# Should return speed - 10 = 45 - 10 = 35"
   ]
  },
  {
   "cell_type": "code",
   "execution_count": 12,
   "id": "e4d8a99e",
   "metadata": {},
   "outputs": [
    {
     "data": {
      "text/plain": [
       "65"
      ]
     },
     "execution_count": 12,
     "metadata": {},
     "output_type": "execute_result"
    }
   ],
   "source": [
    "my_car.speed_up(20)"
   ]
  },
  {
   "cell_type": "code",
   "execution_count": 13,
   "id": "b4aee1e3",
   "metadata": {},
   "outputs": [
    {
     "data": {
      "text/plain": [
       "4"
      ]
     },
     "execution_count": 13,
     "metadata": {},
     "output_type": "execute_result"
    }
   ],
   "source": [
    "my_car.change_gear(4)"
   ]
  },
  {
   "cell_type": "code",
   "execution_count": 14,
   "id": "67536218",
   "metadata": {},
   "outputs": [
    {
     "name": "stdout",
     "output_type": "stream",
     "text": [
      "Car Info:\n",
      "             Speed: 45\n",
      "             Model: Model S\n",
      "             Maker: Tesla\n"
     ]
    }
   ],
   "source": [
    "my_car.car_info()"
   ]
  },
  {
   "cell_type": "markdown",
   "id": "84ba7cdf",
   "metadata": {},
   "source": [
    "When you print `my_car` object(created from class `Car`), you don't see the information about the class other than that it is an object. "
   ]
  },
  {
   "cell_type": "code",
   "execution_count": 15,
   "id": "c713f643",
   "metadata": {},
   "outputs": [
    {
     "name": "stdout",
     "output_type": "stream",
     "text": [
      "<__main__.Car object at 0x10371c2b0>\n"
     ]
    }
   ],
   "source": [
    "print(my_car)"
   ]
  },
  {
   "cell_type": "markdown",
   "id": "b05229e0",
   "metadata": {},
   "source": [
    "To choose what will be diplayed when we print the object, we can define a `__str__` method inside the class. The `__str__` method must return a string. Otherwise, you will get an error."
   ]
  },
  {
   "cell_type": "code",
   "execution_count": 16,
   "id": "a0e4c1f4",
   "metadata": {},
   "outputs": [],
   "source": [
    "class Car:\n",
    "    \n",
    "    def __init__(self, speed, gear, model, maker):\n",
    "        \n",
    "        self.speed = speed\n",
    "        self.gear = gear\n",
    "        self.model = model\n",
    "        self.maker = maker\n",
    "        \n",
    "    def speed_up(self, add_speed):\n",
    "        \n",
    "        speed = self.speed + add_speed\n",
    "        \n",
    "        return speed\n",
    "        \n",
    "    def apply_brake(self, decre_speed):\n",
    "        speed = self.speed - decre_speed\n",
    "        \n",
    "        return speed\n",
    "        \n",
    "    def change_gear(self, new_gear):\n",
    "        gear = new_gear\n",
    "        \n",
    "        return gear\n",
    "    \n",
    "    def car_info(self):\n",
    "        \n",
    "        print(f\"Car Info:\\n \\\n",
    "            Speed: {self.speed}\\n \\\n",
    "            Model: {self.model}\\n \\\n",
    "            Maker: {self.maker}\")\n",
    "    def __str__(self):\n",
    "        \n",
    "        return f\"This is the object created from class Car. The car model {self.model} was made by {self.maker}\""
   ]
  },
  {
   "cell_type": "code",
   "execution_count": 17,
   "id": "c4f96c8f",
   "metadata": {},
   "outputs": [
    {
     "name": "stdout",
     "output_type": "stream",
     "text": [
      "This is the object created from class Car. The car model Model X was made by Tesla\n"
     ]
    }
   ],
   "source": [
    "my_car = Car(45, 2, 'Model X', 'Tesla')\n",
    "print(my_car)"
   ]
  },
  {
   "cell_type": "markdown",
   "id": "127ad7a9",
   "metadata": {},
   "source": [
    "The methods `__str__` and `__init__` are examples of special or magic methods. Python special methods allows us to overload(or to imitate) built-in operators so that we can use them in our objects just like built-in data types. Magic methods are unique to Python and they are not found in other OOP languages such as Java and C++. We will learn more about magic methods later. \n",
    "\n",
    "You can find all magics methods on [Python Documentation](https://docs.python.org/3/reference/datamodel.html#basic-customization)."
   ]
  },
  {
   "cell_type": "markdown",
   "id": "58058236",
   "metadata": {},
   "source": [
    "One last thing: we can use `isinstance()` to check if the object `my_car` is a Car type."
   ]
  },
  {
   "cell_type": "code",
   "execution_count": 18,
   "id": "5665c722",
   "metadata": {},
   "outputs": [
    {
     "data": {
      "text/plain": [
       "True"
      ]
     },
     "execution_count": 18,
     "metadata": {},
     "output_type": "execute_result"
    }
   ],
   "source": [
    "isinstance(my_car, Car)"
   ]
  },
  {
   "cell_type": "markdown",
   "id": "3f82aa0c",
   "metadata": {},
   "source": [
    "### Final Notes and Further Learning"
   ]
  },
  {
   "cell_type": "markdown",
   "id": "fb3907f0",
   "metadata": {},
   "source": [
    "The central idea of OOP is creating user-defined objects. With OOP, you can create structured and systematic programs. OOP provides modularity and code reusability which are essential ingredients for building large scale programs.\n",
    "\n",
    "In the next parts, we will learn about inheritance and special or magic methods.\n",
    "\n",
    "You can learn more about OOP and classes and Objects at:\n",
    "\n",
    "* OOP, Lecture 8 of [MIT 6.0001 Introduction to Computer Science and Programming in Python](https://www.youtube.com/watch?v=-DP1i2ZU9gk)\n",
    "* [Python Doc](https://docs.python.org/3/tutorial/classes.html)\n",
    "* [Wikipedia, OOP](https://en.wikipedia.org/wiki/Object-oriented_programming)\n",
    "* [Stop Using Classes](https://www.youtube.com/watch?v=o9pEzgHorH0)"
   ]
  },
  {
   "cell_type": "code",
   "execution_count": null,
   "id": "332793dd",
   "metadata": {},
   "outputs": [],
   "source": []
  }
 ],
 "metadata": {
  "kernelspec": {
   "display_name": "Python 3 (ipykernel)",
   "language": "python",
   "name": "python3"
  },
  "language_info": {
   "codemirror_mode": {
    "name": "ipython",
    "version": 3
   },
   "file_extension": ".py",
   "mimetype": "text/x-python",
   "name": "python",
   "nbconvert_exporter": "python",
   "pygments_lexer": "ipython3",
   "version": "3.9.7"
  }
 },
 "nbformat": 4,
 "nbformat_minor": 5
}
