{
 "cells": [
  {
   "cell_type": "markdown",
   "id": "0da0dfc1",
   "metadata": {},
   "source": [
    "<a name='0'></a>\n",
    "\n",
    "# Object Oriented Programming(OOP) - Inheritance"
   ]
  },
  {
   "cell_type": "markdown",
   "id": "08b3943e",
   "metadata": {},
   "source": [
    "Contents:\n",
    "\n",
    "- [How to Create a Child Class from a Parent Class](#1)\n",
    "- [Addind New Data and Methods to a Child Class](#2)\n",
    "- [Method Overriding](#3)\n",
    "- [Checking if Child Class Belongs to Parent Class](#4)\n",
    "- [Class Methods, Class Attributes, Static Methods](#5)\n",
    "- [Final Notes¶](#6)\n",
    "    "
   ]
  },
  {
   "cell_type": "markdown",
   "id": "c8fef721",
   "metadata": {},
   "source": [
    "Real world objects that are in the same class/category share similar behaviors. OOP classes can also have things in common where rather than creating new classes, classes can be inherited from other class.\n",
    "\n",
    "Also, similar to how we write a normal functions once and reuse them multiple times without having to recreate them again, we can inherit methods and attributes of the parent class using inheritance. \n",
    "\n",
    "\n",
    "Inheritance is an OOP based techniques that refers to `parent-child relationship` where a child class can be inherited from the parent class. The child class will have the access of data and methods of the parent class (but not the other way).\n",
    "\n",
    "Inheritance is essentially deriving a new class(child class) from an existing class(parent class). A parent class is also called base class or super class, while the child class is called derived class."
   ]
  },
  {
   "cell_type": "markdown",
   "id": "c3f0cee3",
   "metadata": {},
   "source": [
    "<a name='1'></a>\n",
    "\n",
    "## 1. How to Create a Child Class from a Parent Class"
   ]
  },
  {
   "cell_type": "markdown",
   "id": "dfeaeea3",
   "metadata": {},
   "source": [
    "When deriving a child class, you simply define the parent class in the child class. Below is a syntax for inheritance:\n",
    "\n",
    "\n",
    "```python\n",
    "class ChildClassName(ParentClassName):\n",
    "    .\n",
    "    .\n",
    "    .\n",
    "    .\n",
    "    .\n",
    "    .\n",
    "    .\n",
    "    \n",
    "    <statements>\n",
    "```\n",
    "\n",
    "If you simply want the child class to inherit all data and method attributes without adding or overriding any method of the parent class, simply do the following:\n",
    "\n",
    "\n",
    "```python\n",
    "class ChildClassName(ParentClassName):\n",
    "    pass\n",
    "```\n",
    "\n",
    "Let's take a real example. But we will create a parent class first."
   ]
  },
  {
   "cell_type": "code",
   "execution_count": 8,
   "id": "e8cc33bd",
   "metadata": {},
   "outputs": [],
   "source": [
    "class Vehicle:\n",
    "    \n",
    "    def __init__ (self, brandmaker, model, speed):\n",
    "        \n",
    "        self.brandmaker = brandmaker\n",
    "        self.model = model\n",
    "        self.speed = speed\n",
    "        \n",
    "    def speed_up(self, add_speed):\n",
    "        \n",
    "        new_speed = self.speed + add_speed\n",
    "        \n",
    "        return new_speed\n",
    "    \n",
    "    def vehicle_info(self):\n",
    "        \n",
    "        print(f\"Vehicle Info:\\n \\\n",
    "            Current Speed: {self.speed}\\n \\\n",
    "            Vehicle Model: {self.model}\\n \\\n",
    "            Vehicle Maker: {self.brandmaker}\")"
   ]
  },
  {
   "cell_type": "markdown",
   "id": "b56f9b99",
   "metadata": {},
   "source": [
    "From the `Vehicle` class, we can derive a new child class `Bicycle`. If we only want to inherit all data and method attributes, all we have to do is to `pass`."
   ]
  },
  {
   "cell_type": "code",
   "execution_count": 9,
   "id": "9f8d2a77",
   "metadata": {},
   "outputs": [],
   "source": [
    "class Car(Vehicle):\n",
    "    pass"
   ]
  },
  {
   "cell_type": "code",
   "execution_count": 10,
   "id": "161bbd65",
   "metadata": {},
   "outputs": [
    {
     "name": "stdout",
     "output_type": "stream",
     "text": [
      "Vehicle Info:\n",
      "             Current Speed: 40\n",
      "             Vehicle Model: Model S\n",
      "             Vehicle Maker: Tesla\n"
     ]
    }
   ],
   "source": [
    "car = Car('Tesla', 'Model S', 40)\n",
    "car.vehicle_info()"
   ]
  },
  {
   "cell_type": "markdown",
   "id": "db89e7dc",
   "metadata": {},
   "source": [
    "A child class inherited from the parent class will have an access to all parent class data and method attributes but if the child class have its own data and methods attributes, they can not be accessed in the parent class. It's only one direction."
   ]
  },
  {
   "cell_type": "markdown",
   "id": "5b7cbf85",
   "metadata": {},
   "source": [
    "<a name='2'></a>\n",
    "\n",
    "## 2. Adding New Data and Methods to a Child Class"
   ]
  },
  {
   "cell_type": "markdown",
   "id": "b95ce625",
   "metadata": {},
   "source": [
    "In addition to the inherited data and method attributes, it's possible to add new data and methods to the class.\n",
    "\n",
    "To automatically get the access to the data and methods of the parent class, we can use the `super()` function. Below we use `super` for accessing the initialized parent class data through `__init__` method, but it can be used for almost any method."
   ]
  },
  {
   "cell_type": "code",
   "execution_count": 11,
   "id": "6bbe80a7",
   "metadata": {},
   "outputs": [],
   "source": [
    "class Car(Vehicle):\n",
    "    \n",
    "    def __init__(self, brandmaker, model, speed): #__init__ method is overriden: more on method overriding later\n",
    "        super().__init__(brandmaker, model, speed) #use super() to automatically get the data and methods of parent class\n",
    "    \n",
    "    def speed_down(self, down_speed): #speed_down is a new method, down_speed is a new data/variable\n",
    "        \n",
    "        speed = self.speed + down_speed\n",
    "        \n",
    "        return speed"
   ]
  },
  {
   "cell_type": "code",
   "execution_count": 12,
   "id": "ed0fd05c",
   "metadata": {},
   "outputs": [
    {
     "data": {
      "text/plain": [
       "60"
      ]
     },
     "execution_count": 12,
     "metadata": {},
     "output_type": "execute_result"
    }
   ],
   "source": [
    "car = Car('Tesla', 'Model S', 40)\n",
    "car.speed_down(20)"
   ]
  },
  {
   "cell_type": "markdown",
   "id": "127fc01f",
   "metadata": {},
   "source": [
    "<a name='3'></a>\n",
    "\n",
    "## Method Overriding"
   ]
  },
  {
   "cell_type": "markdown",
   "id": "634b1f92",
   "metadata": {},
   "source": [
    "A derived or child class inherits all methods of the parent class or base class. But there are times you may want to override the methods of the parent class in child class. All you have to do is to define the methods that have the same name as the parent class. Such method will be overriden!\n",
    "\n",
    "We saw that for __init__ method but let's demonstrate it for normal method."
   ]
  },
  {
   "cell_type": "code",
   "execution_count": 13,
   "id": "65465bfd",
   "metadata": {},
   "outputs": [],
   "source": [
    "class Bicycle(Vehicle):\n",
    "    \n",
    "    def vehicle_info(self):\n",
    "        \n",
    "        print(f\"Bicycle Info:\\n \\\n",
    "            Current Speed: {self.speed}\\n \\\n",
    "            Bicycle Model: {self.model}\\n \\\n",
    "            Bicycle Maker: {self.brandmaker}\")"
   ]
  },
  {
   "cell_type": "code",
   "execution_count": 14,
   "id": "c5b1c851",
   "metadata": {},
   "outputs": [
    {
     "name": "stdout",
     "output_type": "stream",
     "text": [
      "Bicycle Info:\n",
      "             Current Speed: 20\n",
      "             Bicycle Model: Model XXXX\n",
      "             Bicycle Maker: Bike Manufacturer\n"
     ]
    }
   ],
   "source": [
    "bicycle = Bicycle('Bike Manufacturer', 'Model XXXX', 20)\n",
    "bicycle.vehicle_info()"
   ]
  },
  {
   "cell_type": "markdown",
   "id": "5e613123",
   "metadata": {},
   "source": [
    "You can see that the method `vehicle_info()` was overriden. A one caveat to make here is that the things we are using are only just examples that demonstrate the concepts. In the real world, inheritance is more about code reuse than following hierachies. "
   ]
  },
  {
   "cell_type": "markdown",
   "id": "257370b0",
   "metadata": {},
   "source": [
    "<a name='3'></a>\n",
    "\n",
    "## 3. Checking if Child Class Belongs to Parent Class"
   ]
  },
  {
   "cell_type": "markdown",
   "id": "0d40fb6e",
   "metadata": {},
   "source": [
    "We can check if an object is a type of a given class with `isinstance()` built-in function. It will return `True` if the object belong to the class, and otherwise `False`."
   ]
  },
  {
   "cell_type": "code",
   "execution_count": 23,
   "id": "f8ad7f88",
   "metadata": {},
   "outputs": [
    {
     "data": {
      "text/plain": [
       "True"
      ]
     },
     "execution_count": 23,
     "metadata": {},
     "output_type": "execute_result"
    }
   ],
   "source": [
    "isinstance(car, Vehicle)"
   ]
  },
  {
   "cell_type": "code",
   "execution_count": 24,
   "id": "e932f3b5",
   "metadata": {},
   "outputs": [
    {
     "data": {
      "text/plain": [
       "True"
      ]
     },
     "execution_count": 24,
     "metadata": {},
     "output_type": "execute_result"
    }
   ],
   "source": [
    "isinstance(bicycle, Vehicle)"
   ]
  },
  {
   "cell_type": "code",
   "execution_count": 25,
   "id": "75b531ad",
   "metadata": {},
   "outputs": [
    {
     "name": "stdout",
     "output_type": "stream",
     "text": [
      "Hello world\n"
     ]
    }
   ],
   "source": [
    "class TempClass:\n",
    "    print('Hello world')\n",
    "    \n",
    "class TempChild(TempClass):\n",
    "    pass"
   ]
  },
  {
   "cell_type": "code",
   "execution_count": 26,
   "id": "f31b8a92",
   "metadata": {},
   "outputs": [
    {
     "data": {
      "text/plain": [
       "True"
      ]
     },
     "execution_count": 26,
     "metadata": {},
     "output_type": "execute_result"
    }
   ],
   "source": [
    "temp_obj = TempChild()\n",
    "isinstance(temp_obj, TempClass)"
   ]
  },
  {
   "cell_type": "code",
   "execution_count": 27,
   "id": "a101d6ab",
   "metadata": {},
   "outputs": [
    {
     "data": {
      "text/plain": [
       "False"
      ]
     },
     "execution_count": 27,
     "metadata": {},
     "output_type": "execute_result"
    }
   ],
   "source": [
    "isinstance(temp_obj, Vehicle)"
   ]
  },
  {
   "cell_type": "markdown",
   "id": "f8232f18",
   "metadata": {},
   "source": [
    "There is another built-in function `issubclass()` that can be used to check if the a particular child class is a subclass of a given parent class. The first argument in `issubclass()` must be a subclass and the later argument must be the parent class."
   ]
  },
  {
   "cell_type": "code",
   "execution_count": 21,
   "id": "236c1406",
   "metadata": {},
   "outputs": [
    {
     "data": {
      "text/plain": [
       "True"
      ]
     },
     "execution_count": 21,
     "metadata": {},
     "output_type": "execute_result"
    }
   ],
   "source": [
    "issubclass(Car, Vehicle)"
   ]
  },
  {
   "cell_type": "code",
   "execution_count": 28,
   "id": "851669d7",
   "metadata": {},
   "outputs": [
    {
     "data": {
      "text/plain": [
       "True"
      ]
     },
     "execution_count": 28,
     "metadata": {},
     "output_type": "execute_result"
    }
   ],
   "source": [
    "issubclass(Bicycle, Vehicle)"
   ]
  },
  {
   "cell_type": "code",
   "execution_count": 29,
   "id": "2f69b268",
   "metadata": {},
   "outputs": [
    {
     "data": {
      "text/plain": [
       "False"
      ]
     },
     "execution_count": 29,
     "metadata": {},
     "output_type": "execute_result"
    }
   ],
   "source": [
    "issubclass(TempChild, Vehicle)"
   ]
  },
  {
   "cell_type": "markdown",
   "id": "ad03d910",
   "metadata": {},
   "source": [
    "<a name='4'></a>\n",
    "\n",
    "## 4. Multiple Inheritance"
   ]
  },
  {
   "cell_type": "markdown",
   "id": "e7a28b0b",
   "metadata": {},
   "source": [
    "Python being a very unique programming language supports multiple inheritance where a new child class can be inherited from multiple parent classes.\n",
    "\n",
    "\n",
    "Below is the template for inheriting from several number of parent classes:\n",
    "\n",
    "```python\n",
    "\n",
    "class ChildClass(ParentClass1, ParentClass2, ParentClass3, ParentClass4):\n",
    "    \n",
    "    #Statements\n",
    "    \n",
    "```"
   ]
  },
  {
   "cell_type": "markdown",
   "id": "601787ae",
   "metadata": {},
   "source": [
    "It's rare that you will need to inherit from multiple classes, but if you happen to do, check the Python [doc](https://docs.python.org/3/tutorial/classes.html#multiple-inheritance) for more. "
   ]
  },
  {
   "cell_type": "markdown",
   "id": "a8c07f38",
   "metadata": {},
   "source": [
    "<a name='5'></a>\n",
    "\n",
    "## 5. Class Methods, Class Attributes, Static Methods"
   ]
  },
  {
   "cell_type": "markdown",
   "id": "42046234",
   "metadata": {},
   "source": [
    "Class methods are type of methods that are very specific to the class instead of the objects of the class. Class methods are represented by `@classmethod` decorator above `def` definition. The first parameter of methods is `cls` that stands for `class`.\n",
    "\n",
    "Class methods can not access regular class methods or attributes.\n",
    "\n",
    "Here is a template of class method:\n",
    "\n",
    "```python\n",
    "\n",
    "class ClassName:\n",
    "    \n",
    "    def regular_method(self):\n",
    "        #statements\n",
    "        \n",
    "    @classmethod\n",
    "    def class_method(cls):\n",
    "        #statements\n",
    "        \n",
    "```\n",
    "\n",
    "Class methods can be called without creating the object of the class.\n",
    "\n",
    "```python\n",
    "ClassName.class_method()\n",
    "```"
   ]
  },
  {
   "cell_type": "markdown",
   "id": "dac88457",
   "metadata": {},
   "source": [
    "Just like class methods, class attributes are variables that are specific to the class not the objects of the class. Class attributes are like global variables, they are defined above all methods and they are not initialized in `__init_() method`.\n",
    "\n",
    "Here is a template for class attributes:\n",
    "\n",
    "```python\n",
    "class ClassName:\n",
    "    num = 0\n",
    "    \n",
    "    # statements\n",
    " ```"
   ]
  },
  {
   "cell_type": "markdown",
   "id": "7293a8ea",
   "metadata": {},
   "source": [
    "Static methods are type of methods that don't have `self` or `cls` parameter and have `@staticmethod` decorator above `def` definition. Just like class methods, static methods can not access the class methods and attributes(variables).\n",
    "\n",
    "Below is a template for static methods:\n",
    "\n",
    "```python\n",
    "class ClassName:\n",
    "    \n",
    "    @staticmethod\n",
    "    def static_method_name():\n",
    "        #statements\n",
    "        \n",
    "```\n",
    "Static methods are not widely used in Python. They are common in languages like Java and C++.\n",
    "\n",
    "Inheritance, class methods and attributes, and static methods are rarely used. But it's good to know them so that you can be able to read the codes of those who still use them. Most frameworks also use them in their codebases, so it's good to know them!"
   ]
  },
  {
   "cell_type": "markdown",
   "id": "8714dc75",
   "metadata": {},
   "source": [
    "<a name='6'></a>\n",
    "\n",
    "## 6. Final Notes"
   ]
  },
  {
   "cell_type": "markdown",
   "id": "f7f9bdde",
   "metadata": {},
   "source": [
    "Inheritance is all about code reuse and OOP is about representing the real world complex systems into software objects. Classes are extremely helpful for organizing large piece of codes but they are probably not the right option when you are building something you just want to use once, normal functions are away better and simpler option.\n",
    "\n",
    ">Fun fact:\n",
    "Python language has 250 classes. That means that most Python programs should use fewer or no class at all. Interesting [watch](https://www.youtube.com/watch?v=o9pEzgHorH0) on why you should not use class!!"
   ]
  },
  {
   "cell_type": "markdown",
   "id": "c41fd8f3",
   "metadata": {},
   "source": [
    "### [BACK TO TOP](#0)"
   ]
  },
  {
   "cell_type": "code",
   "execution_count": null,
   "id": "4824e81a",
   "metadata": {},
   "outputs": [],
   "source": []
  }
 ],
 "metadata": {
  "kernelspec": {
   "display_name": "Python 3 (ipykernel)",
   "language": "python",
   "name": "python3"
  },
  "language_info": {
   "codemirror_mode": {
    "name": "ipython",
    "version": 3
   },
   "file_extension": ".py",
   "mimetype": "text/x-python",
   "name": "python",
   "nbconvert_exporter": "python",
   "pygments_lexer": "ipython3",
   "version": "3.9.7"
  }
 },
 "nbformat": 4,
 "nbformat_minor": 5
}
