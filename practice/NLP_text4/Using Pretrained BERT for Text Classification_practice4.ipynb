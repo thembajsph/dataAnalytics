{
 "cells": [
  {
   "cell_type": "code",
   "execution_count": null,
   "metadata": {},
   "outputs": [],
   "source": [
    "#Using Pretrained BERT for Text Classification"
   ]
  },
  {
   "cell_type": "code",
   "execution_count": null,
   "metadata": {},
   "outputs": [],
   "source": [
    "#Getting the Data"
   ]
  },
  {
   "cell_type": "code",
   "execution_count": 3,
   "metadata": {},
   "outputs": [],
   "source": [
    "import tensorflow as tf\n",
    "import tensorflow_datasets as tfds\n",
    "import numpy as np\n",
    "import matplotlib.pyplot as plt\n",
    "import tensorflow_hub as hub"
   ]
  },
  {
   "cell_type": "code",
   "execution_count": 2,
   "metadata": {},
   "outputs": [
    {
     "name": "stdout",
     "output_type": "stream",
     "text": [
      "Collecting tensorflow-hub\n",
      "  Downloading tensorflow_hub-0.12.0-py2.py3-none-any.whl (108 kB)\n",
      "\u001b[K     |████████████████████████████████| 108 kB 1.5 MB/s eta 0:00:01\n",
      "\u001b[?25hRequirement already satisfied: numpy>=1.12.0 in /home/thembajsph/Downloads/anaconda/lib/python3.8/site-packages (from tensorflow-hub) (1.22.1)\n",
      "Requirement already satisfied: protobuf>=3.8.0 in /home/thembajsph/Downloads/anaconda/lib/python3.8/site-packages (from tensorflow-hub) (3.15.7)\n",
      "Requirement already satisfied: six>=1.9 in /home/thembajsph/Downloads/anaconda/lib/python3.8/site-packages (from protobuf>=3.8.0->tensorflow-hub) (1.15.0)\n",
      "Installing collected packages: tensorflow-hub\n",
      "Successfully installed tensorflow-hub-0.12.0\n",
      "\u001b[33mWARNING: You are using pip version 21.2.4; however, version 22.0.3 is available.\n",
      "You should consider upgrading via the '/home/thembajsph/Downloads/anaconda/bin/python -m pip install --upgrade pip' command.\u001b[0m\n",
      "Note: you may need to restart the kernel to use updated packages.\n"
     ]
    }
   ],
   "source": [
    "pip install --upgrade tensorflow-hub"
   ]
  },
  {
   "cell_type": "code",
   "execution_count": 4,
   "metadata": {},
   "outputs": [],
   "source": [
    "(train_data, val_data), info = tfds.load('ag_news_subset:1.0.0', #version 1.0.0\n",
    "                                         split=('train', 'test'),\n",
    "                                         with_info=True, \n",
    "                                         as_supervised=True)"
   ]
  },
  {
   "cell_type": "code",
   "execution_count": 5,
   "metadata": {},
   "outputs": [
    {
     "name": "stdout",
     "output_type": "stream",
     "text": [
      "tfds.core.DatasetInfo(\n",
      "    name='ag_news_subset',\n",
      "    full_name='ag_news_subset/1.0.0',\n",
      "    description=\"\"\"\n",
      "    AG is a collection of more than 1 million news articles.\n",
      "    News articles have been gathered from more than 2000  news sources by ComeToMyHead in more than 1 year of activity.\n",
      "    ComeToMyHead is an academic news search engine which has been running since July, 2004.\n",
      "    The dataset is provided by the academic comunity for research purposes in data mining (clustering, classification, etc),\n",
      "    information retrieval (ranking, search, etc), xml, data compression, data streaming,\n",
      "    and any other non-commercial activity.\n",
      "    For more information, please refer to the link http://www.di.unipi.it/~gulli/AG_corpus_of_news_articles.html .\n",
      "    \n",
      "    The AG's news topic classification dataset is constructed by Xiang Zhang (xiang.zhang@nyu.edu) from the dataset above.\n",
      "    It is used as a text classification benchmark in the following paper:\n",
      "    Xiang Zhang, Junbo Zhao, Yann LeCun. Character-level Convolutional Networks for Text Classification. Advances in Neural Information Processing Systems 28 (NIPS 2015).\n",
      "    \n",
      "    The AG's news topic classification dataset is constructed by choosing 4 largest classes from the original corpus.\n",
      "    Each class contains 30,000 training samples and 1,900 testing samples.\n",
      "    The total number of training samples is 120,000 and testing 7,600.\n",
      "    \"\"\",\n",
      "    homepage='https://arxiv.org/abs/1509.01626',\n",
      "    data_path='/home/thembajsph/tensorflow_datasets/ag_news_subset/1.0.0',\n",
      "    download_size=11.24 MiB,\n",
      "    dataset_size=35.79 MiB,\n",
      "    features=FeaturesDict({\n",
      "        'description': Text(shape=(), dtype=tf.string),\n",
      "        'label': ClassLabel(shape=(), dtype=tf.int64, num_classes=4),\n",
      "        'title': Text(shape=(), dtype=tf.string),\n",
      "    }),\n",
      "    supervised_keys=('description', 'label'),\n",
      "    disable_shuffling=False,\n",
      "    splits={\n",
      "        'test': <SplitInfo num_examples=7600, num_shards=1>,\n",
      "        'train': <SplitInfo num_examples=120000, num_shards=1>,\n",
      "    },\n",
      "    citation=\"\"\"@misc{zhang2015characterlevel,\n",
      "        title={Character-level Convolutional Networks for Text Classification},\n",
      "        author={Xiang Zhang and Junbo Zhao and Yann LeCun},\n",
      "        year={2015},\n",
      "        eprint={1509.01626},\n",
      "        archivePrefix={arXiv},\n",
      "        primaryClass={cs.LG}\n",
      "    }\"\"\",\n",
      ")\n"
     ]
    }
   ],
   "source": [
    "print(info)"
   ]
  },
  {
   "cell_type": "code",
   "execution_count": 6,
   "metadata": {},
   "outputs": [
    {
     "name": "stdout",
     "output_type": "stream",
     "text": [
      "The news are grouped into 4 classes that are :['World', 'Sports', 'Business', 'Sci/Tech']\n"
     ]
    }
   ],
   "source": [
    "# Displaying the classes\n",
    "\n",
    "class_names = info.features['label'].names\n",
    "num_classes = info.features['label'].num_classes\n",
    "\n",
    "print(f'The news are grouped into {num_classes} classes that are :{class_names}')"
   ]
  },
  {
   "cell_type": "code",
   "execution_count": 7,
   "metadata": {},
   "outputs": [
    {
     "name": "stdout",
     "output_type": "stream",
     "text": [
      "The number of training samples: 120000 \n",
      "The number of validation samples: 7600\n"
     ]
    }
   ],
   "source": [
    "num_train = info.splits['train'].num_examples\n",
    "num_val = info.splits['test'].num_examples\n",
    "\n",
    "print(f'The number of training samples: {num_train} \\nThe number of validation samples: {num_val}')"
   ]
  },
  {
   "cell_type": "code",
   "execution_count": 8,
   "metadata": {},
   "outputs": [
    {
     "data": {
      "text/html": [
       "<div>\n",
       "<style scoped>\n",
       "    .dataframe tbody tr th:only-of-type {\n",
       "        vertical-align: middle;\n",
       "    }\n",
       "\n",
       "    .dataframe tbody tr th {\n",
       "        vertical-align: top;\n",
       "    }\n",
       "\n",
       "    .dataframe thead th {\n",
       "        text-align: right;\n",
       "    }\n",
       "</style>\n",
       "<table border=\"1\" class=\"dataframe\">\n",
       "  <thead>\n",
       "    <tr style=\"text-align: right;\">\n",
       "      <th></th>\n",
       "      <th>description</th>\n",
       "      <th>label</th>\n",
       "    </tr>\n",
       "  </thead>\n",
       "  <tbody>\n",
       "    <tr>\n",
       "      <th>0</th>\n",
       "      <td>b'AMD #39;s new dual-core Opteron chip is desi...</td>\n",
       "      <td>3</td>\n",
       "    </tr>\n",
       "    <tr>\n",
       "      <th>1</th>\n",
       "      <td>b'Reuters - Major League Baseball\\\\Monday anno...</td>\n",
       "      <td>1</td>\n",
       "    </tr>\n",
       "    <tr>\n",
       "      <th>2</th>\n",
       "      <td>b'President Bush #39;s  quot;revenue-neutral q...</td>\n",
       "      <td>2</td>\n",
       "    </tr>\n",
       "    <tr>\n",
       "      <th>3</th>\n",
       "      <td>b'Britain will run out of leading scientists u...</td>\n",
       "      <td>3</td>\n",
       "    </tr>\n",
       "    <tr>\n",
       "      <th>4</th>\n",
       "      <td>b'London, England (Sports Network) - England m...</td>\n",
       "      <td>1</td>\n",
       "    </tr>\n",
       "    <tr>\n",
       "      <th>5</th>\n",
       "      <td>b'TOKYO - Sony Corp. is banking on the \\\\$3 bi...</td>\n",
       "      <td>0</td>\n",
       "    </tr>\n",
       "    <tr>\n",
       "      <th>6</th>\n",
       "      <td>b'Giant pandas may well prefer bamboo to lapto...</td>\n",
       "      <td>3</td>\n",
       "    </tr>\n",
       "    <tr>\n",
       "      <th>7</th>\n",
       "      <td>b'VILNIUS, Lithuania - Lithuania #39;s main pa...</td>\n",
       "      <td>0</td>\n",
       "    </tr>\n",
       "    <tr>\n",
       "      <th>8</th>\n",
       "      <td>b'Witnesses in the trial of a US soldier charg...</td>\n",
       "      <td>0</td>\n",
       "    </tr>\n",
       "    <tr>\n",
       "      <th>9</th>\n",
       "      <td>b'Dan Olsen of Ponte Vedra Beach, Fla., shot a...</td>\n",
       "      <td>1</td>\n",
       "    </tr>\n",
       "  </tbody>\n",
       "</table>\n",
       "</div>"
      ],
      "text/plain": [
       "                                         description  label\n",
       "0  b'AMD #39;s new dual-core Opteron chip is desi...      3\n",
       "1  b'Reuters - Major League Baseball\\\\Monday anno...      1\n",
       "2  b'President Bush #39;s  quot;revenue-neutral q...      2\n",
       "3  b'Britain will run out of leading scientists u...      3\n",
       "4  b'London, England (Sports Network) - England m...      1\n",
       "5  b'TOKYO - Sony Corp. is banking on the \\\\$3 bi...      0\n",
       "6  b'Giant pandas may well prefer bamboo to lapto...      3\n",
       "7  b'VILNIUS, Lithuania - Lithuania #39;s main pa...      0\n",
       "8  b'Witnesses in the trial of a US soldier charg...      0\n",
       "9  b'Dan Olsen of Ponte Vedra Beach, Fla., shot a...      1"
      ]
     },
     "execution_count": 8,
     "metadata": {},
     "output_type": "execute_result"
    }
   ],
   "source": [
    "news_df = tfds.as_dataframe(train_data.take(10), info)\n",
    "\n",
    "news_df.head(10)"
   ]
  },
  {
   "cell_type": "code",
   "execution_count": 9,
   "metadata": {},
   "outputs": [
    {
     "name": "stdout",
     "output_type": "stream",
     "text": [
      "Sample news 0\n",
      "   Label: 3 World\n",
      "   Description: b'AMD #39;s new dual-core Opteron chip is designed mainly for corporate computing applications, including databases, Web services, and financial transactions.'\n",
      "----------\n",
      "\n",
      "Sample news 1\n",
      "   Label: 1 Sports\n",
      "   Description: b'Reuters - Major League Baseball\\\\Monday announced a decision on the appeal filed by Chicago Cubs\\\\pitcher Kerry Wood regarding a suspension stemming from an\\\\incident earlier this season.'\n",
      "----------\n",
      "\n",
      "Sample news 2\n",
      "   Label: 2 Business\n",
      "   Description: b'President Bush #39;s  quot;revenue-neutral quot; tax reform needs losers to balance its winners, and people claiming the federal deduction for state and local taxes may be in administration planners #39; sights, news reports say.'\n",
      "----------\n",
      "\n",
      "Sample news 3\n",
      "   Label: 3 Sci/Tech\n",
      "   Description: b'Britain will run out of leading scientists unless science education is improved, says Professor Colin Pillinger.'\n",
      "----------\n",
      "\n"
     ]
    }
   ],
   "source": [
    "for i in range (0,4):\n",
    "\n",
    "  print(f\"Sample news {i}\\n \\\n",
    "  Label: {news_df['label'][i]} {(class_names[i])}\\n \\\n",
    "  Description: {news_df['description'][i]}\\n----------\\n\")"
   ]
  },
  {
   "cell_type": "code",
   "execution_count": 10,
   "metadata": {},
   "outputs": [
    {
     "data": {
      "text/plain": [
       "Index(['description', 'label'], dtype='object')"
      ]
     },
     "execution_count": 10,
     "metadata": {},
     "output_type": "execute_result"
    }
   ],
   "source": [
    "news_df.columns"
   ]
  },
  {
   "cell_type": "code",
   "execution_count": null,
   "metadata": {},
   "outputs": [],
   "source": [
    "#Preparing the Data"
   ]
  },
  {
   "cell_type": "code",
   "execution_count": 11,
   "metadata": {},
   "outputs": [],
   "source": [
    "buffer_size = 1000\n",
    "batch_size = 32\n",
    "\n",
    "train_data = train_data.shuffle(buffer_size)\n",
    "train_data = train_data.batch(batch_size).prefetch(1)\n",
    "val_data = val_data.batch(batch_size).prefetch(1)"
   ]
  },
  {
   "cell_type": "code",
   "execution_count": 12,
   "metadata": {},
   "outputs": [
    {
     "name": "stdout",
     "output_type": "stream",
     "text": [
      "Sample news\n",
      "----\n",
      " [b' BANGKOK (Reuters) - A second bomb exploded near a food  stall in southern Thailand on Friday, wounding at least nine  members of a bomb squad investigating an earlier blast that  wounded four people.'\n",
      " b'Despite a wider quarterly loss, Martha Stewart Living Omnimedia was  quot;optimistic quot; about a springtime advertising rebound and an overall strengthening of the company coinciding with Stewart #39;s release '\n",
      " b'Mozilla Firefox is the Web browser you have been waiting for as an alternative to Microsofts Internet Explorer. If you are fed up with security warnings, virus threats and endless security patches from Microsoft, then switch to Firefox - now.'\n",
      " b'Red Bull Racing confirmed today that as part of the continued winter test programme, David Coulthard will join the team in Jerez (Spain) this week driving the 2004 car, the R5.'] \n",
      "----\n",
      "Corresponding labels: [0 2 3 1]\n"
     ]
    }
   ],
   "source": [
    "for news, label in train_data.take(1):\n",
    "\n",
    "  print(f'Sample news\\n----\\n {news.numpy()[:4]} \\n----\\nCorresponding labels: {label.numpy()[:4]}')"
   ]
  },
  {
   "cell_type": "code",
   "execution_count": null,
   "metadata": {},
   "outputs": [],
   "source": [
    "#Getting the BERT Model and its Preprocessing Model from TF Hub"
   ]
  },
  {
   "cell_type": "code",
   "execution_count": 14,
   "metadata": {},
   "outputs": [
    {
     "name": "stdout",
     "output_type": "stream",
     "text": [
      "Collecting tensorflow_text\n",
      "  Downloading tensorflow_text-2.8.1-cp38-cp38-manylinux_2_12_x86_64.manylinux2010_x86_64.whl (4.9 MB)\n",
      "\u001b[K     |████████████████████████████████| 4.9 MB 2.2 MB/s eta 0:00:01\n",
      "\u001b[?25hRequirement already satisfied: tensorflow-hub>=0.8.0 in /home/thembajsph/Downloads/anaconda/lib/python3.8/site-packages (from tensorflow_text) (0.12.0)\n",
      "Requirement already satisfied: tensorflow<2.9,>=2.8.0 in /home/thembajsph/Downloads/anaconda/lib/python3.8/site-packages (from tensorflow_text) (2.8.0)\n",
      "Requirement already satisfied: h5py>=2.9.0 in /home/thembajsph/Downloads/anaconda/lib/python3.8/site-packages (from tensorflow<2.9,>=2.8.0->tensorflow_text) (2.10.0)\n",
      "Requirement already satisfied: typing-extensions>=3.6.6 in /home/thembajsph/Downloads/anaconda/lib/python3.8/site-packages (from tensorflow<2.9,>=2.8.0->tensorflow_text) (3.7.4.3)\n",
      "Requirement already satisfied: opt-einsum>=2.3.2 in /home/thembajsph/Downloads/anaconda/lib/python3.8/site-packages (from tensorflow<2.9,>=2.8.0->tensorflow_text) (3.3.0)\n",
      "Requirement already satisfied: numpy>=1.20 in /home/thembajsph/Downloads/anaconda/lib/python3.8/site-packages (from tensorflow<2.9,>=2.8.0->tensorflow_text) (1.22.1)\n",
      "Requirement already satisfied: libclang>=9.0.1 in /home/thembajsph/Downloads/anaconda/lib/python3.8/site-packages (from tensorflow<2.9,>=2.8.0->tensorflow_text) (13.0.0)\n",
      "Requirement already satisfied: tensorflow-io-gcs-filesystem>=0.23.1 in /home/thembajsph/Downloads/anaconda/lib/python3.8/site-packages (from tensorflow<2.9,>=2.8.0->tensorflow_text) (0.23.1)\n",
      "Requirement already satisfied: gast>=0.2.1 in /home/thembajsph/Downloads/anaconda/lib/python3.8/site-packages (from tensorflow<2.9,>=2.8.0->tensorflow_text) (0.3.3)\n",
      "Requirement already satisfied: astunparse>=1.6.0 in /home/thembajsph/Downloads/anaconda/lib/python3.8/site-packages (from tensorflow<2.9,>=2.8.0->tensorflow_text) (1.6.3)\n",
      "Requirement already satisfied: setuptools in /home/thembajsph/Downloads/anaconda/lib/python3.8/site-packages (from tensorflow<2.9,>=2.8.0->tensorflow_text) (50.3.1.post20201107)\n",
      "Requirement already satisfied: protobuf>=3.9.2 in /home/thembajsph/Downloads/anaconda/lib/python3.8/site-packages (from tensorflow<2.9,>=2.8.0->tensorflow_text) (3.15.7)\n",
      "Requirement already satisfied: six>=1.12.0 in /home/thembajsph/Downloads/anaconda/lib/python3.8/site-packages (from tensorflow<2.9,>=2.8.0->tensorflow_text) (1.15.0)\n",
      "Requirement already satisfied: grpcio<2.0,>=1.24.3 in /home/thembajsph/Downloads/anaconda/lib/python3.8/site-packages (from tensorflow<2.9,>=2.8.0->tensorflow_text) (1.32.0)\n",
      "Requirement already satisfied: absl-py>=0.4.0 in /home/thembajsph/Downloads/anaconda/lib/python3.8/site-packages (from tensorflow<2.9,>=2.8.0->tensorflow_text) (0.12.0)\n",
      "Requirement already satisfied: keras-preprocessing>=1.1.1 in /home/thembajsph/Downloads/anaconda/lib/python3.8/site-packages (from tensorflow<2.9,>=2.8.0->tensorflow_text) (1.1.2)\n",
      "Requirement already satisfied: wrapt>=1.11.0 in /home/thembajsph/.local/lib/python3.8/site-packages (from tensorflow<2.9,>=2.8.0->tensorflow_text) (1.12.1)\n",
      "Requirement already satisfied: tf-estimator-nightly==2.8.0.dev2021122109 in /home/thembajsph/Downloads/anaconda/lib/python3.8/site-packages (from tensorflow<2.9,>=2.8.0->tensorflow_text) (2.8.0.dev2021122109)\n",
      "Requirement already satisfied: tensorboard<2.9,>=2.8 in /home/thembajsph/Downloads/anaconda/lib/python3.8/site-packages (from tensorflow<2.9,>=2.8.0->tensorflow_text) (2.8.0)\n",
      "Requirement already satisfied: flatbuffers>=1.12 in /home/thembajsph/Downloads/anaconda/lib/python3.8/site-packages (from tensorflow<2.9,>=2.8.0->tensorflow_text) (1.12)\n",
      "Requirement already satisfied: termcolor>=1.1.0 in /home/thembajsph/Downloads/anaconda/lib/python3.8/site-packages (from tensorflow<2.9,>=2.8.0->tensorflow_text) (1.1.0)\n",
      "Requirement already satisfied: google-pasta>=0.1.1 in /home/thembajsph/Downloads/anaconda/lib/python3.8/site-packages (from tensorflow<2.9,>=2.8.0->tensorflow_text) (0.2.0)\n",
      "Requirement already satisfied: keras<2.9,>=2.8.0rc0 in /home/thembajsph/Downloads/anaconda/lib/python3.8/site-packages (from tensorflow<2.9,>=2.8.0->tensorflow_text) (2.8.0)\n",
      "Requirement already satisfied: wheel<1.0,>=0.23.0 in /home/thembajsph/Downloads/anaconda/lib/python3.8/site-packages (from astunparse>=1.6.0->tensorflow<2.9,>=2.8.0->tensorflow_text) (0.35.1)\n",
      "Requirement already satisfied: markdown>=2.6.8 in /home/thembajsph/Downloads/anaconda/lib/python3.8/site-packages (from tensorboard<2.9,>=2.8->tensorflow<2.9,>=2.8.0->tensorflow_text) (3.3.4)\n",
      "Requirement already satisfied: requests<3,>=2.21.0 in /home/thembajsph/Downloads/anaconda/lib/python3.8/site-packages (from tensorboard<2.9,>=2.8->tensorflow<2.9,>=2.8.0->tensorflow_text) (2.24.0)\n",
      "Requirement already satisfied: google-auth-oauthlib<0.5,>=0.4.1 in /home/thembajsph/Downloads/anaconda/lib/python3.8/site-packages (from tensorboard<2.9,>=2.8->tensorflow<2.9,>=2.8.0->tensorflow_text) (0.4.4)\n",
      "Requirement already satisfied: tensorboard-data-server<0.7.0,>=0.6.0 in /home/thembajsph/Downloads/anaconda/lib/python3.8/site-packages (from tensorboard<2.9,>=2.8->tensorflow<2.9,>=2.8.0->tensorflow_text) (0.6.1)\n",
      "Requirement already satisfied: werkzeug>=0.11.15 in /home/thembajsph/Downloads/anaconda/lib/python3.8/site-packages (from tensorboard<2.9,>=2.8->tensorflow<2.9,>=2.8.0->tensorflow_text) (1.0.1)\n",
      "Requirement already satisfied: google-auth<3,>=1.6.3 in /home/thembajsph/Downloads/anaconda/lib/python3.8/site-packages (from tensorboard<2.9,>=2.8->tensorflow<2.9,>=2.8.0->tensorflow_text) (1.28.0)\n",
      "Requirement already satisfied: tensorboard-plugin-wit>=1.6.0 in /home/thembajsph/Downloads/anaconda/lib/python3.8/site-packages (from tensorboard<2.9,>=2.8->tensorflow<2.9,>=2.8.0->tensorflow_text) (1.8.0)\n",
      "Requirement already satisfied: cachetools<5.0,>=2.0.0 in /home/thembajsph/Downloads/anaconda/lib/python3.8/site-packages (from google-auth<3,>=1.6.3->tensorboard<2.9,>=2.8->tensorflow<2.9,>=2.8.0->tensorflow_text) (4.2.1)\n",
      "Requirement already satisfied: pyasn1-modules>=0.2.1 in /home/thembajsph/Downloads/anaconda/lib/python3.8/site-packages (from google-auth<3,>=1.6.3->tensorboard<2.9,>=2.8->tensorflow<2.9,>=2.8.0->tensorflow_text) (0.2.8)\n",
      "Requirement already satisfied: rsa<5,>=3.1.4 in /home/thembajsph/Downloads/anaconda/lib/python3.8/site-packages (from google-auth<3,>=1.6.3->tensorboard<2.9,>=2.8->tensorflow<2.9,>=2.8.0->tensorflow_text) (4.7.2)\n",
      "Requirement already satisfied: requests-oauthlib>=0.7.0 in /home/thembajsph/Downloads/anaconda/lib/python3.8/site-packages (from google-auth-oauthlib<0.5,>=0.4.1->tensorboard<2.9,>=2.8->tensorflow<2.9,>=2.8.0->tensorflow_text) (1.3.0)\n",
      "Requirement already satisfied: pyasn1<0.5.0,>=0.4.6 in /home/thembajsph/Downloads/anaconda/lib/python3.8/site-packages (from pyasn1-modules>=0.2.1->google-auth<3,>=1.6.3->tensorboard<2.9,>=2.8->tensorflow<2.9,>=2.8.0->tensorflow_text) (0.4.8)\n",
      "Requirement already satisfied: certifi>=2017.4.17 in /home/thembajsph/Downloads/anaconda/lib/python3.8/site-packages (from requests<3,>=2.21.0->tensorboard<2.9,>=2.8->tensorflow<2.9,>=2.8.0->tensorflow_text) (2020.6.20)\n",
      "Requirement already satisfied: urllib3!=1.25.0,!=1.25.1,<1.26,>=1.21.1 in /home/thembajsph/Downloads/anaconda/lib/python3.8/site-packages (from requests<3,>=2.21.0->tensorboard<2.9,>=2.8->tensorflow<2.9,>=2.8.0->tensorflow_text) (1.25.11)\n",
      "Requirement already satisfied: chardet<4,>=3.0.2 in /home/thembajsph/Downloads/anaconda/lib/python3.8/site-packages (from requests<3,>=2.21.0->tensorboard<2.9,>=2.8->tensorflow<2.9,>=2.8.0->tensorflow_text) (3.0.4)\n",
      "Requirement already satisfied: idna<3,>=2.5 in /home/thembajsph/Downloads/anaconda/lib/python3.8/site-packages (from requests<3,>=2.21.0->tensorboard<2.9,>=2.8->tensorflow<2.9,>=2.8.0->tensorflow_text) (2.10)\n",
      "Requirement already satisfied: oauthlib>=3.0.0 in /home/thembajsph/Downloads/anaconda/lib/python3.8/site-packages (from requests-oauthlib>=0.7.0->google-auth-oauthlib<0.5,>=0.4.1->tensorboard<2.9,>=2.8->tensorflow<2.9,>=2.8.0->tensorflow_text) (3.1.0)\n",
      "Installing collected packages: tensorflow-text\n",
      "Successfully installed tensorflow-text-2.8.1\n",
      "\u001b[33mWARNING: You are using pip version 21.2.4; however, version 22.0.3 is available.\n",
      "You should consider upgrading via the '/home/thembajsph/Downloads/anaconda/bin/python -m pip install --upgrade pip' command.\u001b[0m\n"
     ]
    }
   ],
   "source": [
    "!pip install tensorflow_text\n",
    "import tensorflow_text as text"
   ]
  },
  {
   "cell_type": "code",
   "execution_count": 15,
   "metadata": {},
   "outputs": [],
   "source": [
    "bert_handle = 'https://tfhub.dev/tensorflow/small_bert/bert_en_uncased_L-4_H-512_A-8/2'\n",
    "preprocessing_model = 'https://tfhub.dev/tensorflow/bert_en_uncased_preprocess/3'"
   ]
  },
  {
   "cell_type": "code",
   "execution_count": 16,
   "metadata": {},
   "outputs": [],
   "source": [
    "preprocess_layer = hub.KerasLayer(preprocessing_model)"
   ]
  },
  {
   "cell_type": "code",
   "execution_count": 17,
   "metadata": {},
   "outputs": [
    {
     "name": "stdout",
     "output_type": "stream",
     "text": [
      "Keys       : ['input_mask', 'input_type_ids', 'input_word_ids']\n",
      "Shape      : (1, 128)\n",
      "Word Ids   : [  101  6627 11256  1024  1996]\n",
      "Input Mask : [1 1 1 1 1]\n",
      "Type Ids   : [0 0 0 0 0]\n"
     ]
    }
   ],
   "source": [
    "sample_news = ['Tech rumors: The tech giant Apple is working on its self driving car']\n",
    "\n",
    "preprocessed_news = preprocess_layer(sample_news)\n",
    "\n",
    "print(f'Keys       : {list(preprocessed_news.keys())}')\n",
    "print(f'Shape      : {preprocessed_news[\"input_word_ids\"].shape}')\n",
    "print(f'Word Ids   : {preprocessed_news[\"input_word_ids\"][0, :5]}')\n",
    "print(f'Input Mask : {preprocessed_news[\"input_mask\"][0, :5]}')\n",
    "print(f'Type Ids   : {preprocessed_news[\"input_type_ids\"][0, :5]}')"
   ]
  },
  {
   "cell_type": "code",
   "execution_count": 18,
   "metadata": {},
   "outputs": [],
   "source": [
    "bert_model = hub.KerasLayer(bert_handle)"
   ]
  },
  {
   "cell_type": "code",
   "execution_count": 19,
   "metadata": {},
   "outputs": [
    {
     "name": "stdout",
     "output_type": "stream",
     "text": [
      "Pooled output shape:(1, 512)\n",
      "Pooled output values:[ 0.9445979   0.9861868  -0.15102866  0.17372079 -0.6424563 ]\n",
      "Sequence output shape:(1, 128, 512)\n",
      "Sequence output values:[[-0.60826135  0.2623039   1.2436795  ... -0.8821721   0.3609534\n",
      "  -0.00184701]\n",
      " [ 0.33820486  0.07993746  1.137402   ... -1.6438915  -1.0649077\n",
      "  -0.7371697 ]\n",
      " [-0.6054916  -0.14994557  0.8464853  ... -0.7473044   0.8475895\n",
      "   0.13153425]\n",
      " [ 0.06868968  0.69697636  1.526533   ... -0.7680911  -0.30986091\n",
      "   0.25017276]\n",
      " [-1.2314894   1.433406   -0.37746835 ... -1.3110954  -0.01984587\n",
      "   0.7904862 ]]\n"
     ]
    }
   ],
   "source": [
    "bert_outputs = bert_model(preprocessed_news)\n",
    "\n",
    "print(f'Pooled output shape:{bert_outputs[\"pooled_output\"].shape}')\n",
    "print(f'Pooled output values:{bert_outputs[\"pooled_output\"][0, :5]}')\n",
    "print(f'Sequence output shape:{bert_outputs[\"sequence_output\"].shape}')\n",
    "print(f'Sequence output values:{bert_outputs[\"sequence_output\"][0, :5]}')"
   ]
  },
  {
   "cell_type": "code",
   "execution_count": 20,
   "metadata": {},
   "outputs": [],
   "source": [
    "#Building a News Classifier with BERT"
   ]
  },
  {
   "cell_type": "code",
   "execution_count": 21,
   "metadata": {},
   "outputs": [],
   "source": [
    "input_text = tf.keras.layers.Input(shape=(), dtype=tf.string, name='Input')\n",
    "\n",
    "# A preprocesing model before layer BERT\n",
    "preprocessing_layer = hub.KerasLayer(preprocessing_model, name='preprocessing_layer')\n",
    "\n",
    "bert_input = preprocessing_layer(input_text)\n",
    "\n",
    "# Getting a Bert model, set trainable to True\n",
    "bert_encoder = hub.KerasLayer(bert_handle, trainable=True, name='bert_encoder')\n",
    "\n",
    "bert_outputs = bert_encoder(bert_input)\n",
    "\n",
    "# For finetuning, we take pooled_output\n",
    "pooled_bert_output = bert_outputs['pooled_output']\n",
    "\n",
    "# Adding a dense layer \n",
    "\n",
    "dense_net = tf.keras.layers.Dense(16, activation='relu', name='fully_connected_layer')(pooled_bert_output)\n",
    "# Add dropout layer for regularization\n",
    "dense_net = tf.keras.layers.Dropout(0.2)(dense_net)\n",
    "\n",
    "# Last dense layer for classification purpose\n",
    "final_output = tf.keras.layers.Dense(4, activation='softmax', name='classifier')(dense_net)\n",
    "\n",
    "# Combine input and output\n",
    "\n",
    "news_classifier = tf.keras.Model(input_text, final_output)"
   ]
  },
  {
   "cell_type": "code",
   "execution_count": 22,
   "metadata": {},
   "outputs": [
    {
     "name": "stdout",
     "output_type": "stream",
     "text": [
      "Model: \"model\"\n",
      "__________________________________________________________________________________________________\n",
      " Layer (type)                   Output Shape         Param #     Connected to                     \n",
      "==================================================================================================\n",
      " Input (InputLayer)             [(None,)]            0           []                               \n",
      "                                                                                                  \n",
      " preprocessing_layer (KerasLaye  {'input_word_ids':   0          ['Input[0][0]']                  \n",
      " r)                             (None, 128),                                                      \n",
      "                                 'input_mask': (Non                                               \n",
      "                                e, 128),                                                          \n",
      "                                 'input_type_ids':                                                \n",
      "                                (None, 128)}                                                      \n",
      "                                                                                                  \n",
      " bert_encoder (KerasLayer)      {'default': (None,   28763649    ['preprocessing_layer[0][0]',    \n",
      "                                512),                             'preprocessing_layer[0][1]',    \n",
      "                                 'sequence_output':               'preprocessing_layer[0][2]']    \n",
      "                                 (None, 128, 512),                                                \n",
      "                                 'pooled_output': (                                               \n",
      "                                None, 512),                                                       \n",
      "                                 'encoder_outputs':                                               \n",
      "                                 [(None, 128, 512),                                               \n",
      "                                 (None, 128, 512),                                                \n",
      "                                 (None, 128, 512),                                                \n",
      "                                 (None, 128, 512)]}                                               \n",
      "                                                                                                  \n",
      " fully_connected_layer (Dense)  (None, 16)           8208        ['bert_encoder[0][5]']           \n",
      "                                                                                                  \n",
      " dropout (Dropout)              (None, 16)           0           ['fully_connected_layer[0][0]']  \n",
      "                                                                                                  \n",
      " classifier (Dense)             (None, 4)            68          ['dropout[0][0]']                \n",
      "                                                                                                  \n",
      "==================================================================================================\n",
      "Total params: 28,771,925\n",
      "Trainable params: 28,771,924\n",
      "Non-trainable params: 1\n",
      "__________________________________________________________________________________________________\n"
     ]
    }
   ],
   "source": [
    "news_classifier.summary()"
   ]
  },
  {
   "cell_type": "code",
   "execution_count": 23,
   "metadata": {},
   "outputs": [
    {
     "data": {
      "image/png": "[encoded data removed]",
      "text/plain": [
       "<IPython.core.display.Image object>"
      ]
     },
     "execution_count": 23,
     "metadata": {},
     "output_type": "execute_result"
    }
   ],
   "source": [
    "tf.keras.utils.plot_model(news_classifier, rankdir='LR', dpi=120)"
   ]
  },
  {
   "cell_type": "code",
   "execution_count": 24,
   "metadata": {},
   "outputs": [],
   "source": [
    "#Training a Finetuned BERT"
   ]
  },
  {
   "cell_type": "code",
   "execution_count": 25,
   "metadata": {},
   "outputs": [],
   "source": [
    "news_classifier.compile(optimizer=tf.keras.optimizers.Adam(learning_rate=3e-5), \n",
    "                        loss='sparse_categorical_crossentropy', \n",
    "                        metrics=['accuracy'])"
   ]
  },
  {
   "cell_type": "code",
   "execution_count": null,
   "metadata": {},
   "outputs": [
    {
     "name": "stdout",
     "output_type": "stream",
     "text": [
      "Epoch 1/15\n",
      " 51/117 [============>.................] - ETA: 8:24 - loss: 1.0641 - accuracy: 0.5625"
     ]
    }
   ],
   "source": [
    "# Train the model\n",
    "\n",
    "batch_size = 32\n",
    "\n",
    "train_steps = int(len(train_data)/batch_size)\n",
    "val_steps = int(len(val_data)/batch_size)\n",
    "\n",
    "history = news_classifier.fit(train_data, \n",
    "                    epochs=15,\n",
    "                    validation_data=val_data,\n",
    "                    steps_per_epoch=train_steps,\n",
    "                    validation_steps=val_steps\n",
    ")"
   ]
  },
  {
   "cell_type": "code",
   "execution_count": null,
   "metadata": {},
   "outputs": [],
   "source": [
    "#Visualizing the Model Results"
   ]
  },
  {
   "cell_type": "code",
   "execution_count": null,
   "metadata": {},
   "outputs": [],
   "source": [
    "# function to plot accuracy and loss\n",
    "\n",
    "def plot_acc_loss(history):\n",
    "\n",
    "  model_history = history.history\n",
    "  acc = model_history['accuracy']\n",
    "  val_acc = model_history['val_accuracy']\n",
    "  loss = model_history['loss']\n",
    "  val_loss = model_history['val_loss']\n",
    "  epochs = history.epoch\n",
    "\n",
    "  plt.figure(figsize=(10,5))\n",
    "  plt.plot(epochs, acc, 'r', label='Training Accuracy')\n",
    "  plt.plot(epochs, val_acc, 'g', label='Validation Accuracy')\n",
    "  plt.title('Training and validation accuracy')\n",
    "  plt.xlabel('Epochs')\n",
    "  plt.ylabel('Accuracy')\n",
    "  plt.legend(loc=0)\n",
    "\n",
    "  # Create a new figure with plt.figure()\n",
    "  plt.figure()\n",
    "\n",
    "  plt.figure(figsize=(10,5))\n",
    "  plt.plot(epochs, loss, 'b', label='Training Loss')\n",
    "  plt.plot(epochs, val_loss, 'y', label='Validation Loss')\n",
    "  plt.title('Training and Validation Loss')\n",
    "  plt.xlabel('Epochs')\n",
    "  plt.ylabel('Loss')\n",
    "  plt.legend(loc=0)\n",
    "  plt.show()"
   ]
  },
  {
   "cell_type": "code",
   "execution_count": null,
   "metadata": {},
   "outputs": [],
   "source": [
    "plot_acc_loss(history)"
   ]
  },
  {
   "cell_type": "code",
   "execution_count": null,
   "metadata": {},
   "outputs": [],
   "source": [
    "#Performing Inference on New Texts"
   ]
  },
  {
   "cell_type": "code",
   "execution_count": null,
   "metadata": {},
   "outputs": [],
   "source": [
    "def predict(model, sample_news, class_names):\n",
    "\n",
    "  # Convert sample news into array\n",
    "\n",
    "  sample_news = np.array(sample_news)\n",
    "\n",
    "  # Predict the news type\n",
    "\n",
    "  preds = model.predict(sample_news)\n",
    "\n",
    "  pred_class = np.argmax(preds[0])\n",
    "\n",
    "  print(f'predicted class: {pred_class} \\nPredicted Class name: {class_names[pred_class]}')\n"
   ]
  },
  {
   "cell_type": "code",
   "execution_count": null,
   "metadata": {},
   "outputs": [],
   "source": [
    "sample_news = ['Tesla, a self driving car company is also planning to make a humanoid robot. This humanoid robot appeared dancing in the latest Tesla AI day']\n",
    "\n",
    "predict(news_classifier, sample_news, class_names)"
   ]
  },
  {
   "cell_type": "code",
   "execution_count": null,
   "metadata": {},
   "outputs": [],
   "source": [
    "sample_news = [\"In the last weeks, there has been many transfer suprises in footbal. Ronaldo went back to Old Trafford, \"\n",
    "                \"while Messi went to Paris Saint Germain to join his former colleague Neymar.\"\n",
    "                \"We can't wait to see these two clubs will perform in upcoming leagues\"]\n",
    "            \n",
    "\n",
    "predict(news_classifier, sample_news, class_names)"
   ]
  },
  {
   "cell_type": "code",
   "execution_count": null,
   "metadata": {},
   "outputs": [],
   "source": [
    "sample_news = [\"In the latest tech news: The tech giant NVIDIA has acquired ARM, a microproccessor company\"]\n",
    "            \n",
    "\n",
    "predict(news_classifier, sample_news, class_names)"
   ]
  },
  {
   "cell_type": "code",
   "execution_count": null,
   "metadata": {},
   "outputs": [],
   "source": [
    "sample_news = [\"Salesforce reported making over 1B sales in last quarter\"]\n",
    "            \n",
    "\n",
    "predict(news_classifier, sample_news, class_names)"
   ]
  },
  {
   "cell_type": "code",
   "execution_count": null,
   "metadata": {},
   "outputs": [],
   "source": []
  },
  {
   "cell_type": "code",
   "execution_count": null,
   "metadata": {},
   "outputs": [],
   "source": []
  },
  {
   "cell_type": "code",
   "execution_count": null,
   "metadata": {},
   "outputs": [],
   "source": []
  },
  {
   "cell_type": "code",
   "execution_count": null,
   "metadata": {},
   "outputs": [],
   "source": []
  }
 ],
 "metadata": {
  "kernelspec": {
   "display_name": "Python 3",
   "language": "python",
   "name": "python3"
  },
  "language_info": {
   "codemirror_mode": {
    "name": "ipython",
    "version": 3
   },
   "file_extension": ".py",
   "mimetype": "text/x-python",
   "name": "python",
   "nbconvert_exporter": "python",
   "pygments_lexer": "ipython3",
   "version": "3.8.5"
  }
 },
 "nbformat": 4,
 "nbformat_minor": 4
}
