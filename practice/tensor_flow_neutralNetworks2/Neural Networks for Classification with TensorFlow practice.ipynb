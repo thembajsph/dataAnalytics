{
 "cells": [
  {
   "cell_type": "code",
   "execution_count": null,
   "metadata": {},
   "outputs": [],
   "source": [
    "#Neural Networks for Classification with TensorFlow"
   ]
  },
  {
   "cell_type": "code",
   "execution_count": 1,
   "metadata": {},
   "outputs": [],
   "source": [
    "import numpy as np\n",
    "import pandas as pd\n",
    "import sklearn\n",
    "import seaborn as sns\n",
    "import matplotlib.pyplot as plt\n",
    "\n",
    "import tensorflow as tf\n",
    "from tensorflow import keras"
   ]
  },
  {
   "cell_type": "code",
   "execution_count": 2,
   "metadata": {},
   "outputs": [],
   "source": [
    "from sklearn.datasets import load_breast_cancer"
   ]
  },
  {
   "cell_type": "code",
   "execution_count": 3,
   "metadata": {},
   "outputs": [],
   "source": [
    "data = load_breast_cancer()"
   ]
  },
  {
   "cell_type": "code",
   "execution_count": 4,
   "metadata": {},
   "outputs": [
    {
     "data": {
      "text/plain": [
       "['mean radius',\n",
       " 'mean texture',\n",
       " 'mean perimeter',\n",
       " 'mean area',\n",
       " 'mean smoothness',\n",
       " 'mean compactness',\n",
       " 'mean concavity',\n",
       " 'mean concave points',\n",
       " 'mean symmetry',\n",
       " 'mean fractal dimension',\n",
       " 'radius error',\n",
       " 'texture error',\n",
       " 'perimeter error',\n",
       " 'area error',\n",
       " 'smoothness error',\n",
       " 'compactness error',\n",
       " 'concavity error',\n",
       " 'concave points error',\n",
       " 'symmetry error',\n",
       " 'fractal dimension error',\n",
       " 'worst radius',\n",
       " 'worst texture',\n",
       " 'worst perimeter',\n",
       " 'worst area',\n",
       " 'worst smoothness',\n",
       " 'worst compactness',\n",
       " 'worst concavity',\n",
       " 'worst concave points',\n",
       " 'worst symmetry',\n",
       " 'worst fractal dimension']"
      ]
     },
     "execution_count": 4,
     "metadata": {},
     "output_type": "execute_result"
    }
   ],
   "source": [
    "# the dataset contain the following features\n",
    "\n",
    "list(data.feature_names)"
   ]
  },
  {
   "cell_type": "code",
   "execution_count": 5,
   "metadata": {},
   "outputs": [
    {
     "data": {
      "text/plain": [
       "array(['malignant', 'benign'], dtype='<U9')"
      ]
     },
     "execution_count": 5,
     "metadata": {},
     "output_type": "execute_result"
    }
   ],
   "source": [
    "# the dataset contain the following labels\n",
    "\n",
    "data.target_names"
   ]
  },
  {
   "cell_type": "code",
   "execution_count": 6,
   "metadata": {},
   "outputs": [],
   "source": [
    "# Getting features and labels \n",
    "\n",
    "X = data.data\n",
    "y = data.target"
   ]
  },
  {
   "cell_type": "code",
   "execution_count": 7,
   "metadata": {},
   "outputs": [
    {
     "data": {
      "text/plain": [
       "numpy.ndarray"
      ]
     },
     "execution_count": 7,
     "metadata": {},
     "output_type": "execute_result"
    }
   ],
   "source": [
    "# the features and labels are numpy array \n",
    "\n",
    "type(X)"
   ]
  },
  {
   "cell_type": "code",
   "execution_count": 8,
   "metadata": {},
   "outputs": [],
   "source": [
    "# To quickly look in data we can get the dataframe from X\n",
    "\n",
    "data_df = pd.DataFrame(X, columns=data.feature_names)"
   ]
  },
  {
   "cell_type": "code",
   "execution_count": 9,
   "metadata": {},
   "outputs": [],
   "source": [
    "#Taking a look in the data"
   ]
  },
  {
   "cell_type": "code",
   "execution_count": 10,
   "metadata": {},
   "outputs": [
    {
     "data": {
      "text/html": [
       "<div>\n",
       "<style scoped>\n",
       "    .dataframe tbody tr th:only-of-type {\n",
       "        vertical-align: middle;\n",
       "    }\n",
       "\n",
       "    .dataframe tbody tr th {\n",
       "        vertical-align: top;\n",
       "    }\n",
       "\n",
       "    .dataframe thead th {\n",
       "        text-align: right;\n",
       "    }\n",
       "</style>\n",
       "<table border=\"1\" class=\"dataframe\">\n",
       "  <thead>\n",
       "    <tr style=\"text-align: right;\">\n",
       "      <th></th>\n",
       "      <th>mean radius</th>\n",
       "      <th>mean texture</th>\n",
       "      <th>mean perimeter</th>\n",
       "      <th>mean area</th>\n",
       "      <th>mean smoothness</th>\n",
       "      <th>mean compactness</th>\n",
       "      <th>mean concavity</th>\n",
       "      <th>mean concave points</th>\n",
       "      <th>mean symmetry</th>\n",
       "      <th>mean fractal dimension</th>\n",
       "      <th>...</th>\n",
       "      <th>worst radius</th>\n",
       "      <th>worst texture</th>\n",
       "      <th>worst perimeter</th>\n",
       "      <th>worst area</th>\n",
       "      <th>worst smoothness</th>\n",
       "      <th>worst compactness</th>\n",
       "      <th>worst concavity</th>\n",
       "      <th>worst concave points</th>\n",
       "      <th>worst symmetry</th>\n",
       "      <th>worst fractal dimension</th>\n",
       "    </tr>\n",
       "  </thead>\n",
       "  <tbody>\n",
       "    <tr>\n",
       "      <th>0</th>\n",
       "      <td>17.99</td>\n",
       "      <td>10.38</td>\n",
       "      <td>122.80</td>\n",
       "      <td>1001.0</td>\n",
       "      <td>0.11840</td>\n",
       "      <td>0.27760</td>\n",
       "      <td>0.3001</td>\n",
       "      <td>0.14710</td>\n",
       "      <td>0.2419</td>\n",
       "      <td>0.07871</td>\n",
       "      <td>...</td>\n",
       "      <td>25.38</td>\n",
       "      <td>17.33</td>\n",
       "      <td>184.60</td>\n",
       "      <td>2019.0</td>\n",
       "      <td>0.1622</td>\n",
       "      <td>0.6656</td>\n",
       "      <td>0.7119</td>\n",
       "      <td>0.2654</td>\n",
       "      <td>0.4601</td>\n",
       "      <td>0.11890</td>\n",
       "    </tr>\n",
       "    <tr>\n",
       "      <th>1</th>\n",
       "      <td>20.57</td>\n",
       "      <td>17.77</td>\n",
       "      <td>132.90</td>\n",
       "      <td>1326.0</td>\n",
       "      <td>0.08474</td>\n",
       "      <td>0.07864</td>\n",
       "      <td>0.0869</td>\n",
       "      <td>0.07017</td>\n",
       "      <td>0.1812</td>\n",
       "      <td>0.05667</td>\n",
       "      <td>...</td>\n",
       "      <td>24.99</td>\n",
       "      <td>23.41</td>\n",
       "      <td>158.80</td>\n",
       "      <td>1956.0</td>\n",
       "      <td>0.1238</td>\n",
       "      <td>0.1866</td>\n",
       "      <td>0.2416</td>\n",
       "      <td>0.1860</td>\n",
       "      <td>0.2750</td>\n",
       "      <td>0.08902</td>\n",
       "    </tr>\n",
       "    <tr>\n",
       "      <th>2</th>\n",
       "      <td>19.69</td>\n",
       "      <td>21.25</td>\n",
       "      <td>130.00</td>\n",
       "      <td>1203.0</td>\n",
       "      <td>0.10960</td>\n",
       "      <td>0.15990</td>\n",
       "      <td>0.1974</td>\n",
       "      <td>0.12790</td>\n",
       "      <td>0.2069</td>\n",
       "      <td>0.05999</td>\n",
       "      <td>...</td>\n",
       "      <td>23.57</td>\n",
       "      <td>25.53</td>\n",
       "      <td>152.50</td>\n",
       "      <td>1709.0</td>\n",
       "      <td>0.1444</td>\n",
       "      <td>0.4245</td>\n",
       "      <td>0.4504</td>\n",
       "      <td>0.2430</td>\n",
       "      <td>0.3613</td>\n",
       "      <td>0.08758</td>\n",
       "    </tr>\n",
       "    <tr>\n",
       "      <th>3</th>\n",
       "      <td>11.42</td>\n",
       "      <td>20.38</td>\n",
       "      <td>77.58</td>\n",
       "      <td>386.1</td>\n",
       "      <td>0.14250</td>\n",
       "      <td>0.28390</td>\n",
       "      <td>0.2414</td>\n",
       "      <td>0.10520</td>\n",
       "      <td>0.2597</td>\n",
       "      <td>0.09744</td>\n",
       "      <td>...</td>\n",
       "      <td>14.91</td>\n",
       "      <td>26.50</td>\n",
       "      <td>98.87</td>\n",
       "      <td>567.7</td>\n",
       "      <td>0.2098</td>\n",
       "      <td>0.8663</td>\n",
       "      <td>0.6869</td>\n",
       "      <td>0.2575</td>\n",
       "      <td>0.6638</td>\n",
       "      <td>0.17300</td>\n",
       "    </tr>\n",
       "    <tr>\n",
       "      <th>4</th>\n",
       "      <td>20.29</td>\n",
       "      <td>14.34</td>\n",
       "      <td>135.10</td>\n",
       "      <td>1297.0</td>\n",
       "      <td>0.10030</td>\n",
       "      <td>0.13280</td>\n",
       "      <td>0.1980</td>\n",
       "      <td>0.10430</td>\n",
       "      <td>0.1809</td>\n",
       "      <td>0.05883</td>\n",
       "      <td>...</td>\n",
       "      <td>22.54</td>\n",
       "      <td>16.67</td>\n",
       "      <td>152.20</td>\n",
       "      <td>1575.0</td>\n",
       "      <td>0.1374</td>\n",
       "      <td>0.2050</td>\n",
       "      <td>0.4000</td>\n",
       "      <td>0.1625</td>\n",
       "      <td>0.2364</td>\n",
       "      <td>0.07678</td>\n",
       "    </tr>\n",
       "  </tbody>\n",
       "</table>\n",
       "<p>5 rows × 30 columns</p>\n",
       "</div>"
      ],
      "text/plain": [
       "   mean radius  mean texture  mean perimeter  mean area  mean smoothness  \\\n",
       "0        17.99         10.38          122.80     1001.0          0.11840   \n",
       "1        20.57         17.77          132.90     1326.0          0.08474   \n",
       "2        19.69         21.25          130.00     1203.0          0.10960   \n",
       "3        11.42         20.38           77.58      386.1          0.14250   \n",
       "4        20.29         14.34          135.10     1297.0          0.10030   \n",
       "\n",
       "   mean compactness  mean concavity  mean concave points  mean symmetry  \\\n",
       "0           0.27760          0.3001              0.14710         0.2419   \n",
       "1           0.07864          0.0869              0.07017         0.1812   \n",
       "2           0.15990          0.1974              0.12790         0.2069   \n",
       "3           0.28390          0.2414              0.10520         0.2597   \n",
       "4           0.13280          0.1980              0.10430         0.1809   \n",
       "\n",
       "   mean fractal dimension  ...  worst radius  worst texture  worst perimeter  \\\n",
       "0                 0.07871  ...         25.38          17.33           184.60   \n",
       "1                 0.05667  ...         24.99          23.41           158.80   \n",
       "2                 0.05999  ...         23.57          25.53           152.50   \n",
       "3                 0.09744  ...         14.91          26.50            98.87   \n",
       "4                 0.05883  ...         22.54          16.67           152.20   \n",
       "\n",
       "   worst area  worst smoothness  worst compactness  worst concavity  \\\n",
       "0      2019.0            0.1622             0.6656           0.7119   \n",
       "1      1956.0            0.1238             0.1866           0.2416   \n",
       "2      1709.0            0.1444             0.4245           0.4504   \n",
       "3       567.7            0.2098             0.8663           0.6869   \n",
       "4      1575.0            0.1374             0.2050           0.4000   \n",
       "\n",
       "   worst concave points  worst symmetry  worst fractal dimension  \n",
       "0                0.2654          0.4601                  0.11890  \n",
       "1                0.1860          0.2750                  0.08902  \n",
       "2                0.2430          0.3613                  0.08758  \n",
       "3                0.2575          0.6638                  0.17300  \n",
       "4                0.1625          0.2364                  0.07678  \n",
       "\n",
       "[5 rows x 30 columns]"
      ]
     },
     "execution_count": 10,
     "metadata": {},
     "output_type": "execute_result"
    }
   ],
   "source": [
    "# Looking from the head \n",
    "\n",
    "data_df.head()"
   ]
  },
  {
   "cell_type": "code",
   "execution_count": 11,
   "metadata": {},
   "outputs": [
    {
     "name": "stdout",
     "output_type": "stream",
     "text": [
      "<class 'pandas.core.frame.DataFrame'>\n",
      "RangeIndex: 569 entries, 0 to 568\n",
      "Data columns (total 30 columns):\n",
      " #   Column                   Non-Null Count  Dtype  \n",
      "---  ------                   --------------  -----  \n",
      " 0   mean radius              569 non-null    float64\n",
      " 1   mean texture             569 non-null    float64\n",
      " 2   mean perimeter           569 non-null    float64\n",
      " 3   mean area                569 non-null    float64\n",
      " 4   mean smoothness          569 non-null    float64\n",
      " 5   mean compactness         569 non-null    float64\n",
      " 6   mean concavity           569 non-null    float64\n",
      " 7   mean concave points      569 non-null    float64\n",
      " 8   mean symmetry            569 non-null    float64\n",
      " 9   mean fractal dimension   569 non-null    float64\n",
      " 10  radius error             569 non-null    float64\n",
      " 11  texture error            569 non-null    float64\n",
      " 12  perimeter error          569 non-null    float64\n",
      " 13  area error               569 non-null    float64\n",
      " 14  smoothness error         569 non-null    float64\n",
      " 15  compactness error        569 non-null    float64\n",
      " 16  concavity error          569 non-null    float64\n",
      " 17  concave points error     569 non-null    float64\n",
      " 18  symmetry error           569 non-null    float64\n",
      " 19  fractal dimension error  569 non-null    float64\n",
      " 20  worst radius             569 non-null    float64\n",
      " 21  worst texture            569 non-null    float64\n",
      " 22  worst perimeter          569 non-null    float64\n",
      " 23  worst area               569 non-null    float64\n",
      " 24  worst smoothness         569 non-null    float64\n",
      " 25  worst compactness        569 non-null    float64\n",
      " 26  worst concavity          569 non-null    float64\n",
      " 27  worst concave points     569 non-null    float64\n",
      " 28  worst symmetry           569 non-null    float64\n",
      " 29  worst fractal dimension  569 non-null    float64\n",
      "dtypes: float64(30)\n",
      "memory usage: 133.5 KB\n"
     ]
    }
   ],
   "source": [
    "# Getting the basic information\n",
    "\n",
    "data_df.info()"
   ]
  },
  {
   "cell_type": "code",
   "execution_count": 12,
   "metadata": {},
   "outputs": [
    {
     "data": {
      "text/html": [
       "<div>\n",
       "<style scoped>\n",
       "    .dataframe tbody tr th:only-of-type {\n",
       "        vertical-align: middle;\n",
       "    }\n",
       "\n",
       "    .dataframe tbody tr th {\n",
       "        vertical-align: top;\n",
       "    }\n",
       "\n",
       "    .dataframe thead th {\n",
       "        text-align: right;\n",
       "    }\n",
       "</style>\n",
       "<table border=\"1\" class=\"dataframe\">\n",
       "  <thead>\n",
       "    <tr style=\"text-align: right;\">\n",
       "      <th></th>\n",
       "      <th>count</th>\n",
       "      <th>mean</th>\n",
       "      <th>std</th>\n",
       "      <th>min</th>\n",
       "      <th>25%</th>\n",
       "      <th>50%</th>\n",
       "      <th>75%</th>\n",
       "      <th>max</th>\n",
       "    </tr>\n",
       "  </thead>\n",
       "  <tbody>\n",
       "    <tr>\n",
       "      <th>mean radius</th>\n",
       "      <td>569.0</td>\n",
       "      <td>14.127292</td>\n",
       "      <td>3.524049</td>\n",
       "      <td>6.981000</td>\n",
       "      <td>11.700000</td>\n",
       "      <td>13.370000</td>\n",
       "      <td>15.780000</td>\n",
       "      <td>28.11000</td>\n",
       "    </tr>\n",
       "    <tr>\n",
       "      <th>mean texture</th>\n",
       "      <td>569.0</td>\n",
       "      <td>19.289649</td>\n",
       "      <td>4.301036</td>\n",
       "      <td>9.710000</td>\n",
       "      <td>16.170000</td>\n",
       "      <td>18.840000</td>\n",
       "      <td>21.800000</td>\n",
       "      <td>39.28000</td>\n",
       "    </tr>\n",
       "    <tr>\n",
       "      <th>mean perimeter</th>\n",
       "      <td>569.0</td>\n",
       "      <td>91.969033</td>\n",
       "      <td>24.298981</td>\n",
       "      <td>43.790000</td>\n",
       "      <td>75.170000</td>\n",
       "      <td>86.240000</td>\n",
       "      <td>104.100000</td>\n",
       "      <td>188.50000</td>\n",
       "    </tr>\n",
       "    <tr>\n",
       "      <th>mean area</th>\n",
       "      <td>569.0</td>\n",
       "      <td>654.889104</td>\n",
       "      <td>351.914129</td>\n",
       "      <td>143.500000</td>\n",
       "      <td>420.300000</td>\n",
       "      <td>551.100000</td>\n",
       "      <td>782.700000</td>\n",
       "      <td>2501.00000</td>\n",
       "    </tr>\n",
       "    <tr>\n",
       "      <th>mean smoothness</th>\n",
       "      <td>569.0</td>\n",
       "      <td>0.096360</td>\n",
       "      <td>0.014064</td>\n",
       "      <td>0.052630</td>\n",
       "      <td>0.086370</td>\n",
       "      <td>0.095870</td>\n",
       "      <td>0.105300</td>\n",
       "      <td>0.16340</td>\n",
       "    </tr>\n",
       "    <tr>\n",
       "      <th>mean compactness</th>\n",
       "      <td>569.0</td>\n",
       "      <td>0.104341</td>\n",
       "      <td>0.052813</td>\n",
       "      <td>0.019380</td>\n",
       "      <td>0.064920</td>\n",
       "      <td>0.092630</td>\n",
       "      <td>0.130400</td>\n",
       "      <td>0.34540</td>\n",
       "    </tr>\n",
       "    <tr>\n",
       "      <th>mean concavity</th>\n",
       "      <td>569.0</td>\n",
       "      <td>0.088799</td>\n",
       "      <td>0.079720</td>\n",
       "      <td>0.000000</td>\n",
       "      <td>0.029560</td>\n",
       "      <td>0.061540</td>\n",
       "      <td>0.130700</td>\n",
       "      <td>0.42680</td>\n",
       "    </tr>\n",
       "    <tr>\n",
       "      <th>mean concave points</th>\n",
       "      <td>569.0</td>\n",
       "      <td>0.048919</td>\n",
       "      <td>0.038803</td>\n",
       "      <td>0.000000</td>\n",
       "      <td>0.020310</td>\n",
       "      <td>0.033500</td>\n",
       "      <td>0.074000</td>\n",
       "      <td>0.20120</td>\n",
       "    </tr>\n",
       "    <tr>\n",
       "      <th>mean symmetry</th>\n",
       "      <td>569.0</td>\n",
       "      <td>0.181162</td>\n",
       "      <td>0.027414</td>\n",
       "      <td>0.106000</td>\n",
       "      <td>0.161900</td>\n",
       "      <td>0.179200</td>\n",
       "      <td>0.195700</td>\n",
       "      <td>0.30400</td>\n",
       "    </tr>\n",
       "    <tr>\n",
       "      <th>mean fractal dimension</th>\n",
       "      <td>569.0</td>\n",
       "      <td>0.062798</td>\n",
       "      <td>0.007060</td>\n",
       "      <td>0.049960</td>\n",
       "      <td>0.057700</td>\n",
       "      <td>0.061540</td>\n",
       "      <td>0.066120</td>\n",
       "      <td>0.09744</td>\n",
       "    </tr>\n",
       "    <tr>\n",
       "      <th>radius error</th>\n",
       "      <td>569.0</td>\n",
       "      <td>0.405172</td>\n",
       "      <td>0.277313</td>\n",
       "      <td>0.111500</td>\n",
       "      <td>0.232400</td>\n",
       "      <td>0.324200</td>\n",
       "      <td>0.478900</td>\n",
       "      <td>2.87300</td>\n",
       "    </tr>\n",
       "    <tr>\n",
       "      <th>texture error</th>\n",
       "      <td>569.0</td>\n",
       "      <td>1.216853</td>\n",
       "      <td>0.551648</td>\n",
       "      <td>0.360200</td>\n",
       "      <td>0.833900</td>\n",
       "      <td>1.108000</td>\n",
       "      <td>1.474000</td>\n",
       "      <td>4.88500</td>\n",
       "    </tr>\n",
       "    <tr>\n",
       "      <th>perimeter error</th>\n",
       "      <td>569.0</td>\n",
       "      <td>2.866059</td>\n",
       "      <td>2.021855</td>\n",
       "      <td>0.757000</td>\n",
       "      <td>1.606000</td>\n",
       "      <td>2.287000</td>\n",
       "      <td>3.357000</td>\n",
       "      <td>21.98000</td>\n",
       "    </tr>\n",
       "    <tr>\n",
       "      <th>area error</th>\n",
       "      <td>569.0</td>\n",
       "      <td>40.337079</td>\n",
       "      <td>45.491006</td>\n",
       "      <td>6.802000</td>\n",
       "      <td>17.850000</td>\n",
       "      <td>24.530000</td>\n",
       "      <td>45.190000</td>\n",
       "      <td>542.20000</td>\n",
       "    </tr>\n",
       "    <tr>\n",
       "      <th>smoothness error</th>\n",
       "      <td>569.0</td>\n",
       "      <td>0.007041</td>\n",
       "      <td>0.003003</td>\n",
       "      <td>0.001713</td>\n",
       "      <td>0.005169</td>\n",
       "      <td>0.006380</td>\n",
       "      <td>0.008146</td>\n",
       "      <td>0.03113</td>\n",
       "    </tr>\n",
       "    <tr>\n",
       "      <th>compactness error</th>\n",
       "      <td>569.0</td>\n",
       "      <td>0.025478</td>\n",
       "      <td>0.017908</td>\n",
       "      <td>0.002252</td>\n",
       "      <td>0.013080</td>\n",
       "      <td>0.020450</td>\n",
       "      <td>0.032450</td>\n",
       "      <td>0.13540</td>\n",
       "    </tr>\n",
       "    <tr>\n",
       "      <th>concavity error</th>\n",
       "      <td>569.0</td>\n",
       "      <td>0.031894</td>\n",
       "      <td>0.030186</td>\n",
       "      <td>0.000000</td>\n",
       "      <td>0.015090</td>\n",
       "      <td>0.025890</td>\n",
       "      <td>0.042050</td>\n",
       "      <td>0.39600</td>\n",
       "    </tr>\n",
       "    <tr>\n",
       "      <th>concave points error</th>\n",
       "      <td>569.0</td>\n",
       "      <td>0.011796</td>\n",
       "      <td>0.006170</td>\n",
       "      <td>0.000000</td>\n",
       "      <td>0.007638</td>\n",
       "      <td>0.010930</td>\n",
       "      <td>0.014710</td>\n",
       "      <td>0.05279</td>\n",
       "    </tr>\n",
       "    <tr>\n",
       "      <th>symmetry error</th>\n",
       "      <td>569.0</td>\n",
       "      <td>0.020542</td>\n",
       "      <td>0.008266</td>\n",
       "      <td>0.007882</td>\n",
       "      <td>0.015160</td>\n",
       "      <td>0.018730</td>\n",
       "      <td>0.023480</td>\n",
       "      <td>0.07895</td>\n",
       "    </tr>\n",
       "    <tr>\n",
       "      <th>fractal dimension error</th>\n",
       "      <td>569.0</td>\n",
       "      <td>0.003795</td>\n",
       "      <td>0.002646</td>\n",
       "      <td>0.000895</td>\n",
       "      <td>0.002248</td>\n",
       "      <td>0.003187</td>\n",
       "      <td>0.004558</td>\n",
       "      <td>0.02984</td>\n",
       "    </tr>\n",
       "    <tr>\n",
       "      <th>worst radius</th>\n",
       "      <td>569.0</td>\n",
       "      <td>16.269190</td>\n",
       "      <td>4.833242</td>\n",
       "      <td>7.930000</td>\n",
       "      <td>13.010000</td>\n",
       "      <td>14.970000</td>\n",
       "      <td>18.790000</td>\n",
       "      <td>36.04000</td>\n",
       "    </tr>\n",
       "    <tr>\n",
       "      <th>worst texture</th>\n",
       "      <td>569.0</td>\n",
       "      <td>25.677223</td>\n",
       "      <td>6.146258</td>\n",
       "      <td>12.020000</td>\n",
       "      <td>21.080000</td>\n",
       "      <td>25.410000</td>\n",
       "      <td>29.720000</td>\n",
       "      <td>49.54000</td>\n",
       "    </tr>\n",
       "    <tr>\n",
       "      <th>worst perimeter</th>\n",
       "      <td>569.0</td>\n",
       "      <td>107.261213</td>\n",
       "      <td>33.602542</td>\n",
       "      <td>50.410000</td>\n",
       "      <td>84.110000</td>\n",
       "      <td>97.660000</td>\n",
       "      <td>125.400000</td>\n",
       "      <td>251.20000</td>\n",
       "    </tr>\n",
       "    <tr>\n",
       "      <th>worst area</th>\n",
       "      <td>569.0</td>\n",
       "      <td>880.583128</td>\n",
       "      <td>569.356993</td>\n",
       "      <td>185.200000</td>\n",
       "      <td>515.300000</td>\n",
       "      <td>686.500000</td>\n",
       "      <td>1084.000000</td>\n",
       "      <td>4254.00000</td>\n",
       "    </tr>\n",
       "    <tr>\n",
       "      <th>worst smoothness</th>\n",
       "      <td>569.0</td>\n",
       "      <td>0.132369</td>\n",
       "      <td>0.022832</td>\n",
       "      <td>0.071170</td>\n",
       "      <td>0.116600</td>\n",
       "      <td>0.131300</td>\n",
       "      <td>0.146000</td>\n",
       "      <td>0.22260</td>\n",
       "    </tr>\n",
       "    <tr>\n",
       "      <th>worst compactness</th>\n",
       "      <td>569.0</td>\n",
       "      <td>0.254265</td>\n",
       "      <td>0.157336</td>\n",
       "      <td>0.027290</td>\n",
       "      <td>0.147200</td>\n",
       "      <td>0.211900</td>\n",
       "      <td>0.339100</td>\n",
       "      <td>1.05800</td>\n",
       "    </tr>\n",
       "    <tr>\n",
       "      <th>worst concavity</th>\n",
       "      <td>569.0</td>\n",
       "      <td>0.272188</td>\n",
       "      <td>0.208624</td>\n",
       "      <td>0.000000</td>\n",
       "      <td>0.114500</td>\n",
       "      <td>0.226700</td>\n",
       "      <td>0.382900</td>\n",
       "      <td>1.25200</td>\n",
       "    </tr>\n",
       "    <tr>\n",
       "      <th>worst concave points</th>\n",
       "      <td>569.0</td>\n",
       "      <td>0.114606</td>\n",
       "      <td>0.065732</td>\n",
       "      <td>0.000000</td>\n",
       "      <td>0.064930</td>\n",
       "      <td>0.099930</td>\n",
       "      <td>0.161400</td>\n",
       "      <td>0.29100</td>\n",
       "    </tr>\n",
       "    <tr>\n",
       "      <th>worst symmetry</th>\n",
       "      <td>569.0</td>\n",
       "      <td>0.290076</td>\n",
       "      <td>0.061867</td>\n",
       "      <td>0.156500</td>\n",
       "      <td>0.250400</td>\n",
       "      <td>0.282200</td>\n",
       "      <td>0.317900</td>\n",
       "      <td>0.66380</td>\n",
       "    </tr>\n",
       "    <tr>\n",
       "      <th>worst fractal dimension</th>\n",
       "      <td>569.0</td>\n",
       "      <td>0.083946</td>\n",
       "      <td>0.018061</td>\n",
       "      <td>0.055040</td>\n",
       "      <td>0.071460</td>\n",
       "      <td>0.080040</td>\n",
       "      <td>0.092080</td>\n",
       "      <td>0.20750</td>\n",
       "    </tr>\n",
       "  </tbody>\n",
       "</table>\n",
       "</div>"
      ],
      "text/plain": [
       "                         count        mean         std         min  \\\n",
       "mean radius              569.0   14.127292    3.524049    6.981000   \n",
       "mean texture             569.0   19.289649    4.301036    9.710000   \n",
       "mean perimeter           569.0   91.969033   24.298981   43.790000   \n",
       "mean area                569.0  654.889104  351.914129  143.500000   \n",
       "mean smoothness          569.0    0.096360    0.014064    0.052630   \n",
       "mean compactness         569.0    0.104341    0.052813    0.019380   \n",
       "mean concavity           569.0    0.088799    0.079720    0.000000   \n",
       "mean concave points      569.0    0.048919    0.038803    0.000000   \n",
       "mean symmetry            569.0    0.181162    0.027414    0.106000   \n",
       "mean fractal dimension   569.0    0.062798    0.007060    0.049960   \n",
       "radius error             569.0    0.405172    0.277313    0.111500   \n",
       "texture error            569.0    1.216853    0.551648    0.360200   \n",
       "perimeter error          569.0    2.866059    2.021855    0.757000   \n",
       "area error               569.0   40.337079   45.491006    6.802000   \n",
       "smoothness error         569.0    0.007041    0.003003    0.001713   \n",
       "compactness error        569.0    0.025478    0.017908    0.002252   \n",
       "concavity error          569.0    0.031894    0.030186    0.000000   \n",
       "concave points error     569.0    0.011796    0.006170    0.000000   \n",
       "symmetry error           569.0    0.020542    0.008266    0.007882   \n",
       "fractal dimension error  569.0    0.003795    0.002646    0.000895   \n",
       "worst radius             569.0   16.269190    4.833242    7.930000   \n",
       "worst texture            569.0   25.677223    6.146258   12.020000   \n",
       "worst perimeter          569.0  107.261213   33.602542   50.410000   \n",
       "worst area               569.0  880.583128  569.356993  185.200000   \n",
       "worst smoothness         569.0    0.132369    0.022832    0.071170   \n",
       "worst compactness        569.0    0.254265    0.157336    0.027290   \n",
       "worst concavity          569.0    0.272188    0.208624    0.000000   \n",
       "worst concave points     569.0    0.114606    0.065732    0.000000   \n",
       "worst symmetry           569.0    0.290076    0.061867    0.156500   \n",
       "worst fractal dimension  569.0    0.083946    0.018061    0.055040   \n",
       "\n",
       "                                25%         50%          75%         max  \n",
       "mean radius               11.700000   13.370000    15.780000    28.11000  \n",
       "mean texture              16.170000   18.840000    21.800000    39.28000  \n",
       "mean perimeter            75.170000   86.240000   104.100000   188.50000  \n",
       "mean area                420.300000  551.100000   782.700000  2501.00000  \n",
       "mean smoothness            0.086370    0.095870     0.105300     0.16340  \n",
       "mean compactness           0.064920    0.092630     0.130400     0.34540  \n",
       "mean concavity             0.029560    0.061540     0.130700     0.42680  \n",
       "mean concave points        0.020310    0.033500     0.074000     0.20120  \n",
       "mean symmetry              0.161900    0.179200     0.195700     0.30400  \n",
       "mean fractal dimension     0.057700    0.061540     0.066120     0.09744  \n",
       "radius error               0.232400    0.324200     0.478900     2.87300  \n",
       "texture error              0.833900    1.108000     1.474000     4.88500  \n",
       "perimeter error            1.606000    2.287000     3.357000    21.98000  \n",
       "area error                17.850000   24.530000    45.190000   542.20000  \n",
       "smoothness error           0.005169    0.006380     0.008146     0.03113  \n",
       "compactness error          0.013080    0.020450     0.032450     0.13540  \n",
       "concavity error            0.015090    0.025890     0.042050     0.39600  \n",
       "concave points error       0.007638    0.010930     0.014710     0.05279  \n",
       "symmetry error             0.015160    0.018730     0.023480     0.07895  \n",
       "fractal dimension error    0.002248    0.003187     0.004558     0.02984  \n",
       "worst radius              13.010000   14.970000    18.790000    36.04000  \n",
       "worst texture             21.080000   25.410000    29.720000    49.54000  \n",
       "worst perimeter           84.110000   97.660000   125.400000   251.20000  \n",
       "worst area               515.300000  686.500000  1084.000000  4254.00000  \n",
       "worst smoothness           0.116600    0.131300     0.146000     0.22260  \n",
       "worst compactness          0.147200    0.211900     0.339100     1.05800  \n",
       "worst concavity            0.114500    0.226700     0.382900     1.25200  \n",
       "worst concave points       0.064930    0.099930     0.161400     0.29100  \n",
       "worst symmetry             0.250400    0.282200     0.317900     0.66380  \n",
       "worst fractal dimension    0.071460    0.080040     0.092080     0.20750  "
      ]
     },
     "execution_count": 12,
     "metadata": {},
     "output_type": "execute_result"
    }
   ],
   "source": [
    "# Getting the basic stats\n",
    "\n",
    "data_df.describe().transpose()"
   ]
  },
  {
   "cell_type": "code",
   "execution_count": 13,
   "metadata": {},
   "outputs": [],
   "source": [
    "#Preparing the Data"
   ]
  },
  {
   "cell_type": "code",
   "execution_count": 14,
   "metadata": {},
   "outputs": [],
   "source": [
    "from sklearn.model_selection import train_test_split\n",
    "\n",
    "X_train, X_test, y_train, y_test = train_test_split(X,y, test_size=0.2, shuffle=True, random_state=42)"
   ]
  },
  {
   "cell_type": "code",
   "execution_count": 15,
   "metadata": {},
   "outputs": [
    {
     "name": "stdout",
     "output_type": "stream",
     "text": [
      "The number of training samples: 455\n",
      "The number of testing samples: 114\n"
     ]
    }
   ],
   "source": [
    "print('The number of training samples: {}\\nThe number of testing samples: {}'.format(X_train.shape[0], X_test.shape[0]))"
   ]
  },
  {
   "cell_type": "code",
   "execution_count": 16,
   "metadata": {},
   "outputs": [],
   "source": [
    "# Scaling the features to be between 0 and 1.\n",
    "\n",
    "from sklearn.preprocessing import MinMaxScaler\n",
    "\n",
    "scaler = MinMaxScaler()\n",
    "\n",
    "X_train_scaled = scaler.fit_transform(X_train)"
   ]
  },
  {
   "cell_type": "code",
   "execution_count": 17,
   "metadata": {},
   "outputs": [],
   "source": [
    "X_test_scaled = scaler.transform(X_test)"
   ]
  },
  {
   "cell_type": "code",
   "execution_count": null,
   "metadata": {},
   "outputs": [],
   "source": [
    "#Creating, Compiling and Training a Model"
   ]
  },
  {
   "cell_type": "code",
   "execution_count": 18,
   "metadata": {},
   "outputs": [],
   "source": [
    "# Creating a model \n",
    "\n",
    "# Getting the input shape\n",
    "\n",
    "input_shape = X_train_scaled.shape[1:]\n",
    "\n",
    "model_1 = tf.keras.models.Sequential([\n",
    "                                      \n",
    "              # The first layer has 30 neurons(or units)                    \n",
    "              tf.keras.layers.Dense(units=30, input_shape=input_shape, activation='relu'),\n",
    "\n",
    "              # The second layer has 25 neurons \n",
    "\n",
    "              tf.keras.layers.Dense(units=15, activation='relu'),\n",
    "\n",
    "              # The third layer has 1 neuron and activation of sigmoid. \n",
    "              # Because of sigmoid, the output of this layer will be a value bwteen 0 and 1\n",
    "              tf.keras.layers.Dense(1, activation='sigmoid')                     \n",
    "]) \n",
    "\n",
    "# Compiling the model \n",
    "\n",
    "model_1.compile(optimizer='sgd',\n",
    "              loss='binary_crossentropy',\n",
    "              metrics='accuracy')\n"
   ]
  },
  {
   "cell_type": "code",
   "execution_count": 19,
   "metadata": {},
   "outputs": [
    {
     "name": "stdout",
     "output_type": "stream",
     "text": [
      "Epoch 1/60\n",
      "13/13 [==============================] - 2s 70ms/step - loss: 0.6966 - accuracy: 0.4045 - val_loss: 0.6959 - val_accuracy: 0.3478\n",
      "Epoch 2/60\n",
      "13/13 [==============================] - 0s 6ms/step - loss: 0.6894 - accuracy: 0.5416 - val_loss: 0.6874 - val_accuracy: 0.5507\n",
      "Epoch 3/60\n",
      "13/13 [==============================] - 0s 5ms/step - loss: 0.6811 - accuracy: 0.6879 - val_loss: 0.6784 - val_accuracy: 0.7246\n",
      "Epoch 4/60\n",
      "13/13 [==============================] - 0s 6ms/step - loss: 0.6704 - accuracy: 0.8250 - val_loss: 0.6701 - val_accuracy: 0.8116\n",
      "Epoch 5/60\n",
      "13/13 [==============================] - 0s 5ms/step - loss: 0.6651 - accuracy: 0.8471 - val_loss: 0.6623 - val_accuracy: 0.8116\n",
      "Epoch 6/60\n",
      "13/13 [==============================] - 0s 5ms/step - loss: 0.6544 - accuracy: 0.8640 - val_loss: 0.6548 - val_accuracy: 0.7826\n",
      "Epoch 7/60\n",
      "13/13 [==============================] - 0s 6ms/step - loss: 0.6458 - accuracy: 0.8663 - val_loss: 0.6470 - val_accuracy: 0.7971\n",
      "Epoch 8/60\n",
      "13/13 [==============================] - 0s 6ms/step - loss: 0.6380 - accuracy: 0.8900 - val_loss: 0.6389 - val_accuracy: 0.7536\n",
      "Epoch 9/60\n",
      "13/13 [==============================] - 0s 6ms/step - loss: 0.6254 - accuracy: 0.8795 - val_loss: 0.6311 - val_accuracy: 0.7536\n",
      "Epoch 10/60\n",
      "13/13 [==============================] - 0s 5ms/step - loss: 0.6213 - accuracy: 0.8456 - val_loss: 0.6236 - val_accuracy: 0.7681\n",
      "Epoch 11/60\n",
      "13/13 [==============================] - 0s 6ms/step - loss: 0.6088 - accuracy: 0.8471 - val_loss: 0.6163 - val_accuracy: 0.7681\n",
      "Epoch 12/60\n",
      "13/13 [==============================] - 0s 6ms/step - loss: 0.6039 - accuracy: 0.8423 - val_loss: 0.6085 - val_accuracy: 0.7971\n",
      "Epoch 13/60\n",
      "13/13 [==============================] - 0s 6ms/step - loss: 0.5968 - accuracy: 0.8609 - val_loss: 0.6011 - val_accuracy: 0.8841\n",
      "Epoch 14/60\n",
      "13/13 [==============================] - 0s 6ms/step - loss: 0.5904 - accuracy: 0.8819 - val_loss: 0.5935 - val_accuracy: 0.8841\n",
      "Epoch 15/60\n",
      "13/13 [==============================] - 0s 6ms/step - loss: 0.5774 - accuracy: 0.9185 - val_loss: 0.5853 - val_accuracy: 0.8696\n",
      "Epoch 16/60\n",
      "13/13 [==============================] - 0s 6ms/step - loss: 0.5648 - accuracy: 0.9211 - val_loss: 0.5775 - val_accuracy: 0.8696\n",
      "Epoch 17/60\n",
      "13/13 [==============================] - 0s 6ms/step - loss: 0.5629 - accuracy: 0.8823 - val_loss: 0.5692 - val_accuracy: 0.8696\n",
      "Epoch 18/60\n",
      "13/13 [==============================] - 0s 6ms/step - loss: 0.5432 - accuracy: 0.9232 - val_loss: 0.5613 - val_accuracy: 0.8696\n",
      "Epoch 19/60\n",
      "13/13 [==============================] - 0s 6ms/step - loss: 0.5512 - accuracy: 0.8897 - val_loss: 0.5530 - val_accuracy: 0.8841\n",
      "Epoch 20/60\n",
      "13/13 [==============================] - 0s 6ms/step - loss: 0.5371 - accuracy: 0.9036 - val_loss: 0.5444 - val_accuracy: 0.8696\n",
      "Epoch 21/60\n",
      "13/13 [==============================] - 0s 5ms/step - loss: 0.5148 - accuracy: 0.9287 - val_loss: 0.5361 - val_accuracy: 0.8841\n",
      "Epoch 22/60\n",
      "13/13 [==============================] - 0s 5ms/step - loss: 0.5128 - accuracy: 0.9264 - val_loss: 0.5269 - val_accuracy: 0.8841\n",
      "Epoch 23/60\n",
      "13/13 [==============================] - 0s 6ms/step - loss: 0.5042 - accuracy: 0.9275 - val_loss: 0.5178 - val_accuracy: 0.8841\n",
      "Epoch 24/60\n",
      "13/13 [==============================] - 0s 6ms/step - loss: 0.4913 - accuracy: 0.9404 - val_loss: 0.5087 - val_accuracy: 0.8841\n",
      "Epoch 25/60\n",
      "13/13 [==============================] - 0s 5ms/step - loss: 0.4850 - accuracy: 0.9222 - val_loss: 0.4999 - val_accuracy: 0.8841\n",
      "Epoch 26/60\n",
      "13/13 [==============================] - 0s 5ms/step - loss: 0.4770 - accuracy: 0.9283 - val_loss: 0.4912 - val_accuracy: 0.9130\n",
      "Epoch 27/60\n",
      "13/13 [==============================] - 0s 5ms/step - loss: 0.4774 - accuracy: 0.9482 - val_loss: 0.4828 - val_accuracy: 0.9130\n",
      "Epoch 28/60\n",
      "13/13 [==============================] - 0s 5ms/step - loss: 0.4644 - accuracy: 0.9351 - val_loss: 0.4739 - val_accuracy: 0.8986\n",
      "Epoch 29/60\n",
      "13/13 [==============================] - 0s 5ms/step - loss: 0.4496 - accuracy: 0.9410 - val_loss: 0.4648 - val_accuracy: 0.9130\n",
      "Epoch 30/60\n",
      "13/13 [==============================] - 0s 5ms/step - loss: 0.4356 - accuracy: 0.9559 - val_loss: 0.4566 - val_accuracy: 0.8986\n",
      "Epoch 31/60\n",
      "13/13 [==============================] - 0s 5ms/step - loss: 0.4221 - accuracy: 0.9454 - val_loss: 0.4476 - val_accuracy: 0.8986\n",
      "Epoch 32/60\n",
      "13/13 [==============================] - 0s 6ms/step - loss: 0.4354 - accuracy: 0.9390 - val_loss: 0.4394 - val_accuracy: 0.8986\n",
      "Epoch 33/60\n",
      "13/13 [==============================] - 0s 5ms/step - loss: 0.4213 - accuracy: 0.9201 - val_loss: 0.4316 - val_accuracy: 0.8986\n",
      "Epoch 34/60\n",
      "13/13 [==============================] - 0s 5ms/step - loss: 0.4050 - accuracy: 0.9412 - val_loss: 0.4228 - val_accuracy: 0.9275\n",
      "Epoch 35/60\n",
      "13/13 [==============================] - 0s 5ms/step - loss: 0.4047 - accuracy: 0.9355 - val_loss: 0.4145 - val_accuracy: 0.9130\n",
      "Epoch 36/60\n",
      "13/13 [==============================] - 0s 6ms/step - loss: 0.3971 - accuracy: 0.9427 - val_loss: 0.4062 - val_accuracy: 0.9130\n",
      "Epoch 37/60\n",
      "13/13 [==============================] - 0s 5ms/step - loss: 0.3823 - accuracy: 0.9444 - val_loss: 0.3983 - val_accuracy: 0.9130\n",
      "Epoch 38/60\n",
      "13/13 [==============================] - 0s 6ms/step - loss: 0.3705 - accuracy: 0.9527 - val_loss: 0.3909 - val_accuracy: 0.8986\n",
      "Epoch 39/60\n",
      "13/13 [==============================] - 0s 6ms/step - loss: 0.3557 - accuracy: 0.9545 - val_loss: 0.3834 - val_accuracy: 0.8986\n",
      "Epoch 40/60\n",
      "13/13 [==============================] - 0s 5ms/step - loss: 0.3642 - accuracy: 0.9296 - val_loss: 0.3771 - val_accuracy: 0.8986\n",
      "Epoch 41/60\n",
      "13/13 [==============================] - 0s 6ms/step - loss: 0.3560 - accuracy: 0.9383 - val_loss: 0.3691 - val_accuracy: 0.8986\n",
      "Epoch 42/60\n",
      "13/13 [==============================] - 0s 6ms/step - loss: 0.3519 - accuracy: 0.9325 - val_loss: 0.3614 - val_accuracy: 0.9130\n",
      "Epoch 43/60\n",
      "13/13 [==============================] - 0s 5ms/step - loss: 0.3391 - accuracy: 0.9385 - val_loss: 0.3542 - val_accuracy: 0.9130\n",
      "Epoch 44/60\n",
      "13/13 [==============================] - 0s 5ms/step - loss: 0.3392 - accuracy: 0.9410 - val_loss: 0.3481 - val_accuracy: 0.9130\n",
      "Epoch 45/60\n",
      "13/13 [==============================] - 0s 6ms/step - loss: 0.3146 - accuracy: 0.9635 - val_loss: 0.3412 - val_accuracy: 0.9130\n",
      "Epoch 46/60\n",
      "13/13 [==============================] - 0s 6ms/step - loss: 0.3154 - accuracy: 0.9379 - val_loss: 0.3350 - val_accuracy: 0.9130\n",
      "Epoch 47/60\n",
      "13/13 [==============================] - 0s 6ms/step - loss: 0.3256 - accuracy: 0.9392 - val_loss: 0.3284 - val_accuracy: 0.9275\n",
      "Epoch 48/60\n",
      "13/13 [==============================] - 0s 5ms/step - loss: 0.3163 - accuracy: 0.9439 - val_loss: 0.3232 - val_accuracy: 0.9275\n",
      "Epoch 49/60\n",
      "13/13 [==============================] - 0s 5ms/step - loss: 0.3230 - accuracy: 0.9393 - val_loss: 0.3180 - val_accuracy: 0.9420\n",
      "Epoch 50/60\n",
      "13/13 [==============================] - 0s 5ms/step - loss: 0.2827 - accuracy: 0.9578 - val_loss: 0.3126 - val_accuracy: 0.9275\n",
      "Epoch 51/60\n",
      "13/13 [==============================] - 0s 5ms/step - loss: 0.2882 - accuracy: 0.9530 - val_loss: 0.3071 - val_accuracy: 0.9275\n",
      "Epoch 52/60\n",
      "13/13 [==============================] - 0s 5ms/step - loss: 0.2760 - accuracy: 0.9559 - val_loss: 0.3028 - val_accuracy: 0.9275\n",
      "Epoch 53/60\n",
      "13/13 [==============================] - 0s 5ms/step - loss: 0.2875 - accuracy: 0.9336 - val_loss: 0.2985 - val_accuracy: 0.9275\n",
      "Epoch 54/60\n",
      "13/13 [==============================] - 0s 6ms/step - loss: 0.2781 - accuracy: 0.9464 - val_loss: 0.2930 - val_accuracy: 0.9275\n",
      "Epoch 55/60\n",
      "13/13 [==============================] - 0s 6ms/step - loss: 0.2519 - accuracy: 0.9597 - val_loss: 0.2885 - val_accuracy: 0.9275\n",
      "Epoch 56/60\n",
      "13/13 [==============================] - 0s 6ms/step - loss: 0.2721 - accuracy: 0.9484 - val_loss: 0.2827 - val_accuracy: 0.9275\n",
      "Epoch 57/60\n",
      "13/13 [==============================] - 0s 6ms/step - loss: 0.2658 - accuracy: 0.9527 - val_loss: 0.2788 - val_accuracy: 0.9275\n",
      "Epoch 58/60\n",
      "13/13 [==============================] - 0s 5ms/step - loss: 0.2518 - accuracy: 0.9518 - val_loss: 0.2733 - val_accuracy: 0.9420\n",
      "Epoch 59/60\n"
     ]
    },
    {
     "name": "stdout",
     "output_type": "stream",
     "text": [
      "13/13 [==============================] - 0s 6ms/step - loss: 0.2609 - accuracy: 0.9382 - val_loss: 0.2690 - val_accuracy: 0.9275\n",
      "Epoch 60/60\n",
      "13/13 [==============================] - 0s 5ms/step - loss: 0.2605 - accuracy: 0.9407 - val_loss: 0.2649 - val_accuracy: 0.9275\n"
     ]
    }
   ],
   "source": [
    "# By setting validation_split=0.15, I am allocating 15% of the dataset to be used for evaluating the model during the training\n",
    "# Model training returns model history(accuracy, loss, epochs...) \n",
    "\n",
    "history = model_1.fit(X_train_scaled, y_train, epochs=60, validation_split=0.15)"
   ]
  },
  {
   "cell_type": "code",
   "execution_count": 20,
   "metadata": {},
   "outputs": [],
   "source": [
    "#Visualizing the Results"
   ]
  },
  {
   "cell_type": "code",
   "execution_count": 21,
   "metadata": {},
   "outputs": [
    {
     "data": {
      "text/plain": [
       "<AxesSubplot:>"
      ]
     },
     "execution_count": 21,
     "metadata": {},
     "output_type": "execute_result"
    },
    {
     "data": {
      "image/png": "[encoded data removed]",
      "text/plain": [
       "<Figure size 720x360 with 1 Axes>"
      ]
     },
     "metadata": {
      "needs_background": "light"
     },
     "output_type": "display_data"
    }
   ],
   "source": [
    "# Getting the dataframe of loss and accuracies on both training and validation\n",
    "\n",
    "loss_acc_metrics_df = pd.DataFrame(history.history)\n",
    "loss_acc_metrics_df.plot(figsize=(10,5))"
   ]
  },
  {
   "cell_type": "code",
   "execution_count": null,
   "metadata": {},
   "outputs": [],
   "source": [
    " #Evaluating the Model"
   ]
  },
  {
   "cell_type": "code",
   "execution_count": 22,
   "metadata": {},
   "outputs": [
    {
     "name": "stdout",
     "output_type": "stream",
     "text": [
      "4/4 [==============================] - 0s 2ms/step - loss: 0.2330 - accuracy: 0.9474\n",
      "Test loss: 0.2330283671617508\n",
      "Test accuracy:0.9473684430122375\n"
     ]
    }
   ],
   "source": [
    "# Evaluating a model on unseen data: test set\n",
    "\n",
    "model_eval = model_1.evaluate(X_test_scaled, y_test)\n",
    "\n",
    "# Printing the loss and accuracy \n",
    "\n",
    "print('Test loss: {}\\nTest accuracy:{}'.format(model_eval[0],model_eval[1]))"
   ]
  },
  {
   "cell_type": "code",
   "execution_count": 23,
   "metadata": {},
   "outputs": [
    {
     "name": "stdout",
     "output_type": "stream",
     "text": [
      "4/4 [==============================] - 0s 2ms/step - loss: 501.6193 - accuracy: 0.3772\n"
     ]
    },
    {
     "data": {
      "text/plain": [
       "[501.61932373046875, 0.37719297409057617]"
      ]
     },
     "execution_count": 23,
     "metadata": {},
     "output_type": "execute_result"
    }
   ],
   "source": [
    "# ‼DON'T DO THIS!! X_test is not scaled. The results will be awful\n",
    "\n",
    "model_1.evaluate(X_test, y_test)"
   ]
  },
  {
   "cell_type": "code",
   "execution_count": 25,
   "metadata": {},
   "outputs": [],
   "source": [
    "# Getting the prediction\n",
    "\n",
    "predictions = model_1.predict(X_test_scaled)"
   ]
  },
  {
   "cell_type": "code",
   "execution_count": 26,
   "metadata": {},
   "outputs": [
    {
     "data": {
      "text/plain": [
       "array([[0.6897869 ],\n",
       "       [0.10359213],\n",
       "       [0.22976717],\n",
       "       [0.85075355],\n",
       "       [0.8939003 ],\n",
       "       [0.00703192],\n",
       "       [0.01697829],\n",
       "       [0.26786667],\n",
       "       [0.47946215],\n",
       "       [0.7716446 ],\n",
       "       [0.81944335],\n",
       "       [0.37748477],\n",
       "       [0.7967313 ],\n",
       "       [0.4576039 ],\n",
       "       [0.7653238 ]], dtype=float32)"
      ]
     },
     "execution_count": 26,
     "metadata": {},
     "output_type": "execute_result"
    }
   ],
   "source": [
    "predictions[:15]"
   ]
  },
  {
   "cell_type": "code",
   "execution_count": 27,
   "metadata": {},
   "outputs": [],
   "source": [
    "# Rounding the predictions to 0 and 1\n",
    "\n",
    "predictions = tf.round(predictions)"
   ]
  },
  {
   "cell_type": "code",
   "execution_count": 28,
   "metadata": {},
   "outputs": [
    {
     "data": {
      "text/plain": [
       "<tf.Tensor: shape=(15, 1), dtype=float32, numpy=\n",
       "array([[1.],\n",
       "       [0.],\n",
       "       [0.],\n",
       "       [1.],\n",
       "       [1.],\n",
       "       [0.],\n",
       "       [0.],\n",
       "       [0.],\n",
       "       [0.],\n",
       "       [1.],\n",
       "       [1.],\n",
       "       [0.],\n",
       "       [1.],\n",
       "       [0.],\n",
       "       [1.]], dtype=float32)>"
      ]
     },
     "execution_count": 28,
     "metadata": {},
     "output_type": "execute_result"
    }
   ],
   "source": [
    " # Display the first 15 preds values \n",
    " \n",
    "predictions[:15]"
   ]
  },
  {
   "cell_type": "code",
   "execution_count": 29,
   "metadata": {},
   "outputs": [
    {
     "data": {
      "image/png": "[encoded data removed]",
      "text/plain": [
       "<Figure size 432x432 with 2 Axes>"
      ]
     },
     "metadata": {
      "needs_background": "light"
     },
     "output_type": "display_data"
    }
   ],
   "source": [
    "# Getting the confusion matrix\n",
    "\n",
    "from sklearn.metrics import confusion_matrix\n",
    "\n",
    "cm = confusion_matrix(y_test, predictions)\n",
    "\n",
    "# Plotting confusion matrix \n",
    "\n",
    "plt.figure(figsize=(6,6))\n",
    "sns.heatmap(cm, square=True, annot=True, fmt='d', cbar=True,\n",
    "                        xticklabels=['0: Malignant', '1:Benign'],\n",
    "                        yticklabels=['0: Malignant', '1:Benign'])\n",
    "plt.ylabel('Actual label')\n",
    "plt.xlabel('Predicted label');"
   ]
  },
  {
   "cell_type": "code",
   "execution_count": 30,
   "metadata": {},
   "outputs": [
    {
     "name": "stdout",
     "output_type": "stream",
     "text": [
      "              precision    recall  f1-score   support\n",
      "\n",
      "           0       0.97      0.88      0.93        43\n",
      "           1       0.93      0.99      0.96        71\n",
      "\n",
      "    accuracy                           0.95       114\n",
      "   macro avg       0.95      0.93      0.94       114\n",
      "weighted avg       0.95      0.95      0.95       114\n",
      "\n"
     ]
    }
   ],
   "source": [
    "# Classification report: F1 score, Recall, Precision\n",
    "\n",
    "from sklearn.metrics import classification_report\n",
    "\n",
    "print(classification_report(y_test, predictions))"
   ]
  },
  {
   "cell_type": "code",
   "execution_count": null,
   "metadata": {},
   "outputs": [],
   "source": []
  },
  {
   "cell_type": "code",
   "execution_count": null,
   "metadata": {},
   "outputs": [],
   "source": [
    "#Going Beyond Binary Classifier to Multiclass Classifier: 10 Fashions Classifier"
   ]
  },
  {
   "cell_type": "code",
   "execution_count": null,
   "metadata": {},
   "outputs": [],
   "source": [
    "#Getting the Fashion data"
   ]
  },
  {
   "cell_type": "code",
   "execution_count": 31,
   "metadata": {},
   "outputs": [
    {
     "name": "stdout",
     "output_type": "stream",
     "text": [
      "Downloading data from https://storage.googleapis.com/tensorflow/tf-keras-datasets/train-labels-idx1-ubyte.gz\n",
      "32768/29515 [=================================] - 0s 1us/step\n",
      "Downloading data from https://storage.googleapis.com/tensorflow/tf-keras-datasets/train-images-idx3-ubyte.gz\n",
      "26427392/26421880 [==============================] - 14s 1us/step\n",
      "Downloading data from https://storage.googleapis.com/tensorflow/tf-keras-datasets/t10k-labels-idx1-ubyte.gz\n",
      "8192/5148 [===============================================] - 0s 0us/step\n",
      "Downloading data from https://storage.googleapis.com/tensorflow/tf-keras-datasets/t10k-images-idx3-ubyte.gz\n",
      "4423680/4422102 [==============================] - 4s 1us/step\n"
     ]
    }
   ],
   "source": [
    "import tensorflow as tf\n",
    "\n",
    "fashion_mnist = tf.keras.datasets.fashion_mnist\n",
    "\n",
    "(fashion_train, fashion_train_label), (fashion_test, fashion_test_label) = fashion_mnist.load_data()"
   ]
  },
  {
   "cell_type": "code",
   "execution_count": 32,
   "metadata": {},
   "outputs": [],
   "source": [
    "#Looking in the Fashion Data"
   ]
  },
  {
   "cell_type": "code",
   "execution_count": 33,
   "metadata": {},
   "outputs": [
    {
     "data": {
      "text/plain": [
       "array([[  0,   0,   0,   0,   0,   0,   0,  11, 142, 200, 106,   0,   0,\n",
       "          0,   0,   0,   0,   0,  85, 185, 112,   0,   0,   0,   0,   0,\n",
       "          0,   0],\n",
       "       [  0,   0,   0,   0,   0,   0, 152, 214, 217, 194, 236, 216, 187,\n",
       "        149, 135, 153, 211, 217, 231, 205, 217, 188,  34,   0,   0,   0,\n",
       "          0,   0],\n",
       "       [  0,   0,   0,   0,   0,  66, 185, 166, 180, 181, 190, 211, 221,\n",
       "        197, 146, 198, 206, 191, 168, 190, 172, 188, 175,   0,   0,   0,\n",
       "          0,   0],\n",
       "       [  0,   0,   0,   0,   0, 135, 153, 160, 175, 180, 170, 186, 187,\n",
       "        190, 188, 190, 187, 174, 195, 185, 174, 161, 175,  59,   0,   0,\n",
       "          0,   0],\n",
       "       [  0,   0,   0,   0,   0, 161, 147, 160, 170, 178, 177, 180, 168,\n",
       "        173, 174, 171, 185, 184, 185, 172, 171, 164, 174, 120,   0,   0,\n",
       "          0,   0],\n",
       "       [  0,   0,   0,   0,   2, 175, 146, 145, 168, 178, 181, 185, 180,\n",
       "        184, 178, 179, 187, 191, 193, 190, 181, 171, 172, 158,   0,   0,\n",
       "          0,   0],\n",
       "       [  0,   0,   0,   0,  35, 177, 155, 140, 151, 172, 191, 187, 186,\n",
       "        187, 186, 187, 182, 191, 194, 188, 180, 161, 161, 185,   0,   0,\n",
       "          0,   0],\n",
       "       [  0,   0,   0,   0,  59, 170, 153, 141, 120, 154, 160, 161, 172,\n",
       "        168, 166, 161, 165, 172, 170, 164, 139, 149, 162, 166,  21,   0,\n",
       "          0,   0],\n",
       "       [  0,   0,   0,   0,  79, 145, 160, 214, 123, 128, 153, 160, 164,\n",
       "        158, 157, 154, 155, 170, 165, 141, 195, 193, 152, 166,  61,   0,\n",
       "          0,   0],\n",
       "       [  0,   0,   0,   0, 100, 157, 225, 245, 175, 113, 174, 158, 158,\n",
       "        160, 155, 160, 164, 178, 188, 135, 185, 240, 201, 172, 108,   0,\n",
       "          0,   0],\n",
       "       [  0,   0,   0,   0,   0,  31, 174,  28, 126, 153, 166, 152, 158,\n",
       "        158, 160, 161, 157, 168, 191, 188,  18, 132, 159,   7,   0,   0,\n",
       "          0,   0],\n",
       "       [  0,   0,   0,   0,   0,   0,   0,   0,  82, 187, 159, 153, 157,\n",
       "        158, 162, 164, 164, 154, 187, 190,   0,   0,   0,   0,   0,   0,\n",
       "          0,   0],\n",
       "       [  0,   0,   0,   0,   1,   3,   5,   0,  37, 175, 158, 155, 162,\n",
       "        158, 160, 162, 165, 153, 177, 205,   0,   0,   3,   3,   0,   0,\n",
       "          0,   0],\n",
       "       [  0,   0,   0,   0,   0,   0,   1,   0,  25, 175, 152, 160, 158,\n",
       "        161, 160, 164, 164, 161, 166, 200,   0,   0,   1,   0,   0,   0,\n",
       "          0,   0],\n",
       "       [  0,   0,   0,   0,   0,   0,   4,   0,  30, 171, 147, 164, 155,\n",
       "        165, 161, 165, 162, 170, 164, 162,   0,   0,   2,   0,   0,   0,\n",
       "          0,   0],\n",
       "       [  0,   0,   0,   0,   0,   0,   4,   0,  57, 166, 155, 164, 166,\n",
       "        161, 161, 164, 167, 165, 165, 162,  28,   0,   3,   0,   0,   0,\n",
       "          0,   0],\n",
       "       [  0,   0,   0,   0,   0,   0,   3,   0, 114, 161, 161, 166, 159,\n",
       "        168, 161, 161, 172, 162, 165, 171,  50,   0,   5,   0,   0,   0,\n",
       "          0,   0],\n",
       "       [  0,   0,   0,   0,   0,   0,   1,   0, 149, 157, 167, 172, 159,\n",
       "        172, 164, 161, 172, 170, 160, 171,  89,   0,   4,   0,   0,   0,\n",
       "          0,   0],\n",
       "       [  0,   0,   0,   0,   0,   2,   0,   4, 171, 164, 166, 173, 159,\n",
       "        179, 166, 160, 174, 167, 162, 166, 128,   0,   2,   0,   0,   0,\n",
       "          0,   0],\n",
       "       [  0,   0,   0,   0,   0,   3,   0,  18, 152, 173, 160, 179, 154,\n",
       "        181, 166, 164, 175, 170, 166, 170, 164,   0,   0,   1,   0,   0,\n",
       "          0,   0],\n",
       "       [  0,   0,   0,   0,   0,   4,   0,  47, 165, 172, 167, 185, 153,\n",
       "        187, 173, 165, 174, 179, 166, 166, 158,   5,   0,   3,   0,   0,\n",
       "          0,   0],\n",
       "       [  0,   0,   0,   0,   0,   4,   0,  87, 180, 162, 179, 179, 157,\n",
       "        191, 182, 165, 168, 190, 173, 165, 166,  20,   0,   4,   0,   0,\n",
       "          0,   0],\n",
       "       [  0,   0,   0,   0,   0,   4,   0, 105, 187, 157, 194, 175, 161,\n",
       "        190, 184, 170, 158, 205, 177, 168, 171,  44,   0,   4,   0,   0,\n",
       "          0,   0],\n",
       "       [  0,   0,   0,   0,   0,   5,   0, 138, 181, 158, 205, 160, 167,\n",
       "        190, 198, 167, 152, 218, 186, 170, 172,  57,   0,   5,   0,   0,\n",
       "          0,   0],\n",
       "       [  0,   0,   0,   0,   0,   5,   0, 135, 174, 167, 199, 155, 166,\n",
       "        201, 219, 165, 158, 218, 188, 167, 175,  56,   0,   7,   0,   0,\n",
       "          0,   0],\n",
       "       [  0,   0,   0,   0,   0,   5,   0, 129, 171, 172, 177, 153, 159,\n",
       "        206, 216, 148, 157, 206, 190, 165, 175,  48,   0,   5,   0,   0,\n",
       "          0,   0],\n",
       "       [  0,   0,   0,   0,   0,   5,   0, 167, 187, 182, 198, 194, 200,\n",
       "        226, 240, 184, 206, 255, 197, 178, 179,  42,   0,   5,   0,   0,\n",
       "          0,   0],\n",
       "       [  0,   0,   0,   0,   0,   3,   0, 115, 135, 113, 106,  85,  82,\n",
       "        108, 133,  83,  90, 121, 120, 110, 158,  18,   0,   3,   0,   0,\n",
       "          0,   0]], dtype=uint8)"
      ]
     },
     "execution_count": 33,
     "metadata": {},
     "output_type": "execute_result"
    }
   ],
   "source": [
    "index = 10\n",
    "\n",
    "# Get the pixels\n",
    "\n",
    "fashion_train[index]"
   ]
  },
  {
   "cell_type": "code",
   "execution_count": 34,
   "metadata": {},
   "outputs": [],
   "source": [
    "# A list of label names\n",
    "\n",
    "class_names = ['T-shirt/top', 'Trouser','Pullover','Dress','Coat','Sandal','Shirt','Sneaker','Bag','Ankle boot']"
   ]
  },
  {
   "cell_type": "code",
   "execution_count": 35,
   "metadata": {},
   "outputs": [
    {
     "name": "stdout",
     "output_type": "stream",
     "text": [
      "This type of fashion is: T-shirt/top(0)\n"
     ]
    },
    {
     "data": {
      "image/png": "[encoded data removed]",
      "text/plain": [
       "<Figure size 432x288 with 1 Axes>"
      ]
     },
     "metadata": {
      "needs_background": "light"
     },
     "output_type": "display_data"
    }
   ],
   "source": [
    "\n",
    "plt.imshow(fashion_train[index])\n",
    "\n",
    "# Display the label\n",
    "\n",
    "image_label = fashion_train_label[index]\n",
    "print('This type of fashion is: {}({})'.format(class_names[image_label], image_label))"
   ]
  },
  {
   "cell_type": "code",
   "execution_count": 37,
   "metadata": {
    "scrolled": true
   },
   "outputs": [
    {
     "data": {
      "image/png": "[encoded data removed]",
      "text/plain": [
       "<Figure size 432x432 with 6 Axes>"
      ]
     },
     "metadata": {
      "needs_background": "light"
     },
     "output_type": "display_data"
    }
   ],
   "source": [
    "import random\n",
    "\n",
    "plt.figure(figsize=(6,6))\n",
    "\n",
    "for index in range(6):\n",
    "\n",
    "  ax = plt.subplot(2,3, index+1)\n",
    "  random_index = random.choice(range(len(fashion_train)))\n",
    "  plt.imshow(fashion_train[random_index])\n",
    "  plt.title(class_names[fashion_train_label[random_index]])"
   ]
  },
  {
   "cell_type": "code",
   "execution_count": null,
   "metadata": {},
   "outputs": [],
   "source": [
    "# Getting the image shape\n",
    "\n",
    "print('The shape of the whole training dataset:{}'.format(fashion_train[0].shape))\n",
    "print('The shape of the first(and other)image:{}'.format(fashion_train[0].shape))"
   ]
  },
  {
   "cell_type": "code",
   "execution_count": null,
   "metadata": {},
   "outputs": [],
   "source": [
    "#Preparing the Data"
   ]
  },
  {
   "cell_type": "code",
   "execution_count": null,
   "metadata": {},
   "outputs": [],
   "source": [
    "# Scaling the image pixels to be between 0 and 1\n",
    "\n",
    "fashion_train = fashion_train/255.0\n",
    "\n",
    "fashion_test = fashion_test/255.0"
   ]
  },
  {
   "cell_type": "code",
   "execution_count": null,
   "metadata": {},
   "outputs": [],
   "source": [
    " #Creating, Compiling, and Training a Model"
   ]
  },
  {
   "cell_type": "code",
   "execution_count": 38,
   "metadata": {},
   "outputs": [],
   "source": [
    "# Creating a model\n",
    "\n",
    "fashion_classifier = tf.keras.models.Sequential([\n",
    "                                                 \n",
    "        # Flattening layer will convert array of pixels into one dimensional column array                                        \n",
    "       tf.keras.layers.Flatten(),\n",
    "       tf.keras.layers.Dense(units=64, activation='relu'),\n",
    "       tf.keras.layers.Dense(units=32, activation='relu'),\n",
    "       tf.keras.layers.Dense(units=10, activation='softmax')                           \n",
    "\n",
    "])\n",
    "\n",
    "# Compiling a model: Specifying a loss and optimization function\n",
    "\n",
    "fashion_classifier.compile(optimizer='adam',\n",
    "                           loss='sparse_categorical_crossentropy',\n",
    "                           metrics=['accuracy']\n",
    "                           \n",
    ")"
   ]
  },
  {
   "cell_type": "code",
   "execution_count": 39,
   "metadata": {},
   "outputs": [
    {
     "name": "stdout",
     "output_type": "stream",
     "text": [
      "Epoch 1/20\n",
      "1594/1594 [==============================] - 4s 2ms/step - loss: 6.6819 - accuracy: 0.4585 - val_loss: 1.0842 - val_accuracy: 0.5722\n",
      "Epoch 2/20\n",
      "1594/1594 [==============================] - 3s 2ms/step - loss: 1.0254 - accuracy: 0.5960 - val_loss: 0.9348 - val_accuracy: 0.6162\n",
      "Epoch 3/20\n",
      "1594/1594 [==============================] - 3s 2ms/step - loss: 0.8706 - accuracy: 0.6603 - val_loss: 0.8918 - val_accuracy: 0.6569\n",
      "Epoch 4/20\n",
      "1594/1594 [==============================] - 3s 2ms/step - loss: 0.7671 - accuracy: 0.6907 - val_loss: 0.6736 - val_accuracy: 0.7322\n",
      "Epoch 5/20\n",
      "1594/1594 [==============================] - 3s 2ms/step - loss: 0.6415 - accuracy: 0.7363 - val_loss: 0.6452 - val_accuracy: 0.7294\n",
      "Epoch 6/20\n",
      "1594/1594 [==============================] - 3s 2ms/step - loss: 0.5981 - accuracy: 0.7609 - val_loss: 0.6171 - val_accuracy: 0.7849\n",
      "Epoch 7/20\n",
      "1594/1594 [==============================] - 3s 2ms/step - loss: 0.5635 - accuracy: 0.7921 - val_loss: 0.5843 - val_accuracy: 0.8028\n",
      "Epoch 8/20\n",
      "1594/1594 [==============================] - 4s 2ms/step - loss: 0.5072 - accuracy: 0.8308 - val_loss: 0.5167 - val_accuracy: 0.8280\n",
      "Epoch 9/20\n",
      "1594/1594 [==============================] - 3s 2ms/step - loss: 0.4694 - accuracy: 0.8406 - val_loss: 0.5387 - val_accuracy: 0.8209\n",
      "Epoch 10/20\n",
      "1594/1594 [==============================] - 4s 3ms/step - loss: 0.4417 - accuracy: 0.8525 - val_loss: 0.4986 - val_accuracy: 0.8377\n",
      "Epoch 11/20\n",
      "1594/1594 [==============================] - 4s 2ms/step - loss: 0.4226 - accuracy: 0.8567 - val_loss: 0.4681 - val_accuracy: 0.8396\n",
      "Epoch 12/20\n",
      "1594/1594 [==============================] - 4s 3ms/step - loss: 0.4275 - accuracy: 0.8556 - val_loss: 0.4717 - val_accuracy: 0.8497\n",
      "Epoch 13/20\n",
      "1594/1594 [==============================] - 3s 2ms/step - loss: 0.4050 - accuracy: 0.8637 - val_loss: 0.5029 - val_accuracy: 0.8362\n",
      "Epoch 14/20\n",
      "1594/1594 [==============================] - 4s 3ms/step - loss: 0.4032 - accuracy: 0.8619 - val_loss: 0.4981 - val_accuracy: 0.8477\n",
      "Epoch 15/20\n",
      "1594/1594 [==============================] - 4s 3ms/step - loss: 0.3814 - accuracy: 0.8725 - val_loss: 0.4454 - val_accuracy: 0.8532\n",
      "Epoch 16/20\n",
      "1594/1594 [==============================] - 3s 2ms/step - loss: 0.3926 - accuracy: 0.8675 - val_loss: 0.4906 - val_accuracy: 0.8361\n",
      "Epoch 17/20\n",
      "1594/1594 [==============================] - 4s 3ms/step - loss: 0.3818 - accuracy: 0.8683 - val_loss: 0.4728 - val_accuracy: 0.8449\n",
      "Epoch 18/20\n",
      "1594/1594 [==============================] - 4s 2ms/step - loss: 0.3783 - accuracy: 0.8695 - val_loss: 0.4592 - val_accuracy: 0.8561\n",
      "Epoch 19/20\n",
      "1594/1594 [==============================] - 3s 2ms/step - loss: 0.3677 - accuracy: 0.8739 - val_loss: 0.4417 - val_accuracy: 0.8524\n",
      "Epoch 20/20\n",
      "1594/1594 [==============================] - 4s 3ms/step - loss: 0.3598 - accuracy: 0.8730 - val_loss: 0.4470 - val_accuracy: 0.8548\n"
     ]
    },
    {
     "data": {
      "text/plain": [
       "<tensorflow.python.keras.callbacks.History at 0x7fe66c246190>"
      ]
     },
     "execution_count": 39,
     "metadata": {},
     "output_type": "execute_result"
    }
   ],
   "source": [
    "# Training a model\n",
    "# Allocating 15% of training data to validation set\n",
    "\n",
    "fashion_classifier.fit(fashion_train, fashion_train_label, epochs=20, validation_split=0.15)"
   ]
  },
  {
   "cell_type": "code",
   "execution_count": null,
   "metadata": {},
   "outputs": [],
   "source": [
    " #Visualizing the Model Results"
   ]
  },
  {
   "cell_type": "code",
   "execution_count": 40,
   "metadata": {},
   "outputs": [
    {
     "data": {
      "text/plain": [
       "<AxesSubplot:>"
      ]
     },
     "execution_count": 40,
     "metadata": {},
     "output_type": "execute_result"
    },
    {
     "data": {
      "image/png": "[encoded data removed]",
      "text/plain": [
       "<Figure size 720x360 with 1 Axes>"
      ]
     },
     "metadata": {
      "needs_background": "light"
     },
     "output_type": "display_data"
    }
   ],
   "source": [
    "# Getting the dataframe of loss and accuracies on both training and validation\n",
    "\n",
    "loss_acc_metrics_df = pd.DataFrame(fashion_classifier.history.history)\n",
    "\n",
    "# Plotting the loss and accuracy\n",
    "\n",
    "loss_acc_metrics_df.plot(figsize=(10,5))"
   ]
  },
  {
   "cell_type": "code",
   "execution_count": 41,
   "metadata": {},
   "outputs": [],
   "source": [
    "#Model Evaluation"
   ]
  },
  {
   "cell_type": "code",
   "execution_count": 42,
   "metadata": {},
   "outputs": [
    {
     "name": "stdout",
     "output_type": "stream",
     "text": [
      "313/313 [==============================] - 0s 1ms/step - loss: 0.4783 - accuracy: 0.8506\n",
      "Test loss: 0.4782685935497284\n",
      "Test accuracy:0.850600004196167\n"
     ]
    }
   ],
   "source": [
    "# Evaluating the model on unseen data\n",
    "\n",
    "eval = fashion_classifier.evaluate(fashion_test, fashion_test_label)\n",
    "\n",
    "# Printing the loss and accuracy \n",
    "\n",
    "print('Test loss: {}\\nTest accuracy:{}'.format(eval[0],eval[1]))"
   ]
  },
  {
   "cell_type": "code",
   "execution_count": null,
   "metadata": {},
   "outputs": [],
   "source": [
    "#Controlling Training with Callbacks"
   ]
  },
  {
   "cell_type": "code",
   "execution_count": 43,
   "metadata": {},
   "outputs": [],
   "source": [
    "# Creating a same model as used before\n",
    "\n",
    "def classifier():\n",
    "\n",
    "  model = tf.keras.models.Sequential([\n",
    "                                                 \n",
    "        # Flattening layer will convert array of pixels into one dimensional column array                                        \n",
    "       tf.keras.layers.Flatten(),\n",
    "       tf.keras.layers.Dense(units=64, activation='relu'),\n",
    "       tf.keras.layers.Dense(units=32, activation='relu'),\n",
    "       tf.keras.layers.Dense(units=10, activation='softmax')                           \n",
    "\n",
    "  ])\n",
    "\n",
    "# Compiling a model: Specifying a loss and optimization function\n",
    "\n",
    "  model.compile(optimizer='adam',\n",
    "                           loss='sparse_categorical_crossentropy',\n",
    "                           metrics=['accuracy']\n",
    "                           \n",
    "  )\n",
    "\n",
    "  return model"
   ]
  },
  {
   "cell_type": "code",
   "execution_count": 44,
   "metadata": {},
   "outputs": [],
   "source": [
    "# Defining callbacks \n",
    "\n",
    "from keras.callbacks import ModelCheckpoint\n",
    "\n",
    "callbacks = ModelCheckpoint('fashion_classifier.h5', save_best_only=True)"
   ]
  },
  {
   "cell_type": "code",
   "execution_count": 45,
   "metadata": {},
   "outputs": [
    {
     "name": "stdout",
     "output_type": "stream",
     "text": [
      "Epoch 1/20\n",
      "1594/1594 [==============================] - 4s 2ms/step - loss: 3.9086 - accuracy: 0.3835 - val_loss: 1.3155 - val_accuracy: 0.5694\n",
      "Epoch 2/20\n",
      "1594/1594 [==============================] - 3s 2ms/step - loss: 1.0532 - accuracy: 0.6213 - val_loss: 0.8292 - val_accuracy: 0.6851\n",
      "Epoch 3/20\n",
      "1594/1594 [==============================] - 3s 2ms/step - loss: 0.7385 - accuracy: 0.7123 - val_loss: 0.6998 - val_accuracy: 0.7497\n",
      "Epoch 4/20\n",
      "1594/1594 [==============================] - 3s 2ms/step - loss: 0.6159 - accuracy: 0.7806 - val_loss: 0.5843 - val_accuracy: 0.8013\n",
      "Epoch 5/20\n",
      "1594/1594 [==============================] - 3s 2ms/step - loss: 0.5425 - accuracy: 0.8135 - val_loss: 0.5558 - val_accuracy: 0.8158\n",
      "Epoch 6/20\n",
      "1594/1594 [==============================] - 3s 2ms/step - loss: 0.5138 - accuracy: 0.8256 - val_loss: 0.5207 - val_accuracy: 0.8179\n",
      "Epoch 7/20\n",
      "1594/1594 [==============================] - 4s 2ms/step - loss: 0.4817 - accuracy: 0.8339 - val_loss: 0.4926 - val_accuracy: 0.8332\n",
      "Epoch 8/20\n",
      "1594/1594 [==============================] - 3s 2ms/step - loss: 0.4575 - accuracy: 0.8453 - val_loss: 0.4816 - val_accuracy: 0.8341\n",
      "Epoch 9/20\n",
      "1594/1594 [==============================] - 3s 2ms/step - loss: 0.4411 - accuracy: 0.8478 - val_loss: 0.5567 - val_accuracy: 0.8247\n",
      "Epoch 10/20\n",
      "1594/1594 [==============================] - 4s 2ms/step - loss: 0.4331 - accuracy: 0.8501 - val_loss: 0.4586 - val_accuracy: 0.8470\n",
      "Epoch 11/20\n",
      "1594/1594 [==============================] - 3s 2ms/step - loss: 0.4230 - accuracy: 0.8575 - val_loss: 0.4349 - val_accuracy: 0.8543\n",
      "Epoch 12/20\n",
      "1594/1594 [==============================] - 3s 2ms/step - loss: 0.4060 - accuracy: 0.8640 - val_loss: 0.4874 - val_accuracy: 0.8512\n",
      "Epoch 13/20\n",
      "1594/1594 [==============================] - 3s 2ms/step - loss: 0.3951 - accuracy: 0.8648 - val_loss: 0.4626 - val_accuracy: 0.8578\n",
      "Epoch 14/20\n",
      "1594/1594 [==============================] - 3s 2ms/step - loss: 0.3926 - accuracy: 0.8660 - val_loss: 0.4807 - val_accuracy: 0.8350\n",
      "Epoch 15/20\n",
      "1594/1594 [==============================] - 4s 3ms/step - loss: 0.3837 - accuracy: 0.8690 - val_loss: 0.5572 - val_accuracy: 0.8318\n",
      "Epoch 16/20\n",
      "1594/1594 [==============================] - 4s 2ms/step - loss: 0.3862 - accuracy: 0.8706 - val_loss: 0.5048 - val_accuracy: 0.8493\n",
      "Epoch 17/20\n",
      "1594/1594 [==============================] - 4s 2ms/step - loss: 0.3915 - accuracy: 0.8687 - val_loss: 0.4460 - val_accuracy: 0.8627\n",
      "Epoch 18/20\n",
      "1594/1594 [==============================] - 3s 2ms/step - loss: 0.3772 - accuracy: 0.8705 - val_loss: 0.4418 - val_accuracy: 0.8596\n",
      "Epoch 19/20\n",
      "1594/1594 [==============================] - 3s 2ms/step - loss: 0.3587 - accuracy: 0.8804 - val_loss: 0.4860 - val_accuracy: 0.8478\n",
      "Epoch 20/20\n",
      "1594/1594 [==============================] - 3s 2ms/step - loss: 0.3516 - accuracy: 0.8813 - val_loss: 0.4406 - val_accuracy: 0.8653\n"
     ]
    },
    {
     "data": {
      "text/plain": [
       "<tensorflow.python.keras.callbacks.History at 0x7fe66c0991f0>"
      ]
     },
     "execution_count": 45,
     "metadata": {},
     "output_type": "execute_result"
    }
   ],
   "source": [
    "# Controlling training with callbacks\n",
    "\n",
    "# Get the model\n",
    "\n",
    "fashion_classifier_2 = classifier()\n",
    "\n",
    "fashion_classifier_2.fit(fashion_train, fashion_train_label, epochs=20, validation_split=0.15, callbacks=[callbacks])"
   ]
  },
  {
   "cell_type": "code",
   "execution_count": 46,
   "metadata": {},
   "outputs": [],
   "source": [
    "from keras.callbacks import EarlyStopping\n",
    "\n",
    "early_stop = EarlyStopping(monitor='val_accuracy', patience=4, restore_best_weights=True)"
   ]
  },
  {
   "cell_type": "code",
   "execution_count": 47,
   "metadata": {},
   "outputs": [
    {
     "name": "stdout",
     "output_type": "stream",
     "text": [
      "Epoch 1/100\n",
      "1594/1594 [==============================] - 4s 2ms/step - loss: 5.3607 - accuracy: 0.6611 - val_loss: 0.6991 - val_accuracy: 0.7826\n",
      "Epoch 2/100\n",
      "1594/1594 [==============================] - 3s 2ms/step - loss: 0.6819 - accuracy: 0.7753 - val_loss: 0.6625 - val_accuracy: 0.7869\n",
      "Epoch 3/100\n",
      "1594/1594 [==============================] - 4s 2ms/step - loss: 0.5821 - accuracy: 0.7995 - val_loss: 0.5535 - val_accuracy: 0.8150\n",
      "Epoch 4/100\n",
      "1594/1594 [==============================] - 4s 2ms/step - loss: 0.5379 - accuracy: 0.8129 - val_loss: 0.5728 - val_accuracy: 0.7874\n",
      "Epoch 5/100\n",
      "1594/1594 [==============================] - 4s 2ms/step - loss: 0.5026 - accuracy: 0.8231 - val_loss: 0.4791 - val_accuracy: 0.8367\n",
      "Epoch 6/100\n",
      "1594/1594 [==============================] - 3s 2ms/step - loss: 0.4810 - accuracy: 0.8304 - val_loss: 0.5711 - val_accuracy: 0.8107\n",
      "Epoch 7/100\n",
      "1594/1594 [==============================] - 4s 2ms/step - loss: 0.4604 - accuracy: 0.8383 - val_loss: 0.4942 - val_accuracy: 0.8374\n",
      "Epoch 8/100\n",
      "1594/1594 [==============================] - 4s 3ms/step - loss: 0.4555 - accuracy: 0.8356 - val_loss: 0.6176 - val_accuracy: 0.7912\n",
      "Epoch 9/100\n",
      "1594/1594 [==============================] - 3s 2ms/step - loss: 0.4475 - accuracy: 0.8411 - val_loss: 0.4995 - val_accuracy: 0.8216\n",
      "Epoch 10/100\n",
      "1594/1594 [==============================] - 3s 2ms/step - loss: 0.4240 - accuracy: 0.8495 - val_loss: 0.4860 - val_accuracy: 0.8246\n",
      "Epoch 11/100\n",
      "1594/1594 [==============================] - 4s 2ms/step - loss: 0.4145 - accuracy: 0.8520 - val_loss: 0.4575 - val_accuracy: 0.8381\n",
      "Epoch 12/100\n",
      "1594/1594 [==============================] - 4s 2ms/step - loss: 0.4003 - accuracy: 0.8558 - val_loss: 0.5112 - val_accuracy: 0.8314\n",
      "Epoch 13/100\n",
      "1594/1594 [==============================] - 4s 2ms/step - loss: 0.4013 - accuracy: 0.8530 - val_loss: 0.4963 - val_accuracy: 0.8248\n",
      "Epoch 14/100\n",
      "1594/1594 [==============================] - 4s 2ms/step - loss: 0.3842 - accuracy: 0.8597 - val_loss: 0.4380 - val_accuracy: 0.8496\n",
      "Epoch 15/100\n",
      "1594/1594 [==============================] - 4s 3ms/step - loss: 0.3858 - accuracy: 0.8571 - val_loss: 0.4582 - val_accuracy: 0.8450\n",
      "Epoch 16/100\n",
      "1594/1594 [==============================] - 4s 2ms/step - loss: 0.3759 - accuracy: 0.8632 - val_loss: 0.4957 - val_accuracy: 0.8379\n",
      "Epoch 17/100\n",
      "1594/1594 [==============================] - 4s 2ms/step - loss: 0.3768 - accuracy: 0.8625 - val_loss: 0.4513 - val_accuracy: 0.8448\n",
      "Epoch 18/100\n",
      "1594/1594 [==============================] - 4s 2ms/step - loss: 0.3733 - accuracy: 0.8633 - val_loss: 0.4664 - val_accuracy: 0.8432\n"
     ]
    }
   ],
   "source": [
    "# Combining Early stopping and Model Check point\n",
    "\n",
    "# Getting the model \n",
    "\n",
    "fashion_classifier_2 = classifier()\n",
    "\n",
    "history = fashion_classifier_2.fit(fashion_train, fashion_train_label, epochs=100, validation_split=0.15, callbacks=[callbacks, early_stop])"
   ]
  },
  {
   "cell_type": "code",
   "execution_count": null,
   "metadata": {},
   "outputs": [],
   "source": [
    "#Custom Callback"
   ]
  },
  {
   "cell_type": "code",
   "execution_count": 48,
   "metadata": {},
   "outputs": [],
   "source": [
    "# Custom callbacks\n",
    "\n",
    "class callback(tf.keras.callbacks.Callback):\n",
    "\n",
    "  def on_epoch_end(self, epoch, logs={}):\n",
    "\n",
    "    if (logs.get('accuracy') > 0.95):\n",
    "\n",
    "      print('\\n Training is cancelled at an accuracy of 95%')\n",
    "      self.model.stop_training = True\n",
    "\n",
    "\n",
    "# Call callbacks\n",
    "\n",
    "custom_callback = callback()"
   ]
  },
  {
   "cell_type": "code",
   "execution_count": 49,
   "metadata": {},
   "outputs": [
    {
     "name": "stdout",
     "output_type": "stream",
     "text": [
      "Epoch 1/100\n",
      "1594/1594 [==============================] - 5s 3ms/step - loss: 5.7600 - accuracy: 0.6412 - val_loss: 0.7575 - val_accuracy: 0.7548\n",
      "Epoch 2/100\n",
      "1594/1594 [==============================] - 4s 2ms/step - loss: 0.6422 - accuracy: 0.7833 - val_loss: 0.6392 - val_accuracy: 0.7699\n",
      "Epoch 3/100\n",
      "1594/1594 [==============================] - 3s 2ms/step - loss: 0.5637 - accuracy: 0.7990 - val_loss: 0.5652 - val_accuracy: 0.8102\n",
      "Epoch 4/100\n",
      "1594/1594 [==============================] - 3s 2ms/step - loss: 0.5203 - accuracy: 0.8150 - val_loss: 0.5062 - val_accuracy: 0.8258\n",
      "Epoch 5/100\n",
      "1594/1594 [==============================] - 3s 2ms/step - loss: 0.4862 - accuracy: 0.8285 - val_loss: 0.5568 - val_accuracy: 0.7997\n",
      "Epoch 6/100\n",
      "1594/1594 [==============================] - 3s 2ms/step - loss: 0.4712 - accuracy: 0.8301 - val_loss: 0.4896 - val_accuracy: 0.8382\n",
      "Epoch 7/100\n",
      "1594/1594 [==============================] - 4s 3ms/step - loss: 0.4490 - accuracy: 0.8388 - val_loss: 0.4748 - val_accuracy: 0.8437\n",
      "Epoch 8/100\n",
      "1594/1594 [==============================] - 4s 2ms/step - loss: 0.4431 - accuracy: 0.8402 - val_loss: 0.4687 - val_accuracy: 0.8378\n",
      "Epoch 9/100\n",
      "1594/1594 [==============================] - 4s 2ms/step - loss: 0.4300 - accuracy: 0.8457 - val_loss: 0.4982 - val_accuracy: 0.8319\n",
      "Epoch 10/100\n",
      "1594/1594 [==============================] - 4s 2ms/step - loss: 0.4276 - accuracy: 0.8449 - val_loss: 0.4363 - val_accuracy: 0.8487\n",
      "Epoch 11/100\n",
      "1594/1594 [==============================] - 4s 2ms/step - loss: 0.4142 - accuracy: 0.8502 - val_loss: 0.5320 - val_accuracy: 0.8062\n",
      "Epoch 12/100\n",
      "1594/1594 [==============================] - 4s 2ms/step - loss: 0.4067 - accuracy: 0.8541 - val_loss: 0.4447 - val_accuracy: 0.8436\n",
      "Epoch 13/100\n",
      "1594/1594 [==============================] - 4s 2ms/step - loss: 0.4029 - accuracy: 0.8553 - val_loss: 0.4471 - val_accuracy: 0.8448\n",
      "Epoch 14/100\n",
      "1594/1594 [==============================] - 4s 2ms/step - loss: 0.3902 - accuracy: 0.8595 - val_loss: 0.4373 - val_accuracy: 0.8493\n",
      "Epoch 15/100\n",
      "1594/1594 [==============================] - 4s 2ms/step - loss: 0.3886 - accuracy: 0.8608 - val_loss: 0.4489 - val_accuracy: 0.8462\n",
      "Epoch 16/100\n",
      "1594/1594 [==============================] - 4s 2ms/step - loss: 0.3925 - accuracy: 0.8593 - val_loss: 0.4487 - val_accuracy: 0.8479\n",
      "Epoch 17/100\n",
      "1594/1594 [==============================] - 4s 2ms/step - loss: 0.3686 - accuracy: 0.8655 - val_loss: 0.4644 - val_accuracy: 0.8393\n",
      "Epoch 18/100\n",
      "1594/1594 [==============================] - 4s 2ms/step - loss: 0.3657 - accuracy: 0.8681 - val_loss: 0.4367 - val_accuracy: 0.8440\n",
      "Epoch 19/100\n",
      "1594/1594 [==============================] - 4s 2ms/step - loss: 0.3792 - accuracy: 0.8658 - val_loss: 0.4365 - val_accuracy: 0.8516\n",
      "Epoch 20/100\n",
      "1594/1594 [==============================] - 4s 2ms/step - loss: 0.3656 - accuracy: 0.8665 - val_loss: 0.4512 - val_accuracy: 0.8478\n",
      "Epoch 21/100\n",
      "1594/1594 [==============================] - 4s 2ms/step - loss: 0.3713 - accuracy: 0.8680 - val_loss: 0.4330 - val_accuracy: 0.8564\n",
      "Epoch 22/100\n",
      "1594/1594 [==============================] - 4s 2ms/step - loss: 0.3655 - accuracy: 0.8666 - val_loss: 0.4327 - val_accuracy: 0.8540\n",
      "Epoch 23/100\n",
      "1594/1594 [==============================] - 4s 2ms/step - loss: 0.3670 - accuracy: 0.8693 - val_loss: 0.4415 - val_accuracy: 0.8507\n",
      "Epoch 24/100\n",
      "1594/1594 [==============================] - 4s 2ms/step - loss: 0.3524 - accuracy: 0.8738 - val_loss: 0.4563 - val_accuracy: 0.8500\n",
      "Epoch 25/100\n",
      "1594/1594 [==============================] - 4s 3ms/step - loss: 0.3558 - accuracy: 0.8709 - val_loss: 0.4534 - val_accuracy: 0.8532\n",
      "Epoch 26/100\n",
      "1594/1594 [==============================] - 4s 2ms/step - loss: 0.3594 - accuracy: 0.8716 - val_loss: 0.5300 - val_accuracy: 0.8297\n",
      "Epoch 27/100\n",
      "1594/1594 [==============================] - 4s 2ms/step - loss: 0.3571 - accuracy: 0.8735 - val_loss: 0.4328 - val_accuracy: 0.8621\n",
      "Epoch 28/100\n",
      "1594/1594 [==============================] - 4s 2ms/step - loss: 0.3486 - accuracy: 0.8742 - val_loss: 0.4511 - val_accuracy: 0.8566\n",
      "Epoch 29/100\n",
      "1594/1594 [==============================] - 4s 2ms/step - loss: 0.3454 - accuracy: 0.8775 - val_loss: 0.5025 - val_accuracy: 0.8481\n",
      "Epoch 30/100\n",
      "1594/1594 [==============================] - 4s 3ms/step - loss: 0.3583 - accuracy: 0.8757 - val_loss: 0.4491 - val_accuracy: 0.8587\n",
      "Epoch 31/100\n",
      "1594/1594 [==============================] - 4s 2ms/step - loss: 0.3467 - accuracy: 0.8763 - val_loss: 0.4817 - val_accuracy: 0.8547\n",
      "Epoch 32/100\n",
      "1594/1594 [==============================] - 4s 2ms/step - loss: 0.3428 - accuracy: 0.8789 - val_loss: 0.4743 - val_accuracy: 0.8549\n",
      "Epoch 33/100\n",
      "1594/1594 [==============================] - 4s 2ms/step - loss: 0.3394 - accuracy: 0.8785 - val_loss: 0.4633 - val_accuracy: 0.8621\n",
      "Epoch 34/100\n",
      "1594/1594 [==============================] - 4s 2ms/step - loss: 0.3492 - accuracy: 0.8758 - val_loss: 0.4786 - val_accuracy: 0.8486\n",
      "Epoch 35/100\n",
      "1594/1594 [==============================] - 4s 2ms/step - loss: 0.3466 - accuracy: 0.8756 - val_loss: 0.5247 - val_accuracy: 0.8516\n",
      "Epoch 36/100\n",
      "1594/1594 [==============================] - 4s 2ms/step - loss: 0.3349 - accuracy: 0.8788 - val_loss: 0.5017 - val_accuracy: 0.8561\n",
      "Epoch 37/100\n",
      "1594/1594 [==============================] - 5s 3ms/step - loss: 0.3543 - accuracy: 0.8772 - val_loss: 0.4900 - val_accuracy: 0.8617\n",
      "Epoch 38/100\n",
      "1594/1594 [==============================] - 4s 2ms/step - loss: 0.3472 - accuracy: 0.8774 - val_loss: 0.4677 - val_accuracy: 0.8540\n",
      "Epoch 39/100\n",
      "1594/1594 [==============================] - 4s 2ms/step - loss: 0.3320 - accuracy: 0.8825 - val_loss: 0.5077 - val_accuracy: 0.8443\n",
      "Epoch 40/100\n",
      "1594/1594 [==============================] - 4s 2ms/step - loss: 0.3337 - accuracy: 0.8825 - val_loss: 0.5557 - val_accuracy: 0.8476\n",
      "Epoch 41/100\n",
      "1594/1594 [==============================] - 4s 2ms/step - loss: 0.3364 - accuracy: 0.8807 - val_loss: 0.5116 - val_accuracy: 0.8569\n",
      "Epoch 42/100\n",
      "1594/1594 [==============================] - 4s 2ms/step - loss: 0.3349 - accuracy: 0.8801 - val_loss: 0.4515 - val_accuracy: 0.8626\n",
      "Epoch 43/100\n",
      "1594/1594 [==============================] - 4s 2ms/step - loss: 0.3332 - accuracy: 0.8789 - val_loss: 0.5249 - val_accuracy: 0.8613\n",
      "Epoch 44/100\n",
      "1594/1594 [==============================] - 4s 2ms/step - loss: 0.3452 - accuracy: 0.8808 - val_loss: 0.4994 - val_accuracy: 0.8557\n",
      "Epoch 45/100\n",
      "1594/1594 [==============================] - 4s 3ms/step - loss: 0.3270 - accuracy: 0.8850 - val_loss: 0.7368 - val_accuracy: 0.8476\n",
      "Epoch 46/100\n",
      "1594/1594 [==============================] - 4s 2ms/step - loss: 0.3422 - accuracy: 0.8780 - val_loss: 0.4692 - val_accuracy: 0.8573\n",
      "Epoch 47/100\n",
      "1594/1594 [==============================] - 4s 2ms/step - loss: 0.3365 - accuracy: 0.8806 - val_loss: 0.4873 - val_accuracy: 0.8548\n",
      "Epoch 48/100\n",
      "1594/1594 [==============================] - 4s 2ms/step - loss: 0.3228 - accuracy: 0.8844 - val_loss: 0.4835 - val_accuracy: 0.8587\n",
      "Epoch 49/100\n",
      "1594/1594 [==============================] - 4s 2ms/step - loss: 0.3321 - accuracy: 0.8825 - val_loss: 0.5093 - val_accuracy: 0.8563\n",
      "Epoch 50/100\n",
      "1594/1594 [==============================] - 4s 2ms/step - loss: 0.3283 - accuracy: 0.8808 - val_loss: 0.5187 - val_accuracy: 0.8567\n",
      "Epoch 51/100\n",
      "1594/1594 [==============================] - 4s 2ms/step - loss: 0.3362 - accuracy: 0.8801 - val_loss: 0.5486 - val_accuracy: 0.8584\n",
      "Epoch 52/100\n",
      "1594/1594 [==============================] - 4s 2ms/step - loss: 0.3314 - accuracy: 0.8827 - val_loss: 0.5052 - val_accuracy: 0.8546\n",
      "Epoch 53/100\n",
      "1594/1594 [==============================] - 4s 2ms/step - loss: 0.3271 - accuracy: 0.8844 - val_loss: 0.5237 - val_accuracy: 0.8461\n",
      "Epoch 54/100\n",
      "1594/1594 [==============================] - 4s 2ms/step - loss: 0.3269 - accuracy: 0.8836 - val_loss: 0.4849 - val_accuracy: 0.8616\n",
      "Epoch 55/100\n",
      "1594/1594 [==============================] - 4s 2ms/step - loss: 0.3272 - accuracy: 0.8829 - val_loss: 0.5095 - val_accuracy: 0.8604\n",
      "Epoch 56/100\n",
      "1594/1594 [==============================] - 4s 2ms/step - loss: 0.3186 - accuracy: 0.8859 - val_loss: 0.5002 - val_accuracy: 0.8584\n",
      "Epoch 57/100\n"
     ]
    },
    {
     "name": "stdout",
     "output_type": "stream",
     "text": [
      "1594/1594 [==============================] - 4s 2ms/step - loss: 0.3256 - accuracy: 0.8846 - val_loss: 0.5313 - val_accuracy: 0.8553\n",
      "Epoch 58/100\n",
      "1594/1594 [==============================] - 4s 2ms/step - loss: 0.3234 - accuracy: 0.8847 - val_loss: 0.5313 - val_accuracy: 0.8547\n",
      "Epoch 59/100\n",
      "1594/1594 [==============================] - 3s 2ms/step - loss: 0.3203 - accuracy: 0.8860 - val_loss: 0.5138 - val_accuracy: 0.8566\n",
      "Epoch 60/100\n",
      "1594/1594 [==============================] - 4s 2ms/step - loss: 0.3219 - accuracy: 0.8842 - val_loss: 0.5156 - val_accuracy: 0.8606\n",
      "Epoch 61/100\n",
      "1594/1594 [==============================] - 4s 2ms/step - loss: 0.3255 - accuracy: 0.8858 - val_loss: 0.5412 - val_accuracy: 0.8591\n",
      "Epoch 62/100\n",
      "1594/1594 [==============================] - 4s 2ms/step - loss: 0.3284 - accuracy: 0.8838 - val_loss: 0.5226 - val_accuracy: 0.8621\n",
      "Epoch 63/100\n",
      "1594/1594 [==============================] - 4s 2ms/step - loss: 0.3305 - accuracy: 0.8836 - val_loss: 0.5533 - val_accuracy: 0.8578\n",
      "Epoch 64/100\n",
      "1594/1594 [==============================] - 4s 2ms/step - loss: 0.3216 - accuracy: 0.8867 - val_loss: 0.5762 - val_accuracy: 0.8531\n",
      "Epoch 65/100\n",
      "1594/1594 [==============================] - 4s 2ms/step - loss: 0.3277 - accuracy: 0.8830 - val_loss: 0.5623 - val_accuracy: 0.8521\n",
      "Epoch 66/100\n",
      "1594/1594 [==============================] - 4s 2ms/step - loss: 0.3256 - accuracy: 0.8837 - val_loss: 0.5780 - val_accuracy: 0.8578\n",
      "Epoch 67/100\n",
      "1594/1594 [==============================] - 4s 2ms/step - loss: 0.3272 - accuracy: 0.8862 - val_loss: 0.5544 - val_accuracy: 0.8606\n",
      "Epoch 68/100\n",
      "1594/1594 [==============================] - 4s 2ms/step - loss: 0.3228 - accuracy: 0.8855 - val_loss: 0.5924 - val_accuracy: 0.8556\n",
      "Epoch 69/100\n",
      "1594/1594 [==============================] - 4s 3ms/step - loss: 0.3192 - accuracy: 0.8845 - val_loss: 0.6201 - val_accuracy: 0.8563\n",
      "Epoch 70/100\n",
      "1594/1594 [==============================] - 4s 2ms/step - loss: 0.3239 - accuracy: 0.8867 - val_loss: 0.5827 - val_accuracy: 0.8538\n",
      "Epoch 71/100\n",
      "1594/1594 [==============================] - 4s 2ms/step - loss: 0.3101 - accuracy: 0.8894 - val_loss: 0.5997 - val_accuracy: 0.8547\n",
      "Epoch 72/100\n",
      "1594/1594 [==============================] - 4s 2ms/step - loss: 0.3207 - accuracy: 0.8855 - val_loss: 0.5692 - val_accuracy: 0.8542\n",
      "Epoch 73/100\n",
      "1594/1594 [==============================] - 4s 2ms/step - loss: 0.3192 - accuracy: 0.8871 - val_loss: 0.5648 - val_accuracy: 0.8608\n",
      "Epoch 74/100\n",
      "1594/1594 [==============================] - 4s 3ms/step - loss: 0.3179 - accuracy: 0.8877 - val_loss: 0.6441 - val_accuracy: 0.8513\n",
      "Epoch 75/100\n",
      "1594/1594 [==============================] - 4s 2ms/step - loss: 0.3257 - accuracy: 0.8874 - val_loss: 0.5744 - val_accuracy: 0.8609\n",
      "Epoch 76/100\n",
      "1594/1594 [==============================] - 3s 2ms/step - loss: 0.3110 - accuracy: 0.8895 - val_loss: 0.6429 - val_accuracy: 0.8419\n",
      "Epoch 77/100\n",
      "1594/1594 [==============================] - 4s 3ms/step - loss: 0.3299 - accuracy: 0.8831 - val_loss: 0.5920 - val_accuracy: 0.8551\n",
      "Epoch 78/100\n",
      "1594/1594 [==============================] - 3s 2ms/step - loss: 0.3114 - accuracy: 0.8890 - val_loss: 0.5742 - val_accuracy: 0.8640\n",
      "Epoch 79/100\n",
      "1594/1594 [==============================] - 3s 2ms/step - loss: 0.3120 - accuracy: 0.8902 - val_loss: 0.6749 - val_accuracy: 0.8599\n",
      "Epoch 80/100\n",
      "1594/1594 [==============================] - 4s 2ms/step - loss: 0.3171 - accuracy: 0.8873 - val_loss: 0.6076 - val_accuracy: 0.8493\n",
      "Epoch 81/100\n",
      "1594/1594 [==============================] - 4s 3ms/step - loss: 0.3159 - accuracy: 0.8895 - val_loss: 0.5692 - val_accuracy: 0.8527\n",
      "Epoch 82/100\n",
      "1594/1594 [==============================] - 4s 3ms/step - loss: 0.3133 - accuracy: 0.8886 - val_loss: 0.6260 - val_accuracy: 0.8552\n",
      "Epoch 83/100\n",
      "1594/1594 [==============================] - 4s 2ms/step - loss: 0.3198 - accuracy: 0.8883 - val_loss: 0.6979 - val_accuracy: 0.8476\n",
      "Epoch 84/100\n",
      "1594/1594 [==============================] - 3s 2ms/step - loss: 0.3029 - accuracy: 0.8929 - val_loss: 0.7503 - val_accuracy: 0.8571\n",
      "Epoch 85/100\n",
      "1594/1594 [==============================] - 3s 2ms/step - loss: 0.3166 - accuracy: 0.8901 - val_loss: 0.6922 - val_accuracy: 0.8604\n",
      "Epoch 86/100\n",
      "1594/1594 [==============================] - 3s 2ms/step - loss: 0.3056 - accuracy: 0.8907 - val_loss: 0.7163 - val_accuracy: 0.8418\n",
      "Epoch 87/100\n",
      "1594/1594 [==============================] - 3s 2ms/step - loss: 0.3198 - accuracy: 0.8874 - val_loss: 0.8227 - val_accuracy: 0.8573\n",
      "Epoch 88/100\n",
      "1594/1594 [==============================] - 3s 2ms/step - loss: 0.3101 - accuracy: 0.8883 - val_loss: 0.8201 - val_accuracy: 0.8498\n",
      "Epoch 89/100\n",
      "1594/1594 [==============================] - 3s 2ms/step - loss: 0.3103 - accuracy: 0.8886 - val_loss: 0.7758 - val_accuracy: 0.8583\n",
      "Epoch 90/100\n",
      "1594/1594 [==============================] - 3s 2ms/step - loss: 0.3120 - accuracy: 0.8896 - val_loss: 0.7948 - val_accuracy: 0.8532\n",
      "Epoch 91/100\n",
      "1594/1594 [==============================] - 3s 2ms/step - loss: 0.3141 - accuracy: 0.8877 - val_loss: 0.8055 - val_accuracy: 0.8537\n",
      "Epoch 92/100\n",
      "1594/1594 [==============================] - 3s 2ms/step - loss: 0.3202 - accuracy: 0.8869 - val_loss: 0.7465 - val_accuracy: 0.8619\n",
      "Epoch 93/100\n",
      "1594/1594 [==============================] - 5s 3ms/step - loss: 0.3115 - accuracy: 0.8895 - val_loss: 0.7071 - val_accuracy: 0.8489\n",
      "Epoch 94/100\n",
      "1594/1594 [==============================] - 4s 2ms/step - loss: 0.3105 - accuracy: 0.8898 - val_loss: 0.6491 - val_accuracy: 0.8529\n",
      "Epoch 95/100\n",
      "1594/1594 [==============================] - 4s 2ms/step - loss: 0.3104 - accuracy: 0.8894 - val_loss: 0.7653 - val_accuracy: 0.8571\n",
      "Epoch 96/100\n",
      "1594/1594 [==============================] - 4s 2ms/step - loss: 0.3202 - accuracy: 0.8868 - val_loss: 0.7325 - val_accuracy: 0.8604\n",
      "Epoch 97/100\n",
      "1594/1594 [==============================] - 4s 2ms/step - loss: 0.3126 - accuracy: 0.8882 - val_loss: 0.6657 - val_accuracy: 0.8594\n",
      "Epoch 98/100\n",
      "1594/1594 [==============================] - 4s 2ms/step - loss: 0.3104 - accuracy: 0.8881 - val_loss: 0.7512 - val_accuracy: 0.8458\n",
      "Epoch 99/100\n",
      "1594/1594 [==============================] - 4s 2ms/step - loss: 0.3055 - accuracy: 0.8925 - val_loss: 0.7708 - val_accuracy: 0.8372\n",
      "Epoch 100/100\n",
      "1594/1594 [==============================] - 4s 2ms/step - loss: 0.3115 - accuracy: 0.8892 - val_loss: 0.7266 - val_accuracy: 0.8614\n"
     ]
    }
   ],
   "source": [
    "# Implementing custom ballback\n",
    "\n",
    "# Getting the model \n",
    "\n",
    "fashion_classifier_2 = classifier()\n",
    "\n",
    "history = fashion_classifier_2.fit(fashion_train, fashion_train_label, epochs=100, validation_split=0.15, callbacks=[custom_callback])"
   ]
  },
  {
   "cell_type": "code",
   "execution_count": null,
   "metadata": {},
   "outputs": [],
   "source": [
    "#Using TensorBoard for Model Visualization"
   ]
  },
  {
   "cell_type": "code",
   "execution_count": 50,
   "metadata": {},
   "outputs": [],
   "source": [
    "# Load the Tensorboard notebook extension\n",
    "# And import datetime\n",
    "\n",
    "%load_ext tensorboard"
   ]
  },
  {
   "cell_type": "code",
   "execution_count": 51,
   "metadata": {},
   "outputs": [],
   "source": [
    "!rm -rf ./logs/"
   ]
  },
  {
   "cell_type": "code",
   "execution_count": 52,
   "metadata": {},
   "outputs": [],
   "source": [
    "# Getting the model \n",
    "\n",
    "fashion_classifier = classifier()"
   ]
  },
  {
   "cell_type": "code",
   "execution_count": 53,
   "metadata": {},
   "outputs": [],
   "source": [
    "# Create a callback\n",
    "\n",
    "tfboard_callback = tf.keras.callbacks.TensorBoard(log_dir=\"logs\")"
   ]
  },
  {
   "cell_type": "code",
   "execution_count": 54,
   "metadata": {},
   "outputs": [
    {
     "name": "stdout",
     "output_type": "stream",
     "text": [
      "Epoch 1/20\n",
      "1594/1594 [==============================] - 4s 2ms/step - loss: 7.2441 - accuracy: 0.6391 - val_loss: 0.7775 - val_accuracy: 0.7194\n",
      "Epoch 2/20\n",
      "1594/1594 [==============================] - 3s 2ms/step - loss: 0.7142 - accuracy: 0.7539 - val_loss: 0.6674 - val_accuracy: 0.7699\n",
      "Epoch 3/20\n",
      "1594/1594 [==============================] - 3s 2ms/step - loss: 0.6187 - accuracy: 0.7883 - val_loss: 0.5851 - val_accuracy: 0.7997\n",
      "Epoch 4/20\n",
      "1594/1594 [==============================] - 4s 2ms/step - loss: 0.5762 - accuracy: 0.8038 - val_loss: 0.5596 - val_accuracy: 0.8027\n",
      "Epoch 5/20\n",
      "1594/1594 [==============================] - 4s 2ms/step - loss: 0.5411 - accuracy: 0.8134 - val_loss: 0.5516 - val_accuracy: 0.8123\n",
      "Epoch 6/20\n",
      "1594/1594 [==============================] - 4s 2ms/step - loss: 0.5201 - accuracy: 0.8234 - val_loss: 0.5235 - val_accuracy: 0.8159\n",
      "Epoch 7/20\n",
      "1594/1594 [==============================] - 4s 2ms/step - loss: 0.5016 - accuracy: 0.8263 - val_loss: 0.4921 - val_accuracy: 0.8350\n",
      "Epoch 8/20\n",
      "1594/1594 [==============================] - 4s 2ms/step - loss: 0.4949 - accuracy: 0.8303 - val_loss: 0.5233 - val_accuracy: 0.8063\n",
      "Epoch 9/20\n",
      "1594/1594 [==============================] - 4s 2ms/step - loss: 0.4820 - accuracy: 0.8332 - val_loss: 0.5547 - val_accuracy: 0.8071\n",
      "Epoch 10/20\n",
      "1594/1594 [==============================] - 4s 2ms/step - loss: 0.4640 - accuracy: 0.8423 - val_loss: 0.4800 - val_accuracy: 0.8290\n",
      "Epoch 11/20\n",
      "1594/1594 [==============================] - 4s 2ms/step - loss: 0.4521 - accuracy: 0.8438 - val_loss: 0.5395 - val_accuracy: 0.8328\n",
      "Epoch 12/20\n",
      "1594/1594 [==============================] - 4s 2ms/step - loss: 0.4423 - accuracy: 0.8450 - val_loss: 0.4639 - val_accuracy: 0.8477\n",
      "Epoch 13/20\n",
      "1594/1594 [==============================] - 4s 2ms/step - loss: 0.4319 - accuracy: 0.8445 - val_loss: 0.4654 - val_accuracy: 0.8467\n",
      "Epoch 14/20\n",
      "1594/1594 [==============================] - 4s 2ms/step - loss: 0.4332 - accuracy: 0.8506 - val_loss: 0.4734 - val_accuracy: 0.8404\n",
      "Epoch 15/20\n",
      "1594/1594 [==============================] - 4s 2ms/step - loss: 0.4412 - accuracy: 0.8470 - val_loss: 0.4737 - val_accuracy: 0.8482\n",
      "Epoch 16/20\n",
      "1594/1594 [==============================] - 4s 2ms/step - loss: 0.4080 - accuracy: 0.8571 - val_loss: 0.4910 - val_accuracy: 0.8223\n",
      "Epoch 17/20\n",
      "1594/1594 [==============================] - 4s 2ms/step - loss: 0.4048 - accuracy: 0.8571 - val_loss: 0.4697 - val_accuracy: 0.8450\n",
      "Epoch 18/20\n",
      "1594/1594 [==============================] - 4s 2ms/step - loss: 0.3948 - accuracy: 0.8589 - val_loss: 0.4619 - val_accuracy: 0.8423\n",
      "Epoch 19/20\n",
      "1594/1594 [==============================] - 4s 2ms/step - loss: 0.3916 - accuracy: 0.8606 - val_loss: 0.4380 - val_accuracy: 0.8498\n",
      "Epoch 20/20\n",
      "1594/1594 [==============================] - 4s 2ms/step - loss: 0.3898 - accuracy: 0.8601 - val_loss: 0.4672 - val_accuracy: 0.8432\n"
     ]
    },
    {
     "data": {
      "text/plain": [
       "<tensorflow.python.keras.callbacks.History at 0x7fe6342db310>"
      ]
     },
     "execution_count": 54,
     "metadata": {},
     "output_type": "execute_result"
    }
   ],
   "source": [
    "fashion_classifier.fit(fashion_train, fashion_train_label, epochs=20, validation_split=0.15, callbacks=[tfboard_callback])"
   ]
  },
  {
   "cell_type": "code",
   "execution_count": 55,
   "metadata": {},
   "outputs": [
    {
     "data": {
      "text/html": [
       "\n",
       "      <iframe id=\"tensorboard-frame-161277a04ee5809d\" width=\"100%\" height=\"800\" frameborder=\"0\">\n",
       "      </iframe>\n",
       "      <script>\n",
       "        (function() {\n",
       "          const frame = document.getElementById(\"tensorboard-frame-161277a04ee5809d\");\n",
       "          const url = new URL(\"/\", window.location);\n",
       "          const port = 6006;\n",
       "          if (port) {\n",
       "            url.port = port;\n",
       "          }\n",
       "          frame.src = url;\n",
       "        })();\n",
       "      </script>\n",
       "    "
      ],
      "text/plain": [
       "<IPython.core.display.HTML object>"
      ]
     },
     "metadata": {},
     "output_type": "display_data"
    }
   ],
   "source": [
    "%tensorboard --logdir logs"
   ]
  },
  {
   "cell_type": "code",
   "execution_count": null,
   "metadata": {},
   "outputs": [],
   "source": []
  }
 ],
 "metadata": {
  "kernelspec": {
   "display_name": "Python 3",
   "language": "python",
   "name": "python3"
  },
  "language_info": {
   "codemirror_mode": {
    "name": "ipython",
    "version": 3
   },
   "file_extension": ".py",
   "mimetype": "text/x-python",
   "name": "python",
   "nbconvert_exporter": "python",
   "pygments_lexer": "ipython3",
   "version": "3.8.5"
  }
 },
 "nbformat": 4,
 "nbformat_minor": 4
}
