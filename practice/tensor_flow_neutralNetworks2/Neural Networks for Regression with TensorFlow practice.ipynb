{
 "cells": [
  {
   "cell_type": "code",
   "execution_count": null,
   "metadata": {},
   "outputs": [],
   "source": [
    "#Neural Networks for Regression with TensorFlow"
   ]
  },
  {
   "cell_type": "code",
   "execution_count": null,
   "metadata": {},
   "outputs": [],
   "source": [
    "#Starting Simple: Fitting a Straight Line\n",
    "#V"
   ]
  },
  {
   "cell_type": "code",
   "execution_count": 1,
   "metadata": {},
   "outputs": [],
   "source": [
    " #Gathering the data"
   ]
  },
  {
   "cell_type": "code",
   "execution_count": 2,
   "metadata": {},
   "outputs": [],
   "source": [
    "import tensorflow as tf\n",
    "from tensorflow import keras \n",
    "import numpy as np\n",
    "import matplotlib.pyplot as plt\n",
    "import pandas as pd"
   ]
  },
  {
   "cell_type": "code",
   "execution_count": 3,
   "metadata": {},
   "outputs": [],
   "source": [
    "# Create input feature X\n",
    "\n",
    "X = tf.constant([-2,-1,0.0,1.0,2.0,3.0,4.0,5.0,6.0,7.0,8.0,10,12])\n",
    "\n",
    "# Create label y\n",
    "\n",
    "y = tf.constant([-3.0,-1.0,1.0,3.0,5.0,7.0,9.0,11.0,13.0,15.0,17.0,21.0,25.0])"
   ]
  },
  {
   "cell_type": "code",
   "execution_count": 4,
   "metadata": {},
   "outputs": [],
   "source": [
    "#Looking in the Data"
   ]
  },
  {
   "cell_type": "code",
   "execution_count": 5,
   "metadata": {},
   "outputs": [
    {
     "data": {
      "text/plain": [
       "Text(0, 0.5, 'y')"
      ]
     },
     "execution_count": 5,
     "metadata": {},
     "output_type": "execute_result"
    },
    {
     "data": {
      "image/png": "[encoded data removed]",
      "text/plain": [
       "<Figure size 432x288 with 1 Axes>"
      ]
     },
     "metadata": {
      "needs_background": "light"
     },
     "output_type": "display_data"
    }
   ],
   "source": [
    "# Visualizing X and y\n",
    "\n",
    "plt.plot(X,y) #This will plot a line\n",
    "plt.scatter(X,y) \n",
    "plt.annotate('y=2X+1', xy=(3,4))\n",
    "plt.xlabel('X')\n",
    "plt.ylabel('y')"
   ]
  },
  {
   "cell_type": "code",
   "execution_count": null,
   "metadata": {},
   "outputs": [],
   "source": [
    "#Preparing data for the model"
   ]
  },
  {
   "cell_type": "code",
   "execution_count": null,
   "metadata": {},
   "outputs": [],
   "source": [
    " #Creating, Compiling and Training a Model"
   ]
  },
  {
   "cell_type": "code",
   "execution_count": 6,
   "metadata": {},
   "outputs": [],
   "source": [
    "model = tf.keras.Sequential([\n",
    "                             \n",
    "                             keras.layers.Dense(units=1, input_shape=[1])\n",
    "])"
   ]
  },
  {
   "cell_type": "code",
   "execution_count": 7,
   "metadata": {},
   "outputs": [
    {
     "name": "stdout",
     "output_type": "stream",
     "text": [
      "Model: \"sequential\"\n",
      "_________________________________________________________________\n",
      "Layer (type)                 Output Shape              Param #   \n",
      "=================================================================\n",
      "dense (Dense)                (None, 1)                 2         \n",
      "=================================================================\n",
      "Total params: 2\n",
      "Trainable params: 2\n",
      "Non-trainable params: 0\n",
      "_________________________________________________________________\n"
     ]
    }
   ],
   "source": [
    "model.summary()"
   ]
  },
  {
   "cell_type": "code",
   "execution_count": 8,
   "metadata": {},
   "outputs": [],
   "source": [
    "model.compile(optimizer='sgd', \n",
    "              loss='mean_squared_error',\n",
    "              metrics=['mse'])"
   ]
  },
  {
   "cell_type": "code",
   "execution_count": 9,
   "metadata": {},
   "outputs": [
    {
     "name": "stdout",
     "output_type": "stream",
     "text": [
      "Epoch 1/500\n",
      "1/1 [==============================] - 1s 1s/step - loss: 507.8572 - mse: 507.8572\n",
      "Epoch 2/500\n",
      "1/1 [==============================] - 0s 3ms/step - loss: 43.6236 - mse: 43.6236\n",
      "Epoch 3/500\n",
      "1/1 [==============================] - 0s 5ms/step - loss: 3.8596 - mse: 3.8596\n",
      "Epoch 4/500\n",
      "1/1 [==============================] - 0s 7ms/step - loss: 0.4514 - mse: 0.4514\n",
      "Epoch 5/500\n",
      "1/1 [==============================] - 0s 7ms/step - loss: 0.1572 - mse: 0.1572\n",
      "Epoch 6/500\n",
      "1/1 [==============================] - 0s 6ms/step - loss: 0.1298 - mse: 0.1298\n",
      "Epoch 7/500\n",
      "1/1 [==============================] - 0s 3ms/step - loss: 0.1252 - mse: 0.1252\n",
      "Epoch 8/500\n",
      "1/1 [==============================] - 0s 5ms/step - loss: 0.1226 - mse: 0.1226\n",
      "Epoch 9/500\n",
      "1/1 [==============================] - 0s 8ms/step - loss: 0.1203 - mse: 0.1203\n",
      "Epoch 10/500\n",
      "1/1 [==============================] - 0s 13ms/step - loss: 0.1180 - mse: 0.1180\n",
      "Epoch 11/500\n",
      "1/1 [==============================] - 0s 9ms/step - loss: 0.1157 - mse: 0.1157\n",
      "Epoch 12/500\n",
      "1/1 [==============================] - 0s 11ms/step - loss: 0.1135 - mse: 0.1135\n",
      "Epoch 13/500\n",
      "1/1 [==============================] - 0s 12ms/step - loss: 0.1114 - mse: 0.1114\n",
      "Epoch 14/500\n",
      "1/1 [==============================] - 0s 12ms/step - loss: 0.1092 - mse: 0.1092\n",
      "Epoch 15/500\n",
      "1/1 [==============================] - 0s 9ms/step - loss: 0.1071 - mse: 0.1071\n",
      "Epoch 16/500\n",
      "1/1 [==============================] - 0s 5ms/step - loss: 0.1051 - mse: 0.1051\n",
      "Epoch 17/500\n",
      "1/1 [==============================] - 0s 3ms/step - loss: 0.1031 - mse: 0.1031\n",
      "Epoch 18/500\n",
      "1/1 [==============================] - 0s 6ms/step - loss: 0.1011 - mse: 0.1011\n",
      "Epoch 19/500\n",
      "1/1 [==============================] - 0s 5ms/step - loss: 0.0992 - mse: 0.0992\n",
      "Epoch 20/500\n",
      "1/1 [==============================] - 0s 7ms/step - loss: 0.0973 - mse: 0.0973\n",
      "Epoch 21/500\n",
      "1/1 [==============================] - 0s 12ms/step - loss: 0.0955 - mse: 0.0955\n",
      "Epoch 22/500\n",
      "1/1 [==============================] - 0s 10ms/step - loss: 0.0936 - mse: 0.0936\n",
      "Epoch 23/500\n",
      "1/1 [==============================] - 0s 10ms/step - loss: 0.0918 - mse: 0.0918\n",
      "Epoch 24/500\n",
      "1/1 [==============================] - 0s 11ms/step - loss: 0.0901 - mse: 0.0901\n",
      "Epoch 25/500\n",
      "1/1 [==============================] - 0s 4ms/step - loss: 0.0884 - mse: 0.0884\n",
      "Epoch 26/500\n",
      "1/1 [==============================] - 0s 8ms/step - loss: 0.0867 - mse: 0.0867\n",
      "Epoch 27/500\n",
      "1/1 [==============================] - 0s 4ms/step - loss: 0.0850 - mse: 0.0850\n",
      "Epoch 28/500\n",
      "1/1 [==============================] - 0s 4ms/step - loss: 0.0834 - mse: 0.0834\n",
      "Epoch 29/500\n",
      "1/1 [==============================] - 0s 17ms/step - loss: 0.0818 - mse: 0.0818\n",
      "Epoch 30/500\n",
      "1/1 [==============================] - 0s 14ms/step - loss: 0.0803 - mse: 0.0803\n",
      "Epoch 31/500\n",
      "1/1 [==============================] - 0s 7ms/step - loss: 0.0787 - mse: 0.0787\n",
      "Epoch 32/500\n",
      "1/1 [==============================] - 0s 7ms/step - loss: 0.0772 - mse: 0.0772\n",
      "Epoch 33/500\n",
      "1/1 [==============================] - 0s 6ms/step - loss: 0.0758 - mse: 0.0758\n",
      "Epoch 34/500\n",
      "1/1 [==============================] - 0s 6ms/step - loss: 0.0743 - mse: 0.0743\n",
      "Epoch 35/500\n",
      "1/1 [==============================] - 0s 4ms/step - loss: 0.0729 - mse: 0.0729\n",
      "Epoch 36/500\n",
      "1/1 [==============================] - 0s 11ms/step - loss: 0.0715 - mse: 0.0715\n",
      "Epoch 37/500\n",
      "1/1 [==============================] - 0s 3ms/step - loss: 0.0701 - mse: 0.0701\n",
      "Epoch 38/500\n",
      "1/1 [==============================] - 0s 4ms/step - loss: 0.0688 - mse: 0.0688\n",
      "Epoch 39/500\n",
      "1/1 [==============================] - 0s 3ms/step - loss: 0.0675 - mse: 0.0675\n",
      "Epoch 40/500\n",
      "1/1 [==============================] - 0s 3ms/step - loss: 0.0662 - mse: 0.0662\n",
      "Epoch 41/500\n",
      "1/1 [==============================] - 0s 7ms/step - loss: 0.0649 - mse: 0.0649\n",
      "Epoch 42/500\n",
      "1/1 [==============================] - 0s 7ms/step - loss: 0.0637 - mse: 0.0637\n",
      "Epoch 43/500\n",
      "1/1 [==============================] - 0s 5ms/step - loss: 0.0625 - mse: 0.0625\n",
      "Epoch 44/500\n",
      "1/1 [==============================] - 0s 7ms/step - loss: 0.0613 - mse: 0.0613\n",
      "Epoch 45/500\n",
      "1/1 [==============================] - 0s 6ms/step - loss: 0.0601 - mse: 0.0601\n",
      "Epoch 46/500\n",
      "1/1 [==============================] - 0s 7ms/step - loss: 0.0590 - mse: 0.0590\n",
      "Epoch 47/500\n",
      "1/1 [==============================] - 0s 5ms/step - loss: 0.0579 - mse: 0.0579\n",
      "Epoch 48/500\n",
      "1/1 [==============================] - 0s 7ms/step - loss: 0.0567 - mse: 0.0567\n",
      "Epoch 49/500\n",
      "1/1 [==============================] - 0s 5ms/step - loss: 0.0557 - mse: 0.0557\n",
      "Epoch 50/500\n",
      "1/1 [==============================] - 0s 8ms/step - loss: 0.0546 - mse: 0.0546\n",
      "Epoch 51/500\n",
      "1/1 [==============================] - 0s 13ms/step - loss: 0.0536 - mse: 0.0536\n",
      "Epoch 52/500\n",
      "1/1 [==============================] - 0s 7ms/step - loss: 0.0525 - mse: 0.0525\n",
      "Epoch 53/500\n",
      "1/1 [==============================] - 0s 12ms/step - loss: 0.0515 - mse: 0.0515\n",
      "Epoch 54/500\n",
      "1/1 [==============================] - 0s 7ms/step - loss: 0.0506 - mse: 0.0506\n",
      "Epoch 55/500\n",
      "1/1 [==============================] - 0s 8ms/step - loss: 0.0496 - mse: 0.0496\n",
      "Epoch 56/500\n",
      "1/1 [==============================] - ETA: 0s - loss: 0.0486 - mse: 0.048 - 0s 17ms/step - loss: 0.0486 - mse: 0.0486\n",
      "Epoch 57/500\n",
      "1/1 [==============================] - 0s 15ms/step - loss: 0.0477 - mse: 0.0477\n",
      "Epoch 58/500\n",
      "1/1 [==============================] - 0s 9ms/step - loss: 0.0468 - mse: 0.0468\n",
      "Epoch 59/500\n",
      "1/1 [==============================] - 0s 13ms/step - loss: 0.0459 - mse: 0.0459\n",
      "Epoch 60/500\n",
      "1/1 [==============================] - 0s 7ms/step - loss: 0.0450 - mse: 0.0450\n",
      "Epoch 61/500\n",
      "1/1 [==============================] - 0s 7ms/step - loss: 0.0442 - mse: 0.0442\n",
      "Epoch 62/500\n",
      "1/1 [==============================] - 0s 14ms/step - loss: 0.0433 - mse: 0.0433\n",
      "Epoch 63/500\n",
      "1/1 [==============================] - 0s 7ms/step - loss: 0.0425 - mse: 0.0425\n",
      "Epoch 64/500\n",
      "1/1 [==============================] - 0s 4ms/step - loss: 0.0417 - mse: 0.0417\n",
      "Epoch 65/500\n",
      "1/1 [==============================] - 0s 6ms/step - loss: 0.0409 - mse: 0.0409\n",
      "Epoch 66/500\n",
      "1/1 [==============================] - 0s 10ms/step - loss: 0.0401 - mse: 0.0401\n",
      "Epoch 67/500\n",
      "1/1 [==============================] - 0s 3ms/step - loss: 0.0394 - mse: 0.0394\n",
      "Epoch 68/500\n",
      "1/1 [==============================] - 0s 9ms/step - loss: 0.0386 - mse: 0.0386\n",
      "Epoch 69/500\n",
      "1/1 [==============================] - 0s 12ms/step - loss: 0.0379 - mse: 0.0379\n",
      "Epoch 70/500\n",
      "1/1 [==============================] - 0s 11ms/step - loss: 0.0371 - mse: 0.0371\n",
      "Epoch 71/500\n",
      "1/1 [==============================] - 0s 5ms/step - loss: 0.0364 - mse: 0.0364\n",
      "Epoch 72/500\n",
      "1/1 [==============================] - 0s 6ms/step - loss: 0.0357 - mse: 0.0357\n",
      "Epoch 73/500\n",
      "1/1 [==============================] - 0s 10ms/step - loss: 0.0351 - mse: 0.0351\n",
      "Epoch 74/500\n",
      "1/1 [==============================] - 0s 5ms/step - loss: 0.0344 - mse: 0.0344\n",
      "Epoch 75/500\n",
      "1/1 [==============================] - 0s 7ms/step - loss: 0.0337 - mse: 0.0337\n",
      "Epoch 76/500\n",
      "1/1 [==============================] - 0s 10ms/step - loss: 0.0331 - mse: 0.0331\n",
      "Epoch 77/500\n",
      "1/1 [==============================] - 0s 9ms/step - loss: 0.0325 - mse: 0.0325\n",
      "Epoch 78/500\n",
      "1/1 [==============================] - 0s 14ms/step - loss: 0.0318 - mse: 0.0318\n",
      "Epoch 79/500\n",
      "1/1 [==============================] - 0s 10ms/step - loss: 0.0312 - mse: 0.0312\n",
      "Epoch 80/500\n",
      "1/1 [==============================] - 0s 10ms/step - loss: 0.0306 - mse: 0.0306\n",
      "Epoch 81/500\n",
      "1/1 [==============================] - 0s 8ms/step - loss: 0.0301 - mse: 0.0301\n",
      "Epoch 82/500\n",
      "1/1 [==============================] - 0s 6ms/step - loss: 0.0295 - mse: 0.0295\n",
      "Epoch 83/500\n",
      "1/1 [==============================] - 0s 6ms/step - loss: 0.0289 - mse: 0.0289\n",
      "Epoch 84/500\n",
      "1/1 [==============================] - 0s 4ms/step - loss: 0.0284 - mse: 0.0284\n",
      "Epoch 85/500\n",
      "1/1 [==============================] - 0s 10ms/step - loss: 0.0278 - mse: 0.0278\n",
      "Epoch 86/500\n",
      "1/1 [==============================] - 0s 8ms/step - loss: 0.0273 - mse: 0.0273\n",
      "Epoch 87/500\n",
      "1/1 [==============================] - 0s 9ms/step - loss: 0.0268 - mse: 0.0268\n",
      "Epoch 88/500\n"
     ]
    },
    {
     "name": "stdout",
     "output_type": "stream",
     "text": [
      "1/1 [==============================] - 0s 7ms/step - loss: 0.0263 - mse: 0.0263\n",
      "Epoch 89/500\n",
      "1/1 [==============================] - 0s 10ms/step - loss: 0.0258 - mse: 0.0258\n",
      "Epoch 90/500\n",
      "1/1 [==============================] - 0s 6ms/step - loss: 0.0253 - mse: 0.0253\n",
      "Epoch 91/500\n",
      "1/1 [==============================] - 0s 6ms/step - loss: 0.0248 - mse: 0.0248\n",
      "Epoch 92/500\n",
      "1/1 [==============================] - 0s 3ms/step - loss: 0.0243 - mse: 0.0243\n",
      "Epoch 93/500\n",
      "1/1 [==============================] - 0s 9ms/step - loss: 0.0239 - mse: 0.0239\n",
      "Epoch 94/500\n",
      "1/1 [==============================] - 0s 6ms/step - loss: 0.0234 - mse: 0.0234\n",
      "Epoch 95/500\n",
      "1/1 [==============================] - 0s 3ms/step - loss: 0.0230 - mse: 0.0230\n",
      "Epoch 96/500\n",
      "1/1 [==============================] - 0s 3ms/step - loss: 0.0225 - mse: 0.0225\n",
      "Epoch 97/500\n",
      "1/1 [==============================] - 0s 10ms/step - loss: 0.0221 - mse: 0.0221\n",
      "Epoch 98/500\n",
      "1/1 [==============================] - 0s 3ms/step - loss: 0.0217 - mse: 0.0217\n",
      "Epoch 99/500\n",
      "1/1 [==============================] - 0s 3ms/step - loss: 0.0213 - mse: 0.0213\n",
      "Epoch 100/500\n",
      "1/1 [==============================] - 0s 6ms/step - loss: 0.0208 - mse: 0.0208\n",
      "Epoch 101/500\n",
      "1/1 [==============================] - 0s 5ms/step - loss: 0.0204 - mse: 0.0204\n",
      "Epoch 102/500\n",
      "1/1 [==============================] - 0s 3ms/step - loss: 0.0201 - mse: 0.0201\n",
      "Epoch 103/500\n",
      "1/1 [==============================] - 0s 8ms/step - loss: 0.0197 - mse: 0.0197\n",
      "Epoch 104/500\n",
      "1/1 [==============================] - 0s 11ms/step - loss: 0.0193 - mse: 0.0193\n",
      "Epoch 105/500\n",
      "1/1 [==============================] - 0s 10ms/step - loss: 0.0189 - mse: 0.0189\n",
      "Epoch 106/500\n",
      "1/1 [==============================] - 0s 3ms/step - loss: 0.0186 - mse: 0.0186\n",
      "Epoch 107/500\n",
      "1/1 [==============================] - 0s 8ms/step - loss: 0.0182 - mse: 0.0182\n",
      "Epoch 108/500\n",
      "1/1 [==============================] - 0s 4ms/step - loss: 0.0179 - mse: 0.0179\n",
      "Epoch 109/500\n",
      "1/1 [==============================] - 0s 7ms/step - loss: 0.0175 - mse: 0.0175\n",
      "Epoch 110/500\n",
      "1/1 [==============================] - 0s 7ms/step - loss: 0.0172 - mse: 0.0172\n",
      "Epoch 111/500\n",
      "1/1 [==============================] - 0s 6ms/step - loss: 0.0169 - mse: 0.0169\n",
      "Epoch 112/500\n",
      "1/1 [==============================] - 0s 5ms/step - loss: 0.0165 - mse: 0.0165\n",
      "Epoch 113/500\n",
      "1/1 [==============================] - 0s 9ms/step - loss: 0.0162 - mse: 0.0162\n",
      "Epoch 114/500\n",
      "1/1 [==============================] - 0s 3ms/step - loss: 0.0159 - mse: 0.0159\n",
      "Epoch 115/500\n",
      "1/1 [==============================] - 0s 4ms/step - loss: 0.0156 - mse: 0.0156\n",
      "Epoch 116/500\n",
      "1/1 [==============================] - 0s 8ms/step - loss: 0.0153 - mse: 0.0153\n",
      "Epoch 117/500\n",
      "1/1 [==============================] - 0s 3ms/step - loss: 0.0150 - mse: 0.0150\n",
      "Epoch 118/500\n",
      "1/1 [==============================] - 0s 5ms/step - loss: 0.0147 - mse: 0.0147\n",
      "Epoch 119/500\n",
      "1/1 [==============================] - 0s 6ms/step - loss: 0.0145 - mse: 0.0145\n",
      "Epoch 120/500\n",
      "1/1 [==============================] - 0s 12ms/step - loss: 0.0142 - mse: 0.0142\n",
      "Epoch 121/500\n",
      "1/1 [==============================] - 0s 8ms/step - loss: 0.0139 - mse: 0.0139\n",
      "Epoch 122/500\n",
      "1/1 [==============================] - 0s 5ms/step - loss: 0.0136 - mse: 0.0136\n",
      "Epoch 123/500\n",
      "1/1 [==============================] - 0s 6ms/step - loss: 0.0134 - mse: 0.0134\n",
      "Epoch 124/500\n",
      "1/1 [==============================] - 0s 5ms/step - loss: 0.0131 - mse: 0.0131\n",
      "Epoch 125/500\n",
      "1/1 [==============================] - 0s 10ms/step - loss: 0.0129 - mse: 0.0129\n",
      "Epoch 126/500\n",
      "1/1 [==============================] - 0s 4ms/step - loss: 0.0126 - mse: 0.0126\n",
      "Epoch 127/500\n",
      "1/1 [==============================] - 0s 3ms/step - loss: 0.0124 - mse: 0.0124\n",
      "Epoch 128/500\n",
      "1/1 [==============================] - 0s 10ms/step - loss: 0.0122 - mse: 0.0122\n",
      "Epoch 129/500\n",
      "1/1 [==============================] - 0s 3ms/step - loss: 0.0119 - mse: 0.0119\n",
      "Epoch 130/500\n",
      "1/1 [==============================] - 0s 4ms/step - loss: 0.0117 - mse: 0.0117\n",
      "Epoch 131/500\n",
      "1/1 [==============================] - 0s 9ms/step - loss: 0.0115 - mse: 0.0115\n",
      "Epoch 132/500\n",
      "1/1 [==============================] - 0s 6ms/step - loss: 0.0113 - mse: 0.0113\n",
      "Epoch 133/500\n",
      "1/1 [==============================] - 0s 3ms/step - loss: 0.0110 - mse: 0.0110\n",
      "Epoch 134/500\n",
      "1/1 [==============================] - 0s 3ms/step - loss: 0.0108 - mse: 0.0108\n",
      "Epoch 135/500\n",
      "1/1 [==============================] - 0s 6ms/step - loss: 0.0106 - mse: 0.0106\n",
      "Epoch 136/500\n",
      "1/1 [==============================] - 0s 5ms/step - loss: 0.0104 - mse: 0.0104\n",
      "Epoch 137/500\n",
      "1/1 [==============================] - 0s 12ms/step - loss: 0.0102 - mse: 0.0102\n",
      "Epoch 138/500\n",
      "1/1 [==============================] - 0s 5ms/step - loss: 0.0100 - mse: 0.0100\n",
      "Epoch 139/500\n",
      "1/1 [==============================] - 0s 6ms/step - loss: 0.0098 - mse: 0.0098\n",
      "Epoch 140/500\n",
      "1/1 [==============================] - 0s 5ms/step - loss: 0.0096 - mse: 0.0096\n",
      "Epoch 141/500\n",
      "1/1 [==============================] - 0s 8ms/step - loss: 0.0095 - mse: 0.0095\n",
      "Epoch 142/500\n",
      "1/1 [==============================] - 0s 9ms/step - loss: 0.0093 - mse: 0.0093\n",
      "Epoch 143/500\n",
      "1/1 [==============================] - 0s 6ms/step - loss: 0.0091 - mse: 0.0091\n",
      "Epoch 144/500\n",
      "1/1 [==============================] - 0s 5ms/step - loss: 0.0089 - mse: 0.0089\n",
      "Epoch 145/500\n",
      "1/1 [==============================] - 0s 3ms/step - loss: 0.0088 - mse: 0.0088\n",
      "Epoch 146/500\n",
      "1/1 [==============================] - 0s 3ms/step - loss: 0.0086 - mse: 0.0086\n",
      "Epoch 147/500\n",
      "1/1 [==============================] - 0s 2ms/step - loss: 0.0084 - mse: 0.0084\n",
      "Epoch 148/500\n",
      "1/1 [==============================] - 0s 2ms/step - loss: 0.0083 - mse: 0.0083\n",
      "Epoch 149/500\n",
      "1/1 [==============================] - 0s 3ms/step - loss: 0.0081 - mse: 0.0081\n",
      "Epoch 150/500\n",
      "1/1 [==============================] - 0s 2ms/step - loss: 0.0080 - mse: 0.0080\n",
      "Epoch 151/500\n",
      "1/1 [==============================] - 0s 2ms/step - loss: 0.0078 - mse: 0.0078\n",
      "Epoch 152/500\n",
      "1/1 [==============================] - 0s 2ms/step - loss: 0.0077 - mse: 0.0077\n",
      "Epoch 153/500\n",
      "1/1 [==============================] - 0s 3ms/step - loss: 0.0075 - mse: 0.0075\n",
      "Epoch 154/500\n",
      "1/1 [==============================] - 0s 2ms/step - loss: 0.0074 - mse: 0.0074\n",
      "Epoch 155/500\n",
      "1/1 [==============================] - 0s 3ms/step - loss: 0.0072 - mse: 0.0072\n",
      "Epoch 156/500\n",
      "1/1 [==============================] - 0s 11ms/step - loss: 0.0071 - mse: 0.0071\n",
      "Epoch 157/500\n",
      "1/1 [==============================] - 0s 13ms/step - loss: 0.0070 - mse: 0.0070\n",
      "Epoch 158/500\n",
      "1/1 [==============================] - 0s 6ms/step - loss: 0.0068 - mse: 0.0068\n",
      "Epoch 159/500\n",
      "1/1 [==============================] - 0s 4ms/step - loss: 0.0067 - mse: 0.0067\n",
      "Epoch 160/500\n",
      "1/1 [==============================] - 0s 3ms/step - loss: 0.0066 - mse: 0.0066\n",
      "Epoch 161/500\n",
      "1/1 [==============================] - 0s 6ms/step - loss: 0.0064 - mse: 0.0064\n",
      "Epoch 162/500\n",
      "1/1 [==============================] - 0s 6ms/step - loss: 0.0063 - mse: 0.0063\n",
      "Epoch 163/500\n",
      "1/1 [==============================] - 0s 6ms/step - loss: 0.0062 - mse: 0.0062\n",
      "Epoch 164/500\n",
      "1/1 [==============================] - 0s 9ms/step - loss: 0.0061 - mse: 0.0061\n",
      "Epoch 165/500\n",
      "1/1 [==============================] - 0s 6ms/step - loss: 0.0060 - mse: 0.0060\n",
      "Epoch 166/500\n",
      "1/1 [==============================] - 0s 5ms/step - loss: 0.0058 - mse: 0.0058\n",
      "Epoch 167/500\n",
      "1/1 [==============================] - 0s 4ms/step - loss: 0.0057 - mse: 0.0057\n",
      "Epoch 168/500\n",
      "1/1 [==============================] - 0s 9ms/step - loss: 0.0056 - mse: 0.0056\n",
      "Epoch 169/500\n",
      "1/1 [==============================] - 0s 3ms/step - loss: 0.0055 - mse: 0.0055\n",
      "Epoch 170/500\n",
      "1/1 [==============================] - 0s 3ms/step - loss: 0.0054 - mse: 0.0054\n",
      "Epoch 171/500\n",
      "1/1 [==============================] - 0s 7ms/step - loss: 0.0053 - mse: 0.0053\n",
      "Epoch 172/500\n",
      "1/1 [==============================] - 0s 6ms/step - loss: 0.0052 - mse: 0.0052\n",
      "Epoch 173/500\n",
      "1/1 [==============================] - 0s 5ms/step - loss: 0.0051 - mse: 0.0051\n",
      "Epoch 174/500\n",
      "1/1 [==============================] - 0s 6ms/step - loss: 0.0050 - mse: 0.0050\n",
      "Epoch 175/500\n"
     ]
    },
    {
     "name": "stdout",
     "output_type": "stream",
     "text": [
      "1/1 [==============================] - 0s 5ms/step - loss: 0.0049 - mse: 0.0049\n",
      "Epoch 176/500\n",
      "1/1 [==============================] - 0s 7ms/step - loss: 0.0048 - mse: 0.0048\n",
      "Epoch 177/500\n",
      "1/1 [==============================] - 0s 9ms/step - loss: 0.0047 - mse: 0.0047\n",
      "Epoch 178/500\n",
      "1/1 [==============================] - 0s 6ms/step - loss: 0.0046 - mse: 0.0046\n",
      "Epoch 179/500\n",
      "1/1 [==============================] - 0s 3ms/step - loss: 0.0046 - mse: 0.0046\n",
      "Epoch 180/500\n",
      "1/1 [==============================] - 0s 7ms/step - loss: 0.0045 - mse: 0.0045\n",
      "Epoch 181/500\n",
      "1/1 [==============================] - 0s 11ms/step - loss: 0.0044 - mse: 0.0044\n",
      "Epoch 182/500\n",
      "1/1 [==============================] - 0s 12ms/step - loss: 0.0043 - mse: 0.0043\n",
      "Epoch 183/500\n",
      "1/1 [==============================] - 0s 9ms/step - loss: 0.0042 - mse: 0.0042\n",
      "Epoch 184/500\n",
      "1/1 [==============================] - 0s 5ms/step - loss: 0.0041 - mse: 0.0041\n",
      "Epoch 185/500\n",
      "1/1 [==============================] - 0s 7ms/step - loss: 0.0041 - mse: 0.0041\n",
      "Epoch 186/500\n",
      "1/1 [==============================] - 0s 4ms/step - loss: 0.0040 - mse: 0.0040\n",
      "Epoch 187/500\n",
      "1/1 [==============================] - 0s 5ms/step - loss: 0.0039 - mse: 0.0039\n",
      "Epoch 188/500\n",
      "1/1 [==============================] - 0s 11ms/step - loss: 0.0038 - mse: 0.0038\n",
      "Epoch 189/500\n",
      "1/1 [==============================] - 0s 9ms/step - loss: 0.0038 - mse: 0.0038\n",
      "Epoch 190/500\n",
      "1/1 [==============================] - 0s 2ms/step - loss: 0.0037 - mse: 0.0037\n",
      "Epoch 191/500\n",
      "1/1 [==============================] - 0s 9ms/step - loss: 0.0036 - mse: 0.0036\n",
      "Epoch 192/500\n",
      "1/1 [==============================] - 0s 9ms/step - loss: 0.0035 - mse: 0.0035\n",
      "Epoch 193/500\n",
      "1/1 [==============================] - 0s 11ms/step - loss: 0.0035 - mse: 0.0035\n",
      "Epoch 194/500\n",
      "1/1 [==============================] - 0s 6ms/step - loss: 0.0034 - mse: 0.0034\n",
      "Epoch 195/500\n",
      "1/1 [==============================] - 0s 9ms/step - loss: 0.0033 - mse: 0.0033\n",
      "Epoch 196/500\n",
      "1/1 [==============================] - 0s 5ms/step - loss: 0.0033 - mse: 0.0033\n",
      "Epoch 197/500\n",
      "1/1 [==============================] - 0s 4ms/step - loss: 0.0032 - mse: 0.0032\n",
      "Epoch 198/500\n",
      "1/1 [==============================] - 0s 10ms/step - loss: 0.0032 - mse: 0.0032\n",
      "Epoch 199/500\n",
      "1/1 [==============================] - 0s 6ms/step - loss: 0.0031 - mse: 0.0031\n",
      "Epoch 200/500\n",
      "1/1 [==============================] - 0s 5ms/step - loss: 0.0030 - mse: 0.0030\n",
      "Epoch 201/500\n",
      "1/1 [==============================] - 0s 7ms/step - loss: 0.0030 - mse: 0.0030\n",
      "Epoch 202/500\n",
      "1/1 [==============================] - 0s 5ms/step - loss: 0.0029 - mse: 0.0029\n",
      "Epoch 203/500\n",
      "1/1 [==============================] - 0s 3ms/step - loss: 0.0029 - mse: 0.0029\n",
      "Epoch 204/500\n",
      "1/1 [==============================] - 0s 10ms/step - loss: 0.0028 - mse: 0.0028\n",
      "Epoch 205/500\n",
      "1/1 [==============================] - 0s 6ms/step - loss: 0.0028 - mse: 0.0028\n",
      "Epoch 206/500\n",
      "1/1 [==============================] - 0s 3ms/step - loss: 0.0027 - mse: 0.0027\n",
      "Epoch 207/500\n",
      "1/1 [==============================] - 0s 4ms/step - loss: 0.0027 - mse: 0.0027\n",
      "Epoch 208/500\n",
      "1/1 [==============================] - 0s 8ms/step - loss: 0.0026 - mse: 0.0026\n",
      "Epoch 209/500\n",
      "1/1 [==============================] - 0s 3ms/step - loss: 0.0026 - mse: 0.0026\n",
      "Epoch 210/500\n",
      "1/1 [==============================] - 0s 5ms/step - loss: 0.0025 - mse: 0.0025\n",
      "Epoch 211/500\n",
      "1/1 [==============================] - 0s 9ms/step - loss: 0.0025 - mse: 0.0025\n",
      "Epoch 212/500\n",
      "1/1 [==============================] - 0s 8ms/step - loss: 0.0024 - mse: 0.0024\n",
      "Epoch 213/500\n",
      "1/1 [==============================] - ETA: 0s - loss: 0.0024 - mse: 0.002 - 0s 12ms/step - loss: 0.0024 - mse: 0.0024\n",
      "Epoch 214/500\n",
      "1/1 [==============================] - 0s 4ms/step - loss: 0.0023 - mse: 0.0023\n",
      "Epoch 215/500\n",
      "1/1 [==============================] - 0s 5ms/step - loss: 0.0023 - mse: 0.0023\n",
      "Epoch 216/500\n",
      "1/1 [==============================] - 0s 4ms/step - loss: 0.0022 - mse: 0.0022\n",
      "Epoch 217/500\n",
      "1/1 [==============================] - 0s 3ms/step - loss: 0.0022 - mse: 0.0022\n",
      "Epoch 218/500\n",
      "1/1 [==============================] - 0s 6ms/step - loss: 0.0021 - mse: 0.0021\n",
      "Epoch 219/500\n",
      "1/1 [==============================] - 0s 3ms/step - loss: 0.0021 - mse: 0.0021\n",
      "Epoch 220/500\n",
      "1/1 [==============================] - 0s 3ms/step - loss: 0.0021 - mse: 0.0021\n",
      "Epoch 221/500\n",
      "1/1 [==============================] - 0s 8ms/step - loss: 0.0020 - mse: 0.0020\n",
      "Epoch 222/500\n",
      "1/1 [==============================] - 0s 9ms/step - loss: 0.0020 - mse: 0.0020\n",
      "Epoch 223/500\n",
      "1/1 [==============================] - 0s 4ms/step - loss: 0.0020 - mse: 0.0020\n",
      "Epoch 224/500\n",
      "1/1 [==============================] - 0s 5ms/step - loss: 0.0019 - mse: 0.0019\n",
      "Epoch 225/500\n",
      "1/1 [==============================] - 0s 8ms/step - loss: 0.0019 - mse: 0.0019\n",
      "Epoch 226/500\n",
      "1/1 [==============================] - 0s 10ms/step - loss: 0.0018 - mse: 0.0018\n",
      "Epoch 227/500\n",
      "1/1 [==============================] - 0s 6ms/step - loss: 0.0018 - mse: 0.0018\n",
      "Epoch 228/500\n",
      "1/1 [==============================] - 0s 10ms/step - loss: 0.0018 - mse: 0.0018\n",
      "Epoch 229/500\n",
      "1/1 [==============================] - 0s 14ms/step - loss: 0.0017 - mse: 0.0017\n",
      "Epoch 230/500\n",
      "1/1 [==============================] - 0s 11ms/step - loss: 0.0017 - mse: 0.0017\n",
      "Epoch 231/500\n",
      "1/1 [==============================] - 0s 7ms/step - loss: 0.0017 - mse: 0.0017\n",
      "Epoch 232/500\n",
      "1/1 [==============================] - 0s 7ms/step - loss: 0.0016 - mse: 0.0016\n",
      "Epoch 233/500\n",
      "1/1 [==============================] - 0s 10ms/step - loss: 0.0016 - mse: 0.0016\n",
      "Epoch 234/500\n",
      "1/1 [==============================] - 0s 8ms/step - loss: 0.0016 - mse: 0.0016\n",
      "Epoch 235/500\n",
      "1/1 [==============================] - 0s 7ms/step - loss: 0.0015 - mse: 0.0015\n",
      "Epoch 236/500\n",
      "1/1 [==============================] - 0s 10ms/step - loss: 0.0015 - mse: 0.0015\n",
      "Epoch 237/500\n",
      "1/1 [==============================] - 0s 3ms/step - loss: 0.0015 - mse: 0.0015\n",
      "Epoch 238/500\n",
      "1/1 [==============================] - 0s 3ms/step - loss: 0.0015 - mse: 0.0015\n",
      "Epoch 239/500\n",
      "1/1 [==============================] - 0s 9ms/step - loss: 0.0014 - mse: 0.0014\n",
      "Epoch 240/500\n",
      "1/1 [==============================] - 0s 3ms/step - loss: 0.0014 - mse: 0.0014\n",
      "Epoch 241/500\n",
      "1/1 [==============================] - 0s 4ms/step - loss: 0.0014 - mse: 0.0014\n",
      "Epoch 242/500\n",
      "1/1 [==============================] - 0s 8ms/step - loss: 0.0014 - mse: 0.0014\n",
      "Epoch 243/500\n",
      "1/1 [==============================] - 0s 7ms/step - loss: 0.0013 - mse: 0.0013\n",
      "Epoch 244/500\n",
      "1/1 [==============================] - 0s 3ms/step - loss: 0.0013 - mse: 0.0013\n",
      "Epoch 245/500\n",
      "1/1 [==============================] - 0s 5ms/step - loss: 0.0013 - mse: 0.0013\n",
      "Epoch 246/500\n",
      "1/1 [==============================] - 0s 4ms/step - loss: 0.0013 - mse: 0.0013\n",
      "Epoch 247/500\n",
      "1/1 [==============================] - 0s 5ms/step - loss: 0.0012 - mse: 0.0012\n",
      "Epoch 248/500\n",
      "1/1 [==============================] - 0s 7ms/step - loss: 0.0012 - mse: 0.0012\n",
      "Epoch 249/500\n",
      "1/1 [==============================] - 0s 3ms/step - loss: 0.0012 - mse: 0.0012\n",
      "Epoch 250/500\n",
      "1/1 [==============================] - 0s 3ms/step - loss: 0.0012 - mse: 0.0012\n",
      "Epoch 251/500\n",
      "1/1 [==============================] - 0s 6ms/step - loss: 0.0011 - mse: 0.0011\n",
      "Epoch 252/500\n",
      "1/1 [==============================] - 0s 11ms/step - loss: 0.0011 - mse: 0.0011\n",
      "Epoch 253/500\n",
      "1/1 [==============================] - 0s 12ms/step - loss: 0.0011 - mse: 0.0011\n",
      "Epoch 254/500\n",
      "1/1 [==============================] - 0s 6ms/step - loss: 0.0011 - mse: 0.0011\n",
      "Epoch 255/500\n",
      "1/1 [==============================] - 0s 3ms/step - loss: 0.0011 - mse: 0.0011\n",
      "Epoch 256/500\n",
      "1/1 [==============================] - 0s 7ms/step - loss: 0.0010 - mse: 0.0010\n",
      "Epoch 257/500\n",
      "1/1 [==============================] - 0s 10ms/step - loss: 0.0010 - mse: 0.0010\n",
      "Epoch 258/500\n",
      "1/1 [==============================] - 0s 5ms/step - loss: 9.9422e-04 - mse: 9.9422e-04\n",
      "Epoch 259/500\n",
      "1/1 [==============================] - 0s 7ms/step - loss: 9.7525e-04 - mse: 9.7525e-04\n",
      "Epoch 260/500\n",
      "1/1 [==============================] - 0s 6ms/step - loss: 9.5665e-04 - mse: 9.5665e-04\n",
      "Epoch 261/500\n"
     ]
    },
    {
     "name": "stdout",
     "output_type": "stream",
     "text": [
      "1/1 [==============================] - 0s 7ms/step - loss: 9.3841e-04 - mse: 9.3841e-04\n",
      "Epoch 262/500\n",
      "1/1 [==============================] - 0s 7ms/step - loss: 9.2051e-04 - mse: 9.2051e-04\n",
      "Epoch 263/500\n",
      "1/1 [==============================] - 0s 4ms/step - loss: 9.0295e-04 - mse: 9.0295e-04\n",
      "Epoch 264/500\n",
      "1/1 [==============================] - 0s 4ms/step - loss: 8.8573e-04 - mse: 8.8573e-04\n",
      "Epoch 265/500\n",
      "1/1 [==============================] - 0s 10ms/step - loss: 8.6883e-04 - mse: 8.6883e-04\n",
      "Epoch 266/500\n",
      "1/1 [==============================] - 0s 7ms/step - loss: 8.5226e-04 - mse: 8.5226e-04\n",
      "Epoch 267/500\n",
      "1/1 [==============================] - 0s 6ms/step - loss: 8.3600e-04 - mse: 8.3600e-04\n",
      "Epoch 268/500\n",
      "1/1 [==============================] - 0s 8ms/step - loss: 8.2006e-04 - mse: 8.2006e-04\n",
      "Epoch 269/500\n",
      "1/1 [==============================] - 0s 8ms/step - loss: 8.0441e-04 - mse: 8.0441e-04\n",
      "Epoch 270/500\n",
      "1/1 [==============================] - 0s 6ms/step - loss: 7.8907e-04 - mse: 7.8907e-04\n",
      "Epoch 271/500\n",
      "1/1 [==============================] - 0s 4ms/step - loss: 7.7402e-04 - mse: 7.7402e-04\n",
      "Epoch 272/500\n",
      "1/1 [==============================] - 0s 8ms/step - loss: 7.5926e-04 - mse: 7.5926e-04\n",
      "Epoch 273/500\n",
      "1/1 [==============================] - 0s 3ms/step - loss: 7.4477e-04 - mse: 7.4477e-04\n",
      "Epoch 274/500\n",
      "1/1 [==============================] - 0s 6ms/step - loss: 7.3057e-04 - mse: 7.3057e-04\n",
      "Epoch 275/500\n",
      "1/1 [==============================] - 0s 5ms/step - loss: 7.1662e-04 - mse: 7.1662e-04\n",
      "Epoch 276/500\n",
      "1/1 [==============================] - 0s 5ms/step - loss: 7.0296e-04 - mse: 7.0296e-04\n",
      "Epoch 277/500\n",
      "1/1 [==============================] - 0s 5ms/step - loss: 6.8955e-04 - mse: 6.8955e-04\n",
      "Epoch 278/500\n",
      "1/1 [==============================] - 0s 6ms/step - loss: 6.7639e-04 - mse: 6.7639e-04\n",
      "Epoch 279/500\n",
      "1/1 [==============================] - 0s 3ms/step - loss: 6.6350e-04 - mse: 6.6350e-04\n",
      "Epoch 280/500\n",
      "1/1 [==============================] - 0s 8ms/step - loss: 6.5084e-04 - mse: 6.5084e-04\n",
      "Epoch 281/500\n",
      "1/1 [==============================] - 0s 5ms/step - loss: 6.3843e-04 - mse: 6.3843e-04\n",
      "Epoch 282/500\n",
      "1/1 [==============================] - 0s 5ms/step - loss: 6.2625e-04 - mse: 6.2625e-04\n",
      "Epoch 283/500\n",
      "1/1 [==============================] - 0s 6ms/step - loss: 6.1430e-04 - mse: 6.1430e-04\n",
      "Epoch 284/500\n",
      "1/1 [==============================] - 0s 6ms/step - loss: 6.0258e-04 - mse: 6.0258e-04\n",
      "Epoch 285/500\n",
      "1/1 [==============================] - 0s 6ms/step - loss: 5.9109e-04 - mse: 5.9109e-04\n",
      "Epoch 286/500\n",
      "1/1 [==============================] - 0s 6ms/step - loss: 5.7981e-04 - mse: 5.7981e-04\n",
      "Epoch 287/500\n",
      "1/1 [==============================] - 0s 8ms/step - loss: 5.6875e-04 - mse: 5.6875e-04\n",
      "Epoch 288/500\n",
      "1/1 [==============================] - 0s 6ms/step - loss: 5.5790e-04 - mse: 5.5790e-04\n",
      "Epoch 289/500\n",
      "1/1 [==============================] - 0s 3ms/step - loss: 5.4726e-04 - mse: 5.4726e-04\n",
      "Epoch 290/500\n",
      "1/1 [==============================] - 0s 12ms/step - loss: 5.3682e-04 - mse: 5.3682e-04\n",
      "Epoch 291/500\n",
      "1/1 [==============================] - 0s 7ms/step - loss: 5.2659e-04 - mse: 5.2659e-04\n",
      "Epoch 292/500\n",
      "1/1 [==============================] - 0s 4ms/step - loss: 5.1654e-04 - mse: 5.1654e-04\n",
      "Epoch 293/500\n",
      "1/1 [==============================] - 0s 5ms/step - loss: 5.0669e-04 - mse: 5.0669e-04\n",
      "Epoch 294/500\n",
      "1/1 [==============================] - 0s 6ms/step - loss: 4.9702e-04 - mse: 4.9702e-04\n",
      "Epoch 295/500\n",
      "1/1 [==============================] - 0s 8ms/step - loss: 4.8755e-04 - mse: 4.8755e-04\n",
      "Epoch 296/500\n",
      "1/1 [==============================] - 0s 3ms/step - loss: 4.7825e-04 - mse: 4.7825e-04\n",
      "Epoch 297/500\n",
      "1/1 [==============================] - 0s 5ms/step - loss: 4.6912e-04 - mse: 4.6912e-04\n",
      "Epoch 298/500\n",
      "1/1 [==============================] - 0s 5ms/step - loss: 4.6017e-04 - mse: 4.6017e-04\n",
      "Epoch 299/500\n",
      "1/1 [==============================] - 0s 7ms/step - loss: 4.5140e-04 - mse: 4.5140e-04\n",
      "Epoch 300/500\n",
      "1/1 [==============================] - 0s 10ms/step - loss: 4.4279e-04 - mse: 4.4279e-04\n",
      "Epoch 301/500\n",
      "1/1 [==============================] - 0s 5ms/step - loss: 4.3434e-04 - mse: 4.3434e-04\n",
      "Epoch 302/500\n",
      "1/1 [==============================] - 0s 4ms/step - loss: 4.2606e-04 - mse: 4.2606e-04\n",
      "Epoch 303/500\n",
      "1/1 [==============================] - 0s 8ms/step - loss: 4.1792e-04 - mse: 4.1792e-04\n",
      "Epoch 304/500\n",
      "1/1 [==============================] - 0s 4ms/step - loss: 4.0996e-04 - mse: 4.0996e-04\n",
      "Epoch 305/500\n",
      "1/1 [==============================] - 0s 7ms/step - loss: 4.0213e-04 - mse: 4.0213e-04\n",
      "Epoch 306/500\n",
      "1/1 [==============================] - 0s 10ms/step - loss: 3.9447e-04 - mse: 3.9447e-04\n",
      "Epoch 307/500\n",
      "1/1 [==============================] - 0s 7ms/step - loss: 3.8694e-04 - mse: 3.8694e-04\n",
      "Epoch 308/500\n",
      "1/1 [==============================] - 0s 7ms/step - loss: 3.7956e-04 - mse: 3.7956e-04\n",
      "Epoch 309/500\n",
      "1/1 [==============================] - 0s 4ms/step - loss: 3.7232e-04 - mse: 3.7232e-04\n",
      "Epoch 310/500\n",
      "1/1 [==============================] - 0s 6ms/step - loss: 3.6522e-04 - mse: 3.6522e-04\n",
      "Epoch 311/500\n",
      "1/1 [==============================] - 0s 8ms/step - loss: 3.5825e-04 - mse: 3.5825e-04\n",
      "Epoch 312/500\n",
      "1/1 [==============================] - 0s 7ms/step - loss: 3.5142e-04 - mse: 3.5142e-04\n",
      "Epoch 313/500\n",
      "1/1 [==============================] - 0s 4ms/step - loss: 3.4472e-04 - mse: 3.4472e-04\n",
      "Epoch 314/500\n",
      "1/1 [==============================] - 0s 8ms/step - loss: 3.3814e-04 - mse: 3.3814e-04\n",
      "Epoch 315/500\n",
      "1/1 [==============================] - 0s 10ms/step - loss: 3.3169e-04 - mse: 3.3169e-04\n",
      "Epoch 316/500\n",
      "1/1 [==============================] - 0s 5ms/step - loss: 3.2536e-04 - mse: 3.2536e-04\n",
      "Epoch 317/500\n",
      "1/1 [==============================] - 0s 4ms/step - loss: 3.1915e-04 - mse: 3.1915e-04\n",
      "Epoch 318/500\n",
      "1/1 [==============================] - 0s 7ms/step - loss: 3.1307e-04 - mse: 3.1307e-04\n",
      "Epoch 319/500\n",
      "1/1 [==============================] - 0s 4ms/step - loss: 3.0710e-04 - mse: 3.0710e-04\n",
      "Epoch 320/500\n",
      "1/1 [==============================] - 0s 6ms/step - loss: 3.0124e-04 - mse: 3.0124e-04\n",
      "Epoch 321/500\n",
      "1/1 [==============================] - 0s 12ms/step - loss: 2.9549e-04 - mse: 2.9549e-04\n",
      "Epoch 322/500\n",
      "1/1 [==============================] - 0s 5ms/step - loss: 2.8986e-04 - mse: 2.8986e-04\n",
      "Epoch 323/500\n",
      "1/1 [==============================] - 0s 5ms/step - loss: 2.8432e-04 - mse: 2.8432e-04\n",
      "Epoch 324/500\n",
      "1/1 [==============================] - 0s 7ms/step - loss: 2.7890e-04 - mse: 2.7890e-04\n",
      "Epoch 325/500\n",
      "1/1 [==============================] - 0s 9ms/step - loss: 2.7358e-04 - mse: 2.7358e-04\n",
      "Epoch 326/500\n",
      "1/1 [==============================] - 0s 12ms/step - loss: 2.6836e-04 - mse: 2.6836e-04\n",
      "Epoch 327/500\n",
      "1/1 [==============================] - 0s 7ms/step - loss: 2.6324e-04 - mse: 2.6324e-04\n",
      "Epoch 328/500\n",
      "1/1 [==============================] - 0s 9ms/step - loss: 2.5822e-04 - mse: 2.5822e-04\n",
      "Epoch 329/500\n",
      "1/1 [==============================] - 0s 4ms/step - loss: 2.5330e-04 - mse: 2.5330e-04\n",
      "Epoch 330/500\n",
      "1/1 [==============================] - 0s 8ms/step - loss: 2.4847e-04 - mse: 2.4847e-04\n",
      "Epoch 331/500\n",
      "1/1 [==============================] - 0s 7ms/step - loss: 2.4373e-04 - mse: 2.4373e-04\n",
      "Epoch 332/500\n",
      "1/1 [==============================] - 0s 12ms/step - loss: 2.3908e-04 - mse: 2.3908e-04\n",
      "Epoch 333/500\n",
      "1/1 [==============================] - 0s 4ms/step - loss: 2.3452e-04 - mse: 2.3452e-04\n",
      "Epoch 334/500\n",
      "1/1 [==============================] - 0s 4ms/step - loss: 2.3004e-04 - mse: 2.3004e-04\n",
      "Epoch 335/500\n",
      "1/1 [==============================] - 0s 7ms/step - loss: 2.2566e-04 - mse: 2.2566e-04\n",
      "Epoch 336/500\n",
      "1/1 [==============================] - 0s 7ms/step - loss: 2.2135e-04 - mse: 2.2135e-04\n",
      "Epoch 337/500\n",
      "1/1 [==============================] - 0s 6ms/step - loss: 2.1713e-04 - mse: 2.1713e-04\n",
      "Epoch 338/500\n",
      "1/1 [==============================] - 0s 6ms/step - loss: 2.1299e-04 - mse: 2.1299e-04\n",
      "Epoch 339/500\n",
      "1/1 [==============================] - 0s 9ms/step - loss: 2.0892e-04 - mse: 2.0892e-04\n",
      "Epoch 340/500\n",
      "1/1 [==============================] - 0s 9ms/step - loss: 2.0494e-04 - mse: 2.0494e-04\n",
      "Epoch 341/500\n"
     ]
    },
    {
     "name": "stdout",
     "output_type": "stream",
     "text": [
      "1/1 [==============================] - 0s 6ms/step - loss: 2.0103e-04 - mse: 2.0103e-04\n",
      "Epoch 342/500\n",
      "1/1 [==============================] - ETA: 0s - loss: 1.9720e-04 - mse: 1.9720e-0 - 0s 5ms/step - loss: 1.9720e-04 - mse: 1.9720e-04\n",
      "Epoch 343/500\n",
      "1/1 [==============================] - 0s 6ms/step - loss: 1.9343e-04 - mse: 1.9343e-04\n",
      "Epoch 344/500\n",
      "1/1 [==============================] - 0s 6ms/step - loss: 1.8975e-04 - mse: 1.8975e-04\n",
      "Epoch 345/500\n",
      "1/1 [==============================] - 0s 11ms/step - loss: 1.8612e-04 - mse: 1.8612e-04\n",
      "Epoch 346/500\n",
      "1/1 [==============================] - 0s 5ms/step - loss: 1.8258e-04 - mse: 1.8258e-04\n",
      "Epoch 347/500\n",
      "1/1 [==============================] - 0s 14ms/step - loss: 1.7909e-04 - mse: 1.7909e-04\n",
      "Epoch 348/500\n",
      "1/1 [==============================] - 0s 16ms/step - loss: 1.7567e-04 - mse: 1.7567e-04\n",
      "Epoch 349/500\n",
      "1/1 [==============================] - 0s 19ms/step - loss: 1.7233e-04 - mse: 1.7233e-04\n",
      "Epoch 350/500\n",
      "1/1 [==============================] - 0s 7ms/step - loss: 1.6904e-04 - mse: 1.6904e-04\n",
      "Epoch 351/500\n",
      "1/1 [==============================] - 0s 8ms/step - loss: 1.6582e-04 - mse: 1.6582e-04\n",
      "Epoch 352/500\n",
      "1/1 [==============================] - 0s 6ms/step - loss: 1.6265e-04 - mse: 1.6265e-04\n",
      "Epoch 353/500\n",
      "1/1 [==============================] - 0s 9ms/step - loss: 1.5955e-04 - mse: 1.5955e-04\n",
      "Epoch 354/500\n",
      "1/1 [==============================] - 0s 12ms/step - loss: 1.5651e-04 - mse: 1.5651e-04\n",
      "Epoch 355/500\n",
      "1/1 [==============================] - 0s 9ms/step - loss: 1.5352e-04 - mse: 1.5352e-04\n",
      "Epoch 356/500\n",
      "1/1 [==============================] - 0s 15ms/step - loss: 1.5059e-04 - mse: 1.5059e-04\n",
      "Epoch 357/500\n",
      "1/1 [==============================] - 0s 5ms/step - loss: 1.4772e-04 - mse: 1.4772e-04\n",
      "Epoch 358/500\n",
      "1/1 [==============================] - 0s 12ms/step - loss: 1.4490e-04 - mse: 1.4490e-04\n",
      "Epoch 359/500\n",
      "1/1 [==============================] - 0s 6ms/step - loss: 1.4214e-04 - mse: 1.4214e-04\n",
      "Epoch 360/500\n",
      "1/1 [==============================] - 0s 4ms/step - loss: 1.3943e-04 - mse: 1.3943e-04\n",
      "Epoch 361/500\n",
      "1/1 [==============================] - 0s 10ms/step - loss: 1.3677e-04 - mse: 1.3677e-04\n",
      "Epoch 362/500\n",
      "1/1 [==============================] - 0s 11ms/step - loss: 1.3416e-04 - mse: 1.3416e-04\n",
      "Epoch 363/500\n",
      "1/1 [==============================] - 0s 4ms/step - loss: 1.3160e-04 - mse: 1.3160e-04\n",
      "Epoch 364/500\n",
      "1/1 [==============================] - 0s 11ms/step - loss: 1.2909e-04 - mse: 1.2909e-04\n",
      "Epoch 365/500\n",
      "1/1 [==============================] - 0s 5ms/step - loss: 1.2663e-04 - mse: 1.2663e-04\n",
      "Epoch 366/500\n",
      "1/1 [==============================] - 0s 3ms/step - loss: 1.2421e-04 - mse: 1.2421e-04\n",
      "Epoch 367/500\n",
      "1/1 [==============================] - 0s 8ms/step - loss: 1.2184e-04 - mse: 1.2184e-04\n",
      "Epoch 368/500\n",
      "1/1 [==============================] - 0s 4ms/step - loss: 1.1952e-04 - mse: 1.1952e-04\n",
      "Epoch 369/500\n",
      "1/1 [==============================] - ETA: 0s - loss: 1.1724e-04 - mse: 1.1724e-0 - 0s 4ms/step - loss: 1.1724e-04 - mse: 1.1724e-04\n",
      "Epoch 370/500\n",
      "1/1 [==============================] - 0s 9ms/step - loss: 1.1500e-04 - mse: 1.1500e-04\n",
      "Epoch 371/500\n",
      "1/1 [==============================] - 0s 3ms/step - loss: 1.1281e-04 - mse: 1.1281e-04\n",
      "Epoch 372/500\n",
      "1/1 [==============================] - 0s 8ms/step - loss: 1.1065e-04 - mse: 1.1065e-04\n",
      "Epoch 373/500\n",
      "1/1 [==============================] - 0s 5ms/step - loss: 1.0855e-04 - mse: 1.0855e-04\n",
      "Epoch 374/500\n",
      "1/1 [==============================] - 0s 6ms/step - loss: 1.0647e-04 - mse: 1.0647e-04\n",
      "Epoch 375/500\n",
      "1/1 [==============================] - 0s 4ms/step - loss: 1.0445e-04 - mse: 1.0445e-04\n",
      "Epoch 376/500\n",
      "1/1 [==============================] - 0s 6ms/step - loss: 1.0245e-04 - mse: 1.0245e-04\n",
      "Epoch 377/500\n",
      "1/1 [==============================] - 0s 3ms/step - loss: 1.0050e-04 - mse: 1.0050e-04\n",
      "Epoch 378/500\n",
      "1/1 [==============================] - 0s 6ms/step - loss: 9.8578e-05 - mse: 9.8578e-05\n",
      "Epoch 379/500\n",
      "1/1 [==============================] - 0s 6ms/step - loss: 9.6699e-05 - mse: 9.6699e-05\n",
      "Epoch 380/500\n",
      "1/1 [==============================] - 0s 8ms/step - loss: 9.4855e-05 - mse: 9.4855e-05\n",
      "Epoch 381/500\n",
      "1/1 [==============================] - 0s 8ms/step - loss: 9.3045e-05 - mse: 9.3045e-05\n",
      "Epoch 382/500\n",
      "1/1 [==============================] - 0s 15ms/step - loss: 9.1269e-05 - mse: 9.1269e-05\n",
      "Epoch 383/500\n",
      "1/1 [==============================] - 0s 3ms/step - loss: 8.9530e-05 - mse: 8.9530e-05\n",
      "Epoch 384/500\n",
      "1/1 [==============================] - 0s 6ms/step - loss: 8.7821e-05 - mse: 8.7821e-05\n",
      "Epoch 385/500\n",
      "1/1 [==============================] - 0s 8ms/step - loss: 8.6148e-05 - mse: 8.6148e-05\n",
      "Epoch 386/500\n",
      "1/1 [==============================] - 0s 5ms/step - loss: 8.4506e-05 - mse: 8.4506e-05\n",
      "Epoch 387/500\n",
      "1/1 [==============================] - 0s 4ms/step - loss: 8.2892e-05 - mse: 8.2892e-05\n",
      "Epoch 388/500\n",
      "1/1 [==============================] - 0s 12ms/step - loss: 8.1310e-05 - mse: 8.1310e-05\n",
      "Epoch 389/500\n",
      "1/1 [==============================] - 0s 4ms/step - loss: 7.9758e-05 - mse: 7.9758e-05\n",
      "Epoch 390/500\n",
      "1/1 [==============================] - 0s 8ms/step - loss: 7.8239e-05 - mse: 7.8239e-05\n",
      "Epoch 391/500\n",
      "1/1 [==============================] - 0s 6ms/step - loss: 7.6747e-05 - mse: 7.6747e-05\n",
      "Epoch 392/500\n",
      "1/1 [==============================] - 0s 7ms/step - loss: 7.5285e-05 - mse: 7.5285e-05\n",
      "Epoch 393/500\n",
      "1/1 [==============================] - 0s 6ms/step - loss: 7.3847e-05 - mse: 7.3847e-05\n",
      "Epoch 394/500\n",
      "1/1 [==============================] - 0s 4ms/step - loss: 7.2439e-05 - mse: 7.2439e-05\n",
      "Epoch 395/500\n",
      "1/1 [==============================] - 0s 8ms/step - loss: 7.1056e-05 - mse: 7.1056e-05\n",
      "Epoch 396/500\n",
      "1/1 [==============================] - 0s 7ms/step - loss: 6.9702e-05 - mse: 6.9702e-05\n",
      "Epoch 397/500\n",
      "1/1 [==============================] - 0s 5ms/step - loss: 6.8371e-05 - mse: 6.8371e-05\n",
      "Epoch 398/500\n",
      "1/1 [==============================] - 0s 6ms/step - loss: 6.7068e-05 - mse: 6.7068e-05\n",
      "Epoch 399/500\n",
      "1/1 [==============================] - ETA: 0s - loss: 6.5789e-05 - mse: 6.5789e-0 - 0s 6ms/step - loss: 6.5789e-05 - mse: 6.5789e-05\n",
      "Epoch 400/500\n",
      "1/1 [==============================] - ETA: 0s - loss: 6.4533e-05 - mse: 6.4533e-0 - 0s 6ms/step - loss: 6.4533e-05 - mse: 6.4533e-05\n",
      "Epoch 401/500\n",
      "1/1 [==============================] - 0s 7ms/step - loss: 6.3303e-05 - mse: 6.3303e-05\n",
      "Epoch 402/500\n",
      "1/1 [==============================] - 0s 6ms/step - loss: 6.2093e-05 - mse: 6.2093e-05\n",
      "Epoch 403/500\n",
      "1/1 [==============================] - 0s 6ms/step - loss: 6.0910e-05 - mse: 6.0910e-05\n",
      "Epoch 404/500\n",
      "1/1 [==============================] - 0s 3ms/step - loss: 5.9747e-05 - mse: 5.9747e-05\n",
      "Epoch 405/500\n",
      "1/1 [==============================] - 0s 8ms/step - loss: 5.8610e-05 - mse: 5.8610e-05\n",
      "Epoch 406/500\n",
      "1/1 [==============================] - 0s 12ms/step - loss: 5.7491e-05 - mse: 5.7491e-05\n",
      "Epoch 407/500\n",
      "1/1 [==============================] - 0s 8ms/step - loss: 5.6394e-05 - mse: 5.6394e-05\n",
      "Epoch 408/500\n",
      "1/1 [==============================] - 0s 4ms/step - loss: 5.5317e-05 - mse: 5.5317e-05\n",
      "Epoch 409/500\n",
      "1/1 [==============================] - 0s 4ms/step - loss: 5.4265e-05 - mse: 5.4265e-05\n",
      "Epoch 410/500\n",
      "1/1 [==============================] - 0s 5ms/step - loss: 5.3229e-05 - mse: 5.3229e-05\n",
      "Epoch 411/500\n",
      "1/1 [==============================] - 0s 4ms/step - loss: 5.2213e-05 - mse: 5.2213e-05\n",
      "Epoch 412/500\n",
      "1/1 [==============================] - 0s 10ms/step - loss: 5.1216e-05 - mse: 5.1216e-05\n",
      "Epoch 413/500\n",
      "1/1 [==============================] - 0s 5ms/step - loss: 5.0240e-05 - mse: 5.0240e-05\n",
      "Epoch 414/500\n",
      "1/1 [==============================] - 0s 6ms/step - loss: 4.9281e-05 - mse: 4.9281e-05\n",
      "Epoch 415/500\n",
      "1/1 [==============================] - 0s 10ms/step - loss: 4.8340e-05 - mse: 4.8340e-05\n",
      "Epoch 416/500\n",
      "1/1 [==============================] - 0s 7ms/step - loss: 4.7419e-05 - mse: 4.7419e-05\n",
      "Epoch 417/500\n",
      "1/1 [==============================] - 0s 6ms/step - loss: 4.6515e-05 - mse: 4.6515e-05\n",
      "Epoch 418/500\n",
      "1/1 [==============================] - 0s 8ms/step - loss: 4.5628e-05 - mse: 4.5628e-05\n",
      "Epoch 419/500\n"
     ]
    },
    {
     "name": "stdout",
     "output_type": "stream",
     "text": [
      "1/1 [==============================] - 0s 8ms/step - loss: 4.4758e-05 - mse: 4.4758e-05\n",
      "Epoch 420/500\n",
      "1/1 [==============================] - 0s 3ms/step - loss: 4.3904e-05 - mse: 4.3904e-05\n",
      "Epoch 421/500\n",
      "1/1 [==============================] - 0s 3ms/step - loss: 4.3066e-05 - mse: 4.3066e-05\n",
      "Epoch 422/500\n",
      "1/1 [==============================] - 0s 10ms/step - loss: 4.2245e-05 - mse: 4.2245e-05\n",
      "Epoch 423/500\n",
      "1/1 [==============================] - 0s 11ms/step - loss: 4.1439e-05 - mse: 4.1439e-05\n",
      "Epoch 424/500\n",
      "1/1 [==============================] - 0s 3ms/step - loss: 4.0648e-05 - mse: 4.0648e-05\n",
      "Epoch 425/500\n",
      "1/1 [==============================] - 0s 11ms/step - loss: 3.9873e-05 - mse: 3.9873e-05\n",
      "Epoch 426/500\n",
      "1/1 [==============================] - 0s 9ms/step - loss: 3.9113e-05 - mse: 3.9113e-05\n",
      "Epoch 427/500\n",
      "1/1 [==============================] - 0s 6ms/step - loss: 3.8366e-05 - mse: 3.8366e-05\n",
      "Epoch 428/500\n",
      "1/1 [==============================] - 0s 3ms/step - loss: 3.7633e-05 - mse: 3.7633e-05\n",
      "Epoch 429/500\n",
      "1/1 [==============================] - 0s 8ms/step - loss: 3.6917e-05 - mse: 3.6917e-05\n",
      "Epoch 430/500\n",
      "1/1 [==============================] - 0s 7ms/step - loss: 3.6211e-05 - mse: 3.6211e-05\n",
      "Epoch 431/500\n",
      "1/1 [==============================] - 0s 15ms/step - loss: 3.5523e-05 - mse: 3.5523e-05\n",
      "Epoch 432/500\n",
      "1/1 [==============================] - 0s 7ms/step - loss: 3.4845e-05 - mse: 3.4845e-05\n",
      "Epoch 433/500\n",
      "1/1 [==============================] - 0s 10ms/step - loss: 3.4179e-05 - mse: 3.4179e-05\n",
      "Epoch 434/500\n",
      "1/1 [==============================] - 0s 6ms/step - loss: 3.3526e-05 - mse: 3.3526e-05\n",
      "Epoch 435/500\n",
      "1/1 [==============================] - 0s 3ms/step - loss: 3.2888e-05 - mse: 3.2888e-05\n",
      "Epoch 436/500\n",
      "1/1 [==============================] - 0s 6ms/step - loss: 3.2259e-05 - mse: 3.2259e-05\n",
      "Epoch 437/500\n",
      "1/1 [==============================] - 0s 7ms/step - loss: 3.1645e-05 - mse: 3.1645e-05\n",
      "Epoch 438/500\n",
      "1/1 [==============================] - 0s 6ms/step - loss: 3.1042e-05 - mse: 3.1042e-05\n",
      "Epoch 439/500\n",
      "1/1 [==============================] - 0s 4ms/step - loss: 3.0449e-05 - mse: 3.0449e-05\n",
      "Epoch 440/500\n",
      "1/1 [==============================] - 0s 3ms/step - loss: 2.9870e-05 - mse: 2.9870e-05\n",
      "Epoch 441/500\n",
      "1/1 [==============================] - ETA: 0s - loss: 2.9299e-05 - mse: 2.9299e-0 - 0s 9ms/step - loss: 2.9299e-05 - mse: 2.9299e-05\n",
      "Epoch 442/500\n",
      "1/1 [==============================] - 0s 8ms/step - loss: 2.8740e-05 - mse: 2.8740e-05\n",
      "Epoch 443/500\n",
      "1/1 [==============================] - 0s 5ms/step - loss: 2.8192e-05 - mse: 2.8192e-05\n",
      "Epoch 444/500\n",
      "1/1 [==============================] - 0s 7ms/step - loss: 2.7654e-05 - mse: 2.7654e-05\n",
      "Epoch 445/500\n",
      "1/1 [==============================] - 0s 8ms/step - loss: 2.7126e-05 - mse: 2.7126e-05\n",
      "Epoch 446/500\n",
      "1/1 [==============================] - 0s 4ms/step - loss: 2.6608e-05 - mse: 2.6608e-05\n",
      "Epoch 447/500\n",
      "1/1 [==============================] - 0s 6ms/step - loss: 2.6100e-05 - mse: 2.6100e-05\n",
      "Epoch 448/500\n",
      "1/1 [==============================] - 0s 9ms/step - loss: 2.5603e-05 - mse: 2.5603e-05\n",
      "Epoch 449/500\n",
      "1/1 [==============================] - 0s 6ms/step - loss: 2.5115e-05 - mse: 2.5115e-05\n",
      "Epoch 450/500\n",
      "1/1 [==============================] - 0s 4ms/step - loss: 2.4635e-05 - mse: 2.4635e-05\n",
      "Epoch 451/500\n",
      "1/1 [==============================] - 0s 5ms/step - loss: 2.4167e-05 - mse: 2.4167e-05\n",
      "Epoch 452/500\n",
      "1/1 [==============================] - 0s 11ms/step - loss: 2.3705e-05 - mse: 2.3705e-05\n",
      "Epoch 453/500\n",
      "1/1 [==============================] - 0s 9ms/step - loss: 2.3253e-05 - mse: 2.3253e-05\n",
      "Epoch 454/500\n",
      "1/1 [==============================] - 0s 5ms/step - loss: 2.2809e-05 - mse: 2.2809e-05\n",
      "Epoch 455/500\n",
      "1/1 [==============================] - 0s 23ms/step - loss: 2.2374e-05 - mse: 2.2374e-05\n",
      "Epoch 456/500\n",
      "1/1 [==============================] - 0s 6ms/step - loss: 2.1947e-05 - mse: 2.1947e-05\n",
      "Epoch 457/500\n",
      "1/1 [==============================] - 0s 9ms/step - loss: 2.1529e-05 - mse: 2.1529e-05\n",
      "Epoch 458/500\n",
      "1/1 [==============================] - 0s 7ms/step - loss: 2.1118e-05 - mse: 2.1118e-05\n",
      "Epoch 459/500\n",
      "1/1 [==============================] - 0s 9ms/step - loss: 2.0716e-05 - mse: 2.0716e-05\n",
      "Epoch 460/500\n",
      "1/1 [==============================] - 0s 6ms/step - loss: 2.0320e-05 - mse: 2.0320e-05\n",
      "Epoch 461/500\n",
      "1/1 [==============================] - 0s 6ms/step - loss: 1.9933e-05 - mse: 1.9933e-05\n",
      "Epoch 462/500\n",
      "1/1 [==============================] - 0s 8ms/step - loss: 1.9553e-05 - mse: 1.9553e-05\n",
      "Epoch 463/500\n",
      "1/1 [==============================] - 0s 3ms/step - loss: 1.9179e-05 - mse: 1.9179e-05\n",
      "Epoch 464/500\n",
      "1/1 [==============================] - 0s 6ms/step - loss: 1.8812e-05 - mse: 1.8812e-05\n",
      "Epoch 465/500\n",
      "1/1 [==============================] - 0s 6ms/step - loss: 1.8455e-05 - mse: 1.8455e-05\n",
      "Epoch 466/500\n",
      "1/1 [==============================] - 0s 7ms/step - loss: 1.8103e-05 - mse: 1.8103e-05\n",
      "Epoch 467/500\n",
      "1/1 [==============================] - 0s 4ms/step - loss: 1.7757e-05 - mse: 1.7757e-05\n",
      "Epoch 468/500\n",
      "1/1 [==============================] - 0s 4ms/step - loss: 1.7419e-05 - mse: 1.7419e-05\n",
      "Epoch 469/500\n",
      "1/1 [==============================] - 0s 15ms/step - loss: 1.7087e-05 - mse: 1.7087e-05\n",
      "Epoch 470/500\n",
      "1/1 [==============================] - 0s 4ms/step - loss: 1.6759e-05 - mse: 1.6759e-05\n",
      "Epoch 471/500\n",
      "1/1 [==============================] - 0s 4ms/step - loss: 1.6440e-05 - mse: 1.6440e-05\n",
      "Epoch 472/500\n",
      "1/1 [==============================] - 0s 8ms/step - loss: 1.6127e-05 - mse: 1.6127e-05\n",
      "Epoch 473/500\n",
      "1/1 [==============================] - 0s 3ms/step - loss: 1.5820e-05 - mse: 1.5820e-05\n",
      "Epoch 474/500\n",
      "1/1 [==============================] - 0s 3ms/step - loss: 1.5517e-05 - mse: 1.5517e-05\n",
      "Epoch 475/500\n",
      "1/1 [==============================] - 0s 13ms/step - loss: 1.5222e-05 - mse: 1.5222e-05\n",
      "Epoch 476/500\n",
      "1/1 [==============================] - 0s 6ms/step - loss: 1.4931e-05 - mse: 1.4931e-05\n",
      "Epoch 477/500\n",
      "1/1 [==============================] - 0s 6ms/step - loss: 1.4646e-05 - mse: 1.4646e-05\n",
      "Epoch 478/500\n",
      "1/1 [==============================] - 0s 7ms/step - loss: 1.4367e-05 - mse: 1.4367e-05\n",
      "Epoch 479/500\n",
      "1/1 [==============================] - 0s 8ms/step - loss: 1.4093e-05 - mse: 1.4093e-05\n",
      "Epoch 480/500\n",
      "1/1 [==============================] - 0s 4ms/step - loss: 1.3824e-05 - mse: 1.3824e-05\n",
      "Epoch 481/500\n",
      "1/1 [==============================] - 0s 8ms/step - loss: 1.3560e-05 - mse: 1.3560e-05\n",
      "Epoch 482/500\n",
      "1/1 [==============================] - 0s 6ms/step - loss: 1.3300e-05 - mse: 1.3300e-05\n",
      "Epoch 483/500\n",
      "1/1 [==============================] - 0s 10ms/step - loss: 1.3048e-05 - mse: 1.3048e-05\n",
      "Epoch 484/500\n",
      "1/1 [==============================] - 0s 9ms/step - loss: 1.2799e-05 - mse: 1.2799e-05\n",
      "Epoch 485/500\n",
      "1/1 [==============================] - 0s 4ms/step - loss: 1.2554e-05 - mse: 1.2554e-05\n",
      "Epoch 486/500\n",
      "1/1 [==============================] - 0s 7ms/step - loss: 1.2315e-05 - mse: 1.2315e-05\n",
      "Epoch 487/500\n",
      "1/1 [==============================] - 0s 6ms/step - loss: 1.2080e-05 - mse: 1.2080e-05\n",
      "Epoch 488/500\n",
      "1/1 [==============================] - 0s 7ms/step - loss: 1.1849e-05 - mse: 1.1849e-05\n",
      "Epoch 489/500\n",
      "1/1 [==============================] - 0s 4ms/step - loss: 1.1624e-05 - mse: 1.1624e-05\n",
      "Epoch 490/500\n",
      "1/1 [==============================] - 0s 15ms/step - loss: 1.1402e-05 - mse: 1.1402e-05\n",
      "Epoch 491/500\n",
      "1/1 [==============================] - 0s 11ms/step - loss: 1.1184e-05 - mse: 1.1184e-05\n",
      "Epoch 492/500\n",
      "1/1 [==============================] - 0s 10ms/step - loss: 1.0971e-05 - mse: 1.0971e-05\n",
      "Epoch 493/500\n",
      "1/1 [==============================] - 0s 8ms/step - loss: 1.0762e-05 - mse: 1.0762e-05\n",
      "Epoch 494/500\n",
      "1/1 [==============================] - 0s 6ms/step - loss: 1.0557e-05 - mse: 1.0557e-05\n",
      "Epoch 495/500\n",
      "1/1 [==============================] - 0s 5ms/step - loss: 1.0355e-05 - mse: 1.0355e-05\n",
      "Epoch 496/500\n",
      "1/1 [==============================] - 0s 8ms/step - loss: 1.0157e-05 - mse: 1.0157e-05\n",
      "Epoch 497/500\n",
      "1/1 [==============================] - 0s 7ms/step - loss: 9.9639e-06 - mse: 9.9639e-06\n",
      "Epoch 498/500\n"
     ]
    },
    {
     "name": "stdout",
     "output_type": "stream",
     "text": [
      "1/1 [==============================] - 0s 4ms/step - loss: 9.7734e-06 - mse: 9.7734e-06\n",
      "Epoch 499/500\n",
      "1/1 [==============================] - 0s 6ms/step - loss: 9.5862e-06 - mse: 9.5862e-06\n",
      "Epoch 500/500\n",
      "1/1 [==============================] - 0s 6ms/step - loss: 9.4041e-06 - mse: 9.4041e-06\n"
     ]
    }
   ],
   "source": [
    "history = model.fit(X,y, epochs=500)"
   ]
  },
  {
   "cell_type": "code",
   "execution_count": null,
   "metadata": {},
   "outputs": [],
   "source": [
    "#Evaluating a Model"
   ]
  },
  {
   "cell_type": "code",
   "execution_count": 10,
   "metadata": {},
   "outputs": [
    {
     "data": {
      "text/plain": [
       "<AxesSubplot:>"
      ]
     },
     "execution_count": 10,
     "metadata": {},
     "output_type": "execute_result"
    },
    {
     "data": {
      "image/png": "[encoded data removed]",
      "text/plain": [
       "<Figure size 720x360 with 1 Axes>"
      ]
     },
     "metadata": {
      "needs_background": "light"
     },
     "output_type": "display_data"
    }
   ],
   "source": [
    "loss_df = pd.DataFrame(history.history)\n",
    "\n",
    "# Plot loss vs epochs\n",
    "\n",
    "loss_df.plot(figsize=(10,5))"
   ]
  },
  {
   "cell_type": "code",
   "execution_count": 11,
   "metadata": {},
   "outputs": [
    {
     "data": {
      "text/plain": [
       "array([[61.011723]], dtype=float32)"
      ]
     },
     "execution_count": 11,
     "metadata": {},
     "output_type": "execute_result"
    }
   ],
   "source": [
    "model.predict([30.0])"
   ]
  },
  {
   "cell_type": "code",
   "execution_count": 12,
   "metadata": {},
   "outputs": [
    {
     "data": {
      "text/plain": [
       "[array([[2.000536]], dtype=float32), array([0.9956452], dtype=float32)]"
      ]
     },
     "execution_count": 12,
     "metadata": {},
     "output_type": "execute_result"
    }
   ],
   "source": [
    "# Getting the model weights\n",
    "\n",
    "model.get_weights()"
   ]
  },
  {
   "cell_type": "code",
   "execution_count": null,
   "metadata": {},
   "outputs": [],
   "source": []
  },
  {
   "cell_type": "code",
   "execution_count": null,
   "metadata": {},
   "outputs": [],
   "source": [
    "#Going Beyond: A Real world dataset"
   ]
  },
  {
   "cell_type": "code",
   "execution_count": 3,
   "metadata": {},
   "outputs": [],
   "source": [
    "import tensorflow as tf\n",
    "from tensorflow import keras\n",
    "import numpy as np\n",
    "import pandas as pd\n",
    "import matplotlib.pyplot as plt\n",
    "import seaborn as sns"
   ]
  },
  {
   "cell_type": "code",
   "execution_count": 4,
   "metadata": {},
   "outputs": [],
   "source": [
    "dataset_url = 'https://archive.ics.uci.edu/ml/machine-learning-databases/forest-fires/forestfires.csv'\n",
    "\n",
    "forest_df = pd.read_csv(dataset_url)"
   ]
  },
  {
   "cell_type": "code",
   "execution_count": 5,
   "metadata": {},
   "outputs": [
    {
     "name": "stdout",
     "output_type": "stream",
     "text": [
      "<class 'pandas.core.frame.DataFrame'>\n",
      "RangeIndex: 517 entries, 0 to 516\n",
      "Data columns (total 13 columns):\n",
      " #   Column  Non-Null Count  Dtype  \n",
      "---  ------  --------------  -----  \n",
      " 0   X       517 non-null    int64  \n",
      " 1   Y       517 non-null    int64  \n",
      " 2   month   517 non-null    object \n",
      " 3   day     517 non-null    object \n",
      " 4   FFMC    517 non-null    float64\n",
      " 5   DMC     517 non-null    float64\n",
      " 6   DC      517 non-null    float64\n",
      " 7   ISI     517 non-null    float64\n",
      " 8   temp    517 non-null    float64\n",
      " 9   RH      517 non-null    int64  \n",
      " 10  wind    517 non-null    float64\n",
      " 11  rain    517 non-null    float64\n",
      " 12  area    517 non-null    float64\n",
      "dtypes: float64(8), int64(3), object(2)\n",
      "memory usage: 52.6+ KB\n"
     ]
    }
   ],
   "source": [
    "forest_df.info()"
   ]
  },
  {
   "cell_type": "code",
   "execution_count": 6,
   "metadata": {},
   "outputs": [
    {
     "name": "stdout",
     "output_type": "stream",
     "text": [
      "(517, 13)\n"
     ]
    }
   ],
   "source": [
    "print(forest_df.shape)"
   ]
  },
  {
   "cell_type": "code",
   "execution_count": 7,
   "metadata": {},
   "outputs": [],
   "source": [
    "#Looking in the data"
   ]
  },
  {
   "cell_type": "code",
   "execution_count": 8,
   "metadata": {},
   "outputs": [],
   "source": [
    "from sklearn.model_selection import train_test_split\n",
    "\n",
    "train_data, test_data = train_test_split(forest_df, test_size=0.3, random_state=42)"
   ]
  },
  {
   "cell_type": "code",
   "execution_count": 9,
   "metadata": {},
   "outputs": [
    {
     "data": {
      "text/html": [
       "<div>\n",
       "<style scoped>\n",
       "    .dataframe tbody tr th:only-of-type {\n",
       "        vertical-align: middle;\n",
       "    }\n",
       "\n",
       "    .dataframe tbody tr th {\n",
       "        vertical-align: top;\n",
       "    }\n",
       "\n",
       "    .dataframe thead th {\n",
       "        text-align: right;\n",
       "    }\n",
       "</style>\n",
       "<table border=\"1\" class=\"dataframe\">\n",
       "  <thead>\n",
       "    <tr style=\"text-align: right;\">\n",
       "      <th></th>\n",
       "      <th>X</th>\n",
       "      <th>Y</th>\n",
       "      <th>month</th>\n",
       "      <th>day</th>\n",
       "      <th>FFMC</th>\n",
       "      <th>DMC</th>\n",
       "      <th>DC</th>\n",
       "      <th>ISI</th>\n",
       "      <th>temp</th>\n",
       "      <th>RH</th>\n",
       "      <th>wind</th>\n",
       "      <th>rain</th>\n",
       "      <th>area</th>\n",
       "    </tr>\n",
       "  </thead>\n",
       "  <tbody>\n",
       "    <tr>\n",
       "      <th>311</th>\n",
       "      <td>6</td>\n",
       "      <td>3</td>\n",
       "      <td>sep</td>\n",
       "      <td>sun</td>\n",
       "      <td>92.4</td>\n",
       "      <td>105.8</td>\n",
       "      <td>758.1</td>\n",
       "      <td>9.9</td>\n",
       "      <td>24.8</td>\n",
       "      <td>28</td>\n",
       "      <td>1.8</td>\n",
       "      <td>0.0</td>\n",
       "      <td>14.29</td>\n",
       "    </tr>\n",
       "    <tr>\n",
       "      <th>368</th>\n",
       "      <td>6</td>\n",
       "      <td>5</td>\n",
       "      <td>sep</td>\n",
       "      <td>sat</td>\n",
       "      <td>91.2</td>\n",
       "      <td>94.3</td>\n",
       "      <td>744.4</td>\n",
       "      <td>8.4</td>\n",
       "      <td>16.8</td>\n",
       "      <td>47</td>\n",
       "      <td>4.9</td>\n",
       "      <td>0.0</td>\n",
       "      <td>12.64</td>\n",
       "    </tr>\n",
       "    <tr>\n",
       "      <th>23</th>\n",
       "      <td>7</td>\n",
       "      <td>4</td>\n",
       "      <td>aug</td>\n",
       "      <td>sat</td>\n",
       "      <td>90.2</td>\n",
       "      <td>110.9</td>\n",
       "      <td>537.4</td>\n",
       "      <td>6.2</td>\n",
       "      <td>19.5</td>\n",
       "      <td>43</td>\n",
       "      <td>5.8</td>\n",
       "      <td>0.0</td>\n",
       "      <td>0.00</td>\n",
       "    </tr>\n",
       "    <tr>\n",
       "      <th>271</th>\n",
       "      <td>8</td>\n",
       "      <td>6</td>\n",
       "      <td>aug</td>\n",
       "      <td>tue</td>\n",
       "      <td>92.1</td>\n",
       "      <td>152.6</td>\n",
       "      <td>658.2</td>\n",
       "      <td>14.3</td>\n",
       "      <td>20.1</td>\n",
       "      <td>58</td>\n",
       "      <td>4.5</td>\n",
       "      <td>0.0</td>\n",
       "      <td>9.27</td>\n",
       "    </tr>\n",
       "    <tr>\n",
       "      <th>299</th>\n",
       "      <td>6</td>\n",
       "      <td>5</td>\n",
       "      <td>jun</td>\n",
       "      <td>sat</td>\n",
       "      <td>53.4</td>\n",
       "      <td>71.0</td>\n",
       "      <td>233.8</td>\n",
       "      <td>0.4</td>\n",
       "      <td>10.6</td>\n",
       "      <td>90</td>\n",
       "      <td>2.7</td>\n",
       "      <td>0.0</td>\n",
       "      <td>0.00</td>\n",
       "    </tr>\n",
       "  </tbody>\n",
       "</table>\n",
       "</div>"
      ],
      "text/plain": [
       "     X  Y month  day  FFMC    DMC     DC   ISI  temp  RH  wind  rain   area\n",
       "311  6  3   sep  sun  92.4  105.8  758.1   9.9  24.8  28   1.8   0.0  14.29\n",
       "368  6  5   sep  sat  91.2   94.3  744.4   8.4  16.8  47   4.9   0.0  12.64\n",
       "23   7  4   aug  sat  90.2  110.9  537.4   6.2  19.5  43   5.8   0.0   0.00\n",
       "271  8  6   aug  tue  92.1  152.6  658.2  14.3  20.1  58   4.5   0.0   9.27\n",
       "299  6  5   jun  sat  53.4   71.0  233.8   0.4  10.6  90   2.7   0.0   0.00"
      ]
     },
     "execution_count": 9,
     "metadata": {},
     "output_type": "execute_result"
    }
   ],
   "source": [
    "train_data.head(5)"
   ]
  },
  {
   "cell_type": "code",
   "execution_count": 10,
   "metadata": {},
   "outputs": [
    {
     "data": {
      "text/plain": [
       "<AxesSubplot:>"
      ]
     },
     "execution_count": 10,
     "metadata": {},
     "output_type": "execute_result"
    },
    {
     "data": {
      "image/png": "[encoded data removed]",
      "text/plain": [
       "<Figure size 720x360 with 1 Axes>"
      ]
     },
     "metadata": {
      "needs_background": "light"
     },
     "output_type": "display_data"
    }
   ],
   "source": [
    "train_data['month'].value_counts().plot(kind='bar', figsize=(10,5))"
   ]
  },
  {
   "cell_type": "code",
   "execution_count": 11,
   "metadata": {},
   "outputs": [
    {
     "data": {
      "text/plain": [
       "<AxesSubplot:>"
      ]
     },
     "execution_count": 11,
     "metadata": {},
     "output_type": "execute_result"
    },
    {
     "data": {
      "image/png": "[encoded data removed]",
      "text/plain": [
       "<Figure size 720x360 with 1 Axes>"
      ]
     },
     "metadata": {
      "needs_background": "light"
     },
     "output_type": "display_data"
    }
   ],
   "source": [
    "train_data['day'].value_counts().plot(kind='bar', figsize=(10,5))"
   ]
  },
  {
   "cell_type": "code",
   "execution_count": 12,
   "metadata": {},
   "outputs": [
    {
     "data": {
      "text/plain": [
       "<AxesSubplot:xlabel='area', ylabel='Density'>"
      ]
     },
     "execution_count": 12,
     "metadata": {},
     "output_type": "execute_result"
    },
    {
     "data": {
      "image/png": "[encoded data removed]",
      "text/plain": [
       "<Figure size 432x288 with 1 Axes>"
      ]
     },
     "metadata": {
      "needs_background": "light"
     },
     "output_type": "display_data"
    }
   ],
   "source": [
    "sns.kdeplot(data=train_data, x='area', color='red')"
   ]
  },
  {
   "cell_type": "code",
   "execution_count": 13,
   "metadata": {},
   "outputs": [],
   "source": [
    "#Preparing the Data for the Model"
   ]
  },
  {
   "cell_type": "code",
   "execution_count": 14,
   "metadata": {},
   "outputs": [],
   "source": [
    "def get_feats_and_labels(data, label):\n",
    "  \"\"\" Take data and label as inputs, return features and labels separated \"\"\"\n",
    "\n",
    "  data_feats = data.drop(label, axis=1)\n",
    "  data_label = data[label]\n",
    "\n",
    "  return data_feats, data_label"
   ]
  },
  {
   "cell_type": "code",
   "execution_count": 15,
   "metadata": {},
   "outputs": [],
   "source": [
    "train_feats, train_label = get_feats_and_labels(train_data, 'area')"
   ]
  },
  {
   "cell_type": "code",
   "execution_count": 16,
   "metadata": {},
   "outputs": [],
   "source": [
    "from sklearn.compose import ColumnTransformer\n",
    "from sklearn.preprocessing import StandardScaler, OrdinalEncoder\n",
    "\n",
    "scaler = StandardScaler()\n",
    "encoder = OrdinalEncoder()\n",
    "\n",
    "\n",
    "# The column transformer requires lists of features\n",
    "\n",
    "num_feats = ['X', 'Y', 'FFMC', 'DMC', 'DC', 'ISI', 'temp', 'RH',\n",
    "       'wind', 'rain']\n",
    "cat_feats = ['month', 'day']\n",
    "\n",
    "# define the pipeline to scale the numeric features and handle categorical features\n",
    "final_pipe = ColumnTransformer([\n",
    "   ('num',scaler , num_feats),    \n",
    "   ('cat', encoder , cat_feats)                        \n",
    "\n",
    "])\n",
    "\n",
    "training_data_prepared = final_pipe.fit_transform(train_feats)"
   ]
  },
  {
   "cell_type": "code",
   "execution_count": 17,
   "metadata": {},
   "outputs": [
    {
     "data": {
      "text/plain": [
       "(361, 12)"
      ]
     },
     "execution_count": 17,
     "metadata": {},
     "output_type": "execute_result"
    }
   ],
   "source": [
    "training_data_prepared.shape"
   ]
  },
  {
   "cell_type": "code",
   "execution_count": 18,
   "metadata": {},
   "outputs": [
    {
     "data": {
      "text/plain": [
       "numpy.ndarray"
      ]
     },
     "execution_count": 18,
     "metadata": {},
     "output_type": "execute_result"
    }
   ],
   "source": [
    "type(training_data_prepared)"
   ]
  },
  {
   "cell_type": "code",
   "execution_count": 19,
   "metadata": {},
   "outputs": [],
   "source": [
    "test_feats, test_label = get_feats_and_labels(test_data, 'area')"
   ]
  },
  {
   "cell_type": "code",
   "execution_count": 20,
   "metadata": {},
   "outputs": [],
   "source": [
    "test_data_prepared = final_pipe.transform(test_feats)"
   ]
  },
  {
   "cell_type": "code",
   "execution_count": 21,
   "metadata": {},
   "outputs": [],
   "source": [
    "train_label = train_label.to_numpy()\n",
    "test_label = test_label.to_numpy()"
   ]
  },
  {
   "cell_type": "code",
   "execution_count": 22,
   "metadata": {},
   "outputs": [],
   "source": [
    "#Creating, Compiling and Training a Model"
   ]
  },
  {
   "cell_type": "code",
   "execution_count": 23,
   "metadata": {},
   "outputs": [
    {
     "data": {
      "text/plain": [
       "(12,)"
      ]
     },
     "execution_count": 23,
     "metadata": {},
     "output_type": "execute_result"
    }
   ],
   "source": [
    "input_shape = training_data_prepared.shape[1:]\n",
    "input_shape"
   ]
  },
  {
   "cell_type": "code",
   "execution_count": 24,
   "metadata": {},
   "outputs": [],
   "source": [
    "model = keras.models.Sequential([\n",
    "                                 \n",
    "            # The first layers must specify the input shape always\n",
    "            keras.layers.Dense(12, activation='relu', input_shape=input_shape),\n",
    "            keras.layers.Dense(24, activation='relu'),\n",
    "\n",
    "            # The last layer usually doesn't have activation function in regression\n",
    "            keras.layers.Dense(1)                \n",
    "\n",
    "])\n",
    "\n",
    "# Now we compile the model\n",
    "model.compile(loss='mean_squared_error', optimizer='adam')"
   ]
  },
  {
   "cell_type": "code",
   "execution_count": 25,
   "metadata": {},
   "outputs": [
    {
     "name": "stdout",
     "output_type": "stream",
     "text": [
      "Model: \"sequential\"\n",
      "_________________________________________________________________\n",
      "Layer (type)                 Output Shape              Param #   \n",
      "=================================================================\n",
      "dense (Dense)                (None, 12)                156       \n",
      "_________________________________________________________________\n",
      "dense_1 (Dense)              (None, 24)                312       \n",
      "_________________________________________________________________\n",
      "dense_2 (Dense)              (None, 1)                 25        \n",
      "=================================================================\n",
      "Total params: 493\n",
      "Trainable params: 493\n",
      "Non-trainable params: 0\n",
      "_________________________________________________________________\n"
     ]
    }
   ],
   "source": [
    "model.summary()"
   ]
  },
  {
   "cell_type": "code",
   "execution_count": 30,
   "metadata": {},
   "outputs": [
    {
     "name": "stdout",
     "output_type": "stream",
     "text": [
      "('Failed to import pydot. You must `pip install pydot` and install graphviz (https://graphviz.gitlab.io/download/), ', 'for `pydotprint` to work.')\n"
     ]
    }
   ],
   "source": [
    "from tensorflow.keras.utils import plot_model\n",
    "\n",
    "plot_model(model, to_file='model.png')"
   ]
  },
  {
   "cell_type": "code",
   "execution_count": 28,
   "metadata": {},
   "outputs": [
    {
     "name": "stdout",
     "output_type": "stream",
     "text": [
      "Requirement already satisfied: pydot in /home/thembajsph/Downloads/anaconda/lib/python3.8/site-packages (1.4.2)\n",
      "Requirement already satisfied: pyparsing>=2.1.4 in /home/thembajsph/Downloads/anaconda/lib/python3.8/site-packages (from pydot) (2.4.7)\n",
      "\u001b[33mWARNING: You are using pip version 21.2.4; however, version 21.3.1 is available.\n",
      "You should consider upgrading via the '/home/thembajsph/Downloads/anaconda/bin/python -m pip install --upgrade pip' command.\u001b[0m\n",
      "Note: you may need to restart the kernel to use updated packages.\n"
     ]
    }
   ],
   "source": [
    "pip install pydot"
   ]
  },
  {
   "cell_type": "code",
   "execution_count": 31,
   "metadata": {},
   "outputs": [
    {
     "name": "stdout",
     "output_type": "stream",
     "text": [
      "Epoch 1/50\n",
      "12/12 [==============================] - 1s 29ms/step - loss: 1906.4589 - val_loss: 8135.0049\n",
      "Epoch 2/50\n",
      "12/12 [==============================] - 0s 6ms/step - loss: 2013.3179 - val_loss: 8109.6523\n",
      "Epoch 3/50\n",
      "12/12 [==============================] - 0s 6ms/step - loss: 2106.4250 - val_loss: 8084.5977\n",
      "Epoch 4/50\n",
      "12/12 [==============================] - 0s 6ms/step - loss: 1173.0335 - val_loss: 8058.9272\n",
      "Epoch 5/50\n",
      "12/12 [==============================] - 0s 6ms/step - loss: 2124.0586 - val_loss: 8035.4116\n",
      "Epoch 6/50\n",
      "12/12 [==============================] - 0s 6ms/step - loss: 1358.4136 - val_loss: 8013.5439\n",
      "Epoch 7/50\n",
      "12/12 [==============================] - 0s 7ms/step - loss: 2036.7730 - val_loss: 7992.8286\n",
      "Epoch 8/50\n",
      "12/12 [==============================] - 0s 6ms/step - loss: 3582.8392 - val_loss: 7973.5312\n",
      "Epoch 9/50\n",
      "12/12 [==============================] - 0s 5ms/step - loss: 1450.1389 - val_loss: 7957.4175\n",
      "Epoch 10/50\n",
      "12/12 [==============================] - 0s 6ms/step - loss: 5343.9818 - val_loss: 7943.6060\n",
      "Epoch 11/50\n",
      "12/12 [==============================] - 0s 6ms/step - loss: 2990.1614 - val_loss: 7935.9263\n",
      "Epoch 12/50\n",
      "12/12 [==============================] - 0s 5ms/step - loss: 1563.5827 - val_loss: 7928.5200\n",
      "Epoch 13/50\n",
      "12/12 [==============================] - 0s 5ms/step - loss: 1881.1294 - val_loss: 7920.2378\n",
      "Epoch 14/50\n",
      "12/12 [==============================] - 0s 6ms/step - loss: 2320.6826 - val_loss: 7919.1821\n",
      "Epoch 15/50\n",
      "12/12 [==============================] - 0s 5ms/step - loss: 1118.9227 - val_loss: 7918.8062\n",
      "Epoch 16/50\n",
      "12/12 [==============================] - 0s 5ms/step - loss: 1375.7860 - val_loss: 7922.6426\n",
      "Epoch 17/50\n",
      "12/12 [==============================] - 0s 6ms/step - loss: 1346.4564 - val_loss: 7923.1841\n",
      "Epoch 18/50\n",
      "12/12 [==============================] - 0s 6ms/step - loss: 1885.1351 - val_loss: 7913.8838\n",
      "Epoch 19/50\n",
      "12/12 [==============================] - 0s 6ms/step - loss: 2364.5627 - val_loss: 7911.2725\n",
      "Epoch 20/50\n",
      "12/12 [==============================] - 0s 6ms/step - loss: 2406.3502 - val_loss: 7912.8423\n",
      "Epoch 21/50\n",
      "12/12 [==============================] - 0s 6ms/step - loss: 2432.9509 - val_loss: 7910.3125\n",
      "Epoch 22/50\n",
      "12/12 [==============================] - 0s 6ms/step - loss: 1858.4104 - val_loss: 7913.8027\n",
      "Epoch 23/50\n",
      "12/12 [==============================] - 0s 6ms/step - loss: 1385.5313 - val_loss: 7913.2539\n",
      "Epoch 24/50\n",
      "12/12 [==============================] - 0s 6ms/step - loss: 1347.9339 - val_loss: 7918.3374\n",
      "Epoch 25/50\n",
      "12/12 [==============================] - 0s 6ms/step - loss: 798.9848 - val_loss: 7918.8989\n",
      "Epoch 26/50\n",
      "12/12 [==============================] - 0s 6ms/step - loss: 3667.7750 - val_loss: 7903.3477\n",
      "Epoch 27/50\n",
      "12/12 [==============================] - 0s 6ms/step - loss: 1111.9351 - val_loss: 7908.6362\n",
      "Epoch 28/50\n",
      "12/12 [==============================] - 0s 6ms/step - loss: 3507.9596 - val_loss: 7912.2827\n",
      "Epoch 29/50\n",
      "12/12 [==============================] - 0s 8ms/step - loss: 3639.6949 - val_loss: 7913.6289\n",
      "Epoch 30/50\n",
      "12/12 [==============================] - 0s 6ms/step - loss: 3207.5925 - val_loss: 7917.6709\n",
      "Epoch 31/50\n",
      "12/12 [==============================] - 0s 6ms/step - loss: 1283.5883 - val_loss: 7921.7959\n",
      "Epoch 32/50\n",
      "12/12 [==============================] - 0s 6ms/step - loss: 2812.9316 - val_loss: 7914.6597\n",
      "Epoch 33/50\n",
      "12/12 [==============================] - 0s 7ms/step - loss: 1352.0002 - val_loss: 7918.3560\n",
      "Epoch 34/50\n",
      "12/12 [==============================] - 0s 6ms/step - loss: 3078.8253 - val_loss: 7916.2422\n",
      "Epoch 35/50\n",
      "12/12 [==============================] - 0s 7ms/step - loss: 2149.4087 - val_loss: 7922.7676\n",
      "Epoch 36/50\n",
      "12/12 [==============================] - 0s 6ms/step - loss: 1994.2576 - val_loss: 7922.0552\n",
      "Epoch 37/50\n",
      "12/12 [==============================] - 0s 6ms/step - loss: 1283.7513 - val_loss: 7919.3140\n",
      "Epoch 38/50\n",
      "12/12 [==============================] - 0s 6ms/step - loss: 1678.0056 - val_loss: 7920.1899\n",
      "Epoch 39/50\n",
      "12/12 [==============================] - 0s 7ms/step - loss: 1080.4967 - val_loss: 7919.9209\n",
      "Epoch 40/50\n",
      "12/12 [==============================] - 0s 7ms/step - loss: 1046.0748 - val_loss: 7921.7539\n",
      "Epoch 41/50\n",
      "12/12 [==============================] - 0s 8ms/step - loss: 2006.4516 - val_loss: 7915.9136\n",
      "Epoch 42/50\n",
      "12/12 [==============================] - 0s 7ms/step - loss: 1524.6503 - val_loss: 7923.8599\n",
      "Epoch 43/50\n",
      "12/12 [==============================] - 0s 6ms/step - loss: 1806.9135 - val_loss: 7920.0513\n",
      "Epoch 44/50\n",
      "12/12 [==============================] - 0s 6ms/step - loss: 1184.9567 - val_loss: 7915.3672\n",
      "Epoch 45/50\n",
      "12/12 [==============================] - 0s 6ms/step - loss: 985.5832 - val_loss: 7912.6636\n",
      "Epoch 46/50\n",
      "12/12 [==============================] - 0s 6ms/step - loss: 1734.6841 - val_loss: 7903.5239\n",
      "Epoch 47/50\n",
      "12/12 [==============================] - 0s 8ms/step - loss: 5096.2779 - val_loss: 7907.6611\n",
      "Epoch 48/50\n",
      "12/12 [==============================] - 0s 7ms/step - loss: 1657.0671 - val_loss: 7921.4722\n",
      "Epoch 49/50\n",
      "12/12 [==============================] - 0s 6ms/step - loss: 1225.3510 - val_loss: 7926.8462\n",
      "Epoch 50/50\n",
      "12/12 [==============================] - 0s 6ms/step - loss: 1920.7627 - val_loss: 7928.8086\n"
     ]
    }
   ],
   "source": [
    "history = model.fit(training_data_prepared, train_label, \n",
    "                    validation_data = (test_data_prepared, test_label), epochs=50)"
   ]
  },
  {
   "cell_type": "code",
   "execution_count": null,
   "metadata": {},
   "outputs": [],
   "source": [
    " #Evaluating a Model"
   ]
  },
  {
   "cell_type": "code",
   "execution_count": 32,
   "metadata": {},
   "outputs": [
    {
     "data": {
      "text/plain": [
       "<AxesSubplot:>"
      ]
     },
     "execution_count": 32,
     "metadata": {},
     "output_type": "execute_result"
    },
    {
     "data": {
      "image/png": "[encoded data removed]",
      "text/plain": [
       "<Figure size 720x360 with 1 Axes>"
      ]
     },
     "metadata": {
      "needs_background": "light"
     },
     "output_type": "display_data"
    }
   ],
   "source": [
    "loss_df = pd.DataFrame(history.history)\n",
    "\n",
    "# Plot loss vs epochs\n",
    "\n",
    "loss_df.plot(figsize=(10,5))"
   ]
  },
  {
   "cell_type": "code",
   "execution_count": 33,
   "metadata": {},
   "outputs": [
    {
     "name": "stdout",
     "output_type": "stream",
     "text": [
      "5/5 [==============================] - 0s 2ms/step - loss: 7928.8086\n"
     ]
    },
    {
     "data": {
      "text/plain": [
       "7928.80859375"
      ]
     },
     "execution_count": 33,
     "metadata": {},
     "output_type": "execute_result"
    }
   ],
   "source": [
    "model.evaluate(test_data_prepared, test_label)"
   ]
  },
  {
   "cell_type": "code",
   "execution_count": null,
   "metadata": {},
   "outputs": [],
   "source": [
    " #Improving the Model"
   ]
  },
  {
   "cell_type": "code",
   "execution_count": 34,
   "metadata": {},
   "outputs": [
    {
     "data": {
      "text/plain": [
       "<AxesSubplot:xlabel='area', ylabel='Density'>"
      ]
     },
     "execution_count": 34,
     "metadata": {},
     "output_type": "execute_result"
    },
    {
     "data": {
      "image/png": "[encoded data removed]",
      "text/plain": [
       "<Figure size 432x288 with 1 Axes>"
      ]
     },
     "metadata": {
      "needs_background": "light"
     },
     "output_type": "display_data"
    }
   ],
   "source": [
    "sns.kdeplot(data=train_data, x='area', color='red')"
   ]
  },
  {
   "cell_type": "code",
   "execution_count": 39,
   "metadata": {},
   "outputs": [],
   "source": [
    "model_2 = keras.models.Sequential([\n",
    "                                 \n",
    "            # The first layers must specify the input shape always\n",
    "            keras.layers.Dense(12, activation='relu', input_shape=input_shape),\n",
    "            keras.layers.Dense(6, activation='relu'),\n",
    "\n",
    "            # The last layer usually doesn't have activation function in regression\n",
    "            keras.layers.Dense(1, activation='sigmoid')                \n",
    "\n",
    "])\n",
    "\n",
    "# Now we compile the model\n",
    "model_2.compile(loss='log_cosh', optimizer='adam')"
   ]
  },
  {
   "cell_type": "code",
   "execution_count": 40,
   "metadata": {},
   "outputs": [
    {
     "name": "stdout",
     "output_type": "stream",
     "text": [
      "Epoch 1/50\n",
      "12/12 [==============================] - 1s 16ms/step - loss: 12.0383 - val_loss: 14.5236\n",
      "Epoch 2/50\n",
      "12/12 [==============================] - 0s 6ms/step - loss: 11.4719 - val_loss: 14.4971\n",
      "Epoch 3/50\n",
      "12/12 [==============================] - 0s 6ms/step - loss: 13.6687 - val_loss: 14.4703\n",
      "Epoch 4/50\n",
      "12/12 [==============================] - 0s 6ms/step - loss: 13.0168 - val_loss: 14.4470\n",
      "Epoch 5/50\n",
      "12/12 [==============================] - 0s 7ms/step - loss: 12.8504 - val_loss: 14.4313\n",
      "Epoch 6/50\n",
      "12/12 [==============================] - 0s 6ms/step - loss: 9.9807 - val_loss: 14.4228\n",
      "Epoch 7/50\n",
      "12/12 [==============================] - 0s 5ms/step - loss: 15.0323 - val_loss: 14.4176\n",
      "Epoch 8/50\n",
      "12/12 [==============================] - 0s 6ms/step - loss: 9.6909 - val_loss: 14.4147\n",
      "Epoch 9/50\n",
      "12/12 [==============================] - 0s 6ms/step - loss: 11.5451 - val_loss: 14.4124\n",
      "Epoch 10/50\n",
      "12/12 [==============================] - 0s 8ms/step - loss: 11.0334 - val_loss: 14.4112\n",
      "Epoch 11/50\n",
      "12/12 [==============================] - 0s 7ms/step - loss: 10.8752 - val_loss: 14.4105\n",
      "Epoch 12/50\n",
      "12/12 [==============================] - 0s 7ms/step - loss: 13.4115 - val_loss: 14.4100\n",
      "Epoch 13/50\n",
      "12/12 [==============================] - 0s 7ms/step - loss: 8.4295 - val_loss: 14.4096\n",
      "Epoch 14/50\n",
      "12/12 [==============================] - 0s 7ms/step - loss: 14.8161 - val_loss: 14.4090\n",
      "Epoch 15/50\n",
      "12/12 [==============================] - 0s 7ms/step - loss: 10.6524 - val_loss: 14.4087\n",
      "Epoch 16/50\n",
      "12/12 [==============================] - 0s 7ms/step - loss: 15.5900 - val_loss: 14.4081\n",
      "Epoch 17/50\n",
      "12/12 [==============================] - 0s 8ms/step - loss: 12.7160 - val_loss: 14.4078\n",
      "Epoch 18/50\n",
      "12/12 [==============================] - 0s 6ms/step - loss: 10.4209 - val_loss: 14.4076\n",
      "Epoch 19/50\n",
      "12/12 [==============================] - 0s 6ms/step - loss: 9.7372 - val_loss: 14.4074\n",
      "Epoch 20/50\n",
      "12/12 [==============================] - 0s 6ms/step - loss: 13.2922 - val_loss: 14.4070\n",
      "Epoch 21/50\n",
      "12/12 [==============================] - 0s 6ms/step - loss: 12.0167 - val_loss: 14.4066\n",
      "Epoch 22/50\n",
      "12/12 [==============================] - 0s 6ms/step - loss: 9.9956 - val_loss: 14.4064\n",
      "Epoch 23/50\n",
      "12/12 [==============================] - 0s 6ms/step - loss: 12.3119 - val_loss: 14.4063\n",
      "Epoch 24/50\n",
      "12/12 [==============================] - 0s 6ms/step - loss: 10.4656 - val_loss: 14.4062\n",
      "Epoch 25/50\n",
      "12/12 [==============================] - 0s 6ms/step - loss: 10.8055 - val_loss: 14.4061\n",
      "Epoch 26/50\n",
      "12/12 [==============================] - 0s 7ms/step - loss: 12.8382 - val_loss: 14.4059\n",
      "Epoch 27/50\n",
      "12/12 [==============================] - 0s 7ms/step - loss: 11.6284 - val_loss: 14.4057\n",
      "Epoch 28/50\n",
      "12/12 [==============================] - 0s 6ms/step - loss: 10.9847 - val_loss: 14.4056\n",
      "Epoch 29/50\n",
      "12/12 [==============================] - 0s 6ms/step - loss: 15.2335 - val_loss: 14.4054\n",
      "Epoch 30/50\n",
      "12/12 [==============================] - 0s 6ms/step - loss: 11.7426 - val_loss: 14.4053\n",
      "Epoch 31/50\n",
      "12/12 [==============================] - 0s 9ms/step - loss: 11.0999 - val_loss: 14.4052\n",
      "Epoch 32/50\n",
      "12/12 [==============================] - 0s 12ms/step - loss: 12.1191 - val_loss: 14.4050\n",
      "Epoch 33/50\n",
      "12/12 [==============================] - 0s 8ms/step - loss: 15.4538 - val_loss: 14.4049\n",
      "Epoch 34/50\n",
      "12/12 [==============================] - 0s 6ms/step - loss: 11.1487 - val_loss: 14.4048\n",
      "Epoch 35/50\n",
      "12/12 [==============================] - 0s 7ms/step - loss: 8.9781 - val_loss: 14.4046\n",
      "Epoch 36/50\n",
      "12/12 [==============================] - 0s 9ms/step - loss: 8.7167 - val_loss: 14.4045\n",
      "Epoch 37/50\n",
      "12/12 [==============================] - 0s 10ms/step - loss: 13.6321 - val_loss: 14.4043\n",
      "Epoch 38/50\n",
      "12/12 [==============================] - 0s 5ms/step - loss: 9.5719 - val_loss: 14.4041\n",
      "Epoch 39/50\n",
      "12/12 [==============================] - 0s 10ms/step - loss: 12.8399 - val_loss: 14.4040\n",
      "Epoch 40/50\n",
      "12/12 [==============================] - 0s 11ms/step - loss: 9.2054 - val_loss: 14.4039\n",
      "Epoch 41/50\n",
      "12/12 [==============================] - 0s 8ms/step - loss: 9.0572 - val_loss: 14.4039\n",
      "Epoch 42/50\n",
      "12/12 [==============================] - 0s 5ms/step - loss: 11.6472 - val_loss: 14.4039\n",
      "Epoch 43/50\n",
      "12/12 [==============================] - 0s 10ms/step - loss: 10.2347 - val_loss: 14.4039\n",
      "Epoch 44/50\n",
      "12/12 [==============================] - 0s 12ms/step - loss: 14.2995 - val_loss: 14.4038\n",
      "Epoch 45/50\n",
      "12/12 [==============================] - 0s 8ms/step - loss: 11.8628 - val_loss: 14.4038\n",
      "Epoch 46/50\n",
      "12/12 [==============================] - 0s 13ms/step - loss: 11.4230 - val_loss: 14.4037\n",
      "Epoch 47/50\n",
      "12/12 [==============================] - 0s 10ms/step - loss: 10.4683 - val_loss: 14.4036\n",
      "Epoch 48/50\n",
      "12/12 [==============================] - 0s 11ms/step - loss: 9.6045 - val_loss: 14.4035\n",
      "Epoch 49/50\n",
      "12/12 [==============================] - 0s 10ms/step - loss: 10.1060 - val_loss: 14.4034\n",
      "Epoch 50/50\n",
      "12/12 [==============================] - 0s 7ms/step - loss: 9.6284 - val_loss: 14.4032\n"
     ]
    }
   ],
   "source": [
    "history = model_2.fit(training_data_prepared, train_label, \n",
    "                    validation_data = (test_data_prepared, test_label), epochs=50)"
   ]
  },
  {
   "cell_type": "code",
   "execution_count": 41,
   "metadata": {},
   "outputs": [
    {
     "data": {
      "text/plain": [
       "<AxesSubplot:>"
      ]
     },
     "execution_count": 41,
     "metadata": {},
     "output_type": "execute_result"
    },
    {
     "data": {
      "image/png": "[encoded data removed]",
      "text/plain": [
       "<Figure size 720x360 with 1 Axes>"
      ]
     },
     "metadata": {
      "needs_background": "light"
     },
     "output_type": "display_data"
    }
   ],
   "source": [
    "loss_df = pd.DataFrame(history.history)\n",
    "\n",
    "# Plot loss vs epochs\n",
    "\n",
    "loss_df.plot(figsize=(10,5))"
   ]
  },
  {
   "cell_type": "code",
   "execution_count": 42,
   "metadata": {},
   "outputs": [
    {
     "name": "stdout",
     "output_type": "stream",
     "text": [
      "5/5 [==============================] - 0s 1ms/step - loss: 7928.8086\n"
     ]
    },
    {
     "data": {
      "text/plain": [
       "7928.80859375"
      ]
     },
     "execution_count": 42,
     "metadata": {},
     "output_type": "execute_result"
    }
   ],
   "source": [
    "model.evaluate(test_data_prepared, test_label)"
   ]
  },
  {
   "cell_type": "code",
   "execution_count": null,
   "metadata": {},
   "outputs": [],
   "source": [
    " #Saving and Loading a model"
   ]
  },
  {
   "cell_type": "code",
   "execution_count": null,
   "metadata": {},
   "outputs": [],
   "source": [
    "model.save('forest_model.h5')"
   ]
  },
  {
   "cell_type": "code",
   "execution_count": null,
   "metadata": {},
   "outputs": [],
   "source": [
    "loaded_model = keras.models.load_model('forest_model.h5')"
   ]
  }
 ],
 "metadata": {
  "kernelspec": {
   "display_name": "Python 3",
   "language": "python",
   "name": "python3"
  },
  "language_info": {
   "codemirror_mode": {
    "name": "ipython",
    "version": 3
   },
   "file_extension": ".py",
   "mimetype": "text/x-python",
   "name": "python",
   "nbconvert_exporter": "python",
   "pygments_lexer": "ipython3",
   "version": "3.8.5"
  }
 },
 "nbformat": 4,
 "nbformat_minor": 4
}
