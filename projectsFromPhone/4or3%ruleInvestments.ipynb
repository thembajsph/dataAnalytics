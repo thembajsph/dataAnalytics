{
 "cells": [
  {
   "cell_type": "code",
   "execution_count": null,
   "metadata": {},
   "outputs": [],
   "source": [
    "\n",
    "#Description: This program calculates how much you need to retire 4%(taking out 4%  or 3% yearly from investments without\n",
    "#running out)"
   ]
  },
  {
   "cell_type": "code",
   "execution_count": null,
   "metadata": {},
   "outputs": [],
   "source": [
    "#Import the libraries\n",
    "import pandas as pd\n",
    "import numpy as np"
   ]
  },
  {
   "cell_type": "code",
   "execution_count": null,
   "metadata": {},
   "outputs": [],
   "source": [
    "def options():\n",
    "    print('(1) Calculate the income amount wanted given some average yearly interest rate and your current principle.')\n",
    "    print('(2) Calculate the principle you need give some yearly average interest rate to make some x amount per year.')\n",
    "    print('(3) Claculate the average yearly interest rate you need given some principle amount to make x income amount per year')\n",
    "    choice = int(input())\n",
    "    \n",
    "    \n",
    "    return choice"
   ]
  },
  {
   "cell_type": "code",
   "execution_count": null,
   "metadata": {},
   "outputs": [],
   "source": [
    "def calculations(choice):\n",
    "    if choice == 1:\n",
    "        principle = float(input('What is your priciple amount?'))\n",
    "        interest_rate = float(input('What is your average yearly interest rate percentage (%)?'))\n",
    "        amount = principle * (interest_rate / 100)\n",
    "        print('You would make on average:', amount, 'per year.')\n",
    "    elif choice == 2:\n",
    "        interest_rate = float(input('What is your average yearly interest rate percentage (%)?'))\n",
    "        amount = float(input('What is the amount per year that you want to make from that interest rate ?'))\n",
    "        principle = amount / ((interest_rate) / 100)\n",
    "        print('You would need a principle of about', principle, 'in investmests to have an annual income of', amount, 'by taking out', interest_rate, '% interest yearly from your investments.')\n",
    "    elif choice == 3:\n",
    "        principle = float(input('What is your principle amount?'))\n",
    "        amount = float(input('What is the amount per year that you want to make from that interest rate ?'))\n",
    "        interest_rate = amount / principle * 100\n",
    "        print('You would need to find an asset or investment that gives an average of', interest_rate, '% interest per year')\n",
    "        \n",
    "\n",
    "    else:\n",
    "        print('Please choose a number from 1 to 3')\n",
    "        \n",
    "        \n",
    "        "
   ]
  },
  {
   "cell_type": "code",
   "execution_count": null,
   "metadata": {},
   "outputs": [],
   "source": [
    "#Run the program\n",
    "while True:\n",
    "    calculations(options())\n",
    "    print()\n",
    "    "
   ]
  },
  {
   "cell_type": "code",
   "execution_count": null,
   "metadata": {},
   "outputs": [],
   "source": []
  }
 ],
 "metadata": {
  "kernelspec": {
   "display_name": "Python 3",
   "language": "python",
   "name": "python3"
  },
  "language_info": {
   "codemirror_mode": {
    "name": "ipython",
    "version": 3
   },
   "file_extension": ".py",
   "mimetype": "text/x-python",
   "name": "python",
   "nbconvert_exporter": "python",
   "pygments_lexer": "ipython3",
   "version": "3.8.5"
  }
 },
 "nbformat": 4,
 "nbformat_minor": 4
}
