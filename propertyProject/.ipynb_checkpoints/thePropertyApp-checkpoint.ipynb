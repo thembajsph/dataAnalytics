{
 "cells": [
  {
   "cell_type": "code",
   "execution_count": null,
   "metadata": {},
   "outputs": [],
   "source": [
    "#PropertyProject"
   ]
  },
  {
   "cell_type": "code",
   "execution_count": 32,
   "metadata": {},
   "outputs": [
    {
     "name": "stdout",
     "output_type": "stream",
     "text": [
      "Hi there I'm Andile, your cash on cash digital assistance :D...\n",
      "What is the purchase price of the property: 10000000\n",
      "What is the total closing cost of property: 0\n",
      "Now enter the total annual gross rent income : 1260000\n",
      "Thanks for using the cash on cash propery app.\n",
      "What have you put down as downpayment for the property: 3000000\n",
      "What is the current interest rate: 7.75\n",
      "Property proccesing status : granted\n",
      "The Cash on cash Amount: R698534\n",
      "Percentage of Cash on cash return annually : 23%\n",
      "The number of years to get your money back : 4years\n",
      "you have put down : R3000000 to make an annual return of : R698534 a 23%\n",
      "is it worth it... ?\n",
      "Press Any Key to continue... \n"
     ]
    }
   ],
   "source": [
    "\n",
    "\n",
    "print(\"Hi there I'm Andile, your cash on cash digital assistance :D...\")\n",
    "# property_first_expense = float(input(\"Enter your property first expense: \")) # gross income * 40%\n",
    "purchase_price = float(input(\"What is the purchase price of the property: \"))\n",
    "closing_cost =  float(input(\"What is the total closing cost of property: \"))\n",
    "annual_gross_propertyIncome = float(input(\"Now enter the total annual gross rent income : \"))\n",
    "print(\"Thanks for using the cash on cash propery app.\")\n",
    "    \n",
    "    \n",
    "    \n",
    "deposit_downpayment = float(input(\"What have you put down as downpayment for the property: \")) # ratio 1/3\n",
    "current_interestRate = float(input(\"What is the current interest rate: \")) \n",
    "exchange_rate = float(input(\"Now enter the USA/RSA exchange rate \"))    \n",
    "    \n",
    "property_first_expense = float(0.4 * annual_gross_propertyIncome)\n",
    "    \n",
    "    \n",
    "   \n",
    "bond_amount = purchase_price - deposit_downpayment + closing_cost\n",
    "    \n",
    "# max_instalments at 7.5% interest rate for 20 years mortgage\n",
    "# formula = purchase price * ((interest / 100) /12) / ((1-(1+ (interest / 100)/ 12 )) ** -240(20 years times 12 months))\n",
    "\n",
    "\n",
    "\n",
    "# answer = float((bond_amount * (1 / 160)))\n",
    "# monthly_instalment_debt = (float(answer / 0.77582582) * 12)\n",
    "top_layer = float(((current_interestRate) * 0.0008333333))\n",
    "    \n",
    "answer = float(bond_amount * top_layer)\n",
    "monthly_instalment_debt = float(answer / (0.7866915794 ))\n",
    "storedRepairFuturedollar = float(250 * exchange_rate)\n",
    "\n",
    "cash_On_Cash = (annual_gross_propertyIncome - property_first_expense - monthly_instalment_debt - storedRepairFuturedollar ) \n",
    "cash_On_Cash_percentage = cash_On_Cash /  deposit_downpayment * 100\n",
    "total_putDown = deposit_downpayment + closing_cost \n",
    "yearsToGetMoneyBack =  100 / cash_On_Cash_percentage  \n",
    "    \n",
    "\n",
    "    \n",
    "print(\"Property proccesing status : granted\")\n",
    "     \n",
    "print(F\"The Cash on cash Amount: R{round(cash_On_Cash)}\")\n",
    "print(F\"Percentage of Cash on cash return annually : {round(cash_On_Cash_percentage)}%\")\n",
    "print(F\"The number of years to get your money back : {round(yearsToGetMoneyBack)}years\")\n",
    "\n",
    "print(F\"you have put down : R{round(total_putDown)} to make an annual return of : R{round(cash_On_Cash)} a {round(cash_On_Cash_percentage)}% return on your money\")\n",
    "print(\"is it worth it... ?\")    \n",
    "    \n",
    "print(\"Press Any Key to continue... \")"
   ]
  },
  {
   "cell_type": "code",
   "execution_count": 36,
   "metadata": {},
   "outputs": [
    {
     "name": "stdout",
     "output_type": "stream",
     "text": [
      "Now enter your property rehab per unit in $ : $1200\n",
      "Enter the number of units: 70\n",
      "What is the original rent per unit: 3800\n",
      "Property proccesing status : granted\n",
      "The rehab all unit total spend in Rands : R1260000\n",
      "The rehab will get an increase of : R375\n",
      "The new rent will now be...  : R4175\n",
      "the rent has increase by 25% and will take 4 years to return plus : 23%  cash on cash \n",
      "the property cap rate is : 0% \n",
      "The all rehab expenses, rehab and downpayment: R3505200\n",
      "The new value added to the property  : R4166667\n",
      "The value of the property after rehab for refinacing: R14166667\n",
      "Press Any Key to continue... \n"
     ]
    }
   ],
   "source": [
    "property_rehabUs = float(input(\"Now enter your property rehab per unit in $ : $\")) # eg 5000 dollar \n",
    "# is equal to R75000 per unit * 25% divide by 12\n",
    "number_of_units = float(input(\"Enter the number of units: \"))\n",
    "# exchange_rate = float(input(\"Now enter the USA/RSA exchange rate \"))\n",
    "original_rentUnit = float(input(\"What is the original rent per unit: \"))\n",
    "    \n",
    "    \n",
    "    # the rehab app\n",
    "   \n",
    "total_RehabRand = number_of_units * property_rehabUs * exchange_rate\n",
    "property_priceRehabUnit = property_rehabUs * 0.25 / 12 * exchange_rate # exchange rate , usa and RSA\n",
    "rent_increased = original_rentUnit + property_priceRehabUnit\n",
    "property_Noi = annual_gross_propertyIncome - property_first_expense \n",
    "property_Cap_Rate = property_Noi / purchase_price \n",
    "valueAdded = property_priceRehabUnit * 12 * number_of_units / property_Cap_Rate\n",
    "newValueProperty = purchase_price + valueAdded\n",
    "    \n",
    "all_property_expense = property_first_expense + property_rehabUs + deposit_downpament\n",
    "all_propCapRate = rent_increased * number_of_units - all_property_expense / purchase_price\n",
    "    \n",
    "print(\"Property proccesing status : granted\")\n",
    "     \n",
    "print(F\"The rehab all unit total spend in Rands : R{round(total_RehabRand)}\")\n",
    "print(F\"The rehab will get an increase of : R{round(property_priceRehabUnit)}\")\n",
    "print(F\"The new rent will now be...  : R{round(rent_increased)}\")\n",
    "print(F\"the rent has increase by 25% and will take 4 years to return plus : {round(cash_On_Cash_percentage)}%  cash on cash \")\n",
    "print(F\"the property cap rate is : {round(property_Cap_Rate)}% \")\n",
    "\n",
    "\n",
    "print(F\"The all rehab expenses, rehab and downpayment: R{round(all_property_expense)}\")\n",
    "    \n",
    "    \n",
    "# print(F\"The all rehab total and expense Cap rate: {all_propCapRate}%\")\n",
    "    \n",
    "print(F\"The new value added to the property  : R{round(valueAdded)}\")\n",
    "print(F\"The value of the property after rehab for refinacing: R{round(newValueProperty)}\")\n",
    "    \n",
    "    \n",
    "print(\"Press Any Key to continue... \")"
   ]
  },
  {
   "cell_type": "code",
   "execution_count": null,
   "metadata": {},
   "outputs": [],
   "source": [
    "# the terek flip app using debt\n",
    "# property_price(promp)\n",
    "# downpayment(promp)\n",
    "# closing_cost(promp)\n",
    "# monthy_payment(prompt)\n",
    "# numberofmonths in market(prompt)\n",
    "# total_rehab(promt)\n",
    "# interest(prompt)\n",
    "# staging(promt)\n",
    "# breakeven\n",
    "# sellingcomps forprofit"
   ]
  },
  {
   "cell_type": "code",
   "execution_count": null,
   "metadata": {},
   "outputs": [],
   "source": [
    "# the terek flip app using cash\n",
    "# property_price(promp)\n",
    "# downpayment(promp)\n",
    "# closing_cost(promp)\n",
    "# monthy_payment(prompt)\n",
    "# numberofmonths in market(prompt)\n",
    "# total_rehab(promt)\n",
    "# interest(prompt)\n",
    "# staging(promt)\n",
    "# breakeven\n",
    "# sellingcomps forprofit"
   ]
  }
 ],
 "metadata": {
  "kernelspec": {
   "display_name": "Python 3",
   "language": "python",
   "name": "python3"
  },
  "language_info": {
   "codemirror_mode": {
    "name": "ipython",
    "version": 3
   },
   "file_extension": ".py",
   "mimetype": "text/x-python",
   "name": "python",
   "nbconvert_exporter": "python",
   "pygments_lexer": "ipython3",
   "version": "3.8.5"
  }
 },
 "nbformat": 4,
 "nbformat_minor": 4
}
