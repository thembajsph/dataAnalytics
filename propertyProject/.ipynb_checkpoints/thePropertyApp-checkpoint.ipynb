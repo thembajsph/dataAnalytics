{
 "cells": [
  {
   "cell_type": "code",
   "execution_count": null,
   "metadata": {},
   "outputs": [],
   "source": [
    "#PropertyProject"
   ]
  },
  {
   "cell_type": "code",
   "execution_count": 20,
   "metadata": {},
   "outputs": [
    {
     "name": "stdout",
     "output_type": "stream",
     "text": [
      "Hi there I'm Andile, your cash on cash digital assistance :D...\n",
      "What is the purchase price of the property: 27500000\n",
      "What is the total closing cost of property: 3533440\n",
      "Now enter the total annual gross rent income : 36000000\n",
      "Thanks for using the cash on cash propery app.\n",
      "What have you put down as downpayment for the property: 9000000\n",
      "What is the current interest rate: 7.75\n",
      "Now enter the USA/RSA exchange rate 15\n",
      "Property proccesing status : granted\n",
      "The Cash on cash Amount: R19425652\n",
      "Percentage of Cash on cash return annually : 216%\n",
      "The number of years to get your money back : 0years\n",
      "you have put down : R12533440 to make an annual return of : R19425652 a 216% return on your money\n",
      "is it worth it... ?\n",
      "Press Any Key to continue... \n"
     ]
    }
   ],
   "source": [
    "# renovations ,not more than 10% the property value and not more than 50% comps\n",
    "# things normally fixed Kitchens, bathrooms, flooring, landscape, paint \n",
    "\n",
    "# sale in execution(reserve price)\n",
    "# property in posesession(reserve price not met, bank buys it, you can offer low price)\n",
    "# sherrif sale(bank wants the left over loan offered to client but failed to pay)\n",
    "\n",
    "print(\"Hi there I'm Andile, your cash on cash digital assistance :D...\")\n",
    "# property_first_expense = float(input(\"Enter your property first expense: \")) # gross income * 40%\n",
    "purchase_price = float(input(\"What is the purchase price of the property: \"))\n",
    "closing_cost =  float(input(\"What is the total closing cost of property: \"))\n",
    "annual_gross_propertyIncome = float(input(\"Now enter the total annual gross rent income : \"))\n",
    "print(\"Thanks for using the cash on cash propery app.\")\n",
    "    \n",
    "    \n",
    "    \n",
    "deposit_downpayment = float(input(\"What have you put down as downpayment for the property: \")) # ratio 1/3\n",
    "current_interestRate = float(input(\"What is the current interest rate: \")) \n",
    "exchange_rate = float(input(\"Now enter the USA/RSA exchange rate \"))    \n",
    "    \n",
    "property_first_expense = float(0.4 * annual_gross_propertyIncome)\n",
    "    \n",
    "    \n",
    "   \n",
    "bond_amount = purchase_price - deposit_downpayment + closing_cost\n",
    "    \n",
    "# max_instalments at 7.5% interest rate for 20 years mortgage\n",
    "# formula = purchase price * ((interest / 100) /12) / ((1-(1+ (interest / 100)/ 12 )) ** -240(20 years times 12 months))\n",
    "\n",
    "\n",
    "\n",
    "# answer = float((bond_amount * (1 / 160)))\n",
    "# monthly_instalment_debt = (float(answer / 0.77582582) * 12)\n",
    "top_layer = float(((current_interestRate) * 0.0008333333))\n",
    "    \n",
    "answer = float(bond_amount * top_layer)\n",
    "# monthly_instalment_debt = float(answer / (0.7866915794 ))\n",
    "monthly_instalment_debt = float(answer / ( current_interestRate * 0.1015085909 ))\n",
    "\n",
    "storedRepairFuturedollar = float(250 * exchange_rate)\n",
    "\n",
    "cash_On_Cash = (annual_gross_propertyIncome - property_first_expense - (monthly_instalment_debt * 12 )- storedRepairFuturedollar ) \n",
    "cash_On_Cash_percentage = cash_On_Cash /  deposit_downpayment * 100\n",
    "total_putDown = deposit_downpayment + closing_cost \n",
    "yearsToGetMoneyBack =  100 / cash_On_Cash_percentage  \n",
    "    \n",
    "\n",
    "    \n",
    "print(\"Property proccesing status : granted\")\n",
    "     \n",
    "print(F\"The Cash on cash Amount: R{round(cash_On_Cash)}\")\n",
    "print(F\"Percentage of Cash on cash return annually : {round(cash_On_Cash_percentage)}%\")\n",
    "print(F\"The number of years to get your money back : {round(yearsToGetMoneyBack)}years\")\n",
    "\n",
    "print(F\"you have put down : R{round(total_putDown)} to make an annual return of : R{round(cash_On_Cash)} a {round(cash_On_Cash_percentage)}% return on your money\")\n",
    "print(\"is it worth it... ?\")    \n",
    "    \n",
    "print(\"Press Any Key to continue... \")"
   ]
  },
  {
   "cell_type": "code",
   "execution_count": 21,
   "metadata": {},
   "outputs": [
    {
     "name": "stdout",
     "output_type": "stream",
     "text": [
      "Now enter your property rehab per unit in $ : $5000\n",
      "Enter the number of units: 66\n"
     ]
    },
    {
     "ename": "KeyboardInterrupt",
     "evalue": "Interrupted by user",
     "output_type": "error",
     "traceback": [
      "\u001b[0;31m---------------------------------------------------------------------------\u001b[0m",
      "\u001b[0;31mKeyboardInterrupt\u001b[0m                         Traceback (most recent call last)",
      "\u001b[0;32m<ipython-input-21-5b62d3a47f3a>\u001b[0m in \u001b[0;36m<module>\u001b[0;34m\u001b[0m\n\u001b[1;32m      3\u001b[0m \u001b[0mnumber_of_units\u001b[0m \u001b[0;34m=\u001b[0m \u001b[0mfloat\u001b[0m\u001b[0;34m(\u001b[0m\u001b[0minput\u001b[0m\u001b[0;34m(\u001b[0m\u001b[0;34m\"Enter the number of units: \"\u001b[0m\u001b[0;34m)\u001b[0m\u001b[0;34m)\u001b[0m\u001b[0;34m\u001b[0m\u001b[0;34m\u001b[0m\u001b[0m\n\u001b[1;32m      4\u001b[0m \u001b[0;31m# exchange_rate = float(input(\"Now enter the USA/RSA exchange rate \"))\u001b[0m\u001b[0;34m\u001b[0m\u001b[0;34m\u001b[0m\u001b[0;34m\u001b[0m\u001b[0m\n\u001b[0;32m----> 5\u001b[0;31m \u001b[0moriginal_rentUnit\u001b[0m \u001b[0;34m=\u001b[0m \u001b[0mfloat\u001b[0m\u001b[0;34m(\u001b[0m\u001b[0minput\u001b[0m\u001b[0;34m(\u001b[0m\u001b[0;34m\"What is the original rent per unit: \"\u001b[0m\u001b[0;34m)\u001b[0m\u001b[0;34m)\u001b[0m\u001b[0;34m\u001b[0m\u001b[0;34m\u001b[0m\u001b[0m\n\u001b[0m\u001b[1;32m      6\u001b[0m \u001b[0;34m\u001b[0m\u001b[0m\n\u001b[1;32m      7\u001b[0m \u001b[0;34m\u001b[0m\u001b[0m\n",
      "\u001b[0;32m~/Downloads/anaconda/lib/python3.8/site-packages/ipykernel/kernelbase.py\u001b[0m in \u001b[0;36mraw_input\u001b[0;34m(self, prompt)\u001b[0m\n\u001b[1;32m    858\u001b[0m                 \u001b[0;34m\"raw_input was called, but this frontend does not support input requests.\"\u001b[0m\u001b[0;34m\u001b[0m\u001b[0;34m\u001b[0m\u001b[0m\n\u001b[1;32m    859\u001b[0m             )\n\u001b[0;32m--> 860\u001b[0;31m         return self._input_request(str(prompt),\n\u001b[0m\u001b[1;32m    861\u001b[0m             \u001b[0mself\u001b[0m\u001b[0;34m.\u001b[0m\u001b[0m_parent_ident\u001b[0m\u001b[0;34m,\u001b[0m\u001b[0;34m\u001b[0m\u001b[0;34m\u001b[0m\u001b[0m\n\u001b[1;32m    862\u001b[0m             \u001b[0mself\u001b[0m\u001b[0;34m.\u001b[0m\u001b[0m_parent_header\u001b[0m\u001b[0;34m,\u001b[0m\u001b[0;34m\u001b[0m\u001b[0;34m\u001b[0m\u001b[0m\n",
      "\u001b[0;32m~/Downloads/anaconda/lib/python3.8/site-packages/ipykernel/kernelbase.py\u001b[0m in \u001b[0;36m_input_request\u001b[0;34m(self, prompt, ident, parent, password)\u001b[0m\n\u001b[1;32m    902\u001b[0m             \u001b[0;32mexcept\u001b[0m \u001b[0mKeyboardInterrupt\u001b[0m\u001b[0;34m:\u001b[0m\u001b[0;34m\u001b[0m\u001b[0;34m\u001b[0m\u001b[0m\n\u001b[1;32m    903\u001b[0m                 \u001b[0;31m# re-raise KeyboardInterrupt, to truncate traceback\u001b[0m\u001b[0;34m\u001b[0m\u001b[0;34m\u001b[0m\u001b[0;34m\u001b[0m\u001b[0m\n\u001b[0;32m--> 904\u001b[0;31m                 \u001b[0;32mraise\u001b[0m \u001b[0mKeyboardInterrupt\u001b[0m\u001b[0;34m(\u001b[0m\u001b[0;34m\"Interrupted by user\"\u001b[0m\u001b[0;34m)\u001b[0m \u001b[0;32mfrom\u001b[0m \u001b[0;32mNone\u001b[0m\u001b[0;34m\u001b[0m\u001b[0;34m\u001b[0m\u001b[0m\n\u001b[0m\u001b[1;32m    905\u001b[0m             \u001b[0;32mexcept\u001b[0m \u001b[0mException\u001b[0m \u001b[0;32mas\u001b[0m \u001b[0me\u001b[0m\u001b[0;34m:\u001b[0m\u001b[0;34m\u001b[0m\u001b[0;34m\u001b[0m\u001b[0m\n\u001b[1;32m    906\u001b[0m                 \u001b[0mself\u001b[0m\u001b[0;34m.\u001b[0m\u001b[0mlog\u001b[0m\u001b[0;34m.\u001b[0m\u001b[0mwarning\u001b[0m\u001b[0;34m(\u001b[0m\u001b[0;34m\"Invalid Message:\"\u001b[0m\u001b[0;34m,\u001b[0m \u001b[0mexc_info\u001b[0m\u001b[0;34m=\u001b[0m\u001b[0;32mTrue\u001b[0m\u001b[0;34m)\u001b[0m\u001b[0;34m\u001b[0m\u001b[0;34m\u001b[0m\u001b[0m\n",
      "\u001b[0;31mKeyboardInterrupt\u001b[0m: Interrupted by user"
     ]
    }
   ],
   "source": [
    "property_rehabUs = float(input(\"Now enter your property rehab per unit in $ : $\")) # eg 5000 dollar \n",
    "# is equal to R75000 per unit * 25% divide by 12\n",
    "number_of_units = float(input(\"Enter the number of units: \"))\n",
    "# exchange_rate = float(input(\"Now enter the USA/RSA exchange rate \"))\n",
    "original_rentUnit = float(input(\"What is the original rent per unit: \"))\n",
    "    \n",
    "    \n",
    "    # the rehab app\n",
    "   \n",
    "total_RehabRand = number_of_units * property_rehabUs * exchange_rate\n",
    "property_priceRehabUnit = property_rehabUs * 0.25 / 12 * exchange_rate # exchange rate , usa and RSA\n",
    "rent_increased = original_rentUnit + property_priceRehabUnit\n",
    "property_Noi = annual_gross_propertyIncome - property_first_expense \n",
    "property_Cap_Rate = property_Noi / purchase_price \n",
    "valueAdded = property_priceRehabUnit * 12 * number_of_units / property_Cap_Rate\n",
    "newValueProperty = purchase_price + valueAdded\n",
    "    \n",
    "all_property_expense = property_first_expense + property_rehabUs + deposit_downpament\n",
    "all_propCapRate = rent_increased * number_of_units - all_property_expense / purchase_price\n",
    "    \n",
    "print(\"Property proccesing status : granted\")\n",
    "     \n",
    "print(F\"The rehab all unit total spend in Rands : R{round(total_RehabRand)}\")\n",
    "print(F\"The rehab will get an increase of : R{round(property_priceRehabUnit)}\")\n",
    "print(F\"The new rent will now be...  : R{round(rent_increased)}\")\n",
    "print(F\"the rent has increase by 25% and will take 4 years to return plus : {round(cash_On_Cash_percentage)}%  cash on cash \")\n",
    "print(F\"the property cap rate is : {round(property_Cap_Rate)}% \")\n",
    "\n",
    "\n",
    "print(F\"The all rehab expenses, rehab and downpayment: R{round(all_property_expense)}\")\n",
    "    \n",
    "    \n",
    "# print(F\"The all rehab total and expense Cap rate: {all_propCapRate}%\")\n",
    "    \n",
    "print(F\"The new value added to the property  : R{round(valueAdded)}\")\n",
    "print(F\"The value of the property after rehab for refinacing: R{round(newValueProperty)}\")\n",
    "    \n",
    "    \n",
    "print(\"Press Any Key to continue... \")"
   ]
  },
  {
   "cell_type": "code",
   "execution_count": 6,
   "metadata": {},
   "outputs": [
    {
     "name": "stdout",
     "output_type": "stream",
     "text": [
      "What is the purchase price of the property: 700000\n",
      "What is the total closing cost of property: 50000\n",
      "What have you put down as downpayment for the property: 0\n",
      "What is the current interest rate: 7.75\n",
      "Now enter the number of months the property has been on the market 3\n",
      "Now enter the total rehab cost plus labour 70000\n",
      "Now enter the monthly levies for property400\n",
      "Now enter the staging cost 0\n",
      "Now enter the comps prices around the block and street1200000\n",
      "The break Even of this project will amount to : R1580436\n",
      "The profit the project will generate will be : R-380436\n",
      "buying a property of: R700000 put downpayment of : R0 and rehab of : R70000 \n",
      "And it take you around: 3months to complete, with a monthly payment of : R6157 including closing and staging cost of: R50000 \n",
      "The project will generate breakEven at: R1580436 and a profit of : R-380436 if the comps price of the neighborhood and streets are : R1200000\n",
      "is it worth it... ?\n",
      "Press Any Key to continue... \n"
     ]
    }
   ],
   "source": [
    "# the terek flip app using debt\n",
    "\n",
    "\n",
    "purchase_prices = float(input(\"What is the purchase price of the property: \"))\n",
    "closing_costs =  float(input(\"What is the total closing cost of property: \"))\n",
    "deposit_downpayments = float(input(\"What have you put down as downpayment for the property: \")) # ratio 1/3\n",
    "current_interestRates= float(input(\"What is the current interest rate: \"))  \n",
    "numberOfMonthsMarket = float(input(\"Now enter the number of months the property has been on the market \"))\n",
    "RehabAndLabour = float(input(\"Now enter the total rehab cost plus labour \"))\n",
    "MonthlyLevies = float(input(\"Now enter the monthly levies for property\"))\n",
    "staging_cost = float(input(\"Now enter the staging cost \")) # and registering bond cost if there are any ,put in here\n",
    "compsAroundStreet = float(input(\"Now enter the comps prices around the block and street\"))\n",
    "\n",
    "# property_first_expense = float(0.4 * annual_gross_propertyIncome)\n",
    "    \n",
    "    \n",
    "   \n",
    "bond_amount = purchase_prices - deposit_downpayments + closing_costs\n",
    "\n",
    "top_layer = float(((current_interestRates) * 0.0008333333))\n",
    "    \n",
    "answer = float(bond_amount * top_layer)\n",
    "\n",
    "monthly_instalment_debts = float(answer / ( current_interestRates * 0.1015085909 ))\n",
    "\n",
    "stagingAndClosing = staging_cost + closing_costs\n",
    "\n",
    "breakEven = (monthly_instalment_debts * 240 - deposit_downpayments - (monthly_instalment_debts * numberOfMonthsMarket)) + (staging_cost + RehabAndLabour + closing_costs + (MonthlyLevies * numberOfMonthsMarket)) \n",
    "\n",
    "profit = compsAroundStreet - breakEven\n",
    "\n",
    "print(F\"The break Even of this project will amount to : R{round(breakEven)}\")\n",
    "print(F\"The profit the project will generate will be : R{round(profit)}\")\n",
    "\n",
    "print(F\"buying a property of: R{round(purchase_prices)} put downpayment of : R{round(deposit_downpayments)} and rehab of : R{round(RehabAndLabour)} \")\n",
    "print(F\"And it take you around: {round(numberOfMonthsMarket)}months to complete, with a monthly payment of : R{round(monthly_instalment_debts)} including closing and staging cost of: R{round(stagingAndClosing)} \")\n",
    "print(F\"The project will generate breakEven at: R{round(breakEven)} and a profit of : R{round(profit)} if the comps price of the neighborhood and streets are : R{round(compsAroundStreet)}\")                                                          \n",
    "print(\"is it worth it... ?\")    \n",
    "    \n",
    "print(\"Press Any Key to continue... \") "
   ]
  },
  {
   "cell_type": "code",
   "execution_count": 7,
   "metadata": {},
   "outputs": [
    {
     "name": "stdout",
     "output_type": "stream",
     "text": [
      "The break Even of this project will amount to : R821200\n",
      "The profit the project will generate will be : R378800\n",
      "buying a property of: R700000 and rehab of : R70000 \n",
      "And it take you around: 3months to complete , including closing and staging cost of: R50000 \n",
      "The project will generate breakEven at: R821200 and a profit of : R378800 if the comps price of the neighborhood and streets are : R1200000\n",
      "is it worth it... ?\n",
      "Press Any Key to continue... \n"
     ]
    }
   ],
   "source": [
    "# the terek flip app using cash\n",
    "\n",
    "\n",
    "stagingAndClosings = staging_cost + closing_costs\n",
    "\n",
    "breakEvens = ( purchase_prices + staging_cost + RehabAndLabour + closing_costs + (MonthlyLevies * numberOfMonthsMarket)) \n",
    "\n",
    "profits = compsAroundStreet - breakEvens\n",
    "\n",
    "print(F\"The break Even of this project will amount to : R{round(breakEvens)}\")\n",
    "print(F\"The profit the project will generate will be : R{round(profits)}\")\n",
    "\n",
    "print(F\"buying a property of: R{round(purchase_prices)} and rehab of : R{round(RehabAndLabour)} \")\n",
    "print(F\"And it take you around: {round(numberOfMonthsMarket)}months to complete , including closing and staging cost of: R{round(stagingAndClosings)} \")\n",
    "print(F\"The project will generate breakEven at: R{round(breakEvens)} and a profit of : R{round(profits)} if the comps price of the neighborhood and streets are : R{round(compsAroundStreet)}\")                                                          \n",
    "print(\"is it worth it... ?\")    \n",
    "    \n",
    "print(\"Press Any Key to continue... \") "
   ]
  },
  {
   "cell_type": "code",
   "execution_count": null,
   "metadata": {},
   "outputs": [],
   "source": []
  },
  {
   "cell_type": "code",
   "execution_count": null,
   "metadata": {},
   "outputs": [],
   "source": []
  }
 ],
 "metadata": {
  "kernelspec": {
   "display_name": "Python 3",
   "language": "python",
   "name": "python3"
  },
  "language_info": {
   "codemirror_mode": {
    "name": "ipython",
    "version": 3
   },
   "file_extension": ".py",
   "mimetype": "text/x-python",
   "name": "python",
   "nbconvert_exporter": "python",
   "pygments_lexer": "ipython3",
   "version": "3.8.5"
  }
 },
 "nbformat": 4,
 "nbformat_minor": 4
}
