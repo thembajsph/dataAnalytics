{
 "cells": [
  {
   "cell_type": "code",
   "execution_count": null,
   "metadata": {},
   "outputs": [],
   "source": [
    "#PropertyProject"
   ]
  },
  {
   "cell_type": "code",
   "execution_count": 2,
   "metadata": {},
   "outputs": [
    {
     "name": "stdout",
     "output_type": "stream",
     "text": [
      "Hi there I'm Andile, your cash on cash digital assistance :D...\n",
      "What is the purchase price of the property: 10000000\n",
      "Now enter the total annual gross rent income : 1260000\n",
      "Thanks for using the cash on cash propery app.\n",
      "What have you put down as downpayment for the property: 30000000\n",
      "Property proccesing status : granted\n",
      "The Cash on cash Amount: R2689423.6646055426\n",
      "Percentage of Cash on cash return annually : 8.964745548685142%\n",
      "Press Any Key to continue... \n"
     ]
    }
   ],
   "source": [
    "\n",
    "\n",
    "print(\"Hi there I'm Andile, your cash on cash digital assistance :D...\")\n",
    "# property_first_expense = float(input(\"Enter your property first expense: \")) # gross income * 40%\n",
    "purchase_price = float(input(\"What is the purchase price of the property: \"))\n",
    "annual_gross_propertyIncome = float(input(\"Now enter the total annual gross rent income : \"))\n",
    "    \n",
    "print(\"Thanks for using the cash on cash propery app.\")\n",
    "    \n",
    "    \n",
    "    \n",
    "deposit_downpament = float(input(\"What have you put down as downpayment for the property: \")) # ratio 1/3\n",
    "    \n",
    "    \n",
    "property_first_expense = float(0.4 * annual_gross_propertyIncome)\n",
    "    \n",
    "    \n",
    "   \n",
    "bond_amount = purchase_price - deposit_downpament\n",
    "    \n",
    "# max_instalments at 7.5% interest rate for 20 years mortgage\n",
    "answer = float((bond_amount * (1 / 160)))\n",
    "monthly_instalment_debt = (float(answer / 0.77582582) * 12)\n",
    "cash_On_Cash = (annual_gross_propertyIncome - property_first_expense - monthly_instalment_debt) \n",
    "cash_On_Cash_percentage = cash_On_Cash /  deposit_downpament * 100\n",
    "    \n",
    "    \n",
    "    \n",
    "\n",
    "    \n",
    "print(\"Property proccesing status : granted\")\n",
    "     \n",
    "print(F\"The Cash on cash Amount: R{cash_On_Cash}\")\n",
    "print(F\"Percentage of Cash on cash return annually : {cash_On_Cash_percentage}%\")\n",
    "    \n",
    "print(\"Press Any Key to continue... \")"
   ]
  },
  {
   "cell_type": "code",
   "execution_count": null,
   "metadata": {},
   "outputs": [],
   "source": [
    "property_rehabUs = float(input(\"Now enter your property rehab per unit in $ : \")) # eg 5000 dollar \n",
    "# is equal to R75000 per unit * 25% divide by 12\n",
    "number_of_units = float(input(\"Enter the number of units: \"))\n",
    "exchange_rate = float(input(\"Now enter the USA/RSA exchange rate \"))\n",
    "original_rentUnit = float(input(\"What is the original rent per unit: \"))\n",
    "    \n",
    "    \n",
    "    # the rehab app\n",
    "   \n",
    "total_RehabRand = number_of_units * property_rehabUs * exchange_rate\n",
    "property_priceRehabUnit = property_rehabUs * 0.25 / 12 * exchange_rate # exchange rate , usa and RSA\n",
    "rent_increased = original_rentUnit + property_priceRehabUnit\n",
    "property_Noi = annual_gross_propertyIncome - property_first_expense \n",
    "property_Cape_Rate = property_Noi / purchase_price\n",
    "valueAdded = property_priceRehabUnit * 12 * number_of_units * property_Cape_Rate\n",
    "newValueProperty = purchase_price + valueAdded\n",
    "    \n",
    "all_property_expense = property_first_expense + property_rehabUs + deposit_downpament\n",
    "all_propCapRate = rent_increased * number_of_units - all_property_expense / purchase_price\n",
    "    \n",
    "print(\"Property proccesing status : granted\")\n",
    "     \n",
    "print(F\"The total spend in Rands : R{total_RehabRand}\")\n",
    "print(F\"The rehab will get an increase of : R{property_priceRehabUnit}\")\n",
    "    print(F\"The new rent will now be...  : R{rent_increased}\")\n",
    "    print(F\"the rent has increse by 25% + : {cash_On_Cash_percentage}% \")\n",
    "    \n",
    "    \n",
    "    print(F\"The all rehab total and expense Cap rate: R{all_propCapRate}\")\n",
    "    \n",
    "    print(F\"The new value added to the property  : R{valueAdded}\")\n",
    "    print(F\"The value of the property after rehab for refinacing: R{newValueProperty}\")\n",
    "    \n",
    "    \n",
    "    print(\"Press Any Key to continue... \")"
   ]
  }
 ],
 "metadata": {
  "kernelspec": {
   "display_name": "Python 3",
   "language": "python",
   "name": "python3"
  },
  "language_info": {
   "codemirror_mode": {
    "name": "ipython",
    "version": 3
   },
   "file_extension": ".py",
   "mimetype": "text/x-python",
   "name": "python",
   "nbconvert_exporter": "python",
   "pygments_lexer": "ipython3",
   "version": "3.8.5"
  }
 },
 "nbformat": 4,
 "nbformat_minor": 4
}
