{
 "cells": [
  {
   "cell_type": "code",
   "execution_count": null,
   "metadata": {},
   "outputs": [],
   "source": [
    "#web scraping tutorial\n"
   ]
  },
  {
   "cell_type": "code",
   "execution_count": 12,
   "metadata": {},
   "outputs": [],
   "source": [
    "from bs4 import BeautifulSoup\n",
    "import requests\n",
    "import time"
   ]
  },
  {
   "cell_type": "code",
   "execution_count": null,
   "metadata": {},
   "outputs": [],
   "source": [
    "# open a file and read the content of that specific file\n",
    "with open(\"home.html\", 'r') as html_file:\n",
    "    content = html_file.read()\n",
    "    \n",
    "    soup = BeautifulSoup(content, 'lxml')\n",
    "#     print(soup.prettify())\n",
    "\n",
    "# grab all h5 tags\n",
    "#     courses_html_tags = soup.find_all(\"h5\")\n",
    "# #     tags = soup.find_all(\"h5\")\n",
    "# #     print(tags)\n",
    "#     for course in courses_html_tags:\n",
    "#         print(course.text)\n",
    "\n",
    "# grab all the course cards \n",
    "course_cards = soup.find_all('div', class_='card')\n",
    "for course in course_cards:\n",
    "    course_name = course.h5.text\n",
    "    course_price = course.a.text.split()[-1]\n",
    "    \n",
    "    print(f`{course_name} costs {course_price}`)"
   ]
  },
  {
   "cell_type": "code",
   "execution_count": null,
   "metadata": {},
   "outputs": [],
   "source": [
    "# web pages use the inpect to check the pages \n",
    "# web scrapping for websites\n",
    "# requests just goes behind the scenes and request information on you behalf\n"
   ]
  },
  {
   "cell_type": "code",
   "execution_count": 2,
   "metadata": {},
   "outputs": [
    {
     "name": "stdout",
     "output_type": "stream",
     "text": [
      "Requirement already satisfied: requests in /home/thembajsph/Downloads/anaconda/lib/python3.8/site-packages (2.27.1)\n",
      "Requirement already satisfied: idna<4,>=2.5 in /home/thembajsph/Downloads/anaconda/lib/python3.8/site-packages (from requests) (2.10)\n",
      "Requirement already satisfied: urllib3<1.27,>=1.21.1 in /home/thembajsph/Downloads/anaconda/lib/python3.8/site-packages (from requests) (1.26.9)\n",
      "Requirement already satisfied: certifi>=2017.4.17 in /home/thembajsph/Downloads/anaconda/lib/python3.8/site-packages (from requests) (2020.6.20)\n",
      "Requirement already satisfied: charset-normalizer~=2.0.0 in /home/thembajsph/Downloads/anaconda/lib/python3.8/site-packages (from requests) (2.0.12)\n",
      "\u001b[33mWARNING: You are using pip version 21.2.4; however, version 22.0.4 is available.\n",
      "You should consider upgrading via the '/home/thembajsph/Downloads/anaconda/bin/python -m pip install --upgrade pip' command.\u001b[0m\n",
      "Note: you may need to restart the kernel to use updated packages.\n"
     ]
    }
   ],
   "source": [
    "pip install requests"
   ]
  },
  {
   "cell_type": "code",
   "execution_count": null,
   "metadata": {},
   "outputs": [],
   "source": [
    "# website used is timesjobs.com\n",
    "print('Put some skill that you are not familiar with')\n",
    "unfamiliar_skill = input('>')\n",
    "print(f\"Filtering out {unfamiliar_skill}\")\n",
    "\n",
    "\n",
    "def find_jobs():\n",
    "      html_text = requests.get('https://www.timesjobs.com/candidate/job-search.html?searchType=personalizedSearch&from=submit&txtKeywords=python&txtLocation=').text\n",
    "\n",
    "\n",
    "      # print(html_text)\n",
    "      soup = BeautifulSoup( html_text, 'lxml')\n",
    "      job = soup.find_all(\"li\", class_=\"clearfix job-bx wht-shd-bx\")\n",
    "      for index, job in enumerate(job):\n",
    "           published_date = job.find('span', class_=\"sim-posted\").span.text\n",
    "      \n",
    "           if \"few\" in published_date:\n",
    "                   company_name = job.find('h3', class_ = \"joblist-comp-name\").text.replace(' ', '')\n",
    "                   skills = job.find('span', class_ = 'srp-skills').text.replace(' ', '')\n",
    "                   more_info = job.header.h2.a['href']\n",
    "       \n",
    "                   if unfamiliar_skill not in skills:\n",
    "                        with open(f'posts/{index}.txt', 'w') as f:\n",
    "                         f.write(f\"Company Name: {company_name.strip()}\")\n",
    "                         f.write(f\"Required Skills: {skills.strip()}\")\n",
    "                         f.write(f\"More Info: {more_info}\")\n",
    "                         print(f'file saved: {index}')\n",
    "                   \n",
    "                   \n",
    "            \n",
    "                  \n",
    "if __name__ == '__main__':\n",
    "     while True:\n",
    "            find_jobs()\n",
    "            time_wait = 1\n",
    "            print(f'Waiting {time_wait} minutes...')\n",
    "            time.sleep(time_wait * 60)  \n",
    "            \n",
    "          \n",
    "                    \n",
    "    \n",
    "    \n",
    "         \n",
    "                      "
   ]
  },
  {
   "cell_type": "code",
   "execution_count": null,
   "metadata": {},
   "outputs": [],
   "source": []
  }
 ],
 "metadata": {
  "kernelspec": {
   "display_name": "Python 3",
   "language": "python",
   "name": "python3"
  },
  "language_info": {
   "codemirror_mode": {
    "name": "ipython",
    "version": 3
   },
   "file_extension": ".py",
   "mimetype": "text/x-python",
   "name": "python",
   "nbconvert_exporter": "python",
   "pygments_lexer": "ipython3",
   "version": "3.8.5"
  }
 },
 "nbformat": 4,
 "nbformat_minor": 4
}
